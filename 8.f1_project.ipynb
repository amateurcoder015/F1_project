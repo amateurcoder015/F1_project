{
 "cells": [
  {
   "cell_type": "code",
   "execution_count": 3,
   "id": "9d056b2a",
   "metadata": {},
   "outputs": [],
   "source": [
    "import pandas as pd\n",
    "import numpy as np\n",
    "import matplotlib.pyplot as plt\n",
    "import plotly.express as px"
   ]
  },
  {
   "cell_type": "code",
   "execution_count": 4,
   "id": "7e757220",
   "metadata": {},
   "outputs": [],
   "source": [
    "df = pd.read_csv(\"f1_dnf.csv\")"
   ]
  },
  {
   "cell_type": "code",
   "execution_count": 5,
   "id": "cd67f07a",
   "metadata": {},
   "outputs": [
    {
     "data": {
      "application/vnd.microsoft.datawrangler.viewer.v0+json": {
       "columns": [
        {
         "name": "index",
         "rawType": "int64",
         "type": "integer"
        },
        {
         "name": "resultId",
         "rawType": "int64",
         "type": "integer"
        },
        {
         "name": "raceId",
         "rawType": "int64",
         "type": "integer"
        },
        {
         "name": "year",
         "rawType": "int64",
         "type": "integer"
        },
        {
         "name": "round",
         "rawType": "int64",
         "type": "integer"
        },
        {
         "name": "grid",
         "rawType": "int64",
         "type": "integer"
        },
        {
         "name": "positionOrder",
         "rawType": "int64",
         "type": "integer"
        },
        {
         "name": "points",
         "rawType": "float64",
         "type": "float"
        },
        {
         "name": "laps",
         "rawType": "float64",
         "type": "float"
        },
        {
         "name": "milliseconds",
         "rawType": "object",
         "type": "unknown"
        },
        {
         "name": "fastestLap",
         "rawType": "object",
         "type": "string"
        },
        {
         "name": "rank",
         "rawType": "object",
         "type": "string"
        },
        {
         "name": "fastestLapTime",
         "rawType": "object",
         "type": "string"
        },
        {
         "name": "fastestLapSpeed",
         "rawType": "object",
         "type": "unknown"
        },
        {
         "name": "driverRef",
         "rawType": "object",
         "type": "string"
        },
        {
         "name": "surname",
         "rawType": "object",
         "type": "string"
        },
        {
         "name": "forename",
         "rawType": "object",
         "type": "string"
        },
        {
         "name": "dob",
         "rawType": "object",
         "type": "string"
        },
        {
         "name": "nationality_x",
         "rawType": "object",
         "type": "string"
        },
        {
         "name": "constructorRef",
         "rawType": "object",
         "type": "string"
        },
        {
         "name": "name",
         "rawType": "object",
         "type": "string"
        },
        {
         "name": "nationality_y",
         "rawType": "object",
         "type": "string"
        },
        {
         "name": "circuitRef",
         "rawType": "object",
         "type": "string"
        },
        {
         "name": "circuitId",
         "rawType": "int64",
         "type": "integer"
        },
        {
         "name": "name_y",
         "rawType": "object",
         "type": "string"
        },
        {
         "name": "location",
         "rawType": "object",
         "type": "string"
        },
        {
         "name": "country",
         "rawType": "object",
         "type": "string"
        },
        {
         "name": "lat",
         "rawType": "float64",
         "type": "float"
        },
        {
         "name": "lng",
         "rawType": "float64",
         "type": "float"
        },
        {
         "name": "alt",
         "rawType": "int64",
         "type": "integer"
        },
        {
         "name": "date",
         "rawType": "object",
         "type": "string"
        },
        {
         "name": "target_finish",
         "rawType": "int64",
         "type": "integer"
        }
       ],
       "ref": "53173c30-b056-40a9-be23-59c8e0bd7520",
       "rows": [
        [
         "0",
         "2460",
         "136",
         "2002",
         "13",
         "11",
         "4",
         "3.0",
         "77.0",
         null,
         "\\N",
         "\\N",
         "\\N",
         "\\N",
         "raikkonen",
         "Räikkönen",
         "Kimi",
         "1979-10-17",
         "Finnish",
         "mclaren",
         "Hungaroring",
         "British",
         "hungaroring",
         "11",
         "McLaren",
         "Budapest",
         "Hungary",
         "47.5789",
         "19.2486",
         "264",
         "2002-08-18",
         "1"
        ],
        [
         "1",
         "11565",
         "483",
         "1981",
         "1",
         "23",
         "21",
         "0.0",
         "16.0",
         "\\N",
         "\\N",
         "\\N",
         "\\N",
         "\\N",
         "watson",
         "Watson",
         "John",
         "1946-05-04",
         "British",
         "mclaren",
         "Long Beach",
         "British",
         "long_beach",
         "43",
         "McLaren",
         "California",
         "USA",
         "33.7651",
         "-118.189",
         "12",
         "1981-03-15",
         "0"
        ],
        [
         "2",
         "18661",
         "772",
         "1958",
         "8",
         "0",
         "26",
         "0.0",
         "0.0",
         "\\N",
         "\\N",
         "\\N",
         "\\N",
         "\\N",
         "ruttman",
         "Ruttman",
         "Troy",
         "1930-03-11",
         "American",
         "maserati",
         "Nürburgring",
         "Italian",
         "nurburgring",
         "20",
         "Maserati",
         "Nürburg",
         "Germany",
         "50.3356",
         "6.9475",
         "578",
         "1958-08-03",
         "0"
        ],
        [
         "3",
         "25121",
         "1058",
         "2021",
         "8",
         "19",
         "16",
         "0.0",
         "69.0",
         "\\N",
         "57",
         "16",
         "1:10.005",
         "222.052",
         "mick_schumacher",
         "Schumacher",
         "Mick",
         "1999-03-22",
         "German",
         "haas",
         "Red Bull Ring",
         "American",
         "red_bull_ring",
         "70",
         "Haas F1 Team",
         "Spielberg",
         "Austria",
         "47.2197",
         "14.7647",
         "678",
         "2021-06-27",
         "0"
        ],
        [
         "4",
         "8863",
         "383",
         "1988",
         "12",
         "0",
         "30",
         "0.0",
         "0.0",
         "\\N",
         "\\N",
         "\\N",
         "\\N",
         "\\N",
         "modena",
         "Modena",
         "Stefano",
         "1963-05-12",
         "Italian",
         "eurobrun",
         "Autodromo Nazionale di Monza",
         "Italian",
         "monza",
         "14",
         "Euro Brun",
         "Monza",
         "Italy",
         "45.6156",
         "9.28111",
         "162",
         "1988-09-11",
         "0"
        ],
        [
         "5",
         "24317",
         "1015",
         "2019",
         "6",
         "5",
         "14",
         "0.0",
         "77.0",
         "\\N",
         "61",
         "17",
         "1:16.992",
         "156.031",
         "kevin_magnussen",
         "Magnussen",
         "Kevin",
         "1992-10-05",
         "Danish",
         "haas",
         "Circuit de Monaco",
         "American",
         "monaco",
         "6",
         "Haas F1 Team",
         "Monte-Carlo",
         "Monaco",
         "43.7347",
         "7.42056",
         "7",
         "2019-05-26",
         "0"
        ],
        [
         "6",
         "14518",
         "589",
         "1975",
         "14",
         "5",
         "18",
         null,
         "9.0",
         "\\N",
         "\\N",
         "\\N",
         "\\N",
         "\\N",
         "mario_andretti",
         "Andretti",
         "Mario",
         "1940-02-28",
         "American",
         "parnelli",
         "Watkins Glen",
         "American",
         "watkins_glen",
         "46",
         "Parnelli",
         "New York State",
         "USA",
         "42.3369",
         "-76.9272",
         "485",
         "1975-10-05",
         "0"
        ],
        [
         "7",
         "21966",
         "892",
         "2013",
         "12",
         "16",
         "13",
         null,
         "53.0",
         "4754232",
         "53",
         "9",
         "1:27.092",
         "239.457",
         "gutierrez",
         "Gutiérrez",
         "Esteban",
         "1991-08-05",
         "Mexican",
         "sauber",
         "Autodromo Nazionale di Monza",
         "Swiss",
         "monza",
         "14",
         "Sauber",
         "Monza",
         "Italy",
         "45.6156",
         "9.28111",
         "162",
         "2013-09-08",
         "1"
        ],
        [
         "8",
         "22656",
         "932",
         "2015",
         "7",
         "1",
         "1",
         "25.0",
         "70.0",
         "5513145",
         "64",
         "3",
         "1:17.472",
         "202.648",
         "hamilton",
         "Hamilton",
         "Lewis",
         "1985-01-07",
         "British",
         "mercedes",
         "Circuit Gilles Villeneuve",
         "German",
         "villeneuve",
         "7",
         "Mercedes",
         "Montreal",
         "Canada",
         "45.5",
         "-73.5228",
         "13",
         "2015-06-07",
         "1"
        ],
        [
         "9",
         "18072",
         "746",
         "1960",
         "1",
         "2",
         "6",
         "1.0",
         "79.0",
         "\\N",
         "\\N",
         "\\N",
         "\\N",
         "\\N",
         "ireland",
         "Ireland",
         "Innes",
         "1930-06-12",
         "British",
         "team_lotus",
         "Autódromo Juan y Oscar Gálvez",
         "British",
         "galvez",
         "25",
         "Team Lotus",
         "Buenos Aires",
         "Argentina",
         "-34.6943",
         "-58.4593",
         "8",
         "1960-02-07",
         "0"
        ],
        [
         "10",
         "5557",
         "272",
         "1994",
         "16",
         "9",
         "3",
         "4.0",
         "81.0",
         "6523887",
         "\\N",
         "\\N",
         "\\N",
         "\\N",
         "brundle",
         "Brundle",
         "Martin",
         "1959-06-01",
         "British",
         "mclaren",
         "Adelaide Street Circuit",
         "British",
         "adelaide",
         "29",
         "McLaren",
         "Adelaide",
         "Australia",
         "-34.9272",
         "138.617",
         "58",
         "1994-11-13",
         "1"
        ],
        [
         "11",
         "5100",
         "255",
         "1995",
         "16",
         "15",
         "10",
         "0.0",
         "51.0",
         null,
         "\\N",
         "\\N",
         "\\N",
         "\\N",
         "wendlinger",
         "Wendlinger",
         "Karl",
         "1968-12-20",
         "Austrian",
         "sauber",
         "Suzuka Circuit",
         "Swiss",
         "suzuka",
         "22",
         "Sauber",
         "Suzuka",
         "Japan",
         "34.8431",
         "136.541",
         "45",
         "1995-10-29",
         "0"
        ],
        [
         "12",
         "8485",
         "371",
         "1989",
         "16",
         "0",
         "31",
         "0.0",
         "0.0",
         "\\N",
         "\\N",
         "\\N",
         "\\N",
         "\\N",
         "johansson",
         "Johansson",
         "Stefan",
         "1956-09-08",
         "Swedish",
         "onyx",
         "Adelaide Street Circuit",
         "British",
         "adelaide",
         "29",
         "Onyx",
         "Adelaide",
         "Australia",
         "-34.9272",
         "138.617",
         "58",
         "1989-11-05",
         "0"
        ],
        [
         "13",
         "6482",
         "305",
         "1991",
         "1",
         "14",
         "10",
         "0.0",
         "75.0",
         "\\N",
         "\\N",
         "\\N",
         "\\N",
         null,
         "gachot",
         "Gachot",
         "Bertrand",
         "1962-12-23",
         "Belgian",
         "jordan",
         "Phoenix street circuit",
         "Irish",
         "phoenix",
         "33",
         "Jordan",
         "Phoenix",
         "USA",
         "33.4479",
         "-112.075",
         "345",
         "1991-03-10",
         "0"
        ],
        [
         "14",
         "21677",
         "878",
         "2012",
         "19",
         "16",
         "14",
         "0.0",
         "55.0",
         "\\N",
         "55",
         "7",
         "1:40.315",
         "197.844",
         "kobayashi",
         "Kobayashi",
         "Kamui",
         "1986-09-13",
         "Japanese",
         "sauber",
         "Circuit of the Americas",
         "Swiss",
         "americas",
         "69",
         "Sauber",
         "Austin",
         "USA",
         "30.1328",
         "-97.6411",
         "161",
         "2012-11-18",
         "0"
        ],
        [
         "15",
         "8271",
         "366",
         "1989",
         "11",
         "18",
         "11",
         "0.0",
         null,
         "\\N",
         "\\N",
         "\\N",
         "\\N",
         "\\N",
         "cesaris",
         "de Cesaris",
         "Andrea",
         "1959-05-31",
         "Italian",
         "dallara",
         "Circuit de Spa-Francorchamps",
         "Italian",
         "spa",
         "13",
         "Dallara",
         "Spa",
         "Belgium",
         "50.4372",
         "5.97139",
         "401",
         "1989-08-27",
         "0"
        ],
        [
         "16",
         "11050",
         "465",
         "1983",
         "14",
         "22",
         "26",
         "0.0",
         "0.0",
         "\\N",
         "\\N",
         "\\N",
         "\\N",
         "\\N",
         "jarier",
         "Jarier",
         "Jean-Pierre",
         "1946-07-10",
         "French",
         "ligier",
         "Brands Hatch",
         "French",
         "brands_hatch",
         "38",
         "Ligier",
         "Kent",
         "UK",
         "51.3569",
         "0.263056",
         "145",
         "1983-09-25",
         "0"
        ],
        [
         "17",
         "26465",
         "1130",
         "2024",
         "10",
         "2",
         "1",
         "25.0",
         "66.0",
         "5300227",
         "54",
         "2",
         "1:17.776",
         "215.557",
         "max_verstappen",
         "Verstappen",
         "Max",
         "1997-09-30",
         "Dutch",
         "red_bull",
         "Circuit de Barcelona-Catalunya",
         "Austrian",
         "catalunya",
         "4",
         "Red Bull",
         "Montmeló",
         "Spain",
         "41.57",
         "2.26111",
         "109",
         "2024-06-23",
         "1"
        ],
        [
         "18",
         "14775",
         "599",
         "1974",
         "10",
         "12",
         "3",
         "4.0",
         "75.0",
         "6243700",
         "\\N",
         "\\N",
         "\\N",
         "\\N",
         "ickx",
         "Ickx",
         "Jacky",
         "1945-01-01",
         "Belgian",
         "team_lotus",
         "Brands Hatch",
         "British",
         "brands_hatch",
         "38",
         "Team Lotus",
         "Kent",
         "UK",
         "51.3569",
         "0.263056",
         "145",
         "1974-07-20",
         "1"
        ],
        [
         "19",
         "20610",
         "348",
         "2010",
         "12",
         "17",
         "24",
         "0.0",
         null,
         "\\N",
         "\\N",
         "\\N",
         "\\N",
         "\\N",
         "alguersuari",
         "Alguersuari",
         "Jaime",
         "1990-03-23",
         "Spanish",
         "toro_rosso",
         "Hungaroring",
         "Italian",
         "hungaroring",
         "11",
         "Toro Rosso",
         "Budapest",
         "Hungary",
         "47.5789",
         "19.2486",
         "264",
         "2010-08-01",
         "0"
        ]
       ],
       "shape": {
        "columns": 31,
        "rows": 20
       }
      },
      "text/html": [
       "<div>\n",
       "<style scoped>\n",
       "    .dataframe tbody tr th:only-of-type {\n",
       "        vertical-align: middle;\n",
       "    }\n",
       "\n",
       "    .dataframe tbody tr th {\n",
       "        vertical-align: top;\n",
       "    }\n",
       "\n",
       "    .dataframe thead th {\n",
       "        text-align: right;\n",
       "    }\n",
       "</style>\n",
       "<table border=\"1\" class=\"dataframe\">\n",
       "  <thead>\n",
       "    <tr style=\"text-align: right;\">\n",
       "      <th></th>\n",
       "      <th>resultId</th>\n",
       "      <th>raceId</th>\n",
       "      <th>year</th>\n",
       "      <th>round</th>\n",
       "      <th>grid</th>\n",
       "      <th>positionOrder</th>\n",
       "      <th>points</th>\n",
       "      <th>laps</th>\n",
       "      <th>milliseconds</th>\n",
       "      <th>fastestLap</th>\n",
       "      <th>...</th>\n",
       "      <th>circuitRef</th>\n",
       "      <th>circuitId</th>\n",
       "      <th>name_y</th>\n",
       "      <th>location</th>\n",
       "      <th>country</th>\n",
       "      <th>lat</th>\n",
       "      <th>lng</th>\n",
       "      <th>alt</th>\n",
       "      <th>date</th>\n",
       "      <th>target_finish</th>\n",
       "    </tr>\n",
       "  </thead>\n",
       "  <tbody>\n",
       "    <tr>\n",
       "      <th>0</th>\n",
       "      <td>2460</td>\n",
       "      <td>136</td>\n",
       "      <td>2002</td>\n",
       "      <td>13</td>\n",
       "      <td>11</td>\n",
       "      <td>4</td>\n",
       "      <td>3.0</td>\n",
       "      <td>77.0</td>\n",
       "      <td>NaN</td>\n",
       "      <td>\\N</td>\n",
       "      <td>...</td>\n",
       "      <td>hungaroring</td>\n",
       "      <td>11</td>\n",
       "      <td>McLaren</td>\n",
       "      <td>Budapest</td>\n",
       "      <td>Hungary</td>\n",
       "      <td>47.5789</td>\n",
       "      <td>19.248600</td>\n",
       "      <td>264</td>\n",
       "      <td>2002-08-18</td>\n",
       "      <td>1</td>\n",
       "    </tr>\n",
       "    <tr>\n",
       "      <th>1</th>\n",
       "      <td>11565</td>\n",
       "      <td>483</td>\n",
       "      <td>1981</td>\n",
       "      <td>1</td>\n",
       "      <td>23</td>\n",
       "      <td>21</td>\n",
       "      <td>0.0</td>\n",
       "      <td>16.0</td>\n",
       "      <td>\\N</td>\n",
       "      <td>\\N</td>\n",
       "      <td>...</td>\n",
       "      <td>long_beach</td>\n",
       "      <td>43</td>\n",
       "      <td>McLaren</td>\n",
       "      <td>California</td>\n",
       "      <td>USA</td>\n",
       "      <td>33.7651</td>\n",
       "      <td>-118.189000</td>\n",
       "      <td>12</td>\n",
       "      <td>1981-03-15</td>\n",
       "      <td>0</td>\n",
       "    </tr>\n",
       "    <tr>\n",
       "      <th>2</th>\n",
       "      <td>18661</td>\n",
       "      <td>772</td>\n",
       "      <td>1958</td>\n",
       "      <td>8</td>\n",
       "      <td>0</td>\n",
       "      <td>26</td>\n",
       "      <td>0.0</td>\n",
       "      <td>0.0</td>\n",
       "      <td>\\N</td>\n",
       "      <td>\\N</td>\n",
       "      <td>...</td>\n",
       "      <td>nurburgring</td>\n",
       "      <td>20</td>\n",
       "      <td>Maserati</td>\n",
       "      <td>Nürburg</td>\n",
       "      <td>Germany</td>\n",
       "      <td>50.3356</td>\n",
       "      <td>6.947500</td>\n",
       "      <td>578</td>\n",
       "      <td>1958-08-03</td>\n",
       "      <td>0</td>\n",
       "    </tr>\n",
       "    <tr>\n",
       "      <th>3</th>\n",
       "      <td>25121</td>\n",
       "      <td>1058</td>\n",
       "      <td>2021</td>\n",
       "      <td>8</td>\n",
       "      <td>19</td>\n",
       "      <td>16</td>\n",
       "      <td>0.0</td>\n",
       "      <td>69.0</td>\n",
       "      <td>\\N</td>\n",
       "      <td>57</td>\n",
       "      <td>...</td>\n",
       "      <td>red_bull_ring</td>\n",
       "      <td>70</td>\n",
       "      <td>Haas F1 Team</td>\n",
       "      <td>Spielberg</td>\n",
       "      <td>Austria</td>\n",
       "      <td>47.2197</td>\n",
       "      <td>14.764700</td>\n",
       "      <td>678</td>\n",
       "      <td>2021-06-27</td>\n",
       "      <td>0</td>\n",
       "    </tr>\n",
       "    <tr>\n",
       "      <th>4</th>\n",
       "      <td>8863</td>\n",
       "      <td>383</td>\n",
       "      <td>1988</td>\n",
       "      <td>12</td>\n",
       "      <td>0</td>\n",
       "      <td>30</td>\n",
       "      <td>0.0</td>\n",
       "      <td>0.0</td>\n",
       "      <td>\\N</td>\n",
       "      <td>\\N</td>\n",
       "      <td>...</td>\n",
       "      <td>monza</td>\n",
       "      <td>14</td>\n",
       "      <td>Euro Brun</td>\n",
       "      <td>Monza</td>\n",
       "      <td>Italy</td>\n",
       "      <td>45.6156</td>\n",
       "      <td>9.281110</td>\n",
       "      <td>162</td>\n",
       "      <td>1988-09-11</td>\n",
       "      <td>0</td>\n",
       "    </tr>\n",
       "    <tr>\n",
       "      <th>5</th>\n",
       "      <td>24317</td>\n",
       "      <td>1015</td>\n",
       "      <td>2019</td>\n",
       "      <td>6</td>\n",
       "      <td>5</td>\n",
       "      <td>14</td>\n",
       "      <td>0.0</td>\n",
       "      <td>77.0</td>\n",
       "      <td>\\N</td>\n",
       "      <td>61</td>\n",
       "      <td>...</td>\n",
       "      <td>monaco</td>\n",
       "      <td>6</td>\n",
       "      <td>Haas F1 Team</td>\n",
       "      <td>Monte-Carlo</td>\n",
       "      <td>Monaco</td>\n",
       "      <td>43.7347</td>\n",
       "      <td>7.420560</td>\n",
       "      <td>7</td>\n",
       "      <td>2019-05-26</td>\n",
       "      <td>0</td>\n",
       "    </tr>\n",
       "    <tr>\n",
       "      <th>6</th>\n",
       "      <td>14518</td>\n",
       "      <td>589</td>\n",
       "      <td>1975</td>\n",
       "      <td>14</td>\n",
       "      <td>5</td>\n",
       "      <td>18</td>\n",
       "      <td>NaN</td>\n",
       "      <td>9.0</td>\n",
       "      <td>\\N</td>\n",
       "      <td>\\N</td>\n",
       "      <td>...</td>\n",
       "      <td>watkins_glen</td>\n",
       "      <td>46</td>\n",
       "      <td>Parnelli</td>\n",
       "      <td>New York State</td>\n",
       "      <td>USA</td>\n",
       "      <td>42.3369</td>\n",
       "      <td>-76.927200</td>\n",
       "      <td>485</td>\n",
       "      <td>1975-10-05</td>\n",
       "      <td>0</td>\n",
       "    </tr>\n",
       "    <tr>\n",
       "      <th>7</th>\n",
       "      <td>21966</td>\n",
       "      <td>892</td>\n",
       "      <td>2013</td>\n",
       "      <td>12</td>\n",
       "      <td>16</td>\n",
       "      <td>13</td>\n",
       "      <td>NaN</td>\n",
       "      <td>53.0</td>\n",
       "      <td>4754232</td>\n",
       "      <td>53</td>\n",
       "      <td>...</td>\n",
       "      <td>monza</td>\n",
       "      <td>14</td>\n",
       "      <td>Sauber</td>\n",
       "      <td>Monza</td>\n",
       "      <td>Italy</td>\n",
       "      <td>45.6156</td>\n",
       "      <td>9.281110</td>\n",
       "      <td>162</td>\n",
       "      <td>2013-09-08</td>\n",
       "      <td>1</td>\n",
       "    </tr>\n",
       "    <tr>\n",
       "      <th>8</th>\n",
       "      <td>22656</td>\n",
       "      <td>932</td>\n",
       "      <td>2015</td>\n",
       "      <td>7</td>\n",
       "      <td>1</td>\n",
       "      <td>1</td>\n",
       "      <td>25.0</td>\n",
       "      <td>70.0</td>\n",
       "      <td>5513145</td>\n",
       "      <td>64</td>\n",
       "      <td>...</td>\n",
       "      <td>villeneuve</td>\n",
       "      <td>7</td>\n",
       "      <td>Mercedes</td>\n",
       "      <td>Montreal</td>\n",
       "      <td>Canada</td>\n",
       "      <td>45.5000</td>\n",
       "      <td>-73.522800</td>\n",
       "      <td>13</td>\n",
       "      <td>2015-06-07</td>\n",
       "      <td>1</td>\n",
       "    </tr>\n",
       "    <tr>\n",
       "      <th>9</th>\n",
       "      <td>18072</td>\n",
       "      <td>746</td>\n",
       "      <td>1960</td>\n",
       "      <td>1</td>\n",
       "      <td>2</td>\n",
       "      <td>6</td>\n",
       "      <td>1.0</td>\n",
       "      <td>79.0</td>\n",
       "      <td>\\N</td>\n",
       "      <td>\\N</td>\n",
       "      <td>...</td>\n",
       "      <td>galvez</td>\n",
       "      <td>25</td>\n",
       "      <td>Team Lotus</td>\n",
       "      <td>Buenos Aires</td>\n",
       "      <td>Argentina</td>\n",
       "      <td>-34.6943</td>\n",
       "      <td>-58.459300</td>\n",
       "      <td>8</td>\n",
       "      <td>1960-02-07</td>\n",
       "      <td>0</td>\n",
       "    </tr>\n",
       "    <tr>\n",
       "      <th>10</th>\n",
       "      <td>5557</td>\n",
       "      <td>272</td>\n",
       "      <td>1994</td>\n",
       "      <td>16</td>\n",
       "      <td>9</td>\n",
       "      <td>3</td>\n",
       "      <td>4.0</td>\n",
       "      <td>81.0</td>\n",
       "      <td>6523887</td>\n",
       "      <td>\\N</td>\n",
       "      <td>...</td>\n",
       "      <td>adelaide</td>\n",
       "      <td>29</td>\n",
       "      <td>McLaren</td>\n",
       "      <td>Adelaide</td>\n",
       "      <td>Australia</td>\n",
       "      <td>-34.9272</td>\n",
       "      <td>138.617000</td>\n",
       "      <td>58</td>\n",
       "      <td>1994-11-13</td>\n",
       "      <td>1</td>\n",
       "    </tr>\n",
       "    <tr>\n",
       "      <th>11</th>\n",
       "      <td>5100</td>\n",
       "      <td>255</td>\n",
       "      <td>1995</td>\n",
       "      <td>16</td>\n",
       "      <td>15</td>\n",
       "      <td>10</td>\n",
       "      <td>0.0</td>\n",
       "      <td>51.0</td>\n",
       "      <td>NaN</td>\n",
       "      <td>\\N</td>\n",
       "      <td>...</td>\n",
       "      <td>suzuka</td>\n",
       "      <td>22</td>\n",
       "      <td>Sauber</td>\n",
       "      <td>Suzuka</td>\n",
       "      <td>Japan</td>\n",
       "      <td>34.8431</td>\n",
       "      <td>136.541000</td>\n",
       "      <td>45</td>\n",
       "      <td>1995-10-29</td>\n",
       "      <td>0</td>\n",
       "    </tr>\n",
       "    <tr>\n",
       "      <th>12</th>\n",
       "      <td>8485</td>\n",
       "      <td>371</td>\n",
       "      <td>1989</td>\n",
       "      <td>16</td>\n",
       "      <td>0</td>\n",
       "      <td>31</td>\n",
       "      <td>0.0</td>\n",
       "      <td>0.0</td>\n",
       "      <td>\\N</td>\n",
       "      <td>\\N</td>\n",
       "      <td>...</td>\n",
       "      <td>adelaide</td>\n",
       "      <td>29</td>\n",
       "      <td>Onyx</td>\n",
       "      <td>Adelaide</td>\n",
       "      <td>Australia</td>\n",
       "      <td>-34.9272</td>\n",
       "      <td>138.617000</td>\n",
       "      <td>58</td>\n",
       "      <td>1989-11-05</td>\n",
       "      <td>0</td>\n",
       "    </tr>\n",
       "    <tr>\n",
       "      <th>13</th>\n",
       "      <td>6482</td>\n",
       "      <td>305</td>\n",
       "      <td>1991</td>\n",
       "      <td>1</td>\n",
       "      <td>14</td>\n",
       "      <td>10</td>\n",
       "      <td>0.0</td>\n",
       "      <td>75.0</td>\n",
       "      <td>\\N</td>\n",
       "      <td>\\N</td>\n",
       "      <td>...</td>\n",
       "      <td>phoenix</td>\n",
       "      <td>33</td>\n",
       "      <td>Jordan</td>\n",
       "      <td>Phoenix</td>\n",
       "      <td>USA</td>\n",
       "      <td>33.4479</td>\n",
       "      <td>-112.075000</td>\n",
       "      <td>345</td>\n",
       "      <td>1991-03-10</td>\n",
       "      <td>0</td>\n",
       "    </tr>\n",
       "    <tr>\n",
       "      <th>14</th>\n",
       "      <td>21677</td>\n",
       "      <td>878</td>\n",
       "      <td>2012</td>\n",
       "      <td>19</td>\n",
       "      <td>16</td>\n",
       "      <td>14</td>\n",
       "      <td>0.0</td>\n",
       "      <td>55.0</td>\n",
       "      <td>\\N</td>\n",
       "      <td>55</td>\n",
       "      <td>...</td>\n",
       "      <td>americas</td>\n",
       "      <td>69</td>\n",
       "      <td>Sauber</td>\n",
       "      <td>Austin</td>\n",
       "      <td>USA</td>\n",
       "      <td>30.1328</td>\n",
       "      <td>-97.641100</td>\n",
       "      <td>161</td>\n",
       "      <td>2012-11-18</td>\n",
       "      <td>0</td>\n",
       "    </tr>\n",
       "    <tr>\n",
       "      <th>15</th>\n",
       "      <td>8271</td>\n",
       "      <td>366</td>\n",
       "      <td>1989</td>\n",
       "      <td>11</td>\n",
       "      <td>18</td>\n",
       "      <td>11</td>\n",
       "      <td>0.0</td>\n",
       "      <td>NaN</td>\n",
       "      <td>\\N</td>\n",
       "      <td>\\N</td>\n",
       "      <td>...</td>\n",
       "      <td>spa</td>\n",
       "      <td>13</td>\n",
       "      <td>Dallara</td>\n",
       "      <td>Spa</td>\n",
       "      <td>Belgium</td>\n",
       "      <td>50.4372</td>\n",
       "      <td>5.971390</td>\n",
       "      <td>401</td>\n",
       "      <td>1989-08-27</td>\n",
       "      <td>0</td>\n",
       "    </tr>\n",
       "    <tr>\n",
       "      <th>16</th>\n",
       "      <td>11050</td>\n",
       "      <td>465</td>\n",
       "      <td>1983</td>\n",
       "      <td>14</td>\n",
       "      <td>22</td>\n",
       "      <td>26</td>\n",
       "      <td>0.0</td>\n",
       "      <td>0.0</td>\n",
       "      <td>\\N</td>\n",
       "      <td>\\N</td>\n",
       "      <td>...</td>\n",
       "      <td>brands_hatch</td>\n",
       "      <td>38</td>\n",
       "      <td>Ligier</td>\n",
       "      <td>Kent</td>\n",
       "      <td>UK</td>\n",
       "      <td>51.3569</td>\n",
       "      <td>0.263056</td>\n",
       "      <td>145</td>\n",
       "      <td>1983-09-25</td>\n",
       "      <td>0</td>\n",
       "    </tr>\n",
       "    <tr>\n",
       "      <th>17</th>\n",
       "      <td>26465</td>\n",
       "      <td>1130</td>\n",
       "      <td>2024</td>\n",
       "      <td>10</td>\n",
       "      <td>2</td>\n",
       "      <td>1</td>\n",
       "      <td>25.0</td>\n",
       "      <td>66.0</td>\n",
       "      <td>5300227</td>\n",
       "      <td>54</td>\n",
       "      <td>...</td>\n",
       "      <td>catalunya</td>\n",
       "      <td>4</td>\n",
       "      <td>Red Bull</td>\n",
       "      <td>Montmeló</td>\n",
       "      <td>Spain</td>\n",
       "      <td>41.5700</td>\n",
       "      <td>2.261110</td>\n",
       "      <td>109</td>\n",
       "      <td>2024-06-23</td>\n",
       "      <td>1</td>\n",
       "    </tr>\n",
       "    <tr>\n",
       "      <th>18</th>\n",
       "      <td>14775</td>\n",
       "      <td>599</td>\n",
       "      <td>1974</td>\n",
       "      <td>10</td>\n",
       "      <td>12</td>\n",
       "      <td>3</td>\n",
       "      <td>4.0</td>\n",
       "      <td>75.0</td>\n",
       "      <td>6243700</td>\n",
       "      <td>\\N</td>\n",
       "      <td>...</td>\n",
       "      <td>brands_hatch</td>\n",
       "      <td>38</td>\n",
       "      <td>Team Lotus</td>\n",
       "      <td>Kent</td>\n",
       "      <td>UK</td>\n",
       "      <td>51.3569</td>\n",
       "      <td>0.263056</td>\n",
       "      <td>145</td>\n",
       "      <td>1974-07-20</td>\n",
       "      <td>1</td>\n",
       "    </tr>\n",
       "    <tr>\n",
       "      <th>19</th>\n",
       "      <td>20610</td>\n",
       "      <td>348</td>\n",
       "      <td>2010</td>\n",
       "      <td>12</td>\n",
       "      <td>17</td>\n",
       "      <td>24</td>\n",
       "      <td>0.0</td>\n",
       "      <td>NaN</td>\n",
       "      <td>\\N</td>\n",
       "      <td>\\N</td>\n",
       "      <td>...</td>\n",
       "      <td>hungaroring</td>\n",
       "      <td>11</td>\n",
       "      <td>Toro Rosso</td>\n",
       "      <td>Budapest</td>\n",
       "      <td>Hungary</td>\n",
       "      <td>47.5789</td>\n",
       "      <td>19.248600</td>\n",
       "      <td>264</td>\n",
       "      <td>2010-08-01</td>\n",
       "      <td>0</td>\n",
       "    </tr>\n",
       "  </tbody>\n",
       "</table>\n",
       "<p>20 rows × 31 columns</p>\n",
       "</div>"
      ],
      "text/plain": [
       "    resultId  raceId  year  round  grid  positionOrder  points  laps  \\\n",
       "0       2460     136  2002     13    11              4     3.0  77.0   \n",
       "1      11565     483  1981      1    23             21     0.0  16.0   \n",
       "2      18661     772  1958      8     0             26     0.0   0.0   \n",
       "3      25121    1058  2021      8    19             16     0.0  69.0   \n",
       "4       8863     383  1988     12     0             30     0.0   0.0   \n",
       "5      24317    1015  2019      6     5             14     0.0  77.0   \n",
       "6      14518     589  1975     14     5             18     NaN   9.0   \n",
       "7      21966     892  2013     12    16             13     NaN  53.0   \n",
       "8      22656     932  2015      7     1              1    25.0  70.0   \n",
       "9      18072     746  1960      1     2              6     1.0  79.0   \n",
       "10      5557     272  1994     16     9              3     4.0  81.0   \n",
       "11      5100     255  1995     16    15             10     0.0  51.0   \n",
       "12      8485     371  1989     16     0             31     0.0   0.0   \n",
       "13      6482     305  1991      1    14             10     0.0  75.0   \n",
       "14     21677     878  2012     19    16             14     0.0  55.0   \n",
       "15      8271     366  1989     11    18             11     0.0   NaN   \n",
       "16     11050     465  1983     14    22             26     0.0   0.0   \n",
       "17     26465    1130  2024     10     2              1    25.0  66.0   \n",
       "18     14775     599  1974     10    12              3     4.0  75.0   \n",
       "19     20610     348  2010     12    17             24     0.0   NaN   \n",
       "\n",
       "   milliseconds fastestLap  ...     circuitRef circuitId        name_y  \\\n",
       "0           NaN         \\N  ...    hungaroring        11       McLaren   \n",
       "1            \\N         \\N  ...     long_beach        43       McLaren   \n",
       "2            \\N         \\N  ...    nurburgring        20      Maserati   \n",
       "3            \\N         57  ...  red_bull_ring        70  Haas F1 Team   \n",
       "4            \\N         \\N  ...          monza        14     Euro Brun   \n",
       "5            \\N         61  ...         monaco         6  Haas F1 Team   \n",
       "6            \\N         \\N  ...   watkins_glen        46      Parnelli   \n",
       "7       4754232         53  ...          monza        14        Sauber   \n",
       "8       5513145         64  ...     villeneuve         7      Mercedes   \n",
       "9            \\N         \\N  ...         galvez        25    Team Lotus   \n",
       "10      6523887         \\N  ...       adelaide        29       McLaren   \n",
       "11          NaN         \\N  ...         suzuka        22        Sauber   \n",
       "12           \\N         \\N  ...       adelaide        29          Onyx   \n",
       "13           \\N         \\N  ...        phoenix        33        Jordan   \n",
       "14           \\N         55  ...       americas        69        Sauber   \n",
       "15           \\N         \\N  ...            spa        13       Dallara   \n",
       "16           \\N         \\N  ...   brands_hatch        38        Ligier   \n",
       "17      5300227         54  ...      catalunya         4      Red Bull   \n",
       "18      6243700         \\N  ...   brands_hatch        38    Team Lotus   \n",
       "19           \\N         \\N  ...    hungaroring        11    Toro Rosso   \n",
       "\n",
       "          location    country      lat         lng  alt        date  \\\n",
       "0         Budapest    Hungary  47.5789   19.248600  264  2002-08-18   \n",
       "1       California        USA  33.7651 -118.189000   12  1981-03-15   \n",
       "2          Nürburg    Germany  50.3356    6.947500  578  1958-08-03   \n",
       "3        Spielberg    Austria  47.2197   14.764700  678  2021-06-27   \n",
       "4            Monza      Italy  45.6156    9.281110  162  1988-09-11   \n",
       "5      Monte-Carlo     Monaco  43.7347    7.420560    7  2019-05-26   \n",
       "6   New York State        USA  42.3369  -76.927200  485  1975-10-05   \n",
       "7            Monza      Italy  45.6156    9.281110  162  2013-09-08   \n",
       "8         Montreal     Canada  45.5000  -73.522800   13  2015-06-07   \n",
       "9     Buenos Aires  Argentina -34.6943  -58.459300    8  1960-02-07   \n",
       "10        Adelaide  Australia -34.9272  138.617000   58  1994-11-13   \n",
       "11          Suzuka      Japan  34.8431  136.541000   45  1995-10-29   \n",
       "12        Adelaide  Australia -34.9272  138.617000   58  1989-11-05   \n",
       "13         Phoenix        USA  33.4479 -112.075000  345  1991-03-10   \n",
       "14          Austin        USA  30.1328  -97.641100  161  2012-11-18   \n",
       "15             Spa    Belgium  50.4372    5.971390  401  1989-08-27   \n",
       "16            Kent         UK  51.3569    0.263056  145  1983-09-25   \n",
       "17        Montmeló      Spain  41.5700    2.261110  109  2024-06-23   \n",
       "18            Kent         UK  51.3569    0.263056  145  1974-07-20   \n",
       "19        Budapest    Hungary  47.5789   19.248600  264  2010-08-01   \n",
       "\n",
       "   target_finish  \n",
       "0              1  \n",
       "1              0  \n",
       "2              0  \n",
       "3              0  \n",
       "4              0  \n",
       "5              0  \n",
       "6              0  \n",
       "7              1  \n",
       "8              1  \n",
       "9              0  \n",
       "10             1  \n",
       "11             0  \n",
       "12             0  \n",
       "13             0  \n",
       "14             0  \n",
       "15             0  \n",
       "16             0  \n",
       "17             1  \n",
       "18             1  \n",
       "19             0  \n",
       "\n",
       "[20 rows x 31 columns]"
      ]
     },
     "execution_count": 5,
     "metadata": {},
     "output_type": "execute_result"
    }
   ],
   "source": [
    "df.head(20)"
   ]
  },
  {
   "cell_type": "code",
   "execution_count": 6,
   "id": "52338717",
   "metadata": {},
   "outputs": [
    {
     "name": "stdout",
     "output_type": "stream",
     "text": [
      "<class 'pandas.core.frame.DataFrame'>\n",
      "RangeIndex: 10000 entries, 0 to 9999\n",
      "Data columns (total 31 columns):\n",
      " #   Column           Non-Null Count  Dtype  \n",
      "---  ------           --------------  -----  \n",
      " 0   resultId         10000 non-null  int64  \n",
      " 1   raceId           10000 non-null  int64  \n",
      " 2   year             10000 non-null  int64  \n",
      " 3   round            10000 non-null  int64  \n",
      " 4   grid             10000 non-null  int64  \n",
      " 5   positionOrder    10000 non-null  int64  \n",
      " 6   points           9029 non-null   float64\n",
      " 7   laps             9022 non-null   float64\n",
      " 8   milliseconds     8982 non-null   object \n",
      " 9   fastestLap       10000 non-null  object \n",
      " 10  rank             10000 non-null  object \n",
      " 11  fastestLapTime   10000 non-null  object \n",
      " 12  fastestLapSpeed  9047 non-null   object \n",
      " 13  driverRef        10000 non-null  object \n",
      " 14  surname          10000 non-null  object \n",
      " 15  forename         10000 non-null  object \n",
      " 16  dob              10000 non-null  object \n",
      " 17  nationality_x    10000 non-null  object \n",
      " 18  constructorRef   10000 non-null  object \n",
      " 19  name             10000 non-null  object \n",
      " 20  nationality_y    10000 non-null  object \n",
      " 21  circuitRef       10000 non-null  object \n",
      " 22  circuitId        10000 non-null  int64  \n",
      " 23  name_y           10000 non-null  object \n",
      " 24  location         10000 non-null  object \n",
      " 25  country          10000 non-null  object \n",
      " 26  lat              10000 non-null  float64\n",
      " 27  lng              10000 non-null  float64\n",
      " 28  alt              10000 non-null  int64  \n",
      " 29  date             10000 non-null  object \n",
      " 30  target_finish    10000 non-null  int64  \n",
      "dtypes: float64(4), int64(9), object(18)\n",
      "memory usage: 2.4+ MB\n"
     ]
    }
   ],
   "source": [
    "df.info()"
   ]
  },
  {
   "cell_type": "code",
   "execution_count": 7,
   "id": "d9318c9f",
   "metadata": {},
   "outputs": [
    {
     "name": "stdout",
     "output_type": "stream",
     "text": [
      "resultId 10000\n",
      "raceId 1125\n",
      "year 75\n",
      "round 24\n",
      "grid 35\n",
      "positionOrder 39\n",
      "points 29\n",
      "laps 138\n",
      "milliseconds 2599\n",
      "fastestLap 80\n",
      "rank 26\n",
      "fastestLapTime 2990\n",
      "fastestLapSpeed 2742\n",
      "driverRef 677\n",
      "surname 639\n",
      "forename 407\n",
      "dob 668\n",
      "nationality_x 40\n",
      "constructorRef 174\n",
      "name 77\n",
      "nationality_y 21\n",
      "circuitRef 77\n",
      "circuitId 77\n",
      "name_y 174\n",
      "location 75\n",
      "country 35\n",
      "lat 77\n",
      "lng 77\n",
      "alt 66\n",
      "date 1125\n",
      "target_finish 2\n"
     ]
    }
   ],
   "source": [
    "for col in df.columns:\n",
    "    print(col, df[col].nunique())"
   ]
  },
  {
   "cell_type": "markdown",
   "id": "3777534d",
   "metadata": {},
   "source": [
    "since there really arent any columns with a few unique values we arent going to one hot encode anything"
   ]
  },
  {
   "cell_type": "markdown",
   "id": "2cc7a037",
   "metadata": {},
   "source": [
    "Seeing that there are several values in the dataset with \\N so i am going to replace it with nan so that it is easier to clean or fill later on"
   ]
  },
  {
   "cell_type": "code",
   "execution_count": null,
   "id": "2fd6a02d",
   "metadata": {},
   "outputs": [],
   "source": [
    "\n"
   ]
  },
  {
   "cell_type": "code",
   "execution_count": 8,
   "id": "5711b955",
   "metadata": {},
   "outputs": [],
   "source": [
    "for col in df.columns:\n",
    "    df[col] = df[col].replace(['\\\\N'], np.nan)"
   ]
  },
  {
   "cell_type": "code",
   "execution_count": 9,
   "id": "36bfaacb",
   "metadata": {},
   "outputs": [
    {
     "data": {
      "application/vnd.microsoft.datawrangler.viewer.v0+json": {
       "columns": [
        {
         "name": "index",
         "rawType": "int64",
         "type": "integer"
        },
        {
         "name": "resultId",
         "rawType": "int64",
         "type": "integer"
        },
        {
         "name": "raceId",
         "rawType": "int64",
         "type": "integer"
        },
        {
         "name": "year",
         "rawType": "int64",
         "type": "integer"
        },
        {
         "name": "round",
         "rawType": "int64",
         "type": "integer"
        },
        {
         "name": "grid",
         "rawType": "int64",
         "type": "integer"
        },
        {
         "name": "positionOrder",
         "rawType": "int64",
         "type": "integer"
        },
        {
         "name": "points",
         "rawType": "float64",
         "type": "float"
        },
        {
         "name": "laps",
         "rawType": "float64",
         "type": "float"
        },
        {
         "name": "milliseconds",
         "rawType": "object",
         "type": "unknown"
        },
        {
         "name": "fastestLap",
         "rawType": "object",
         "type": "unknown"
        },
        {
         "name": "rank",
         "rawType": "object",
         "type": "unknown"
        },
        {
         "name": "fastestLapTime",
         "rawType": "object",
         "type": "unknown"
        },
        {
         "name": "fastestLapSpeed",
         "rawType": "object",
         "type": "unknown"
        },
        {
         "name": "driverRef",
         "rawType": "object",
         "type": "string"
        },
        {
         "name": "surname",
         "rawType": "object",
         "type": "string"
        },
        {
         "name": "forename",
         "rawType": "object",
         "type": "string"
        },
        {
         "name": "dob",
         "rawType": "object",
         "type": "string"
        },
        {
         "name": "nationality_x",
         "rawType": "object",
         "type": "string"
        },
        {
         "name": "constructorRef",
         "rawType": "object",
         "type": "string"
        },
        {
         "name": "name",
         "rawType": "object",
         "type": "string"
        },
        {
         "name": "nationality_y",
         "rawType": "object",
         "type": "string"
        },
        {
         "name": "circuitRef",
         "rawType": "object",
         "type": "string"
        },
        {
         "name": "circuitId",
         "rawType": "int64",
         "type": "integer"
        },
        {
         "name": "name_y",
         "rawType": "object",
         "type": "string"
        },
        {
         "name": "location",
         "rawType": "object",
         "type": "string"
        },
        {
         "name": "country",
         "rawType": "object",
         "type": "string"
        },
        {
         "name": "lat",
         "rawType": "float64",
         "type": "float"
        },
        {
         "name": "lng",
         "rawType": "float64",
         "type": "float"
        },
        {
         "name": "alt",
         "rawType": "int64",
         "type": "integer"
        },
        {
         "name": "date",
         "rawType": "object",
         "type": "string"
        },
        {
         "name": "target_finish",
         "rawType": "int64",
         "type": "integer"
        }
       ],
       "ref": "3ac590ef-0970-4bc1-8c10-4d632fb5c616",
       "rows": [
        [
         "0",
         "2460",
         "136",
         "2002",
         "13",
         "11",
         "4",
         "3.0",
         "77.0",
         null,
         null,
         null,
         null,
         null,
         "raikkonen",
         "Räikkönen",
         "Kimi",
         "1979-10-17",
         "Finnish",
         "mclaren",
         "Hungaroring",
         "British",
         "hungaroring",
         "11",
         "McLaren",
         "Budapest",
         "Hungary",
         "47.5789",
         "19.2486",
         "264",
         "2002-08-18",
         "1"
        ],
        [
         "1",
         "11565",
         "483",
         "1981",
         "1",
         "23",
         "21",
         "0.0",
         "16.0",
         null,
         null,
         null,
         null,
         null,
         "watson",
         "Watson",
         "John",
         "1946-05-04",
         "British",
         "mclaren",
         "Long Beach",
         "British",
         "long_beach",
         "43",
         "McLaren",
         "California",
         "USA",
         "33.7651",
         "-118.189",
         "12",
         "1981-03-15",
         "0"
        ],
        [
         "2",
         "18661",
         "772",
         "1958",
         "8",
         "0",
         "26",
         "0.0",
         "0.0",
         null,
         null,
         null,
         null,
         null,
         "ruttman",
         "Ruttman",
         "Troy",
         "1930-03-11",
         "American",
         "maserati",
         "Nürburgring",
         "Italian",
         "nurburgring",
         "20",
         "Maserati",
         "Nürburg",
         "Germany",
         "50.3356",
         "6.9475",
         "578",
         "1958-08-03",
         "0"
        ],
        [
         "3",
         "25121",
         "1058",
         "2021",
         "8",
         "19",
         "16",
         "0.0",
         "69.0",
         null,
         "57",
         "16",
         "1:10.005",
         "222.052",
         "mick_schumacher",
         "Schumacher",
         "Mick",
         "1999-03-22",
         "German",
         "haas",
         "Red Bull Ring",
         "American",
         "red_bull_ring",
         "70",
         "Haas F1 Team",
         "Spielberg",
         "Austria",
         "47.2197",
         "14.7647",
         "678",
         "2021-06-27",
         "0"
        ],
        [
         "4",
         "8863",
         "383",
         "1988",
         "12",
         "0",
         "30",
         "0.0",
         "0.0",
         null,
         null,
         null,
         null,
         null,
         "modena",
         "Modena",
         "Stefano",
         "1963-05-12",
         "Italian",
         "eurobrun",
         "Autodromo Nazionale di Monza",
         "Italian",
         "monza",
         "14",
         "Euro Brun",
         "Monza",
         "Italy",
         "45.6156",
         "9.28111",
         "162",
         "1988-09-11",
         "0"
        ],
        [
         "5",
         "24317",
         "1015",
         "2019",
         "6",
         "5",
         "14",
         "0.0",
         "77.0",
         null,
         "61",
         "17",
         "1:16.992",
         "156.031",
         "kevin_magnussen",
         "Magnussen",
         "Kevin",
         "1992-10-05",
         "Danish",
         "haas",
         "Circuit de Monaco",
         "American",
         "monaco",
         "6",
         "Haas F1 Team",
         "Monte-Carlo",
         "Monaco",
         "43.7347",
         "7.42056",
         "7",
         "2019-05-26",
         "0"
        ],
        [
         "6",
         "14518",
         "589",
         "1975",
         "14",
         "5",
         "18",
         null,
         "9.0",
         null,
         null,
         null,
         null,
         null,
         "mario_andretti",
         "Andretti",
         "Mario",
         "1940-02-28",
         "American",
         "parnelli",
         "Watkins Glen",
         "American",
         "watkins_glen",
         "46",
         "Parnelli",
         "New York State",
         "USA",
         "42.3369",
         "-76.9272",
         "485",
         "1975-10-05",
         "0"
        ],
        [
         "7",
         "21966",
         "892",
         "2013",
         "12",
         "16",
         "13",
         null,
         "53.0",
         "4754232",
         "53",
         "9",
         "1:27.092",
         "239.457",
         "gutierrez",
         "Gutiérrez",
         "Esteban",
         "1991-08-05",
         "Mexican",
         "sauber",
         "Autodromo Nazionale di Monza",
         "Swiss",
         "monza",
         "14",
         "Sauber",
         "Monza",
         "Italy",
         "45.6156",
         "9.28111",
         "162",
         "2013-09-08",
         "1"
        ],
        [
         "8",
         "22656",
         "932",
         "2015",
         "7",
         "1",
         "1",
         "25.0",
         "70.0",
         "5513145",
         "64",
         "3",
         "1:17.472",
         "202.648",
         "hamilton",
         "Hamilton",
         "Lewis",
         "1985-01-07",
         "British",
         "mercedes",
         "Circuit Gilles Villeneuve",
         "German",
         "villeneuve",
         "7",
         "Mercedes",
         "Montreal",
         "Canada",
         "45.5",
         "-73.5228",
         "13",
         "2015-06-07",
         "1"
        ],
        [
         "9",
         "18072",
         "746",
         "1960",
         "1",
         "2",
         "6",
         "1.0",
         "79.0",
         null,
         null,
         null,
         null,
         null,
         "ireland",
         "Ireland",
         "Innes",
         "1930-06-12",
         "British",
         "team_lotus",
         "Autódromo Juan y Oscar Gálvez",
         "British",
         "galvez",
         "25",
         "Team Lotus",
         "Buenos Aires",
         "Argentina",
         "-34.6943",
         "-58.4593",
         "8",
         "1960-02-07",
         "0"
        ],
        [
         "10",
         "5557",
         "272",
         "1994",
         "16",
         "9",
         "3",
         "4.0",
         "81.0",
         "6523887",
         null,
         null,
         null,
         null,
         "brundle",
         "Brundle",
         "Martin",
         "1959-06-01",
         "British",
         "mclaren",
         "Adelaide Street Circuit",
         "British",
         "adelaide",
         "29",
         "McLaren",
         "Adelaide",
         "Australia",
         "-34.9272",
         "138.617",
         "58",
         "1994-11-13",
         "1"
        ],
        [
         "11",
         "5100",
         "255",
         "1995",
         "16",
         "15",
         "10",
         "0.0",
         "51.0",
         null,
         null,
         null,
         null,
         null,
         "wendlinger",
         "Wendlinger",
         "Karl",
         "1968-12-20",
         "Austrian",
         "sauber",
         "Suzuka Circuit",
         "Swiss",
         "suzuka",
         "22",
         "Sauber",
         "Suzuka",
         "Japan",
         "34.8431",
         "136.541",
         "45",
         "1995-10-29",
         "0"
        ],
        [
         "12",
         "8485",
         "371",
         "1989",
         "16",
         "0",
         "31",
         "0.0",
         "0.0",
         null,
         null,
         null,
         null,
         null,
         "johansson",
         "Johansson",
         "Stefan",
         "1956-09-08",
         "Swedish",
         "onyx",
         "Adelaide Street Circuit",
         "British",
         "adelaide",
         "29",
         "Onyx",
         "Adelaide",
         "Australia",
         "-34.9272",
         "138.617",
         "58",
         "1989-11-05",
         "0"
        ],
        [
         "13",
         "6482",
         "305",
         "1991",
         "1",
         "14",
         "10",
         "0.0",
         "75.0",
         null,
         null,
         null,
         null,
         null,
         "gachot",
         "Gachot",
         "Bertrand",
         "1962-12-23",
         "Belgian",
         "jordan",
         "Phoenix street circuit",
         "Irish",
         "phoenix",
         "33",
         "Jordan",
         "Phoenix",
         "USA",
         "33.4479",
         "-112.075",
         "345",
         "1991-03-10",
         "0"
        ],
        [
         "14",
         "21677",
         "878",
         "2012",
         "19",
         "16",
         "14",
         "0.0",
         "55.0",
         null,
         "55",
         "7",
         "1:40.315",
         "197.844",
         "kobayashi",
         "Kobayashi",
         "Kamui",
         "1986-09-13",
         "Japanese",
         "sauber",
         "Circuit of the Americas",
         "Swiss",
         "americas",
         "69",
         "Sauber",
         "Austin",
         "USA",
         "30.1328",
         "-97.6411",
         "161",
         "2012-11-18",
         "0"
        ],
        [
         "15",
         "8271",
         "366",
         "1989",
         "11",
         "18",
         "11",
         "0.0",
         null,
         null,
         null,
         null,
         null,
         null,
         "cesaris",
         "de Cesaris",
         "Andrea",
         "1959-05-31",
         "Italian",
         "dallara",
         "Circuit de Spa-Francorchamps",
         "Italian",
         "spa",
         "13",
         "Dallara",
         "Spa",
         "Belgium",
         "50.4372",
         "5.97139",
         "401",
         "1989-08-27",
         "0"
        ],
        [
         "16",
         "11050",
         "465",
         "1983",
         "14",
         "22",
         "26",
         "0.0",
         "0.0",
         null,
         null,
         null,
         null,
         null,
         "jarier",
         "Jarier",
         "Jean-Pierre",
         "1946-07-10",
         "French",
         "ligier",
         "Brands Hatch",
         "French",
         "brands_hatch",
         "38",
         "Ligier",
         "Kent",
         "UK",
         "51.3569",
         "0.263056",
         "145",
         "1983-09-25",
         "0"
        ],
        [
         "17",
         "26465",
         "1130",
         "2024",
         "10",
         "2",
         "1",
         "25.0",
         "66.0",
         "5300227",
         "54",
         "2",
         "1:17.776",
         "215.557",
         "max_verstappen",
         "Verstappen",
         "Max",
         "1997-09-30",
         "Dutch",
         "red_bull",
         "Circuit de Barcelona-Catalunya",
         "Austrian",
         "catalunya",
         "4",
         "Red Bull",
         "Montmeló",
         "Spain",
         "41.57",
         "2.26111",
         "109",
         "2024-06-23",
         "1"
        ],
        [
         "18",
         "14775",
         "599",
         "1974",
         "10",
         "12",
         "3",
         "4.0",
         "75.0",
         "6243700",
         null,
         null,
         null,
         null,
         "ickx",
         "Ickx",
         "Jacky",
         "1945-01-01",
         "Belgian",
         "team_lotus",
         "Brands Hatch",
         "British",
         "brands_hatch",
         "38",
         "Team Lotus",
         "Kent",
         "UK",
         "51.3569",
         "0.263056",
         "145",
         "1974-07-20",
         "1"
        ],
        [
         "19",
         "20610",
         "348",
         "2010",
         "12",
         "17",
         "24",
         "0.0",
         null,
         null,
         null,
         null,
         null,
         null,
         "alguersuari",
         "Alguersuari",
         "Jaime",
         "1990-03-23",
         "Spanish",
         "toro_rosso",
         "Hungaroring",
         "Italian",
         "hungaroring",
         "11",
         "Toro Rosso",
         "Budapest",
         "Hungary",
         "47.5789",
         "19.2486",
         "264",
         "2010-08-01",
         "0"
        ]
       ],
       "shape": {
        "columns": 31,
        "rows": 20
       }
      },
      "text/html": [
       "<div>\n",
       "<style scoped>\n",
       "    .dataframe tbody tr th:only-of-type {\n",
       "        vertical-align: middle;\n",
       "    }\n",
       "\n",
       "    .dataframe tbody tr th {\n",
       "        vertical-align: top;\n",
       "    }\n",
       "\n",
       "    .dataframe thead th {\n",
       "        text-align: right;\n",
       "    }\n",
       "</style>\n",
       "<table border=\"1\" class=\"dataframe\">\n",
       "  <thead>\n",
       "    <tr style=\"text-align: right;\">\n",
       "      <th></th>\n",
       "      <th>resultId</th>\n",
       "      <th>raceId</th>\n",
       "      <th>year</th>\n",
       "      <th>round</th>\n",
       "      <th>grid</th>\n",
       "      <th>positionOrder</th>\n",
       "      <th>points</th>\n",
       "      <th>laps</th>\n",
       "      <th>milliseconds</th>\n",
       "      <th>fastestLap</th>\n",
       "      <th>...</th>\n",
       "      <th>circuitRef</th>\n",
       "      <th>circuitId</th>\n",
       "      <th>name_y</th>\n",
       "      <th>location</th>\n",
       "      <th>country</th>\n",
       "      <th>lat</th>\n",
       "      <th>lng</th>\n",
       "      <th>alt</th>\n",
       "      <th>date</th>\n",
       "      <th>target_finish</th>\n",
       "    </tr>\n",
       "  </thead>\n",
       "  <tbody>\n",
       "    <tr>\n",
       "      <th>0</th>\n",
       "      <td>2460</td>\n",
       "      <td>136</td>\n",
       "      <td>2002</td>\n",
       "      <td>13</td>\n",
       "      <td>11</td>\n",
       "      <td>4</td>\n",
       "      <td>3.0</td>\n",
       "      <td>77.0</td>\n",
       "      <td>NaN</td>\n",
       "      <td>NaN</td>\n",
       "      <td>...</td>\n",
       "      <td>hungaroring</td>\n",
       "      <td>11</td>\n",
       "      <td>McLaren</td>\n",
       "      <td>Budapest</td>\n",
       "      <td>Hungary</td>\n",
       "      <td>47.5789</td>\n",
       "      <td>19.248600</td>\n",
       "      <td>264</td>\n",
       "      <td>2002-08-18</td>\n",
       "      <td>1</td>\n",
       "    </tr>\n",
       "    <tr>\n",
       "      <th>1</th>\n",
       "      <td>11565</td>\n",
       "      <td>483</td>\n",
       "      <td>1981</td>\n",
       "      <td>1</td>\n",
       "      <td>23</td>\n",
       "      <td>21</td>\n",
       "      <td>0.0</td>\n",
       "      <td>16.0</td>\n",
       "      <td>NaN</td>\n",
       "      <td>NaN</td>\n",
       "      <td>...</td>\n",
       "      <td>long_beach</td>\n",
       "      <td>43</td>\n",
       "      <td>McLaren</td>\n",
       "      <td>California</td>\n",
       "      <td>USA</td>\n",
       "      <td>33.7651</td>\n",
       "      <td>-118.189000</td>\n",
       "      <td>12</td>\n",
       "      <td>1981-03-15</td>\n",
       "      <td>0</td>\n",
       "    </tr>\n",
       "    <tr>\n",
       "      <th>2</th>\n",
       "      <td>18661</td>\n",
       "      <td>772</td>\n",
       "      <td>1958</td>\n",
       "      <td>8</td>\n",
       "      <td>0</td>\n",
       "      <td>26</td>\n",
       "      <td>0.0</td>\n",
       "      <td>0.0</td>\n",
       "      <td>NaN</td>\n",
       "      <td>NaN</td>\n",
       "      <td>...</td>\n",
       "      <td>nurburgring</td>\n",
       "      <td>20</td>\n",
       "      <td>Maserati</td>\n",
       "      <td>Nürburg</td>\n",
       "      <td>Germany</td>\n",
       "      <td>50.3356</td>\n",
       "      <td>6.947500</td>\n",
       "      <td>578</td>\n",
       "      <td>1958-08-03</td>\n",
       "      <td>0</td>\n",
       "    </tr>\n",
       "    <tr>\n",
       "      <th>3</th>\n",
       "      <td>25121</td>\n",
       "      <td>1058</td>\n",
       "      <td>2021</td>\n",
       "      <td>8</td>\n",
       "      <td>19</td>\n",
       "      <td>16</td>\n",
       "      <td>0.0</td>\n",
       "      <td>69.0</td>\n",
       "      <td>NaN</td>\n",
       "      <td>57</td>\n",
       "      <td>...</td>\n",
       "      <td>red_bull_ring</td>\n",
       "      <td>70</td>\n",
       "      <td>Haas F1 Team</td>\n",
       "      <td>Spielberg</td>\n",
       "      <td>Austria</td>\n",
       "      <td>47.2197</td>\n",
       "      <td>14.764700</td>\n",
       "      <td>678</td>\n",
       "      <td>2021-06-27</td>\n",
       "      <td>0</td>\n",
       "    </tr>\n",
       "    <tr>\n",
       "      <th>4</th>\n",
       "      <td>8863</td>\n",
       "      <td>383</td>\n",
       "      <td>1988</td>\n",
       "      <td>12</td>\n",
       "      <td>0</td>\n",
       "      <td>30</td>\n",
       "      <td>0.0</td>\n",
       "      <td>0.0</td>\n",
       "      <td>NaN</td>\n",
       "      <td>NaN</td>\n",
       "      <td>...</td>\n",
       "      <td>monza</td>\n",
       "      <td>14</td>\n",
       "      <td>Euro Brun</td>\n",
       "      <td>Monza</td>\n",
       "      <td>Italy</td>\n",
       "      <td>45.6156</td>\n",
       "      <td>9.281110</td>\n",
       "      <td>162</td>\n",
       "      <td>1988-09-11</td>\n",
       "      <td>0</td>\n",
       "    </tr>\n",
       "    <tr>\n",
       "      <th>5</th>\n",
       "      <td>24317</td>\n",
       "      <td>1015</td>\n",
       "      <td>2019</td>\n",
       "      <td>6</td>\n",
       "      <td>5</td>\n",
       "      <td>14</td>\n",
       "      <td>0.0</td>\n",
       "      <td>77.0</td>\n",
       "      <td>NaN</td>\n",
       "      <td>61</td>\n",
       "      <td>...</td>\n",
       "      <td>monaco</td>\n",
       "      <td>6</td>\n",
       "      <td>Haas F1 Team</td>\n",
       "      <td>Monte-Carlo</td>\n",
       "      <td>Monaco</td>\n",
       "      <td>43.7347</td>\n",
       "      <td>7.420560</td>\n",
       "      <td>7</td>\n",
       "      <td>2019-05-26</td>\n",
       "      <td>0</td>\n",
       "    </tr>\n",
       "    <tr>\n",
       "      <th>6</th>\n",
       "      <td>14518</td>\n",
       "      <td>589</td>\n",
       "      <td>1975</td>\n",
       "      <td>14</td>\n",
       "      <td>5</td>\n",
       "      <td>18</td>\n",
       "      <td>NaN</td>\n",
       "      <td>9.0</td>\n",
       "      <td>NaN</td>\n",
       "      <td>NaN</td>\n",
       "      <td>...</td>\n",
       "      <td>watkins_glen</td>\n",
       "      <td>46</td>\n",
       "      <td>Parnelli</td>\n",
       "      <td>New York State</td>\n",
       "      <td>USA</td>\n",
       "      <td>42.3369</td>\n",
       "      <td>-76.927200</td>\n",
       "      <td>485</td>\n",
       "      <td>1975-10-05</td>\n",
       "      <td>0</td>\n",
       "    </tr>\n",
       "    <tr>\n",
       "      <th>7</th>\n",
       "      <td>21966</td>\n",
       "      <td>892</td>\n",
       "      <td>2013</td>\n",
       "      <td>12</td>\n",
       "      <td>16</td>\n",
       "      <td>13</td>\n",
       "      <td>NaN</td>\n",
       "      <td>53.0</td>\n",
       "      <td>4754232</td>\n",
       "      <td>53</td>\n",
       "      <td>...</td>\n",
       "      <td>monza</td>\n",
       "      <td>14</td>\n",
       "      <td>Sauber</td>\n",
       "      <td>Monza</td>\n",
       "      <td>Italy</td>\n",
       "      <td>45.6156</td>\n",
       "      <td>9.281110</td>\n",
       "      <td>162</td>\n",
       "      <td>2013-09-08</td>\n",
       "      <td>1</td>\n",
       "    </tr>\n",
       "    <tr>\n",
       "      <th>8</th>\n",
       "      <td>22656</td>\n",
       "      <td>932</td>\n",
       "      <td>2015</td>\n",
       "      <td>7</td>\n",
       "      <td>1</td>\n",
       "      <td>1</td>\n",
       "      <td>25.0</td>\n",
       "      <td>70.0</td>\n",
       "      <td>5513145</td>\n",
       "      <td>64</td>\n",
       "      <td>...</td>\n",
       "      <td>villeneuve</td>\n",
       "      <td>7</td>\n",
       "      <td>Mercedes</td>\n",
       "      <td>Montreal</td>\n",
       "      <td>Canada</td>\n",
       "      <td>45.5000</td>\n",
       "      <td>-73.522800</td>\n",
       "      <td>13</td>\n",
       "      <td>2015-06-07</td>\n",
       "      <td>1</td>\n",
       "    </tr>\n",
       "    <tr>\n",
       "      <th>9</th>\n",
       "      <td>18072</td>\n",
       "      <td>746</td>\n",
       "      <td>1960</td>\n",
       "      <td>1</td>\n",
       "      <td>2</td>\n",
       "      <td>6</td>\n",
       "      <td>1.0</td>\n",
       "      <td>79.0</td>\n",
       "      <td>NaN</td>\n",
       "      <td>NaN</td>\n",
       "      <td>...</td>\n",
       "      <td>galvez</td>\n",
       "      <td>25</td>\n",
       "      <td>Team Lotus</td>\n",
       "      <td>Buenos Aires</td>\n",
       "      <td>Argentina</td>\n",
       "      <td>-34.6943</td>\n",
       "      <td>-58.459300</td>\n",
       "      <td>8</td>\n",
       "      <td>1960-02-07</td>\n",
       "      <td>0</td>\n",
       "    </tr>\n",
       "    <tr>\n",
       "      <th>10</th>\n",
       "      <td>5557</td>\n",
       "      <td>272</td>\n",
       "      <td>1994</td>\n",
       "      <td>16</td>\n",
       "      <td>9</td>\n",
       "      <td>3</td>\n",
       "      <td>4.0</td>\n",
       "      <td>81.0</td>\n",
       "      <td>6523887</td>\n",
       "      <td>NaN</td>\n",
       "      <td>...</td>\n",
       "      <td>adelaide</td>\n",
       "      <td>29</td>\n",
       "      <td>McLaren</td>\n",
       "      <td>Adelaide</td>\n",
       "      <td>Australia</td>\n",
       "      <td>-34.9272</td>\n",
       "      <td>138.617000</td>\n",
       "      <td>58</td>\n",
       "      <td>1994-11-13</td>\n",
       "      <td>1</td>\n",
       "    </tr>\n",
       "    <tr>\n",
       "      <th>11</th>\n",
       "      <td>5100</td>\n",
       "      <td>255</td>\n",
       "      <td>1995</td>\n",
       "      <td>16</td>\n",
       "      <td>15</td>\n",
       "      <td>10</td>\n",
       "      <td>0.0</td>\n",
       "      <td>51.0</td>\n",
       "      <td>NaN</td>\n",
       "      <td>NaN</td>\n",
       "      <td>...</td>\n",
       "      <td>suzuka</td>\n",
       "      <td>22</td>\n",
       "      <td>Sauber</td>\n",
       "      <td>Suzuka</td>\n",
       "      <td>Japan</td>\n",
       "      <td>34.8431</td>\n",
       "      <td>136.541000</td>\n",
       "      <td>45</td>\n",
       "      <td>1995-10-29</td>\n",
       "      <td>0</td>\n",
       "    </tr>\n",
       "    <tr>\n",
       "      <th>12</th>\n",
       "      <td>8485</td>\n",
       "      <td>371</td>\n",
       "      <td>1989</td>\n",
       "      <td>16</td>\n",
       "      <td>0</td>\n",
       "      <td>31</td>\n",
       "      <td>0.0</td>\n",
       "      <td>0.0</td>\n",
       "      <td>NaN</td>\n",
       "      <td>NaN</td>\n",
       "      <td>...</td>\n",
       "      <td>adelaide</td>\n",
       "      <td>29</td>\n",
       "      <td>Onyx</td>\n",
       "      <td>Adelaide</td>\n",
       "      <td>Australia</td>\n",
       "      <td>-34.9272</td>\n",
       "      <td>138.617000</td>\n",
       "      <td>58</td>\n",
       "      <td>1989-11-05</td>\n",
       "      <td>0</td>\n",
       "    </tr>\n",
       "    <tr>\n",
       "      <th>13</th>\n",
       "      <td>6482</td>\n",
       "      <td>305</td>\n",
       "      <td>1991</td>\n",
       "      <td>1</td>\n",
       "      <td>14</td>\n",
       "      <td>10</td>\n",
       "      <td>0.0</td>\n",
       "      <td>75.0</td>\n",
       "      <td>NaN</td>\n",
       "      <td>NaN</td>\n",
       "      <td>...</td>\n",
       "      <td>phoenix</td>\n",
       "      <td>33</td>\n",
       "      <td>Jordan</td>\n",
       "      <td>Phoenix</td>\n",
       "      <td>USA</td>\n",
       "      <td>33.4479</td>\n",
       "      <td>-112.075000</td>\n",
       "      <td>345</td>\n",
       "      <td>1991-03-10</td>\n",
       "      <td>0</td>\n",
       "    </tr>\n",
       "    <tr>\n",
       "      <th>14</th>\n",
       "      <td>21677</td>\n",
       "      <td>878</td>\n",
       "      <td>2012</td>\n",
       "      <td>19</td>\n",
       "      <td>16</td>\n",
       "      <td>14</td>\n",
       "      <td>0.0</td>\n",
       "      <td>55.0</td>\n",
       "      <td>NaN</td>\n",
       "      <td>55</td>\n",
       "      <td>...</td>\n",
       "      <td>americas</td>\n",
       "      <td>69</td>\n",
       "      <td>Sauber</td>\n",
       "      <td>Austin</td>\n",
       "      <td>USA</td>\n",
       "      <td>30.1328</td>\n",
       "      <td>-97.641100</td>\n",
       "      <td>161</td>\n",
       "      <td>2012-11-18</td>\n",
       "      <td>0</td>\n",
       "    </tr>\n",
       "    <tr>\n",
       "      <th>15</th>\n",
       "      <td>8271</td>\n",
       "      <td>366</td>\n",
       "      <td>1989</td>\n",
       "      <td>11</td>\n",
       "      <td>18</td>\n",
       "      <td>11</td>\n",
       "      <td>0.0</td>\n",
       "      <td>NaN</td>\n",
       "      <td>NaN</td>\n",
       "      <td>NaN</td>\n",
       "      <td>...</td>\n",
       "      <td>spa</td>\n",
       "      <td>13</td>\n",
       "      <td>Dallara</td>\n",
       "      <td>Spa</td>\n",
       "      <td>Belgium</td>\n",
       "      <td>50.4372</td>\n",
       "      <td>5.971390</td>\n",
       "      <td>401</td>\n",
       "      <td>1989-08-27</td>\n",
       "      <td>0</td>\n",
       "    </tr>\n",
       "    <tr>\n",
       "      <th>16</th>\n",
       "      <td>11050</td>\n",
       "      <td>465</td>\n",
       "      <td>1983</td>\n",
       "      <td>14</td>\n",
       "      <td>22</td>\n",
       "      <td>26</td>\n",
       "      <td>0.0</td>\n",
       "      <td>0.0</td>\n",
       "      <td>NaN</td>\n",
       "      <td>NaN</td>\n",
       "      <td>...</td>\n",
       "      <td>brands_hatch</td>\n",
       "      <td>38</td>\n",
       "      <td>Ligier</td>\n",
       "      <td>Kent</td>\n",
       "      <td>UK</td>\n",
       "      <td>51.3569</td>\n",
       "      <td>0.263056</td>\n",
       "      <td>145</td>\n",
       "      <td>1983-09-25</td>\n",
       "      <td>0</td>\n",
       "    </tr>\n",
       "    <tr>\n",
       "      <th>17</th>\n",
       "      <td>26465</td>\n",
       "      <td>1130</td>\n",
       "      <td>2024</td>\n",
       "      <td>10</td>\n",
       "      <td>2</td>\n",
       "      <td>1</td>\n",
       "      <td>25.0</td>\n",
       "      <td>66.0</td>\n",
       "      <td>5300227</td>\n",
       "      <td>54</td>\n",
       "      <td>...</td>\n",
       "      <td>catalunya</td>\n",
       "      <td>4</td>\n",
       "      <td>Red Bull</td>\n",
       "      <td>Montmeló</td>\n",
       "      <td>Spain</td>\n",
       "      <td>41.5700</td>\n",
       "      <td>2.261110</td>\n",
       "      <td>109</td>\n",
       "      <td>2024-06-23</td>\n",
       "      <td>1</td>\n",
       "    </tr>\n",
       "    <tr>\n",
       "      <th>18</th>\n",
       "      <td>14775</td>\n",
       "      <td>599</td>\n",
       "      <td>1974</td>\n",
       "      <td>10</td>\n",
       "      <td>12</td>\n",
       "      <td>3</td>\n",
       "      <td>4.0</td>\n",
       "      <td>75.0</td>\n",
       "      <td>6243700</td>\n",
       "      <td>NaN</td>\n",
       "      <td>...</td>\n",
       "      <td>brands_hatch</td>\n",
       "      <td>38</td>\n",
       "      <td>Team Lotus</td>\n",
       "      <td>Kent</td>\n",
       "      <td>UK</td>\n",
       "      <td>51.3569</td>\n",
       "      <td>0.263056</td>\n",
       "      <td>145</td>\n",
       "      <td>1974-07-20</td>\n",
       "      <td>1</td>\n",
       "    </tr>\n",
       "    <tr>\n",
       "      <th>19</th>\n",
       "      <td>20610</td>\n",
       "      <td>348</td>\n",
       "      <td>2010</td>\n",
       "      <td>12</td>\n",
       "      <td>17</td>\n",
       "      <td>24</td>\n",
       "      <td>0.0</td>\n",
       "      <td>NaN</td>\n",
       "      <td>NaN</td>\n",
       "      <td>NaN</td>\n",
       "      <td>...</td>\n",
       "      <td>hungaroring</td>\n",
       "      <td>11</td>\n",
       "      <td>Toro Rosso</td>\n",
       "      <td>Budapest</td>\n",
       "      <td>Hungary</td>\n",
       "      <td>47.5789</td>\n",
       "      <td>19.248600</td>\n",
       "      <td>264</td>\n",
       "      <td>2010-08-01</td>\n",
       "      <td>0</td>\n",
       "    </tr>\n",
       "  </tbody>\n",
       "</table>\n",
       "<p>20 rows × 31 columns</p>\n",
       "</div>"
      ],
      "text/plain": [
       "    resultId  raceId  year  round  grid  positionOrder  points  laps  \\\n",
       "0       2460     136  2002     13    11              4     3.0  77.0   \n",
       "1      11565     483  1981      1    23             21     0.0  16.0   \n",
       "2      18661     772  1958      8     0             26     0.0   0.0   \n",
       "3      25121    1058  2021      8    19             16     0.0  69.0   \n",
       "4       8863     383  1988     12     0             30     0.0   0.0   \n",
       "5      24317    1015  2019      6     5             14     0.0  77.0   \n",
       "6      14518     589  1975     14     5             18     NaN   9.0   \n",
       "7      21966     892  2013     12    16             13     NaN  53.0   \n",
       "8      22656     932  2015      7     1              1    25.0  70.0   \n",
       "9      18072     746  1960      1     2              6     1.0  79.0   \n",
       "10      5557     272  1994     16     9              3     4.0  81.0   \n",
       "11      5100     255  1995     16    15             10     0.0  51.0   \n",
       "12      8485     371  1989     16     0             31     0.0   0.0   \n",
       "13      6482     305  1991      1    14             10     0.0  75.0   \n",
       "14     21677     878  2012     19    16             14     0.0  55.0   \n",
       "15      8271     366  1989     11    18             11     0.0   NaN   \n",
       "16     11050     465  1983     14    22             26     0.0   0.0   \n",
       "17     26465    1130  2024     10     2              1    25.0  66.0   \n",
       "18     14775     599  1974     10    12              3     4.0  75.0   \n",
       "19     20610     348  2010     12    17             24     0.0   NaN   \n",
       "\n",
       "   milliseconds fastestLap  ...     circuitRef circuitId        name_y  \\\n",
       "0           NaN        NaN  ...    hungaroring        11       McLaren   \n",
       "1           NaN        NaN  ...     long_beach        43       McLaren   \n",
       "2           NaN        NaN  ...    nurburgring        20      Maserati   \n",
       "3           NaN         57  ...  red_bull_ring        70  Haas F1 Team   \n",
       "4           NaN        NaN  ...          monza        14     Euro Brun   \n",
       "5           NaN         61  ...         monaco         6  Haas F1 Team   \n",
       "6           NaN        NaN  ...   watkins_glen        46      Parnelli   \n",
       "7       4754232         53  ...          monza        14        Sauber   \n",
       "8       5513145         64  ...     villeneuve         7      Mercedes   \n",
       "9           NaN        NaN  ...         galvez        25    Team Lotus   \n",
       "10      6523887        NaN  ...       adelaide        29       McLaren   \n",
       "11          NaN        NaN  ...         suzuka        22        Sauber   \n",
       "12          NaN        NaN  ...       adelaide        29          Onyx   \n",
       "13          NaN        NaN  ...        phoenix        33        Jordan   \n",
       "14          NaN         55  ...       americas        69        Sauber   \n",
       "15          NaN        NaN  ...            spa        13       Dallara   \n",
       "16          NaN        NaN  ...   brands_hatch        38        Ligier   \n",
       "17      5300227         54  ...      catalunya         4      Red Bull   \n",
       "18      6243700        NaN  ...   brands_hatch        38    Team Lotus   \n",
       "19          NaN        NaN  ...    hungaroring        11    Toro Rosso   \n",
       "\n",
       "          location    country      lat         lng  alt        date  \\\n",
       "0         Budapest    Hungary  47.5789   19.248600  264  2002-08-18   \n",
       "1       California        USA  33.7651 -118.189000   12  1981-03-15   \n",
       "2          Nürburg    Germany  50.3356    6.947500  578  1958-08-03   \n",
       "3        Spielberg    Austria  47.2197   14.764700  678  2021-06-27   \n",
       "4            Monza      Italy  45.6156    9.281110  162  1988-09-11   \n",
       "5      Monte-Carlo     Monaco  43.7347    7.420560    7  2019-05-26   \n",
       "6   New York State        USA  42.3369  -76.927200  485  1975-10-05   \n",
       "7            Monza      Italy  45.6156    9.281110  162  2013-09-08   \n",
       "8         Montreal     Canada  45.5000  -73.522800   13  2015-06-07   \n",
       "9     Buenos Aires  Argentina -34.6943  -58.459300    8  1960-02-07   \n",
       "10        Adelaide  Australia -34.9272  138.617000   58  1994-11-13   \n",
       "11          Suzuka      Japan  34.8431  136.541000   45  1995-10-29   \n",
       "12        Adelaide  Australia -34.9272  138.617000   58  1989-11-05   \n",
       "13         Phoenix        USA  33.4479 -112.075000  345  1991-03-10   \n",
       "14          Austin        USA  30.1328  -97.641100  161  2012-11-18   \n",
       "15             Spa    Belgium  50.4372    5.971390  401  1989-08-27   \n",
       "16            Kent         UK  51.3569    0.263056  145  1983-09-25   \n",
       "17        Montmeló      Spain  41.5700    2.261110  109  2024-06-23   \n",
       "18            Kent         UK  51.3569    0.263056  145  1974-07-20   \n",
       "19        Budapest    Hungary  47.5789   19.248600  264  2010-08-01   \n",
       "\n",
       "   target_finish  \n",
       "0              1  \n",
       "1              0  \n",
       "2              0  \n",
       "3              0  \n",
       "4              0  \n",
       "5              0  \n",
       "6              0  \n",
       "7              1  \n",
       "8              1  \n",
       "9              0  \n",
       "10             1  \n",
       "11             0  \n",
       "12             0  \n",
       "13             0  \n",
       "14             0  \n",
       "15             0  \n",
       "16             0  \n",
       "17             1  \n",
       "18             1  \n",
       "19             0  \n",
       "\n",
       "[20 rows x 31 columns]"
      ]
     },
     "execution_count": 9,
     "metadata": {},
     "output_type": "execute_result"
    }
   ],
   "source": [
    "df.head(20)"
   ]
  },
  {
   "cell_type": "code",
   "execution_count": 10,
   "id": "162286b4",
   "metadata": {},
   "outputs": [
    {
     "name": "stdout",
     "output_type": "stream",
     "text": [
      "<class 'pandas.core.frame.DataFrame'>\n",
      "RangeIndex: 10000 entries, 0 to 9999\n",
      "Data columns (total 31 columns):\n",
      " #   Column           Non-Null Count  Dtype  \n",
      "---  ------           --------------  -----  \n",
      " 0   resultId         10000 non-null  int64  \n",
      " 1   raceId           10000 non-null  int64  \n",
      " 2   year             10000 non-null  int64  \n",
      " 3   round            10000 non-null  int64  \n",
      " 4   grid             10000 non-null  int64  \n",
      " 5   positionOrder    10000 non-null  int64  \n",
      " 6   points           9029 non-null   float64\n",
      " 7   laps             9022 non-null   float64\n",
      " 8   milliseconds     2607 non-null   object \n",
      " 9   fastestLap       3105 non-null   object \n",
      " 10  rank             3202 non-null   object \n",
      " 11  fastestLapTime   3105 non-null   object \n",
      " 12  fastestLapSpeed  2809 non-null   object \n",
      " 13  driverRef        10000 non-null  object \n",
      " 14  surname          10000 non-null  object \n",
      " 15  forename         10000 non-null  object \n",
      " 16  dob              10000 non-null  object \n",
      " 17  nationality_x    10000 non-null  object \n",
      " 18  constructorRef   10000 non-null  object \n",
      " 19  name             10000 non-null  object \n",
      " 20  nationality_y    10000 non-null  object \n",
      " 21  circuitRef       10000 non-null  object \n",
      " 22  circuitId        10000 non-null  int64  \n",
      " 23  name_y           10000 non-null  object \n",
      " 24  location         10000 non-null  object \n",
      " 25  country          10000 non-null  object \n",
      " 26  lat              10000 non-null  float64\n",
      " 27  lng              10000 non-null  float64\n",
      " 28  alt              10000 non-null  int64  \n",
      " 29  date             10000 non-null  object \n",
      " 30  target_finish    10000 non-null  int64  \n",
      "dtypes: float64(4), int64(9), object(18)\n",
      "memory usage: 2.4+ MB\n"
     ]
    }
   ],
   "source": [
    "df.info()"
   ]
  },
  {
   "cell_type": "markdown",
   "id": "07c2cce3",
   "metadata": {},
   "source": [
    "##### i will be dropping all the ids as it is not really going to help me with the model \n",
    "##### i will remove the date as well as it kind of coincides with the race id \n",
    "##### i will not remove the circuit id as that we will use later on training our model "
   ]
  },
  {
   "cell_type": "code",
   "execution_count": 11,
   "id": "f8ac5cb6",
   "metadata": {},
   "outputs": [],
   "source": [
    "df.drop('resultId', axis=1, inplace=True)\n",
    "df.drop('raceId', axis=1, inplace=True)\n"
   ]
  },
  {
   "cell_type": "code",
   "execution_count": 12,
   "id": "255f8ed5",
   "metadata": {},
   "outputs": [
    {
     "name": "stdout",
     "output_type": "stream",
     "text": [
      "<class 'pandas.core.frame.DataFrame'>\n",
      "RangeIndex: 10000 entries, 0 to 9999\n",
      "Data columns (total 29 columns):\n",
      " #   Column           Non-Null Count  Dtype  \n",
      "---  ------           --------------  -----  \n",
      " 0   year             10000 non-null  int64  \n",
      " 1   round            10000 non-null  int64  \n",
      " 2   grid             10000 non-null  int64  \n",
      " 3   positionOrder    10000 non-null  int64  \n",
      " 4   points           9029 non-null   float64\n",
      " 5   laps             9022 non-null   float64\n",
      " 6   milliseconds     2607 non-null   object \n",
      " 7   fastestLap       3105 non-null   object \n",
      " 8   rank             3202 non-null   object \n",
      " 9   fastestLapTime   3105 non-null   object \n",
      " 10  fastestLapSpeed  2809 non-null   object \n",
      " 11  driverRef        10000 non-null  object \n",
      " 12  surname          10000 non-null  object \n",
      " 13  forename         10000 non-null  object \n",
      " 14  dob              10000 non-null  object \n",
      " 15  nationality_x    10000 non-null  object \n",
      " 16  constructorRef   10000 non-null  object \n",
      " 17  name             10000 non-null  object \n",
      " 18  nationality_y    10000 non-null  object \n",
      " 19  circuitRef       10000 non-null  object \n",
      " 20  circuitId        10000 non-null  int64  \n",
      " 21  name_y           10000 non-null  object \n",
      " 22  location         10000 non-null  object \n",
      " 23  country          10000 non-null  object \n",
      " 24  lat              10000 non-null  float64\n",
      " 25  lng              10000 non-null  float64\n",
      " 26  alt              10000 non-null  int64  \n",
      " 27  date             10000 non-null  object \n",
      " 28  target_finish    10000 non-null  int64  \n",
      "dtypes: float64(4), int64(7), object(18)\n",
      "memory usage: 2.2+ MB\n"
     ]
    }
   ],
   "source": [
    "df.info()"
   ]
  },
  {
   "cell_type": "code",
   "execution_count": 13,
   "id": "c7b2040d",
   "metadata": {},
   "outputs": [
    {
     "name": "stdout",
     "output_type": "stream",
     "text": [
      "                   year     round      grid  positionOrder    points  \\\n",
      "year           1.000000  0.342627 -0.021325      -0.090208  0.284305   \n",
      "round          0.342627  1.000000 -0.002563      -0.024177  0.093013   \n",
      "grid          -0.021325 -0.002563  1.000000       0.197906 -0.393246   \n",
      "positionOrder -0.090208 -0.024177  0.197906       1.000000 -0.576755   \n",
      "points         0.284305  0.093013 -0.393246      -0.576755  1.000000   \n",
      "laps           0.042752 -0.037003  0.061044      -0.642215  0.239722   \n",
      "circuitId     -0.177332  0.133864 -0.006118      -0.011595  0.017110   \n",
      "lat           -0.119017  0.149834 -0.004612       0.014915 -0.025211   \n",
      "lng            0.259924  0.099829 -0.007782      -0.044034  0.067339   \n",
      "alt           -0.103103  0.029210  0.001049       0.017492 -0.026886   \n",
      "target_finish  0.276936  0.123115 -0.344964      -0.632000  0.632333   \n",
      "\n",
      "                   laps  circuitId       lat       lng       alt  \\\n",
      "year           0.042752  -0.177332 -0.119017  0.259924 -0.103103   \n",
      "round         -0.037003   0.133864  0.149834  0.099829  0.029210   \n",
      "grid           0.061044  -0.006118 -0.004612 -0.007782  0.001049   \n",
      "positionOrder -0.642215  -0.011595  0.014915 -0.044034  0.017492   \n",
      "points         0.239722   0.017110 -0.025211  0.067339 -0.026886   \n",
      "laps           1.000000  -0.004619 -0.027742 -0.110759 -0.018141   \n",
      "circuitId     -0.004619   1.000000  0.050035 -0.189302  0.221928   \n",
      "lat           -0.027742   0.050035  1.000000 -0.179311 -0.273044   \n",
      "lng           -0.110759  -0.189302 -0.179311  1.000000 -0.314786   \n",
      "alt           -0.018141   0.221928 -0.273044 -0.314786  1.000000   \n",
      "target_finish  0.339728  -0.023277 -0.023301  0.090647 -0.043222   \n",
      "\n",
      "               target_finish  \n",
      "year                0.276936  \n",
      "round               0.123115  \n",
      "grid               -0.344964  \n",
      "positionOrder      -0.632000  \n",
      "points              0.632333  \n",
      "laps                0.339728  \n",
      "circuitId          -0.023277  \n",
      "lat                -0.023301  \n",
      "lng                 0.090647  \n",
      "alt                -0.043222  \n",
      "target_finish       1.000000  \n"
     ]
    }
   ],
   "source": [
    "corr = df.corr(numeric_only=True)\n",
    "print(corr)\n",
    "\n"
   ]
  },
  {
   "cell_type": "code",
   "execution_count": 14,
   "id": "efa48a05",
   "metadata": {},
   "outputs": [
    {
     "data": {
      "application/vnd.plotly.v1+json": {
       "config": {
        "plotlyServerURL": "https://plot.ly"
       },
       "data": [
        {
         "coloraxis": "coloraxis",
         "hovertemplate": "x: %{x}<br>y: %{y}<br>color: %{z}<extra></extra>",
         "name": "0",
         "texttemplate": "%{z}",
         "type": "heatmap",
         "x": [
          "year",
          "round",
          "grid",
          "positionOrder",
          "points",
          "laps",
          "circuitId",
          "lat",
          "lng",
          "alt",
          "target_finish"
         ],
         "xaxis": "x",
         "y": [
          "year",
          "round",
          "grid",
          "positionOrder",
          "points",
          "laps",
          "circuitId",
          "lat",
          "lng",
          "alt",
          "target_finish"
         ],
         "yaxis": "y",
         "z": {
          "bdata": "AAAAAAAA8D8cIUm2mu3VP0qExuFH1pW/UEAvaecXt79sC/sLDjLSP9v7OyOb46U/TnM2j86yxr/tTBLK4ne+v/AxB+OZotA/rUtxA/xkur80QEe7UrnRPxwhSbaa7dU/AAAAAAAA8D/1EVxst/5kvz7LEtPrwZi/ItYC/rDPtz8NcQUGEvKivxBNHvV2IsE/fXK8CMAtwz93rnVnZ465P0PJ1bxH6Z0/IpPnNXeEvz9KhMbhR9aVv/URXGy3/mS/AAAAAAAA8D9qFFf+/FTJPw4oItbvKtm/2qFO8zJBrz+gkaU5DQ95vycrJUPV43K/e8oxnLTff78mm3Ul2S5RPx6SRaLiE9a/UEAvaecXt78+yxLT68GYv2oUV/78VMk/AAAAAAAA8D929X45x3Tiv/1Hd5wGjeS/+6v7WOK+h799yItfsYuOPyp4OJSZi6a/XXJ9N3npkT8W/IYAWTnkv2wL+wsOMtI/ItYC/rDPtz8OKCLW7yrZv3b1fjnHdOK/AAAAAAAA8D+eiV+cNq/OPykc8R1BhZE/e+iWq9bQmb+eTqimJD2xP04+oLMLiJu/B4XathE85D/b+zsjm+OlPw1xBQYS8qK/2qFO8zJBrz/9R3ecBo3kv56JX5w2r84/AAAAAAAA8D/bGWvp2utyvxbgTttUaJy/eEowmbNavL/o3Dd6h5OSv4QoWIQbvtU/TnM2j86yxr8QTR71diLBP6CRpTkND3m/+6v7WOK+h78pHPEdQYWRP9sZa+na63K/AAAAAAAA8D/CaJRcKJ6pPx37sU0PO8i/9qNxPiZozD9qETNSBdaXv+1MEsrid76/fXK8CMAtwz8nKyVD1eNyv33Ii1+xi44/e+iWq9bQmb8W4E7bVGicv8JolFwonqk/AAAAAAAA8D+uSrELrfPGv4xvOv6NedG/HsrNEzLcl7/wMQfjmaLQP3eudWdnjrk/e8oxnLTff78qeDiUmYumv55OqKYkPbE/eEowmbNavL8d+7FNDzvIv65KsQut88a/AAAAAAAA8D+rwdXDdCXUvwEWp7GhNLc/rUtxA/xkur9DydW8R+mdPyabdSXZLlE/XXJ9N3npkT9OPqCzC4ibv+jcN3qHk5K/9qNxPiZozD+Mbzr+jXnRv6vB1cN0JdS/AAAAAAAA8D9jRmNyPCGmvzRAR7tSudE/IpPnNXeEvz8ekkWi4hPWvxb8hgBZOeS/B4XathE85D+EKFiEG77VP2oRM1IF1pe/HsrNEzLcl78BFqexoTS3P2NGY3I8Iaa/AAAAAAAA8D8=",
          "dtype": "f8",
          "shape": "11, 11"
         }
        }
       ],
       "layout": {
        "coloraxis": {
         "colorscale": [
          [
           0,
           "#0d0887"
          ],
          [
           0.1111111111111111,
           "#46039f"
          ],
          [
           0.2222222222222222,
           "#7201a8"
          ],
          [
           0.3333333333333333,
           "#9c179e"
          ],
          [
           0.4444444444444444,
           "#bd3786"
          ],
          [
           0.5555555555555556,
           "#d8576b"
          ],
          [
           0.6666666666666666,
           "#ed7953"
          ],
          [
           0.7777777777777778,
           "#fb9f3a"
          ],
          [
           0.8888888888888888,
           "#fdca26"
          ],
          [
           1,
           "#f0f921"
          ]
         ]
        },
        "margin": {
         "t": 60
        },
        "template": {
         "data": {
          "bar": [
           {
            "error_x": {
             "color": "#2a3f5f"
            },
            "error_y": {
             "color": "#2a3f5f"
            },
            "marker": {
             "line": {
              "color": "#E5ECF6",
              "width": 0.5
             },
             "pattern": {
              "fillmode": "overlay",
              "size": 10,
              "solidity": 0.2
             }
            },
            "type": "bar"
           }
          ],
          "barpolar": [
           {
            "marker": {
             "line": {
              "color": "#E5ECF6",
              "width": 0.5
             },
             "pattern": {
              "fillmode": "overlay",
              "size": 10,
              "solidity": 0.2
             }
            },
            "type": "barpolar"
           }
          ],
          "carpet": [
           {
            "aaxis": {
             "endlinecolor": "#2a3f5f",
             "gridcolor": "white",
             "linecolor": "white",
             "minorgridcolor": "white",
             "startlinecolor": "#2a3f5f"
            },
            "baxis": {
             "endlinecolor": "#2a3f5f",
             "gridcolor": "white",
             "linecolor": "white",
             "minorgridcolor": "white",
             "startlinecolor": "#2a3f5f"
            },
            "type": "carpet"
           }
          ],
          "choropleth": [
           {
            "colorbar": {
             "outlinewidth": 0,
             "ticks": ""
            },
            "type": "choropleth"
           }
          ],
          "contour": [
           {
            "colorbar": {
             "outlinewidth": 0,
             "ticks": ""
            },
            "colorscale": [
             [
              0,
              "#0d0887"
             ],
             [
              0.1111111111111111,
              "#46039f"
             ],
             [
              0.2222222222222222,
              "#7201a8"
             ],
             [
              0.3333333333333333,
              "#9c179e"
             ],
             [
              0.4444444444444444,
              "#bd3786"
             ],
             [
              0.5555555555555556,
              "#d8576b"
             ],
             [
              0.6666666666666666,
              "#ed7953"
             ],
             [
              0.7777777777777778,
              "#fb9f3a"
             ],
             [
              0.8888888888888888,
              "#fdca26"
             ],
             [
              1,
              "#f0f921"
             ]
            ],
            "type": "contour"
           }
          ],
          "contourcarpet": [
           {
            "colorbar": {
             "outlinewidth": 0,
             "ticks": ""
            },
            "type": "contourcarpet"
           }
          ],
          "heatmap": [
           {
            "colorbar": {
             "outlinewidth": 0,
             "ticks": ""
            },
            "colorscale": [
             [
              0,
              "#0d0887"
             ],
             [
              0.1111111111111111,
              "#46039f"
             ],
             [
              0.2222222222222222,
              "#7201a8"
             ],
             [
              0.3333333333333333,
              "#9c179e"
             ],
             [
              0.4444444444444444,
              "#bd3786"
             ],
             [
              0.5555555555555556,
              "#d8576b"
             ],
             [
              0.6666666666666666,
              "#ed7953"
             ],
             [
              0.7777777777777778,
              "#fb9f3a"
             ],
             [
              0.8888888888888888,
              "#fdca26"
             ],
             [
              1,
              "#f0f921"
             ]
            ],
            "type": "heatmap"
           }
          ],
          "histogram": [
           {
            "marker": {
             "pattern": {
              "fillmode": "overlay",
              "size": 10,
              "solidity": 0.2
             }
            },
            "type": "histogram"
           }
          ],
          "histogram2d": [
           {
            "colorbar": {
             "outlinewidth": 0,
             "ticks": ""
            },
            "colorscale": [
             [
              0,
              "#0d0887"
             ],
             [
              0.1111111111111111,
              "#46039f"
             ],
             [
              0.2222222222222222,
              "#7201a8"
             ],
             [
              0.3333333333333333,
              "#9c179e"
             ],
             [
              0.4444444444444444,
              "#bd3786"
             ],
             [
              0.5555555555555556,
              "#d8576b"
             ],
             [
              0.6666666666666666,
              "#ed7953"
             ],
             [
              0.7777777777777778,
              "#fb9f3a"
             ],
             [
              0.8888888888888888,
              "#fdca26"
             ],
             [
              1,
              "#f0f921"
             ]
            ],
            "type": "histogram2d"
           }
          ],
          "histogram2dcontour": [
           {
            "colorbar": {
             "outlinewidth": 0,
             "ticks": ""
            },
            "colorscale": [
             [
              0,
              "#0d0887"
             ],
             [
              0.1111111111111111,
              "#46039f"
             ],
             [
              0.2222222222222222,
              "#7201a8"
             ],
             [
              0.3333333333333333,
              "#9c179e"
             ],
             [
              0.4444444444444444,
              "#bd3786"
             ],
             [
              0.5555555555555556,
              "#d8576b"
             ],
             [
              0.6666666666666666,
              "#ed7953"
             ],
             [
              0.7777777777777778,
              "#fb9f3a"
             ],
             [
              0.8888888888888888,
              "#fdca26"
             ],
             [
              1,
              "#f0f921"
             ]
            ],
            "type": "histogram2dcontour"
           }
          ],
          "mesh3d": [
           {
            "colorbar": {
             "outlinewidth": 0,
             "ticks": ""
            },
            "type": "mesh3d"
           }
          ],
          "parcoords": [
           {
            "line": {
             "colorbar": {
              "outlinewidth": 0,
              "ticks": ""
             }
            },
            "type": "parcoords"
           }
          ],
          "pie": [
           {
            "automargin": true,
            "type": "pie"
           }
          ],
          "scatter": [
           {
            "fillpattern": {
             "fillmode": "overlay",
             "size": 10,
             "solidity": 0.2
            },
            "type": "scatter"
           }
          ],
          "scatter3d": [
           {
            "line": {
             "colorbar": {
              "outlinewidth": 0,
              "ticks": ""
             }
            },
            "marker": {
             "colorbar": {
              "outlinewidth": 0,
              "ticks": ""
             }
            },
            "type": "scatter3d"
           }
          ],
          "scattercarpet": [
           {
            "marker": {
             "colorbar": {
              "outlinewidth": 0,
              "ticks": ""
             }
            },
            "type": "scattercarpet"
           }
          ],
          "scattergeo": [
           {
            "marker": {
             "colorbar": {
              "outlinewidth": 0,
              "ticks": ""
             }
            },
            "type": "scattergeo"
           }
          ],
          "scattergl": [
           {
            "marker": {
             "colorbar": {
              "outlinewidth": 0,
              "ticks": ""
             }
            },
            "type": "scattergl"
           }
          ],
          "scattermap": [
           {
            "marker": {
             "colorbar": {
              "outlinewidth": 0,
              "ticks": ""
             }
            },
            "type": "scattermap"
           }
          ],
          "scattermapbox": [
           {
            "marker": {
             "colorbar": {
              "outlinewidth": 0,
              "ticks": ""
             }
            },
            "type": "scattermapbox"
           }
          ],
          "scatterpolar": [
           {
            "marker": {
             "colorbar": {
              "outlinewidth": 0,
              "ticks": ""
             }
            },
            "type": "scatterpolar"
           }
          ],
          "scatterpolargl": [
           {
            "marker": {
             "colorbar": {
              "outlinewidth": 0,
              "ticks": ""
             }
            },
            "type": "scatterpolargl"
           }
          ],
          "scatterternary": [
           {
            "marker": {
             "colorbar": {
              "outlinewidth": 0,
              "ticks": ""
             }
            },
            "type": "scatterternary"
           }
          ],
          "surface": [
           {
            "colorbar": {
             "outlinewidth": 0,
             "ticks": ""
            },
            "colorscale": [
             [
              0,
              "#0d0887"
             ],
             [
              0.1111111111111111,
              "#46039f"
             ],
             [
              0.2222222222222222,
              "#7201a8"
             ],
             [
              0.3333333333333333,
              "#9c179e"
             ],
             [
              0.4444444444444444,
              "#bd3786"
             ],
             [
              0.5555555555555556,
              "#d8576b"
             ],
             [
              0.6666666666666666,
              "#ed7953"
             ],
             [
              0.7777777777777778,
              "#fb9f3a"
             ],
             [
              0.8888888888888888,
              "#fdca26"
             ],
             [
              1,
              "#f0f921"
             ]
            ],
            "type": "surface"
           }
          ],
          "table": [
           {
            "cells": {
             "fill": {
              "color": "#EBF0F8"
             },
             "line": {
              "color": "white"
             }
            },
            "header": {
             "fill": {
              "color": "#C8D4E3"
             },
             "line": {
              "color": "white"
             }
            },
            "type": "table"
           }
          ]
         },
         "layout": {
          "annotationdefaults": {
           "arrowcolor": "#2a3f5f",
           "arrowhead": 0,
           "arrowwidth": 1
          },
          "autotypenumbers": "strict",
          "coloraxis": {
           "colorbar": {
            "outlinewidth": 0,
            "ticks": ""
           }
          },
          "colorscale": {
           "diverging": [
            [
             0,
             "#8e0152"
            ],
            [
             0.1,
             "#c51b7d"
            ],
            [
             0.2,
             "#de77ae"
            ],
            [
             0.3,
             "#f1b6da"
            ],
            [
             0.4,
             "#fde0ef"
            ],
            [
             0.5,
             "#f7f7f7"
            ],
            [
             0.6,
             "#e6f5d0"
            ],
            [
             0.7,
             "#b8e186"
            ],
            [
             0.8,
             "#7fbc41"
            ],
            [
             0.9,
             "#4d9221"
            ],
            [
             1,
             "#276419"
            ]
           ],
           "sequential": [
            [
             0,
             "#0d0887"
            ],
            [
             0.1111111111111111,
             "#46039f"
            ],
            [
             0.2222222222222222,
             "#7201a8"
            ],
            [
             0.3333333333333333,
             "#9c179e"
            ],
            [
             0.4444444444444444,
             "#bd3786"
            ],
            [
             0.5555555555555556,
             "#d8576b"
            ],
            [
             0.6666666666666666,
             "#ed7953"
            ],
            [
             0.7777777777777778,
             "#fb9f3a"
            ],
            [
             0.8888888888888888,
             "#fdca26"
            ],
            [
             1,
             "#f0f921"
            ]
           ],
           "sequentialminus": [
            [
             0,
             "#0d0887"
            ],
            [
             0.1111111111111111,
             "#46039f"
            ],
            [
             0.2222222222222222,
             "#7201a8"
            ],
            [
             0.3333333333333333,
             "#9c179e"
            ],
            [
             0.4444444444444444,
             "#bd3786"
            ],
            [
             0.5555555555555556,
             "#d8576b"
            ],
            [
             0.6666666666666666,
             "#ed7953"
            ],
            [
             0.7777777777777778,
             "#fb9f3a"
            ],
            [
             0.8888888888888888,
             "#fdca26"
            ],
            [
             1,
             "#f0f921"
            ]
           ]
          },
          "colorway": [
           "#636efa",
           "#EF553B",
           "#00cc96",
           "#ab63fa",
           "#FFA15A",
           "#19d3f3",
           "#FF6692",
           "#B6E880",
           "#FF97FF",
           "#FECB52"
          ],
          "font": {
           "color": "#2a3f5f"
          },
          "geo": {
           "bgcolor": "white",
           "lakecolor": "white",
           "landcolor": "#E5ECF6",
           "showlakes": true,
           "showland": true,
           "subunitcolor": "white"
          },
          "hoverlabel": {
           "align": "left"
          },
          "hovermode": "closest",
          "mapbox": {
           "style": "light"
          },
          "paper_bgcolor": "white",
          "plot_bgcolor": "#E5ECF6",
          "polar": {
           "angularaxis": {
            "gridcolor": "white",
            "linecolor": "white",
            "ticks": ""
           },
           "bgcolor": "#E5ECF6",
           "radialaxis": {
            "gridcolor": "white",
            "linecolor": "white",
            "ticks": ""
           }
          },
          "scene": {
           "xaxis": {
            "backgroundcolor": "#E5ECF6",
            "gridcolor": "white",
            "gridwidth": 2,
            "linecolor": "white",
            "showbackground": true,
            "ticks": "",
            "zerolinecolor": "white"
           },
           "yaxis": {
            "backgroundcolor": "#E5ECF6",
            "gridcolor": "white",
            "gridwidth": 2,
            "linecolor": "white",
            "showbackground": true,
            "ticks": "",
            "zerolinecolor": "white"
           },
           "zaxis": {
            "backgroundcolor": "#E5ECF6",
            "gridcolor": "white",
            "gridwidth": 2,
            "linecolor": "white",
            "showbackground": true,
            "ticks": "",
            "zerolinecolor": "white"
           }
          },
          "shapedefaults": {
           "line": {
            "color": "#2a3f5f"
           }
          },
          "ternary": {
           "aaxis": {
            "gridcolor": "white",
            "linecolor": "white",
            "ticks": ""
           },
           "baxis": {
            "gridcolor": "white",
            "linecolor": "white",
            "ticks": ""
           },
           "bgcolor": "#E5ECF6",
           "caxis": {
            "gridcolor": "white",
            "linecolor": "white",
            "ticks": ""
           }
          },
          "title": {
           "x": 0.05
          },
          "xaxis": {
           "automargin": true,
           "gridcolor": "white",
           "linecolor": "white",
           "ticks": "",
           "title": {
            "standoff": 15
           },
           "zerolinecolor": "white",
           "zerolinewidth": 2
          },
          "yaxis": {
           "automargin": true,
           "gridcolor": "white",
           "linecolor": "white",
           "ticks": "",
           "title": {
            "standoff": 15
           },
           "zerolinecolor": "white",
           "zerolinewidth": 2
          }
         }
        },
        "xaxis": {
         "anchor": "y",
         "constrain": "domain",
         "domain": [
          0,
          1
         ],
         "scaleanchor": "y"
        },
        "yaxis": {
         "anchor": "x",
         "autorange": "reversed",
         "constrain": "domain",
         "domain": [
          0,
          1
         ]
        }
       }
      }
     },
     "metadata": {},
     "output_type": "display_data"
    }
   ],
   "source": [
    "fig = px.imshow(corr, text_auto=True)\n",
    "fig.show()"
   ]
  },
  {
   "cell_type": "markdown",
   "id": "9dc4073e",
   "metadata": {},
   "source": [
    "##### Here we can see a positive corr between points and our target column, and a negative correlation between postition order and our target column\n",
    "\n",
    "##### so its basically saying that there is a higher chance of you finishing if you have higher points, lower finishing positions (1st, 2nd, 3rd) are strongly associated with target_finish = 1, which are both intuitive. "
   ]
  },
  {
   "cell_type": "code",
   "execution_count": 15,
   "id": "b95cb66a",
   "metadata": {},
   "outputs": [
    {
     "data": {
      "application/vnd.plotly.v1+json": {
       "config": {
        "plotlyServerURL": "https://plot.ly"
       },
       "data": [
        {
         "bingroup": "x",
         "hovertemplate": "target_finish=%{x}<br>count=%{y}<extra></extra>",
         "legendgroup": "",
         "marker": {
          "color": "#636efa",
          "pattern": {
           "shape": ""
          }
         },
         "name": "",
         "orientation": "v",
         "showlegend": false,
         "type": "histogram",
         "x": {
          "bdata": "AQAAAAAAAAEBAAEAAAAAAAABAQAAAAAAAAAAAAAAAQEAAAAAAAABAAAAAAEAAAEAAAAAAAABAQAAAQAAAAAAAAABAAABAQAAAAEAAQABAAAAAAABAQABAQABAAAAAQAAAAABAAAAAAAAAQEAAAAAAAAAAAEAAQEAAAEAAAAAAQEAAAAAAAEAAQABAAABAAEAAQAAAAAAAAAAAAABAQAAAAABAAEAAAEAAAEBAQAAAAAAAQEAAQEAAQEAAAAAAAAAAAAAAAAAAAAAAAEAAQEAAAAAAQAAAAEBAAEAAAABAAAAAQAAAAAAAAEAAQAAAQEBAAEAAAEBAAAAAAAAAAEAAQAAAAEAAAEAAAAAAAAAAQEAAQAAAAEBAQABAAAAAAAAAAAAAQAAAQABAAAAAAAAAAEAAAEAAQABAAABAAABAAABAAEBAAAAAAAAAAAAAQEAAQABAAEAAAEAAAEAAAABAAEAAAAAAAABAAAAAAAAAAEBAAAAAQAAAAAAAAABAAEAAAAAAQEAAAABAQAAAAABAQABAQAAAQABAAABAAABAQEAAAAAAAEAAQAAAQABAQABAQABAAEAAAAAAAAAAAAAAQAAAQABAAEAAQAAAQAAAAAAAQAAAQAAAQABAAAAAAEAAAAAAQAAAQEAAAAAAAAAAAEAAQEBAAEBAAAAAQAAAAABAAAAAQEAAAEBAQAAAAABAQEAAQEBAQABAAEAAAEAAAEAAAABAQAAAAAAAQAAAAAAAQEAAAABAAAAAAABAAAAAAAAAQEBAAAAAAAAAQAAAQAAAQEAAQEAAQEAAQAAAAAAAAABAAAAAQAAAAAAAAAAAAAAAAEAAQABAQAAAAEAAQAAAAAAAAAAAQAAAAAAAQABAAABAQAAAAEAAAAAAQAAAAAAAAAAAQEAAAABAAAAAAABAAAAAAAAAAAAAQAAAAAAAAAAAQAAAAEBAAEBAAEAAAAAAAABAAAAAAEAAAABAAAAAQAAAAEBAQAAAQEAAAABAAABAAABAQAAAAABAQABAAAAAAEAAAABAAAAAAABAQAAAAEAAAAAAAAAAQAAAQEAAQAAAAABAAABAAABAAAAAAAAAAEBAAAAAQAAAAAAAAEAAAAAAAABAAEBAAEAAQABAAEAAAEAAQABAQAAAQABAQAAAAAAAAEAAQEAAQAAAAEAAAAAAQAAAQAAAAABAAAAAAAAAAABAQABAQEAAAABAAEAAQAAAAAAAAAAAQABAAAAAAAAAAEAAAAAAAEAAAABAAEAAQEBAAAAAAABAAABAAAAAAAAAQAAAAAAAQABAAABAQABAQAAAQEAAQAAAQAAAAEAAAABAQEAAAAAAAABAAAAAAABAAEAAAEAAQEAAQAAAAAAAAAAAQEBAAAAAAAAAAAAAAAAAAAAAQAAAAEAAAEAAQEBAQEBAAAAAQAAAAAAAAAAAQABAAAAAAAAAAAAAAEBAAAAAAABAQAAAAEAAAAAAQEAAAAAAQABAAEAAAAAAAAAAAAAAAABAQEAAQAAAAAAAQAAAAAAAQAAAQAAAQAAAQEAAQAAAAEAAAEBAAAAAAABAQAAAAEAAAABAQABAAAAAAABAAABAAAAAAEAAAAAAAAAAAAAAAAAAAABAAEBAQEAAQAAAAEAAAAAAAAAAAABAAABAQABAAAAAQAAAAAAAAAAAQAAAAEAAAAAAQABAAAAAAEAAAEBAQABAAABAQAAAAAAAQABAAAAAAABAAABAAEBAAAAAQAAAAABAQEBAQABAAAAAQEAAAABAQAAAAABAAEAAAABAAEAAQAAAAEBAAEAAQAAAAAAAAEAAQAAAQABAAAAAQAAAAABAAAAAAAAAAEAAAAAAAEAAAAAAAEAAAABAQEAAAEAAAEAAQAAAAAAAAABAAAAAAABAQAAAAABAAABAQAAAAABAQEAAQABAAAAAAEBAAABAAAAAQEBAAEAAAEBAAEAAQABAAABAAAAAAEAAQAAAAAAAAABAQEAAQABAAEAAQABAQABAAAAAQAAAAAAAAAAAAEAAQEBAQEAAAABAAAAAAAAAAEBAAAAAAABAQAAAAAAAAAAAAAAAQAAAAAAAQAAAAAAAAEBAQABAQABAQEAAAAAAQEAAQABAAAAAAAAAAEBAAABAAAAAAEAAQABAAAAAQAAAAAAAAAAAAABAAEAAAABAAABAAEAAAEBAAEBAAABAAEAAAEBAAAAAAAAAQAAAQEAAAAAAAAAAAEBAQAAAQAAAAAAAAAAAAAAAAEAAAEAAQEAAQAAAAABAQAAAQAAAQAAAAAAAAEAAAAAAQAAAAAAAAAAAQEBAAAAAAEBAAAAAAEAAAEAAAEAAQAAAAABAQAAAAEAAQAAAAEAAAEAAQABAQAAAAAAAQAAAAABAQEAAAEBAAAAAQEBAQABAAABAAAAAAAAAAEBAAEBAAAAAAAAAAEAAAEBAAEBAAABAAAAAAAAAAAAAQAAAAEAAAAAAAAAAAABAAABAQAAAAAAAAABAAEBAQABAAEAAAAAAAEAAAEAAAAAAQAAAAABAQAAAQABAQEBAAAAAAAAAAABAQAAAAABAQAAAQAAAQEAAAEAAAEAAAABAQEAAAEBAQEAAAAAAQABAAABAAAAAQAAAQAAAAABAQAAAAEAAAABAAAAAAEAAAEBAAAAAAAAAAEAAQABAAAAAAAAAAAAAQAAAQAAAAAAAAABAAEBAAEAAAAAAAABAAAAAQAAAQAAAAABAQAAAAAAAQAAAAAAAAEAAQAAAAABAAAAAQEBAAAAAQAAAQAAAAAAAQAAAAAAAAEAAAAAAAAAAQAAAAABAAABAQABAAABAQAAAAABAQAAAAAAAAAAAQABAQAAAAABAQAAAAAAAAABAQAAAAEAAQAAAAEAAQAAAAEAAQEAAAABAAABAAEBAQAAAAAAAQEBAAEAAQEAAQAAAAAAAQEBAAEBAAAAAQEBAAAAAAAAAAAAAQAAAAAAAAAAAAABAAABAQAAAAEAAAAAAAABAAEBAAABAQEAAAAAAQABAQAAAQEAAAAAAAAAAAABAQEAAAAAAAABAQAAAAABAAAAAAEAAAEAAAAAAQAAAAAAAAAAAAAAAAABAQAAAQEBAAAAAQEAAAEAAAAAAAABAAEAAQAAAAABAAEAAAAAAQEAAAAAAQAAAAEAAAEAAAABAAABAQAAAQAAAAAAAQEAAAABAAAAAAAAAAAAAQAAAAAAAAEAAAAAAAAAAAAAAQABAQEAAAEBAAAAAAAAAAAAAAABAAAAAQAAAAAAAAABAAABAAAAAQAAAAEAAAAAAAEAAAEBAQAAAAABAAABAAAAAQAAAAAAAAAAAAAAAAAAAAEAAAABAAEAAQEBAQAAAAABAAAAAAAAAAAAAAEAAAEBAAAAAAABAQAAAQEBAAEBAQEAAQAAAQAAAAAAAAEAAAEBAAEAAAEBAAEAAAABAAABAQAAAAAAAQAAAAAAAAEAAQEAAAEBAQAAAAABAAAAAQEAAAAAAQEAAQAAAAAAAAAAAQAAAAAAAAABAAABAAABAQAAAAEBAAABAAEAAAAAAQAAAAABAAEAAAEAAAEAAAAAAAAAAAEAAAABAAABAAEBAQABAAAAAAEBAQABAQAAAAEAAAAAAAEAAAABAAEAAAABAAAAAQAAAQAAAAAAAAEAAAABAAABAAAAAAEBAAEAAAAAAQAAAQABAAAAAQAAAQABAAEAAQEBAAAAAAABAQABAAEAAAEAAQAAAQAAAAABAAEAAAAAAQAAAQEAAAABAAAAAQEAAAAAAAABAQEAAAEBAAEBAAAAAQAAAAAAAQAAAAAAAAAAAAEAAAEAAAAAAAABAAAAAQAAAQAAAAABAAAAAAAAAAEBAAEAAAABAAEAAQAAAAAAAAAAAQAAAAABAAABAAEBAQABAAAAAAAAAAAAAQAAAAAAAQABAQABAAEAAAAAAQAAAAAAAAAAAAAAAAAAAAABAQAAAAAAAAAAAAABAAEAAQAAAAABAAABAQEBAAAAAAEAAAAAAAABAAAAAAAAAQAAAQABAAEAAQEAAAEAAAAAAAEBAAABAQAAAAAAAAAAAAAAAAAAAQABAQAAAAEBAAAAAQEAAAAAAQABAAABAQEAAQEAAAABAAAAAAAAAQABAAEAAAAAAQEAAAAAAQAAAAEBAQAAAAEAAAAAAAAAAAEAAAAAAAAAAQAAAQAAAQEAAQEAAAAAAAAAAAABAAABAQAAAAABAAAAAQAAAQEBAAAAAAABAAABAQEAAAAAAAEAAQAAAQAAAAAAAAABAAAAAAEAAAAAAAAAAAAAAAAAAAAAAAAAAQABAAAAAAAAAAABAQAAAAEAAQAAAAEAAAAAAAABAAEBAAABAQEBAQABAQAAAAEBAAAAAAAAAAEBAAAAAAAAAAAAAAEAAAEAAQEAAAAAAAAAAAAAAAAAAQAAAAEAAAAAAAABAQAAAAABAAEAAQAAAAAAAAAAAAAAAQAAAAAAAQAAAQAAAAAAAAAAAAAAAAEAAAEBAQEAAAEAAAAAAAABAAAAAAAAAAAAAQEAAAAAAAAAAAAAAAAAAAABAAEAAAAAAQEAAAAAAAEBAAAAAQABAAAAAQAAAAEBAAABAAAAAAABAAAAAQEAAQAAAAAAAAEAAQAAAQAAAQAAAAAAAAAAAQEAAAAAAQABAAAAAQAAAAEAAAAAAQABAAAAAAAAAAAAAAABAQABAAAAAQAAAQEAAAAAAAAAAAAAAAAAAAEAAAABAAEAAQEAAAEBAAABAQABAAEBAAAAAAAAAAAAAAAAAQAAAQAAAQAAAAEAAAEBAAAAAAABAAAAAAAAAQABAAAAAAABAQEBAAEBAAAAAAEAAAABAAAAAQAAAQEBAAAAAAAAAAEBAAAAAAAAAAABAAAAAAEBAAEAAAABAAEAAQEAAAAAAQAAAAABAQABAQEBAQAAAAAAAQAAAAAAAAAAAAEAAAAAAAABAAAAAQAAAAAAAQAAAAAAAAAAAQEAAAEBAQEAAAABAQABAAAAAQEBAQEBAAAAAAAAAAABAAABAQAAAAAAAQEAAQABAAAAAAAAAAABAQAAAQAAAQABAAABAQAAAAAAAAAAAQAAAAAAAAABAAABAAAAAAABAAAAAAEAAAAAAAEAAQEAAAAAAAAAAAAAAQABAAAAAQABAAAAAQAAAAAAAQAAAAEAAAABAAEBAAAAAAAAAQAAAQABAAAAAAABAAAAAQABAAEAAAABAAAAAQAAAQEAAAEAAQAAAAEAAQEAAAAAAQABAQABAQAAAAABAAAAAAEBAAEBAAEAAQEAAAAAAAABAAEBAAAAAQEAAQEBAAABAAAAAAEAAQEAAQEBAAAAAAEAAAAAAAABAAEAAQAAAAAAAAAAAQAAAQEAAAAAAAAAAAAAAAAAAAAAAAAAAAAAAQABAAAAAAAAAAABAQAAAAABAAEAAAAAAQAAAQEAAQEAAAAAAAAAAQEAAQAAAQAAAAEAAQAAAAAAAAABAQEAAAEBAAEBAAEBAQABAAEAAAEAAAEAAQAAAQAAAAAAAAAAAAAAAQEAAAAAAAAAAQAAAQAAAAEAAAEAAQAAAQAAAAAAAAAAAAABAAEBAAAAAAAAAAAAAAABAAABAQAAAAEBAAAAAAEBAAEAAQEAAAEAAAEBAAABAAAAAAEAAAABAQAAAAABAAEBAQEBAAAAAAEBAAAAAAABAQABAQABAAEAAAABAAEBAQEAAAEAAQEAAAABAAEBAQABAAEBAQAAAAAAAQAAAQEBAQAAAAAAAAEAAAABAAAAAAAAAAEAAAAAAQAAAAAAAAAAAAAAAQAAAAABAAAAAAAAAAABAAAAAAEAAAAAAQAAAAABAQABAAABAAAAAAABAQABAQEBAAEAAAEBAAAAAAABAAABAAAAAQAAAAEAAAAAAAABAAAAAAEAAAEAAQAAAAABAAEBAAEAAAABAQABAAABAQAAAAAAAQAAAAAAAAEBAAABAAEAAAABAAAAAAAAAAEBAAAAAAEAAAAAAAEAAQEAAAAAAAAAAAABAQEBAAEBAAAAAQAAAAEBAQABAAABAAEAAAEAAAAAAQAAAAAAAAAAAQAAAAAAAQEAAQABAAAAAAAAAQABAAABAAABAAEAAQABAAAAAAEBAAABAAAAAAEBAAAAAQEAAAABAAEAAAEAAAAAAQAAAQEAAAAAAAAAAQEBAAABAAAAAAEBAQABAAEAAAAAAAABAAAAAQABAAAAAQEAAAAAAAEBAAAAAAAAAAAAAAABAAAAAQABAAAAAQAAAAEAAAAAAAAAAAABAAEAAQEBAAAAAAAAAAABAAABAQABAAEAAAEBAAEAAAEAAAABAAAAAAAAAAEAAAABAAEBAAAAAAABAAABAAAAAQABAAABAAAAAAEBAQEAAAAAAAEAAAAAAAAAAQAAAAABAAABAQAAAAAAAAEAAAAAAAAAAAAAAAABAAEBAAEAAAEAAAAAAAEAAQEAAQEAAAAAAAABAQAAAAEAAAAAAAABAAABAAAAAQABAQAAAAAAAAAAAAAAAAEAAAABAAAAAQAAAQAAAQEAAAAAAAAAAQAAAQAAAQEAAQAAAQAAAAAAAAAAAAEBAAEBAQAAAAEAAAABAAEAAAABAQAAAQAAAQAAAAAAAQAAAAAAAAABAQAAAQEAAAEAAAAAAAAAAQAAAQAAAQEAAAAAAQABAAAAAAEBAAEBAAEAAQAAAQAAAAEBAAAAAAAAAAAAAAAAAQAAAQAAAQAAAAABAAAAAQABAAABAAABAAAAAAAAAAAAAQABAAAAAAAAAAABAAAAAAAAAAAAAAABAQEAAAEAAQAAAAAAAAEAAAAAAQEAAAABAAEBAAAAAAAAAQAAAAAAAAABAAEAAQAAAAAAAAEAAAAAAAABAAAAAQAAAAEAAAAAAAAAAAABAAEAAAABAAEBAAAAAAAAAQEAAAABAAAAAQAAAQABAAAAAAAAAAAAAAEBAAAAAAAAAAAAAAABAAABAAAAAAAAAAEAAAAAAAAAAAABAAABAQABAQAAAQEAAQAAAAAAAAEAAAEAAQAAAAEAAAEAAAAAAAEAAAAAAQEAAAABAAEAAAEAAQEAAQEAAQABAAEAAQAAAAEBAAAAAAAAAAEAAQEAAAEBAAEBAAAAAAAAAAABAAAAAQAAAAAAAAABAAAAAQAAAAAAAAAAAAEAAAEAAQAAAQEBAQEAAAEAAAAAAAAAAQEAAQAAAAEAAAAAAAAAAQABAAEBAQAAAAABAQEBAAEAAAAAAAABAAAAAAAAAAAAAQEAAAAAAQEAAAAAAQEBAQAAAAEBAAAAAAAAAAEAAQEBAAAAAAABAAAAAAAAAAAAAQAAAAAAAAEBAQEBAAAAAAEAAAEBAAAAAAAAAQABAAAAAAAAAAAAAQAAAQAAAAEAAAEBAAEBAAABAAAAAAEAAAAAAAAAAAAAAAAAAAEBAAABAAAAAAABAQEBAAAAAQEAAQAAAQEAAQABAQEAAAAAAAABAAABAAEBAAAAAAEBAAABAAEBAAAAAAAAAAAAAAEAAQEAAQABAAABAAAAAAAAAAAAAAABAQAAAAAAAQEBAAEAAAAAAQABAAEAAAEAAQABAAAAAAAAAAAAAAEBAAAAAAAAAQAAAAEBAQAAAAEAAQEAAAABAAEAAAAAAQAAAAAAAAAAAAEAAAEAAAAAAQEAAAAAAQEAAAEAAAABAQAAAQAAAAABAAEAAAAAAQAAAAAAAAABAQEAAAABAQAAAAAAAAAAAAEAAQAAAAAAAQABAQAAAAAAAAEAAQEBAAABAAEBAQAAAAAAAQEAAAEAAAEAAAAAAAAAAAAAAQAAAAEAAQAAAQEAAQAAAQEAAAEAAAEAAAAAAQEAAAEBAQEAAAAAAAABAAEAAAAAAAAAAAEAAAAAAAAAAAAAAQEAAQABAQAAAQAAAQABAAEAAAAAAAAAAAEAAAEBAAABAAAAAQAAAAABAQABAAAAAAAAAAAAAQAAAAAAAAAAAAEAAAAAAQAAAAAAAAAAAQEAAAEAAQAAAAAAAAABAAAAAAAAAAAAAQAAAAABAQAAAAAAAAEAAQABAQAAAQAAAQAAAAAAAQABAAAAAQAAAAAAAAABAQEAAAABAAABAAAAAAEBAAEAAAAAAAEAAAAAAAABAAAAAAEBAAAAAAAAAAAAAAABAAAAAQAAAAAAAAABAQABAAAAAAAAAQEBAAAAAQAAAAAAAAAAAQAAAAAAAAAAAAEAAAAAAQAAAAAAAAEAAAAAAAEAAQAAAQABAQEAAAAAAAAAAAEAAAAAAQAAAAAAAAAAAAAAAAAAAAABAAAAAAAAAAABAQAAAAABAQABAAAAAQABAQEAAAAAAAAAAAAAAAAAAAAAAQEAAAAAAAAAAAAAAAABAAAAAQAAAQEBAQAAAAAAAQAAAAEAAQAAAQAAAAAAAAEAAAEAAQAAAQEAAQAAAAAAAQAAAAEBAAAAAAAAAAAAAQAAAQABAAEAAAABAAABAAAAAAEAAAAAAAAAAAAAAAAAAAAAAAEAAAABAQAAAAAAAAEAAAAAAQABAAAAAQAAAQEAAAAAAQEAAAEAAAAAAAAAAAAAAAAAAQAAAAEBAAAAAAEAAAABAAEAAAAAAAAAAAAAAAEAAAAAAQAAAQABAQAAAAEAAAAAAAEAAAAAAAEBAAAAAAAAAQABAAAAAAAAAQEBAQAAAAEAAQEAAAAAAAABAAAAAAAAAAAAAQAAAQEAAQAAAAEAAAABAAAAAAAAAAEAAAAAAAAAAAEAAQEBAAEAAQEAAAEAAAABAAEBAAAAAAAAAAABAAAAAAAAAAAAAAABAAABAAABAAEAAQAAAAAAAAABAQABAQAAAQABAAABAAABAAAAAAABAAAAAAABAQABAAAAAAEBAAAAAAAAAQEBAAEAAQEAAAEBAAAAAAAAAAAAAQAAAAABAQAAAAAAAQAAAAAAAAAAAAEBAQEAAAAAAQAAAAAAAQEBAQAAAQAAAAEAAAABAAAAAAAAAAAAAQAAAQAAAAABAAABAQAAAAEAAAEBAAAAAAAAAAAAAAEAAAAAAQAAAAAAAQAAAQEBAAAAAAEAAQAAAAABAAAAAAABAAAAAAABAAAAAAAAAAAAAAEBAAAAAQAAAAABAQABAQAAAAABAAEAAAABAAEBAAAAAQAAAQEBAAAAAAEAAQAAAAAAAAABAAAAAQABAAABAQAAAQAAAQAAAAABAAAAAAAAAAEAAAAAAAABAQEBAAABAQAAAQEAAAAAAQABAQAAAAABAAEAAAAAAQAAAQABAQAAAQAAAQEAAAAAAAABAAEBAAAAAAABAQAAAQABAQEBAAEAAAAAAAAAAAAAAAAAAQAAAQEBAAABAAEAAAAAAAAAAAAAAAAAAQAAAAAAAAAAAQEAAAABAQAAAQAAAAEBAQAAAQEBAAAAAAEAAQEBAAAAAAABAAEBAAEBAAAAAAEAAAAAAAAAAQAAAAAAAQABAAABAAABAQAAAQAAAAABAQEAAAEBAQAAAAABAAAAAQABAQEAAAAAAQAAAAABAAABAQABAAABAAEAAQEBAAEBAAABAQAAAQAAAAABAAAAAQAAAAABAQABAAAAAAEBAQEAAAAAAAAAAAAAAQAAAAABAAAAAAAAAAEAAAABAQAAAQABAQAAAQAAAQEAAQEAAAAAAAABAQAAAAAAAQAAAAAAAQAAAQAAAQAAAAAAAQAAAAABAAAAAAAAAAEBAAEAAQEBAAAAAAEBAAABAQEAAAEAAQAAAQAAAAAAAAABAAEAAAAAAAAAAQAAAQABAAEAAAAAAAEBAAAAAQABAQEAAQAAAQABAQAAAQEAAAEAAQEAAAEAAAABAAAAAAABAAEAAQAAAQAAAQAAAAEAAAABAAAAAAEBAAAAAAEAAAAAAAAAAAAAAAAAAAABAAAAAQAAAAAAAQAAAAAAAAAAAAEAAAAAAQABAQAAAQAAAAEAAAABAQEAAQAAAAABAAAAAAABAQAAAAEAAAAAAAAAAAAAAAAAAAABAAEAAAAAAQAAAAEAAAAAAAEBAAABAAAAAAAAAAABAQAAAQEAAAAAAAABAQAAAAAAAAAAAAABAAAAAAABAAAAAAEAAQAAAAAAAAAAAQEAAQAAAAABAQABAAAAAAABAAAAAAEAAAEBAAEAAQAAAAAAAAAAAQABAAAAAAAAAAAAAAABAQAAAAAAAAAAAAAAAAEAAAEAAQAAAQAAAAAAAAAAAAABAQAAAQAAAAAAAAABAQAAAAEAAQAAAAEAAQEAAQAAAAAAAQEAAAAAAAABAAABAAEAAAABAAAAAAEBAAABAAAAAQAAAAAAAAABAAAAAAAAAAABAAABAQAAAAAAAQEBAQAAAAABAQAAAQAAAAAAAQEAAAAAAAAAAAABAAABAQAAAAAAAAAAAAAAAAAAAQAAAQEAAAABAQABAAAAAQEAAQABAAAAAQAAAAABAAEBAQAAAAABAAAAAAAAAQAAAQAAAAEAAAAAAAAAAQAAAAEAAQAAAAAAAAAAAQAAAQEAAAAAAAAAAAEAAQAAAQABAAAAAQEBAAAAAAAAAAABAAABAAAAAAAAAAAAAQEAAAAAAAAAAAAAAAAAAAEAAAEBAAEAAQEBAAABAAAAAAAAAAAAAAAAAAEAAAAAAAEAAQABAQAAAAEAAQEAAAEAAAABAAAAAAAAAAEAAAEAAAAAAAAAAAAAAAAAAAABAAAAAQAAAQABAAAAAQAAAAAAAAEAAAEAAAAAAAABAAAAAAAAAAABAQAAAAAAAAABAAABAAAAAAEAAAABAAEAAAAAAAAAAAEAAQAAAAAAAAABAAEBAQABAAEBAQAAAAAAAAAAAQAAAAABAAABAAEAAAAAAAAAAAEBAAABAAABAAABAAAAAAABAAAAAQAAAAAAAQABAAEAAAEAAAEAAAABAQAAAAAAAAAAAAAAAAABAAEAAAAAAAABAAEAAAAAAAABAQAAAQAAAAAAAAEAAAAAAAAAAAEBAQAAAAAAAAAAAAAAAAAAAAEAAAAAAQEBAAAAAAEAAAAAAAABAAEAAAEAAQEAAAEAAAAAAAAAAAABAQABAAABAQABAAEAAAAAAAABAAAAAAEBAQAAAQEAAQAAAAAAAAEAAAEAAQAAAAAAAAEBAAAAAQEBAQABAAEAAAEAAQEAAAABAAABAAEAAAAAAQABAAAAAAEAAQABAAABAQAAAAEAAQEBAAABAAAAAQEAAAABAAAAAAAAAAAAAAAAAQAAAAABAAAAAAAAAQAAAQEBAQEAAAABAAAAAQEBAAABAQAAAAAAAQAAAQEBAAABAAAAAAABAAABAQABAAAAAAEAAAEAAAAAAQEBAAAAAAAAAAABAQABAQAAAAEAAAAAAQAAAAABAQAAAAAAAAEAAQEAAAAAAAEAAQABAQAAAAAAAQEAAAEBAAAAAAAAAAEAAAABAAABAQAAAQAAAAABAQAAAAEBAQAAAAABAAAAAQAAAAAAAAEAAAEBAQEAAAEAAAAAAQEAAAAAAAABAAEBAAAAAAAAAAAAAAEAAAABAAABAAAAAAAAAAAAAAABAAAAAQABAAAAAAEAAAAAAAAAAAAAAQABAQAAAQAAAQAAAAAAAQAAAAABAAABAQAAAAAAAQAAAQAAAAAAAAABAAAAAQEAAAAAAQAAAAAAAAAAAAAAAAEAAAAAAAABAAAAAAAAAAAAAQABAAABAAAAAAABAQABAAABAAABAAAAAQAAAAEAAQEAAAAAAAABAAABAAAAAQAAAAABAAEAAQAAAAABAQEAAAABAAABAAEAAAEAAAAAAAABAQAAAAAAAQEBAAAAAQABAQEAAAAAAAAAAQAAAQAAAQEAAQEAAAEAAAAAAAAAAAAAAAABAAAAAAABAQABAAEAAQAAAQEAAAABAQAAAAAAAAAAAAEAAQEAAQAAAAABAAAAAAAAAQAAAQAAAAAAAQAAAQABAAAAAAAAAAAAAAAAAQEAAQAAAQAAAAEAAAAAAQAAAQAAAQAAAAEBAAAAAQEBAAAAAAAAAAABAAABAAEAAAAAAAEAAAABAAAAAQEAAAAAAAEBAQABAQEBAQEBAAAAAAAAAQAAAAABAAABAAEBAAAAAAABAQAAAAAAAAAAAQEAAAEAAAEAAAEAAAAAAAEAAQAAAAAAAQABAAEAAAAAAQAAAQEBAAEAAQAAAAAAAAABAQEBAQEAAAABAAAAAAABAQEAAAABAAAAAAAAAAAAAAAAAQAAAAAAAAAAAAABAAAAAAAAAAAAAQEAAAABAAEBAQAAAAEAAAAAAQEAAAAAAAEAAQEAAQABAAAAAAEAAAAAAAEAAAEAAAABAAAAAAABAAAAAAAAAAAAAAAAAAAAAAAAAAAAAAABAAEAAAAAAAAAAAEBAAAAAAEAAAAAAAAAAAAAAAEAAAAAAAAAAQAAAQAAAAAAAAABAQAAAQAAAAEAAAEAAAEBAAAAAAAAAQAAAAEAAAEAAAAAAQABAAEAAQEAAAEAAAAAAAAAAQAAAAABAAAAAAAAAAAAAAAAAAEAAQAAAAAAAQAAAAEAAAABAAAAAAAAAQAAAQAAAAAAAQAAAAAAAQAAAQAAAQEAAAAAAAABAAAAAAEAAAAAAAABAAAAAQAAAAAAAAAAAAEBAAAAAAAAAAAAAQEAAAEAAAEBAQAAAAABAAEAAQABAAABAQAAAAAAAAEBAAAAAAAAAAEBAQAAAAABAAAAAAABAAAAAAAAAQEBAAEAAAAAAQEAAQEAAAEBAAAAAAABAQEAAAABAQEBAQEAAQAAAAEBAAAAAQEBAAEBAAAAAAEAAAEAAAEBAAAAAAAAAQEAAAEBAQABAAEAAQAAAAABAQAAAAAAAAEBAQABAAAAAAAAAQABAAAAAAAAAQEAAAAAAAAAAAEAAAEAAAAAAAABAQAAAAAAAAEAAAABAQEAAQAAAAAAAQABAAAAAAEBAAABAAAAAAAAAAAAAAEAAAEAAAEAAAEAAAAAAAAAAAAAAAAAAAAAAQAAAAEAAQEAAAEAAAAAAAABAQEBAQABAQEAAAAAAQEAAAAAAAEAAAEAAAAAAAAAAAABAQABAAAAAQEAAAAAAAEAAAAAAAABAQAAAQEBAAAAAAAAAAEBAAEBAAABAAAAAAAAAQABAAAAAQEAAQAAAAAAAAAAAQAAAAAAAQAAAQEAAAAAAAAAAAABAQABAAAAAAAAAAEAAAEBAAABAAEAAAEAAQEAAAAAAAEBAAAAAQABAAAAAAEAAAAAAAAAAAABAQAAAQABAAEBAAABAAAAAAABAQABAQAAAQEAAAAAAQEAAAEAAAAAAAEBAAAAAAAAAQEAAAAAAAAAAAABAAAAAAAAAAAAAAEAAAAAAQAAAQEAAAEAAAEAAAAAAAAAAQAAAQAAAA==",
          "dtype": "i1"
         },
         "xaxis": "x",
         "yaxis": "y"
        }
       ],
       "layout": {
        "barmode": "relative",
        "legend": {
         "tracegroupgap": 0
        },
        "margin": {
         "t": 60
        },
        "template": {
         "data": {
          "bar": [
           {
            "error_x": {
             "color": "#2a3f5f"
            },
            "error_y": {
             "color": "#2a3f5f"
            },
            "marker": {
             "line": {
              "color": "#E5ECF6",
              "width": 0.5
             },
             "pattern": {
              "fillmode": "overlay",
              "size": 10,
              "solidity": 0.2
             }
            },
            "type": "bar"
           }
          ],
          "barpolar": [
           {
            "marker": {
             "line": {
              "color": "#E5ECF6",
              "width": 0.5
             },
             "pattern": {
              "fillmode": "overlay",
              "size": 10,
              "solidity": 0.2
             }
            },
            "type": "barpolar"
           }
          ],
          "carpet": [
           {
            "aaxis": {
             "endlinecolor": "#2a3f5f",
             "gridcolor": "white",
             "linecolor": "white",
             "minorgridcolor": "white",
             "startlinecolor": "#2a3f5f"
            },
            "baxis": {
             "endlinecolor": "#2a3f5f",
             "gridcolor": "white",
             "linecolor": "white",
             "minorgridcolor": "white",
             "startlinecolor": "#2a3f5f"
            },
            "type": "carpet"
           }
          ],
          "choropleth": [
           {
            "colorbar": {
             "outlinewidth": 0,
             "ticks": ""
            },
            "type": "choropleth"
           }
          ],
          "contour": [
           {
            "colorbar": {
             "outlinewidth": 0,
             "ticks": ""
            },
            "colorscale": [
             [
              0,
              "#0d0887"
             ],
             [
              0.1111111111111111,
              "#46039f"
             ],
             [
              0.2222222222222222,
              "#7201a8"
             ],
             [
              0.3333333333333333,
              "#9c179e"
             ],
             [
              0.4444444444444444,
              "#bd3786"
             ],
             [
              0.5555555555555556,
              "#d8576b"
             ],
             [
              0.6666666666666666,
              "#ed7953"
             ],
             [
              0.7777777777777778,
              "#fb9f3a"
             ],
             [
              0.8888888888888888,
              "#fdca26"
             ],
             [
              1,
              "#f0f921"
             ]
            ],
            "type": "contour"
           }
          ],
          "contourcarpet": [
           {
            "colorbar": {
             "outlinewidth": 0,
             "ticks": ""
            },
            "type": "contourcarpet"
           }
          ],
          "heatmap": [
           {
            "colorbar": {
             "outlinewidth": 0,
             "ticks": ""
            },
            "colorscale": [
             [
              0,
              "#0d0887"
             ],
             [
              0.1111111111111111,
              "#46039f"
             ],
             [
              0.2222222222222222,
              "#7201a8"
             ],
             [
              0.3333333333333333,
              "#9c179e"
             ],
             [
              0.4444444444444444,
              "#bd3786"
             ],
             [
              0.5555555555555556,
              "#d8576b"
             ],
             [
              0.6666666666666666,
              "#ed7953"
             ],
             [
              0.7777777777777778,
              "#fb9f3a"
             ],
             [
              0.8888888888888888,
              "#fdca26"
             ],
             [
              1,
              "#f0f921"
             ]
            ],
            "type": "heatmap"
           }
          ],
          "histogram": [
           {
            "marker": {
             "pattern": {
              "fillmode": "overlay",
              "size": 10,
              "solidity": 0.2
             }
            },
            "type": "histogram"
           }
          ],
          "histogram2d": [
           {
            "colorbar": {
             "outlinewidth": 0,
             "ticks": ""
            },
            "colorscale": [
             [
              0,
              "#0d0887"
             ],
             [
              0.1111111111111111,
              "#46039f"
             ],
             [
              0.2222222222222222,
              "#7201a8"
             ],
             [
              0.3333333333333333,
              "#9c179e"
             ],
             [
              0.4444444444444444,
              "#bd3786"
             ],
             [
              0.5555555555555556,
              "#d8576b"
             ],
             [
              0.6666666666666666,
              "#ed7953"
             ],
             [
              0.7777777777777778,
              "#fb9f3a"
             ],
             [
              0.8888888888888888,
              "#fdca26"
             ],
             [
              1,
              "#f0f921"
             ]
            ],
            "type": "histogram2d"
           }
          ],
          "histogram2dcontour": [
           {
            "colorbar": {
             "outlinewidth": 0,
             "ticks": ""
            },
            "colorscale": [
             [
              0,
              "#0d0887"
             ],
             [
              0.1111111111111111,
              "#46039f"
             ],
             [
              0.2222222222222222,
              "#7201a8"
             ],
             [
              0.3333333333333333,
              "#9c179e"
             ],
             [
              0.4444444444444444,
              "#bd3786"
             ],
             [
              0.5555555555555556,
              "#d8576b"
             ],
             [
              0.6666666666666666,
              "#ed7953"
             ],
             [
              0.7777777777777778,
              "#fb9f3a"
             ],
             [
              0.8888888888888888,
              "#fdca26"
             ],
             [
              1,
              "#f0f921"
             ]
            ],
            "type": "histogram2dcontour"
           }
          ],
          "mesh3d": [
           {
            "colorbar": {
             "outlinewidth": 0,
             "ticks": ""
            },
            "type": "mesh3d"
           }
          ],
          "parcoords": [
           {
            "line": {
             "colorbar": {
              "outlinewidth": 0,
              "ticks": ""
             }
            },
            "type": "parcoords"
           }
          ],
          "pie": [
           {
            "automargin": true,
            "type": "pie"
           }
          ],
          "scatter": [
           {
            "fillpattern": {
             "fillmode": "overlay",
             "size": 10,
             "solidity": 0.2
            },
            "type": "scatter"
           }
          ],
          "scatter3d": [
           {
            "line": {
             "colorbar": {
              "outlinewidth": 0,
              "ticks": ""
             }
            },
            "marker": {
             "colorbar": {
              "outlinewidth": 0,
              "ticks": ""
             }
            },
            "type": "scatter3d"
           }
          ],
          "scattercarpet": [
           {
            "marker": {
             "colorbar": {
              "outlinewidth": 0,
              "ticks": ""
             }
            },
            "type": "scattercarpet"
           }
          ],
          "scattergeo": [
           {
            "marker": {
             "colorbar": {
              "outlinewidth": 0,
              "ticks": ""
             }
            },
            "type": "scattergeo"
           }
          ],
          "scattergl": [
           {
            "marker": {
             "colorbar": {
              "outlinewidth": 0,
              "ticks": ""
             }
            },
            "type": "scattergl"
           }
          ],
          "scattermap": [
           {
            "marker": {
             "colorbar": {
              "outlinewidth": 0,
              "ticks": ""
             }
            },
            "type": "scattermap"
           }
          ],
          "scattermapbox": [
           {
            "marker": {
             "colorbar": {
              "outlinewidth": 0,
              "ticks": ""
             }
            },
            "type": "scattermapbox"
           }
          ],
          "scatterpolar": [
           {
            "marker": {
             "colorbar": {
              "outlinewidth": 0,
              "ticks": ""
             }
            },
            "type": "scatterpolar"
           }
          ],
          "scatterpolargl": [
           {
            "marker": {
             "colorbar": {
              "outlinewidth": 0,
              "ticks": ""
             }
            },
            "type": "scatterpolargl"
           }
          ],
          "scatterternary": [
           {
            "marker": {
             "colorbar": {
              "outlinewidth": 0,
              "ticks": ""
             }
            },
            "type": "scatterternary"
           }
          ],
          "surface": [
           {
            "colorbar": {
             "outlinewidth": 0,
             "ticks": ""
            },
            "colorscale": [
             [
              0,
              "#0d0887"
             ],
             [
              0.1111111111111111,
              "#46039f"
             ],
             [
              0.2222222222222222,
              "#7201a8"
             ],
             [
              0.3333333333333333,
              "#9c179e"
             ],
             [
              0.4444444444444444,
              "#bd3786"
             ],
             [
              0.5555555555555556,
              "#d8576b"
             ],
             [
              0.6666666666666666,
              "#ed7953"
             ],
             [
              0.7777777777777778,
              "#fb9f3a"
             ],
             [
              0.8888888888888888,
              "#fdca26"
             ],
             [
              1,
              "#f0f921"
             ]
            ],
            "type": "surface"
           }
          ],
          "table": [
           {
            "cells": {
             "fill": {
              "color": "#EBF0F8"
             },
             "line": {
              "color": "white"
             }
            },
            "header": {
             "fill": {
              "color": "#C8D4E3"
             },
             "line": {
              "color": "white"
             }
            },
            "type": "table"
           }
          ]
         },
         "layout": {
          "annotationdefaults": {
           "arrowcolor": "#2a3f5f",
           "arrowhead": 0,
           "arrowwidth": 1
          },
          "autotypenumbers": "strict",
          "coloraxis": {
           "colorbar": {
            "outlinewidth": 0,
            "ticks": ""
           }
          },
          "colorscale": {
           "diverging": [
            [
             0,
             "#8e0152"
            ],
            [
             0.1,
             "#c51b7d"
            ],
            [
             0.2,
             "#de77ae"
            ],
            [
             0.3,
             "#f1b6da"
            ],
            [
             0.4,
             "#fde0ef"
            ],
            [
             0.5,
             "#f7f7f7"
            ],
            [
             0.6,
             "#e6f5d0"
            ],
            [
             0.7,
             "#b8e186"
            ],
            [
             0.8,
             "#7fbc41"
            ],
            [
             0.9,
             "#4d9221"
            ],
            [
             1,
             "#276419"
            ]
           ],
           "sequential": [
            [
             0,
             "#0d0887"
            ],
            [
             0.1111111111111111,
             "#46039f"
            ],
            [
             0.2222222222222222,
             "#7201a8"
            ],
            [
             0.3333333333333333,
             "#9c179e"
            ],
            [
             0.4444444444444444,
             "#bd3786"
            ],
            [
             0.5555555555555556,
             "#d8576b"
            ],
            [
             0.6666666666666666,
             "#ed7953"
            ],
            [
             0.7777777777777778,
             "#fb9f3a"
            ],
            [
             0.8888888888888888,
             "#fdca26"
            ],
            [
             1,
             "#f0f921"
            ]
           ],
           "sequentialminus": [
            [
             0,
             "#0d0887"
            ],
            [
             0.1111111111111111,
             "#46039f"
            ],
            [
             0.2222222222222222,
             "#7201a8"
            ],
            [
             0.3333333333333333,
             "#9c179e"
            ],
            [
             0.4444444444444444,
             "#bd3786"
            ],
            [
             0.5555555555555556,
             "#d8576b"
            ],
            [
             0.6666666666666666,
             "#ed7953"
            ],
            [
             0.7777777777777778,
             "#fb9f3a"
            ],
            [
             0.8888888888888888,
             "#fdca26"
            ],
            [
             1,
             "#f0f921"
            ]
           ]
          },
          "colorway": [
           "#636efa",
           "#EF553B",
           "#00cc96",
           "#ab63fa",
           "#FFA15A",
           "#19d3f3",
           "#FF6692",
           "#B6E880",
           "#FF97FF",
           "#FECB52"
          ],
          "font": {
           "color": "#2a3f5f"
          },
          "geo": {
           "bgcolor": "white",
           "lakecolor": "white",
           "landcolor": "#E5ECF6",
           "showlakes": true,
           "showland": true,
           "subunitcolor": "white"
          },
          "hoverlabel": {
           "align": "left"
          },
          "hovermode": "closest",
          "mapbox": {
           "style": "light"
          },
          "paper_bgcolor": "white",
          "plot_bgcolor": "#E5ECF6",
          "polar": {
           "angularaxis": {
            "gridcolor": "white",
            "linecolor": "white",
            "ticks": ""
           },
           "bgcolor": "#E5ECF6",
           "radialaxis": {
            "gridcolor": "white",
            "linecolor": "white",
            "ticks": ""
           }
          },
          "scene": {
           "xaxis": {
            "backgroundcolor": "#E5ECF6",
            "gridcolor": "white",
            "gridwidth": 2,
            "linecolor": "white",
            "showbackground": true,
            "ticks": "",
            "zerolinecolor": "white"
           },
           "yaxis": {
            "backgroundcolor": "#E5ECF6",
            "gridcolor": "white",
            "gridwidth": 2,
            "linecolor": "white",
            "showbackground": true,
            "ticks": "",
            "zerolinecolor": "white"
           },
           "zaxis": {
            "backgroundcolor": "#E5ECF6",
            "gridcolor": "white",
            "gridwidth": 2,
            "linecolor": "white",
            "showbackground": true,
            "ticks": "",
            "zerolinecolor": "white"
           }
          },
          "shapedefaults": {
           "line": {
            "color": "#2a3f5f"
           }
          },
          "ternary": {
           "aaxis": {
            "gridcolor": "white",
            "linecolor": "white",
            "ticks": ""
           },
           "baxis": {
            "gridcolor": "white",
            "linecolor": "white",
            "ticks": ""
           },
           "bgcolor": "#E5ECF6",
           "caxis": {
            "gridcolor": "white",
            "linecolor": "white",
            "ticks": ""
           }
          },
          "title": {
           "x": 0.05
          },
          "xaxis": {
           "automargin": true,
           "gridcolor": "white",
           "linecolor": "white",
           "ticks": "",
           "title": {
            "standoff": 15
           },
           "zerolinecolor": "white",
           "zerolinewidth": 2
          },
          "yaxis": {
           "automargin": true,
           "gridcolor": "white",
           "linecolor": "white",
           "ticks": "",
           "title": {
            "standoff": 15
           },
           "zerolinecolor": "white",
           "zerolinewidth": 2
          }
         }
        },
        "xaxis": {
         "anchor": "y",
         "domain": [
          0,
          1
         ],
         "title": {
          "text": "target_finish"
         }
        },
        "yaxis": {
         "anchor": "x",
         "domain": [
          0,
          1
         ],
         "title": {
          "text": "count"
         }
        }
       }
      }
     },
     "metadata": {},
     "output_type": "display_data"
    }
   ],
   "source": [
    "fig = px.histogram(df, x = \"target_finish\")\n",
    "fig.show()"
   ]
  },
  {
   "cell_type": "code",
   "execution_count": 16,
   "id": "53d956d7",
   "metadata": {},
   "outputs": [
    {
     "data": {
      "application/vnd.plotly.v1+json": {
       "config": {
        "plotlyServerURL": "https://plot.ly"
       },
       "data": [
        {
         "alignmentgroup": "True",
         "bingroup": "x",
         "hovertemplate": "target_finish=1<br>positionOrder=%{x}<br>count=%{y}<extra></extra>",
         "legendgroup": "1",
         "marker": {
          "color": "#636efa",
          "pattern": {
           "shape": ""
          }
         },
         "name": "1",
         "offsetgroup": "1",
         "orientation": "v",
         "showlegend": true,
         "type": "histogram",
         "x": {
          "bdata": "BA0BAwEDCQEBAQIEBAQEAwIECQcJAgMLCAYBAQIGAgwJAwQJCQ0FAwEHCAMNBAoBAwUBCQEBCQICBAUFEwICCAMBAQEDAwgBBAsBAQUEBAEHBAcNBwMLBQcDAQIIBQsIAQkFCwMKBggDAgYDAwYHCAgEBwMFBQMCBQ0FBAwJAgIFAQYHBQMHCQIDCAUKAwMCBQEJBwMFBgMIAgEEAgUFAQIEAwQFCBINDQUKAgUBAwEBBQQJCAQCAwQLDQQBCAUCCAkCAQwIBAQECAMGAgICBAgCAgcEAg0LAQMJCQEHCQUIAgkCBgIECAYCAwIBAQQJAgYMAQsHARAJAQICAwMCBAEBDgEICgMEBAUJAgIBDAYCBQQEBQoGAwgLCQ8BBAMBDQQGAQQDBAILBQkJBgIBAwIEAQQHBAUECgUJAQQOBQQLAQkCDQIGDQELAwEFCAgDDwQEBwEDCwIDAQIECAEEAQQKCQwBAQgFBQEGCAQCCAwDCAIDAQUEDAYJCwIHBQcLAQgGBQYIAwEECQcFBAMHAgcCAwULBAIDDAYBAgIFBQcHDwwHBAEBARICDgUFAgUGAQYEBQ4EDwIPAgMHCAUGBwEDCQQOAgMEDwYDBgIDAwMBDQgKBgQJAQUBCQMDBAMHBAYCAwECBQQGBQQCCAcFAgcDBw8FEQcFAwUDBw0EAwIDAwIHAQIBAQYBCQcBAQELAwEBBA4LDA0EAgUBAgsCBAYMBQEDAg4EBQsEAQUBBwQLBBABBQgDAQkFAwcHAgUQBgEFBQUBBQQJCA8LAwMQBQgCBAEBBAoEAQUMBAMGBAEIDAoIAgoKCAcCBQEJBgUGBQEEBAUBBAQGBQ0EAgIHAwIIAgYJBgcCBQUKCgoCAwwFCgIBAQgOAwECBwECAQUEEQMEAgEJCAIBBQIEAQUBDQUBBQUGAggCCwMICQEEAgIJAQMDAgUCAQYKAwILAQIGBQICAQECAQEBCAgEAQQBBgQBAQEHBgMBBAUEDAMGBQkMBAQJBQUBAQECAw8JCgUDDAUFBQYGAwYJAhAFBQsBAwIHAQYGBAQDAQgCBQkGAwQIAQwCBAgJAwMBAgIBAwIFBAsBAgEDCQEGBQYDBgMEAwEGAwsFAw4GBwsKBQUGAQMGDgYCAgQLBQoEDQcDCAEBAQEQCQYBBwMCDQECBwQFBAYEBAQDAwEBAgkFBAwDBAsFAgsCBAECAQMDEwECBQENBw4HAw0GCAIDCAoEBwQJDwIOAwQEBgIMBAIBBgQMDQQRAQEHBg8BAwEEBQUDCgQIBgEGAwIMBAIFAQMBBQIFAQMFBAEFAQIFDQoDAQQBDAMEAwUECgYBCAwQBAUCCQECAwEDBAEIBAUCCQcCAgkHCQUGBwMIAgEKDAUCCAEHBAICAgMCAQQDAgkCAgULAREGAQMIDgoBAwgHAwIDAQEDDwIHAgIFBwEEBgIPAwsCBAcDBAoFCQQLBQEEBgUECAUFAgQGBAEDAgEDAQYEBQUBCgEGBQwKCQgIAwQJAQMDCgYDAgEFBAcBBQICAQMCBAEECgEHCQMHAgIDDQoFAQYFBAsKAgUGAwIECgIJAwcKAwEBAgsMAQECAgELCgECAQkBAwUBDgIFBAIEARAFAQYIAQQGAwIBAwQPCQcDBQQGCAYEAwsHBgEJAQsBAgYEBgsEBQYDBwICCgYPCQkCCQYDAwgQAQECAgECCgQHBQECDAIGBAIBAxAKAggCBQgIAQMFAgEDAQYBBA0JCwEIBAEDAgEEAwIEAQMJBwoLAQYBBwQFBwIEBgYBCAIEAwcOCQEFAwcFDgsFAwcCBgIBCgcFCAQGAgICBwEEAQICBAELAwMBCQECAQMGCwUIBAQJCgcJBwUCBAcCAQIHAwUDAw8CAQUGCQYDDQILAQEBBQIDCAMMCAUCEAcIAwMCBQMJBQgEBQcBDA4FCAECAQQFBBEIAwUPAQMBCgIBCggFDgEBAwUICQkFAQwIBQwBBgMJAQgHAgwCDAIEBwEBAQIDAwICAgMOAQEHAQYBAwgDBgEGAQcDAwMFAQcNCQUGCAENBAcGAg4CAwMEBwMBBAIBAwUEDgQCAQMDBgIBAwIGBgEHBQcICwoDAwEBAQQFBgMLAgkBAgQFBAEMAwIIAwQJAwUEAgYCAwEFCAELBAIBAwIBAwwBAgYBAQQBCAEKAQkKDgoDAQIJAQQGBwMGBAEDBAQKAwQFAgMCAQQEBgQBBgIHCAIBAwYHBAkGBAcGBAUDDQcCAgIIAgkBBAIHBgUDAQUEAwQEAQMFBwYGAQcGDxELCAoGBwQCDAIMAgMDAwcFBgoBCQECAgMGBAMDAgEIDQ8ECwECBAMEBQEIDA0GAQIJBwoFDgECCAkCCwoCCQkDBQMCBwUGCAEGAQcECwcFAgQJBAYBCAMKAQYHCQMCAgIFAwIGAQUCBQYEAwYBAgIFCQIJCwgNAQQCAQgFDQ0CAgEBCwQDDAMIDAQBAwEPDBAJAgIBAgIFBgECCgEBBA0JAQQCBgMLBwUKAgQDCAsBBRADAwEGBQEDBwYHAgUBCAEDCQEBCQQFAgQBDQMBAQoFAgQBBQEHAQ8CBAgDAxEGCAQEBgYFAwQBBAQQBAwCBgMGAQYEBwUDDQgHBQICBgIHBAsBDQkBAQ4MBgMDBgIMAwYCAQoBCA4BAQUCCwMKAgIBCAYKAwcFEAUGBQYBAQ4CAQsEAgICBQUBCREBBAMCBwwICgIEAwQEBwsJBgwDBQECBwYFAgUBAgsBAQMEBgMJAQcDDQcCAwYJDQcGBgICAQQDBgkGBAUDDgQFBAIDAQELAQMOBAUJAQIBDQMHAgcFBQEGBQUDDgECBwcGBAEFAQsEAw8GAgEDAwoBBAEECAQCAQcIAQcBBAMDBwgJAgUGCAUHBwIFAwIJCAYFCwgGCwEDAgcJAQcDAwoCCQwKCAIBAgMFBAEDAgwBAgsFBQELAQgEDAIDCgwIDQMGCgUMBAkOAwEPAggCCgYGCAoBDQkFDQUBAwwHBQQLDAIMBgQMBwMCCAIFAw4HCAQDCwcBBgIFAgoHCgIFDwIDAQELBwMBAgIDEQQGBAMFAgICCQIDBQIGAgQJBwcCAwMGCAIEAgUBBQkPBQQCAQMGDQMJAwIKCggJCwQFBQQFBAoEAwkICAICAwIICAUDDAULAgQGCAYCAgEDAQYEBQEDCwEDAgEBAQEDBgcDAwoCAQQDAQIBBAILAwcCBQwKAwQDBAQGBQMCAwoFBwIEBwUKBAsECgMCAgECBAMCBQIIBwUCBwcCCwMFAQgFDwwKAQIMCAIBBwMSBgYDAwUEAQYHBwEDBAMDAw4CAQYCBQYFAQ0NDg0CBgcFCgcGCAcEBgIGAQ0CCgwEDAgEBwMCCAQICQQTBwEBAQgCAwQEAhAFBQEBBAYICAIHCwEDBAcFAQICBAMFAg8CBQUFAQMGAgECAgkLBQ8KBgECBAsFBAEDBgMFBwcDAgUMAwsEAQENDgIFBgIFBwkFCAECAQMKBAELAggDBAEDAQMDAgECAQYGAwEFCQMHAQEFAQECBgYCAQcBDwgCAwkEAgQGCwICBAMIBAIGAwEMAQECBAEFCAQEBQcJAwIMAQcCBQIBAwEDCAUCAQYLAgECAQMGBQIEBgEBBQUJAg0BAgoFCwIIBAkCAQUBAQEIBAMLAgEDCQUDAgUDBQEDDAIQBAMFCwYOAwMBBwICAwECAQwBAQkHAQEDAQICCgIHBAICBAMDAQQLBAMDCQYEAQUFBQEHBgMGBAMNAgYGBQIGAQwMBgcJBgQJBAQICgIDAwkDAg0BAwEDCQMFCQIFBQcDDQQDAgMJAgYLCQQCAgQBBwQCCAsEBAIPCQMCCgEJCgcGBAUCAgEDAgIEBQYECAEH",
          "dtype": "i1"
         },
         "xaxis": "x",
         "yaxis": "y"
        },
        {
         "alignmentgroup": "True",
         "bingroup": "x",
         "hovertemplate": "target_finish=0<br>positionOrder=%{x}<br>count=%{y}<extra></extra>",
         "legendgroup": "0",
         "marker": {
          "color": "#EF553B",
          "pattern": {
           "shape": ""
          }
         },
         "name": "0",
         "offsetgroup": "0",
         "orientation": "v",
         "showlegend": true,
         "type": "histogram",
         "x": {
          "bdata": "FRoQHg4SBgofCg4LGhgGERYfFBMJCA4MCwoMFRAVEyAKEwcKGBgTCgYKBBQODBYaDg4RDBccEhIZFScJEBUEDB0TEBAWGREbGg4RFAsGCgwHERsSDhoXDg0NEQ0KBRsdBwgcEQ0FDAwTEQwVFRATChARCQcRBQcYBwsMEQ0RFggQFAkQDxERGAwLGAcIDAYLChMODwQIExcbDRAZEhgOBggTChISFRIYGCMQDBcIFAUMCxUZCgMVCgoKDA8RDRQDER8PCA0NEA4PDg8TChANBwQVERMTEg8PDQ4VDQcNEBYGDAcMIxMLChITDAoSDBcTBhgOBQ4TDBAPCRUNDxISCA8DBw0EDAsUChcGFQwSEA0dDw4QDBAPEwYSEhEVDgUQGBEYGxYSFhYUCxUDEQcXGQsUFw0LHBEFEAgSEw8YCwoRDA0JDxMRCQ8IEgYGEBIRBg8SBQgPFRUQChIdEBYQDAkIGSESEhYHFhgODRsSDwobBhIWEQsNEAwTDw0TDRUTERMFCgYGFA8OCg8NEQ4YGQcJCRUOCxYPDBkWERQQEw0UDQkKCRIJBQgOBhYFBgcWIBIUAwoKCgwMGhMSFwUOFRIQBQsNEQ4KEQ4GFwsUDwgJEBAFBhAQDA8MFggJEw0JFhIUHRMaEwsGAgYMDQ0UCQsLBQgNEgsQERMQCREFDRIIIA4QGQYDHw8XGRMVDA8VFRQIEgQQDw0MEwQIDwQTBgQUFggKCwoPCgwRDBgRDxITEg4bGQ0KDA8ODwgPDRAMEiAFBRIJDBYiEAULDwsNGRMJFBUJCRYSEBERCQ4YBBEODRUTBw0GDwsJCQcQGA8TDxERCgcNIg4QFBsFEgoIFAgMFBgRDQUPEgoQCRQdDAsNCRIVCQYOFg0RGAsNEQsKDhIFDxMJDQ0DGQQOFw8ZFA4RIBgiBRURCAYSCxYHEw0LCRcYDxIUBxQLEg0OJgMTDAQSDBAHDg4cFxIIEBAOExgPEBkXGCEhIhYTCBALGhEFChAGBw8IDg0aGBUPEwccDQwVDQ4NBA0HIgcHBxIPGAgSFBIPCwwKDRUREhUTBwoECwwLEwgTFQ4GFBMSExQbCQwREhMJFA4IGBMLBxEMGBQMDxkPEAsFERUNFA0TDRARHBUeBQkODxMTDhMMEAoRERINBhQZBhYaBgcTDwoNDhIfFhkREBQEFBsVDBYRFw0RFRQKDxQEBRYWChMRCQcHDBALCgUODh4EGxIOFBMLChMUDA8IChMiFRoTExMSFg0SGAcSHAoMDxAHCBcLCQ8FEBEbCw8aFREfExYVBwkPCRAEEwkMEw8EFRQMFxQDExcKEhgEBQkgFBEYFBQTGBoVFAoSDgkUHAgVFQ0RChAODgoMDQwSCQoRCwseDREaExUUIgobBAcYBQYSDhwMFA8OIwUeGQMQFhAeDAYVEw0SBg8SCwYSDQ8PDgcNCxUHCRYcCA0VFBEHExYWFgQLFQ0ZDQwWFxYHFCUWEwUMEAYTERIIEgkQGhETDQMTHRMVDBAOCQcNFBkkEQcIAxUNDBYPCREbCA8NDxAUEBAMFAYKCBkLEhMSFAsOFgcVFhUSEw8RCQoiEAkICgwLCQ8NGhYdDw0LBw8RFhMVFRQHGw8UEA0cDQMEDRcRFxEMDgwNFwYfDBsIERcIERsYIB8PGgsXCggMExUECBcOFRUMHxAXBhgTEQkdDQ0RBgoUExkRHAsZCAwEFxgODx0LBBMSCg4QCw0MCxYSDBMgFxQWChsMCgMUDw8JEhIRCQ0HCgsUFAwMFRESEBYOAgcHHRIJDBIPCggUCAUREhIUFRgLGhMWEQYKCQsKDw4LEAwMDyAQDRAIFA4NBxIJBxMGEQcJBREHEg8UFhEKFA8aCxQQDwsWGwkZEAkRDAQOGA0XFRQSFBQSHA0ZDQsKChQVHRcRDA8PFAsbDQUQCBYNGAcQDBYVBxUWCwoSFwkMCBYMGAQQDg8PCBAVDAkLChARChcTEAkWCRkIEQYYDRQPEgoOChMLDA4LDhQHFREHBw0dExcQGBQaCQ8eDBUZEBMEIAsbDwkYEhkSExAMEg0MAhMPBhkQGw0VCxMLDRkYEAQUHAcfEBYTGBMFFxoIGAcWHAkQDxAiDhMdDhQKCwsXEA4GFhcQFxkUExUdDRARFhcTFBcIAxQFFQ8GDhEUBw8fDwoOCQ4SExMIEQ8IDAwUCwgWCwUUEgUQBxQQFBUOFSUVDAoHDhIdEQoTDw0HEBAWFB4QDBQKBhYPDh0QDg4QBBUKFBUcGR4PCBQFCRISCQwUCQsUEhsVFAceBRIUEA0SGgoUCBQGDg4VFBoSChEWBg4UChkbEhIPCRAhBxQTBw4SFBQFGAsIDBEUDR8IDQoRGwgSDhsTChATEA8NCRAPFA8HGBYREhsMDhASDBIKCRMPCRIQFRwOFxIWChUVDhQbDxsUFQ0UBRUOFg4EExkPByEJFAkSExAMDAcQGAoNDBUHCgsWEQ0SFhEKFAobFQkNFwwQEw4EDw0VFBIFChITFAwNBg4WEwkeCRoQDhAFFwgSDxAZChAYBxMUFwMICQ8ICwkKFRATERYUCwsQFgcJIREOBBIJEAMJDxYXHBgODxMcBAUMCQsTEQ4UERURFBQYDg0OHRUXGQ4VEw0TDBEDBwwWDwwVBhUKEhEOHAQUEhILFBYIEgkHEhIPDw0WGA8aFwcLEQwVDhkNFQYHHQUaBAsSCxENBwQbBwgUCQ4XEAcVBQsXDg4VFBAKEwgOHgcXDBEeDw4RDgcGGwUGEwcQEBQMDhEHCAYRGB4OEg4JDwwMFw0QCwcJFggNExcOCxYIBxkRDQYbEBAaFBAQExARDBAbEw8GERMLHRQYBxkLFh0PGg8NDB0NCAoQERkOFxMQDhIHDgcFBwoIEgoQFgoUEwgKBg0LDgcWDwoWEBoJEwoKFBgEFA4RERkGFxQQCRIGEA4WDxkPDgsUDxQHDwsaERIFCA8UHAoQGQYSBg8MDhYUFRMHHg0EEQ4QERQUGBoLGBkDBxIdCBEPCAgQGhAZGRMLDhsMFQoODQwLFgUFBgoPDhQQFRcZCRESCxoVFwcVDwgMGwkOCRYLCwUZDBMZDhsLDgseDRMTDQcDFAkVDhkTCggeFA8LCBMWDhYLFwwKGhINDwgUDQ4TDxMCBg0NDRoUDxUGDxEKEg0SFB0PFAwOFAgUCxcLDxYSGhAQAxAaBxYWEhsHEhccEBQWDRESEw0VCwQKFRINEg0VEAkdDAsJEhQIDwgSBxANDwkMEwUHERILExMTGhQKEQUTEwoLBwYLDw8LEhcODRwaDhQUERAGIA4HERASEBYJERcUEgwTDgsSChMWDBEUEBMWFgQPDRsJFQYRCxMWExMFDxEHChQMCgURChILEA4WDAgQCxAIFwcPHxYJEhAVFAkJDxggEAUSDQcSEwwHEwwGHRUDFAUWEgcVEgoIFQ8TCgQWExMEDg8MDBQUBQgLFRMICgUNAwgGFBchBQwUDBweDgsRDwwFDxwHChYcGhEbEgoPHhISBA0IFBsFBxAhGh0VDhYQExIOFgsWFgMWExQWDhANFA4gFBYSDw8NDBERFAsLChIMHBIZBxUUDhEVERAQFxQDEhINBwwJCQ0XDA8cFh0WCBQZDh4aDg8QCg8TFhUHIRgVBAwQDwgdDx8UEgkTCggKDQkNDwsLDgYJFxIJDwsODAscEBsHAw8HGxoVCQUNEQ4VEA8PEw4TEBUWBhELFxMVGAwMBwwICxoUFBUODg4QEgcCFgwFCBMNAxUTGBUPEw4PDQkaChgNDw0PFQ8UDgsLFQgYCAcJExQTEggUChoHExIUFRwJExsNGwsNFAcYEBcPCw0SEhYKCxAVDhEJERcIDRcYExEXEBgQERkUBhQXChUQDQYXChIHEgsTFhMPEQoTDxYOGwwWGh0gEBMUDAgOFA4RFQ0YExgQHhIKFA0HCRMQGAUUDwwNCw4XGgMVDxMVDwcNBggYGBkWCAgZEw4eExQNEg8GEwkOHQgSFwcUFREHCQgPDg8LGgsVEw8MEA8JBiIHBxIRFxYXDggWCQUTERAFCAcOFhMPEwQQDxAHGhASCBASExUHEhkbFRsRCxkLBhYTBw8ZIRcJEBcJCAwGIAsIBhAODRoSFAsNIBoJDxsREhEHChoWGhwJHgwRDRATFBoTEAcMCQcSDxIMCBQHDRgRCw0QCAkKHwcRGBgLFgUPERYPDxETCgoSBhQEExQOBxIGDRgIEgkNCAsFERwTEhENAxUUHgoTDRMQFAwHEA4GBgwJEA4fBhIKHBIPBgwKDg4PEw4bCxgQCA8aDwYRBxEcEBIWEA0MDAwVHB4aDREWDwMKEhgSFgoaEA4WFRcNCBIKExARHQ4cDhMGGRAQGhkKCwoSDxQWBhgIEQwSBwQQCAYXEw4LCgkPGxMfCQkJHwYZDhgNGxcLGhAMChodHwULEQ8SDxIIDg8REBYMEAgSBxIMBBoPEwsVDA4EBAgUEw8cBAUbDiMdEAkMCQoFDxIIHBYbFBUUCRIJBgUPFA8PEwgTFxIGDA0VDw0VDwULGRUUERQTCBMJBRsQCA8THhUSFBIRGBEKDhMWCAMQDAsHDAoNDw8fERENDRASBwgSDgULCxESDxESEgwIEg0ZDxUhDQsRHwoIFAwEERcSEQ4TDAoLFBkRCRcRBQ8EBBwLBAYUGxQgFhQMCgoZGAUXBQoSDRoRDxQKBhMTFAQaFAkMEw4VFQ4JEAgPFBwFDhUZCBYQChMKCBAKBBgfBgUWEw4ZCQoLERodGgoKGxgHFBIHDR4IDx0SEBALBxsMEhsRHBMNEg8JDAsLDQ8JCAUODQ8MFA4QCRILCxMKEQkOCxILDQwJGhMLERIUBx8QEAoYFQsUBRYWGRQZDBYPEwwOFQ0dFwMdCw4JGQUDCwoeHgsWFRkKCgYPCQsIDRMQFxAPEQgOFQkSGRcTFA0WBwoXEQ8SEQgTEBQGDQkKGxEQER8IHQgSDhUSEBQPDBIYHRwSDwwHEAkEEB8NGBgWDg4NEwkUGRMNChAeGw8MDAcWDhEPChwGFwkFFxQTFRkSDwcPDAYGCAoXFRohEAoKEh4UCg0JGQYTEQwJDwsODw4LEw4OCAUODRYSBg0PExYQEhoKEQoRChAODA8UFgwZDhIYDxURGQ8VCwsMEx0LFA4SGwwIERMJCA8ZCg0WGRQPERUIEhgSFhYKEAcWEBMWExAXDwcUDwwUFBQTEwYRDhMQCAkVBhcTFBoKBQsJIQsTEg0UDRQUDQ0LDRIODwwMDg4dDxQWDgcNBBYJCgwEEQkQFAYDFREKDxMOEBADDBQTBxARExcPDxIWEQgEExEODx0ZDgYeBRwNFRwKEA8EDBYSFBkYBA0PBBQFDA4MCAgRBhAYCBMYFAcYBxUHFwgcCg4WDhgQFAgUGhUFEQcPEwsJFRYdFBgMER4OEQ4PERIUHxUTDBMGDQMIFAcIDRoPCwoNBxAZFA0LBRUUDR8OCA8IFQgMEhYMAw8OCgcMFBAYCAUUGwgLBhIIBwcQDiIREwwPBxILDQ0ZHR4MGRcTHBMfFwYWDgoUDhIFGBEODBkSBREUGxcLGQkYDhAQGBAVEQsLFRIKGQ8NFwgFDwQGAgolEA8UDxoOEAgLGxALIg4PDxgSGBYMDBARCBIYChAPGRQMCwMIBxgEGRkHDg4UDw0QFA4VHwUcGgcjBgcIER0TDwkECxoOCRMRCxYMERYHEAoIEgsVCQkYGAkJBBINEhMFHBMWDwkKFBYNCRQTBBwYEQsKBRYFDhQPAxQRExQNEw4ODiQXBRoMDw4SCB8SDgcRCREUFw4NCAQMEhUPHhQMDBMIEAUOFRsYDRIUBQYTEhkJExMQCBcCBgcEBQ8SChATGRcZFxMKCxIOHA8DDBEKCwwTEBULDhAMEwwJCxgVEgQREBAOExUREQkSEBQLGBMOEw8SCwkPDBwUCgYTDRQQDgcGFQsOEA8WAxUUDA4RDhwPERQLEREYEwYSFBAXCwUPFg0LCxQTCBIKChASFQ4UCxQRFRQVCBQSDBEYDwcJBBQUCg4SHRYYDRwZGg4MFR8WCBgaEwQJFBAUCgcSERISBxAKFRQQEwgeBA4UDQgMDxAFEQ8MFggHEg8UFgQZDgoGDQgTBAUIDwQSCwULEgkIDQcGCiEfBw8UGhYPDw8JFBUSEg0cFwQKGBMRExcLDQcMEgkSEhMHEwkJERETERogFQoXBg4UDRQRFA8JBgwgCgwTCQwiExAMBggKDg4NEAkICRcLFAYOERYUERIIEgcSGhITCRIJDQgWDREMDQgQFx4ZEw0JDQ8QGgUOCAYLDgoVDA4KIA8PDRENEhcXEggOCA0ODB4FFAoHHBcRHxQFFxcRBxgdBQkMHhYSDQ8RFxUVCxQTBBkUEhUKFhEXCQgHEhQQERgCFQwSEBgjFBQHBw0SEhQSGgoNCBINCBIYDxsFEw0XFiASGAYOCAgMFhIPCwkKBwUEEA8aDggQEx0cExIJGQ8NEhIUAgcRFxULEgsZGg4GBxYSEwQPFBQSEQkJBw4SDRQWDRAUEQwRIAoZFAgEHwkWCxYIBBUVDhMbEAYGDwoMDRINCR0IIxgTFA8UEwwXAw0OGxUWExoVEhULBQcNEhEYExkNGhUMCRUOFBUbDAoJAwsKFhAXCA8GChYJEQcYBgsMBw8iGAkUEBAHERUPEg8HFhELCQ4NBwgHEgYZDgoOFA8UCxIQERIREg4JHBMWFxYWEwYUFgkSBRETCwwMERUYBwcMCiMcBgwSFgsXEhgSDxALFAwTDxkSFxkJBhoQDRMLEBQNBw8ODxUYGwgOCwkIEA0OBA8dDRMUBggXEhQeEhILDgUQDhEHCxILGAgLFRAJDgweGhMSDA8TDRgTBxANDggGBBATCgsGChgJCQgTGhkTFhQOFwkKHRAYFBgYAwgNDw4MCg8UBRADEwsUFw0MGhMTEREIGBYRBBcNBwMHFQkRCAURFRMdGQoPEAsOEB8TDw8EDxoGEwgNBxAKHBMOEg8RDhoHBg4VEwoPEwYGIRUQCRILEg0KChETDQMHDwwJBg4JFxUWGRgOEBITDxMRERENEwcTFhAKFRQVCRwRExgSBhEZFAsbCQcLChEEChgWCwwSBggIGB0eFhsKCRAKCRQEHxESGSAcEBYJFhEHDQsECQgSBwoFERcKCxAMGAgUDgQNGQcMBBUKBRMOBREQFAgODgwLEgUMBw8SBxEfFQ0XCAccEw8QEx4HFgoUCwkPEhkJCQ4aCgMQBBcTEA0OFBMUFgsNDhkRDBIeERMQFggMEQ4IBAYLCA8HAxETCwoRCA4PEBMUDREUDAoEEQUJHRIIBhIIEgsSEwUMCgkUBhkHHQsDFBESExMgCgQWEwcQHQ4YChAXEx0HEggbDAwMCBMMDBYZBgYODBwdFBAZDhAUFhERDQwMEgkIDhAGHhcUFgkKDgoMBQwaCRgRDQ4bBwQREwwODgsKExIGERkYDRULBg0PDAsPEQ4NEhMSDx4UEA0OCBIJBxkGCyYSGggPFBIRDw4SCxISDAkSIB8IIRIPEA4QBwwGDxgXDggSBxoSGA8TDA8TDg0TEQ4NDAsYFgwRFAYKBQQZEQcSBhIPDwgLGBQODQYgCBAGERMFFQ8GBQYPDAsSEAUSEg4GAxQYExkMDwkSCwwOCBINIQcHBxMOFQYKDBMUGQ4QEAoSCw8MBxUIDRcEDhcTEBYGFBcNBw0GEhASDAoOERoFEQ8TDhQVCwoRChMDFRgMCwQWGhQbCgcWDRMSCwUODgcLDQYPBhwPGA8JDRsEDhETDx0SFRYODBgUEhMNFA4QBQwWERUPFhoKDw8LFwkLExQOBQIJCA4JDQ4MChQVDRMUBA0REBYNCBIIDRYQBw8MDhkNCA4ZIhAWFA4JER0JAhcYGBERFQwJFx8KFAcZBgoRExAdGw4JEQkNDxYcIA8aCgoQERUMDw8MDRYJDQ0MEg4MDw4GCRcRChgQERATDBkJFAsLCxAaEAwJEBkeFQ4SBRQUCQYIGwoTBhIQDBEUCQ4LDw4QEQ0JChYKDRAMBQcYCgsKFQ4WDQkFCxARBxAODRAaEwUQGRQUCBIMFBQPBAsYBAQODwcKBRAHDRELDhYMGxgbFAwIEA4LCxUKDg0UESAPBhAUFAgbDhQMEAsTFhYMDRIOERcQDwoICAsQCwsaHA0fFhgTCg8hDxcLCg4SCAkREA8UGQkOHw0TDg8KExoHDyAXFhILGBUQCgsMFwwSChQXEA0iEhEUFiUUCxMQEQ4OCA8SDhMYFxYUBwgTEhQSERIKFREeEwYQFRMYBxEYDwkJFCEHDwQMBA0WFBUJEAcQCwcOBxkNFBQHEA4OHAoYHA0YGBIQIQoICwcXGRAaCRUaFQQPDRcRDRIcBxAMFhgkDQgXCwgTDxEMDxUJExQaDRQCERYLFxYSDxUQGhoUDAUHDhAPAxQPEB0VJhkMEhMREQQSEQcRCQoaEQ8WDBcHERELBwYREgoWEw4GBxQFFwwQFRAHFg0WDBYTFAwNFA8YCQkYDwYUDxAiCQ4RHA0XFxMWEBQFDwcICgwdERQZFB4SCQ8UEg4KCA8FFBsMCBgFEgwSDBUUFQgSEhoRCRUbGQwJAxQICw0PERUSDgcNBiAcGw4GDxMQCBMQDgYaFBATFhAPBSAPCgsUDxgPDxgRBhEMDBISDQcPBwsTGCMMDh8XCAcVCQ0TFxATGAQVFw4GDxUKGAsXBwkPGwkXDRAPCxUlEAgSDRoIDxcSERYHFBgOEg4UFQgeEwQUFxIQCAUFEQYMDw0GEQ0RDA4SCwgGDwsTDxoRFRQJDgwYBQwOFA4YCBMOHBYPBiEMDg4TBBoOCwcQEggQAwsJCRodAgsEDA8TEw8UDRUaDBISEBsSEwYUBw4LCAgaBx8NDAQPGRMVFA8VEBgSBhETGQYODg4UERcPCA8MHRMNDxQQJgUIHRYMGAUQCA0UBxYNFQoIFA4JCBQPGgUNChQMDg4VEhgVHhQKEAsPCRgGDyELBg4hDg8QEggfBQYSCwcODRUTBRAFChAZChAHFg0VEQoWExoMFA4aFRsTBAwGEgoJFgoRCg8PHw0NEw8XFBgjDhQYFREVCgQXDhUWFA4NEwoPDA8ZFA4MAwoZGBEMFRcYEgwYGBUgDBEJDwwTEwwHGAMMEwcRDgwSDwcXDxsLEhEDCxQLEgkRDQ0bDBIGFh4dDgwUCRAeDxQPCg8YCwwcDAoPEg8LGg8LGBUGBw0UEhETFA0WGRcNFBMREBgaEhIRGBUHEhIFDxcLDhUNEhIMEhcQFhUPEQwICg8QDxUEERAXDg4UFCYQDA8WDwkFEgoSCxQICg4SDBsQDhkTChgEDQ0cDQkLEA8XGQoFFBwPDhUbEREMDAsaCAMSChYUDRQKDA4OCg8UDQgMERkaCAYJDQ8aEhcGCw8RDw4UDRAMBgcJHhAVFRgGCxIQDQ8KCQwKBxEQEA0OEQUHFQsTCBgVFQ0SDRQJDw0HDBEZGg==",
          "dtype": "i1"
         },
         "xaxis": "x",
         "yaxis": "y"
        }
       ],
       "layout": {
        "barmode": "group",
        "legend": {
         "title": {
          "text": "target_finish"
         },
         "tracegroupgap": 0
        },
        "template": {
         "data": {
          "bar": [
           {
            "error_x": {
             "color": "#2a3f5f"
            },
            "error_y": {
             "color": "#2a3f5f"
            },
            "marker": {
             "line": {
              "color": "#E5ECF6",
              "width": 0.5
             },
             "pattern": {
              "fillmode": "overlay",
              "size": 10,
              "solidity": 0.2
             }
            },
            "type": "bar"
           }
          ],
          "barpolar": [
           {
            "marker": {
             "line": {
              "color": "#E5ECF6",
              "width": 0.5
             },
             "pattern": {
              "fillmode": "overlay",
              "size": 10,
              "solidity": 0.2
             }
            },
            "type": "barpolar"
           }
          ],
          "carpet": [
           {
            "aaxis": {
             "endlinecolor": "#2a3f5f",
             "gridcolor": "white",
             "linecolor": "white",
             "minorgridcolor": "white",
             "startlinecolor": "#2a3f5f"
            },
            "baxis": {
             "endlinecolor": "#2a3f5f",
             "gridcolor": "white",
             "linecolor": "white",
             "minorgridcolor": "white",
             "startlinecolor": "#2a3f5f"
            },
            "type": "carpet"
           }
          ],
          "choropleth": [
           {
            "colorbar": {
             "outlinewidth": 0,
             "ticks": ""
            },
            "type": "choropleth"
           }
          ],
          "contour": [
           {
            "colorbar": {
             "outlinewidth": 0,
             "ticks": ""
            },
            "colorscale": [
             [
              0,
              "#0d0887"
             ],
             [
              0.1111111111111111,
              "#46039f"
             ],
             [
              0.2222222222222222,
              "#7201a8"
             ],
             [
              0.3333333333333333,
              "#9c179e"
             ],
             [
              0.4444444444444444,
              "#bd3786"
             ],
             [
              0.5555555555555556,
              "#d8576b"
             ],
             [
              0.6666666666666666,
              "#ed7953"
             ],
             [
              0.7777777777777778,
              "#fb9f3a"
             ],
             [
              0.8888888888888888,
              "#fdca26"
             ],
             [
              1,
              "#f0f921"
             ]
            ],
            "type": "contour"
           }
          ],
          "contourcarpet": [
           {
            "colorbar": {
             "outlinewidth": 0,
             "ticks": ""
            },
            "type": "contourcarpet"
           }
          ],
          "heatmap": [
           {
            "colorbar": {
             "outlinewidth": 0,
             "ticks": ""
            },
            "colorscale": [
             [
              0,
              "#0d0887"
             ],
             [
              0.1111111111111111,
              "#46039f"
             ],
             [
              0.2222222222222222,
              "#7201a8"
             ],
             [
              0.3333333333333333,
              "#9c179e"
             ],
             [
              0.4444444444444444,
              "#bd3786"
             ],
             [
              0.5555555555555556,
              "#d8576b"
             ],
             [
              0.6666666666666666,
              "#ed7953"
             ],
             [
              0.7777777777777778,
              "#fb9f3a"
             ],
             [
              0.8888888888888888,
              "#fdca26"
             ],
             [
              1,
              "#f0f921"
             ]
            ],
            "type": "heatmap"
           }
          ],
          "histogram": [
           {
            "marker": {
             "pattern": {
              "fillmode": "overlay",
              "size": 10,
              "solidity": 0.2
             }
            },
            "type": "histogram"
           }
          ],
          "histogram2d": [
           {
            "colorbar": {
             "outlinewidth": 0,
             "ticks": ""
            },
            "colorscale": [
             [
              0,
              "#0d0887"
             ],
             [
              0.1111111111111111,
              "#46039f"
             ],
             [
              0.2222222222222222,
              "#7201a8"
             ],
             [
              0.3333333333333333,
              "#9c179e"
             ],
             [
              0.4444444444444444,
              "#bd3786"
             ],
             [
              0.5555555555555556,
              "#d8576b"
             ],
             [
              0.6666666666666666,
              "#ed7953"
             ],
             [
              0.7777777777777778,
              "#fb9f3a"
             ],
             [
              0.8888888888888888,
              "#fdca26"
             ],
             [
              1,
              "#f0f921"
             ]
            ],
            "type": "histogram2d"
           }
          ],
          "histogram2dcontour": [
           {
            "colorbar": {
             "outlinewidth": 0,
             "ticks": ""
            },
            "colorscale": [
             [
              0,
              "#0d0887"
             ],
             [
              0.1111111111111111,
              "#46039f"
             ],
             [
              0.2222222222222222,
              "#7201a8"
             ],
             [
              0.3333333333333333,
              "#9c179e"
             ],
             [
              0.4444444444444444,
              "#bd3786"
             ],
             [
              0.5555555555555556,
              "#d8576b"
             ],
             [
              0.6666666666666666,
              "#ed7953"
             ],
             [
              0.7777777777777778,
              "#fb9f3a"
             ],
             [
              0.8888888888888888,
              "#fdca26"
             ],
             [
              1,
              "#f0f921"
             ]
            ],
            "type": "histogram2dcontour"
           }
          ],
          "mesh3d": [
           {
            "colorbar": {
             "outlinewidth": 0,
             "ticks": ""
            },
            "type": "mesh3d"
           }
          ],
          "parcoords": [
           {
            "line": {
             "colorbar": {
              "outlinewidth": 0,
              "ticks": ""
             }
            },
            "type": "parcoords"
           }
          ],
          "pie": [
           {
            "automargin": true,
            "type": "pie"
           }
          ],
          "scatter": [
           {
            "fillpattern": {
             "fillmode": "overlay",
             "size": 10,
             "solidity": 0.2
            },
            "type": "scatter"
           }
          ],
          "scatter3d": [
           {
            "line": {
             "colorbar": {
              "outlinewidth": 0,
              "ticks": ""
             }
            },
            "marker": {
             "colorbar": {
              "outlinewidth": 0,
              "ticks": ""
             }
            },
            "type": "scatter3d"
           }
          ],
          "scattercarpet": [
           {
            "marker": {
             "colorbar": {
              "outlinewidth": 0,
              "ticks": ""
             }
            },
            "type": "scattercarpet"
           }
          ],
          "scattergeo": [
           {
            "marker": {
             "colorbar": {
              "outlinewidth": 0,
              "ticks": ""
             }
            },
            "type": "scattergeo"
           }
          ],
          "scattergl": [
           {
            "marker": {
             "colorbar": {
              "outlinewidth": 0,
              "ticks": ""
             }
            },
            "type": "scattergl"
           }
          ],
          "scattermap": [
           {
            "marker": {
             "colorbar": {
              "outlinewidth": 0,
              "ticks": ""
             }
            },
            "type": "scattermap"
           }
          ],
          "scattermapbox": [
           {
            "marker": {
             "colorbar": {
              "outlinewidth": 0,
              "ticks": ""
             }
            },
            "type": "scattermapbox"
           }
          ],
          "scatterpolar": [
           {
            "marker": {
             "colorbar": {
              "outlinewidth": 0,
              "ticks": ""
             }
            },
            "type": "scatterpolar"
           }
          ],
          "scatterpolargl": [
           {
            "marker": {
             "colorbar": {
              "outlinewidth": 0,
              "ticks": ""
             }
            },
            "type": "scatterpolargl"
           }
          ],
          "scatterternary": [
           {
            "marker": {
             "colorbar": {
              "outlinewidth": 0,
              "ticks": ""
             }
            },
            "type": "scatterternary"
           }
          ],
          "surface": [
           {
            "colorbar": {
             "outlinewidth": 0,
             "ticks": ""
            },
            "colorscale": [
             [
              0,
              "#0d0887"
             ],
             [
              0.1111111111111111,
              "#46039f"
             ],
             [
              0.2222222222222222,
              "#7201a8"
             ],
             [
              0.3333333333333333,
              "#9c179e"
             ],
             [
              0.4444444444444444,
              "#bd3786"
             ],
             [
              0.5555555555555556,
              "#d8576b"
             ],
             [
              0.6666666666666666,
              "#ed7953"
             ],
             [
              0.7777777777777778,
              "#fb9f3a"
             ],
             [
              0.8888888888888888,
              "#fdca26"
             ],
             [
              1,
              "#f0f921"
             ]
            ],
            "type": "surface"
           }
          ],
          "table": [
           {
            "cells": {
             "fill": {
              "color": "#EBF0F8"
             },
             "line": {
              "color": "white"
             }
            },
            "header": {
             "fill": {
              "color": "#C8D4E3"
             },
             "line": {
              "color": "white"
             }
            },
            "type": "table"
           }
          ]
         },
         "layout": {
          "annotationdefaults": {
           "arrowcolor": "#2a3f5f",
           "arrowhead": 0,
           "arrowwidth": 1
          },
          "autotypenumbers": "strict",
          "coloraxis": {
           "colorbar": {
            "outlinewidth": 0,
            "ticks": ""
           }
          },
          "colorscale": {
           "diverging": [
            [
             0,
             "#8e0152"
            ],
            [
             0.1,
             "#c51b7d"
            ],
            [
             0.2,
             "#de77ae"
            ],
            [
             0.3,
             "#f1b6da"
            ],
            [
             0.4,
             "#fde0ef"
            ],
            [
             0.5,
             "#f7f7f7"
            ],
            [
             0.6,
             "#e6f5d0"
            ],
            [
             0.7,
             "#b8e186"
            ],
            [
             0.8,
             "#7fbc41"
            ],
            [
             0.9,
             "#4d9221"
            ],
            [
             1,
             "#276419"
            ]
           ],
           "sequential": [
            [
             0,
             "#0d0887"
            ],
            [
             0.1111111111111111,
             "#46039f"
            ],
            [
             0.2222222222222222,
             "#7201a8"
            ],
            [
             0.3333333333333333,
             "#9c179e"
            ],
            [
             0.4444444444444444,
             "#bd3786"
            ],
            [
             0.5555555555555556,
             "#d8576b"
            ],
            [
             0.6666666666666666,
             "#ed7953"
            ],
            [
             0.7777777777777778,
             "#fb9f3a"
            ],
            [
             0.8888888888888888,
             "#fdca26"
            ],
            [
             1,
             "#f0f921"
            ]
           ],
           "sequentialminus": [
            [
             0,
             "#0d0887"
            ],
            [
             0.1111111111111111,
             "#46039f"
            ],
            [
             0.2222222222222222,
             "#7201a8"
            ],
            [
             0.3333333333333333,
             "#9c179e"
            ],
            [
             0.4444444444444444,
             "#bd3786"
            ],
            [
             0.5555555555555556,
             "#d8576b"
            ],
            [
             0.6666666666666666,
             "#ed7953"
            ],
            [
             0.7777777777777778,
             "#fb9f3a"
            ],
            [
             0.8888888888888888,
             "#fdca26"
            ],
            [
             1,
             "#f0f921"
            ]
           ]
          },
          "colorway": [
           "#636efa",
           "#EF553B",
           "#00cc96",
           "#ab63fa",
           "#FFA15A",
           "#19d3f3",
           "#FF6692",
           "#B6E880",
           "#FF97FF",
           "#FECB52"
          ],
          "font": {
           "color": "#2a3f5f"
          },
          "geo": {
           "bgcolor": "white",
           "lakecolor": "white",
           "landcolor": "#E5ECF6",
           "showlakes": true,
           "showland": true,
           "subunitcolor": "white"
          },
          "hoverlabel": {
           "align": "left"
          },
          "hovermode": "closest",
          "mapbox": {
           "style": "light"
          },
          "paper_bgcolor": "white",
          "plot_bgcolor": "#E5ECF6",
          "polar": {
           "angularaxis": {
            "gridcolor": "white",
            "linecolor": "white",
            "ticks": ""
           },
           "bgcolor": "#E5ECF6",
           "radialaxis": {
            "gridcolor": "white",
            "linecolor": "white",
            "ticks": ""
           }
          },
          "scene": {
           "xaxis": {
            "backgroundcolor": "#E5ECF6",
            "gridcolor": "white",
            "gridwidth": 2,
            "linecolor": "white",
            "showbackground": true,
            "ticks": "",
            "zerolinecolor": "white"
           },
           "yaxis": {
            "backgroundcolor": "#E5ECF6",
            "gridcolor": "white",
            "gridwidth": 2,
            "linecolor": "white",
            "showbackground": true,
            "ticks": "",
            "zerolinecolor": "white"
           },
           "zaxis": {
            "backgroundcolor": "#E5ECF6",
            "gridcolor": "white",
            "gridwidth": 2,
            "linecolor": "white",
            "showbackground": true,
            "ticks": "",
            "zerolinecolor": "white"
           }
          },
          "shapedefaults": {
           "line": {
            "color": "#2a3f5f"
           }
          },
          "ternary": {
           "aaxis": {
            "gridcolor": "white",
            "linecolor": "white",
            "ticks": ""
           },
           "baxis": {
            "gridcolor": "white",
            "linecolor": "white",
            "ticks": ""
           },
           "bgcolor": "#E5ECF6",
           "caxis": {
            "gridcolor": "white",
            "linecolor": "white",
            "ticks": ""
           }
          },
          "title": {
           "x": 0.05
          },
          "xaxis": {
           "automargin": true,
           "gridcolor": "white",
           "linecolor": "white",
           "ticks": "",
           "title": {
            "standoff": 15
           },
           "zerolinecolor": "white",
           "zerolinewidth": 2
          },
          "yaxis": {
           "automargin": true,
           "gridcolor": "white",
           "linecolor": "white",
           "ticks": "",
           "title": {
            "standoff": 15
           },
           "zerolinecolor": "white",
           "zerolinewidth": 2
          }
         }
        },
        "title": {
         "text": "Position Order vs Target Finish"
        },
        "xaxis": {
         "anchor": "y",
         "domain": [
          0,
          1
         ],
         "title": {
          "text": "positionOrder"
         }
        },
        "yaxis": {
         "anchor": "x",
         "domain": [
          0,
          1
         ],
         "title": {
          "text": "count"
         }
        }
       }
      }
     },
     "metadata": {},
     "output_type": "display_data"
    }
   ],
   "source": [
    "fig = px.histogram(df, x='positionOrder', color='target_finish', barmode='group', title='Position Order vs Target Finish')\n",
    "fig.show()"
   ]
  },
  {
   "cell_type": "code",
   "execution_count": 17,
   "id": "0bd6905e",
   "metadata": {},
   "outputs": [
    {
     "data": {
      "application/vnd.plotly.v1+json": {
       "config": {
        "plotlyServerURL": "https://plot.ly"
       },
       "data": [
        {
         "alignmentgroup": "True",
         "hovertemplate": "target_finish=1<br>laps=%{x}<extra></extra>",
         "legendgroup": "1",
         "marker": {
          "color": "#636efa"
         },
         "name": "1",
         "notched": false,
         "offsetgroup": "1",
         "orientation": "h",
         "showlegend": true,
         "type": "box",
         "x": {
          "bdata": "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",
          "dtype": "f8"
         },
         "x0": " ",
         "xaxis": "x",
         "y0": " ",
         "yaxis": "y"
        },
        {
         "alignmentgroup": "True",
         "hovertemplate": "target_finish=0<br>laps=%{x}<extra></extra>",
         "legendgroup": "0",
         "marker": {
          "color": "#EF553B"
         },
         "name": "0",
         "notched": false,
         "offsetgroup": "0",
         "orientation": "h",
         "showlegend": true,
         "type": "box",
         "x": {
          "bdata": "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",
          "dtype": "f8"
         },
         "x0": " ",
         "xaxis": "x",
         "y0": " ",
         "yaxis": "y"
        }
       ],
       "layout": {
        "boxmode": "group",
        "legend": {
         "title": {
          "text": "target_finish"
         },
         "tracegroupgap": 0
        },
        "template": {
         "data": {
          "bar": [
           {
            "error_x": {
             "color": "#2a3f5f"
            },
            "error_y": {
             "color": "#2a3f5f"
            },
            "marker": {
             "line": {
              "color": "#E5ECF6",
              "width": 0.5
             },
             "pattern": {
              "fillmode": "overlay",
              "size": 10,
              "solidity": 0.2
             }
            },
            "type": "bar"
           }
          ],
          "barpolar": [
           {
            "marker": {
             "line": {
              "color": "#E5ECF6",
              "width": 0.5
             },
             "pattern": {
              "fillmode": "overlay",
              "size": 10,
              "solidity": 0.2
             }
            },
            "type": "barpolar"
           }
          ],
          "carpet": [
           {
            "aaxis": {
             "endlinecolor": "#2a3f5f",
             "gridcolor": "white",
             "linecolor": "white",
             "minorgridcolor": "white",
             "startlinecolor": "#2a3f5f"
            },
            "baxis": {
             "endlinecolor": "#2a3f5f",
             "gridcolor": "white",
             "linecolor": "white",
             "minorgridcolor": "white",
             "startlinecolor": "#2a3f5f"
            },
            "type": "carpet"
           }
          ],
          "choropleth": [
           {
            "colorbar": {
             "outlinewidth": 0,
             "ticks": ""
            },
            "type": "choropleth"
           }
          ],
          "contour": [
           {
            "colorbar": {
             "outlinewidth": 0,
             "ticks": ""
            },
            "colorscale": [
             [
              0,
              "#0d0887"
             ],
             [
              0.1111111111111111,
              "#46039f"
             ],
             [
              0.2222222222222222,
              "#7201a8"
             ],
             [
              0.3333333333333333,
              "#9c179e"
             ],
             [
              0.4444444444444444,
              "#bd3786"
             ],
             [
              0.5555555555555556,
              "#d8576b"
             ],
             [
              0.6666666666666666,
              "#ed7953"
             ],
             [
              0.7777777777777778,
              "#fb9f3a"
             ],
             [
              0.8888888888888888,
              "#fdca26"
             ],
             [
              1,
              "#f0f921"
             ]
            ],
            "type": "contour"
           }
          ],
          "contourcarpet": [
           {
            "colorbar": {
             "outlinewidth": 0,
             "ticks": ""
            },
            "type": "contourcarpet"
           }
          ],
          "heatmap": [
           {
            "colorbar": {
             "outlinewidth": 0,
             "ticks": ""
            },
            "colorscale": [
             [
              0,
              "#0d0887"
             ],
             [
              0.1111111111111111,
              "#46039f"
             ],
             [
              0.2222222222222222,
              "#7201a8"
             ],
             [
              0.3333333333333333,
              "#9c179e"
             ],
             [
              0.4444444444444444,
              "#bd3786"
             ],
             [
              0.5555555555555556,
              "#d8576b"
             ],
             [
              0.6666666666666666,
              "#ed7953"
             ],
             [
              0.7777777777777778,
              "#fb9f3a"
             ],
             [
              0.8888888888888888,
              "#fdca26"
             ],
             [
              1,
              "#f0f921"
             ]
            ],
            "type": "heatmap"
           }
          ],
          "histogram": [
           {
            "marker": {
             "pattern": {
              "fillmode": "overlay",
              "size": 10,
              "solidity": 0.2
             }
            },
            "type": "histogram"
           }
          ],
          "histogram2d": [
           {
            "colorbar": {
             "outlinewidth": 0,
             "ticks": ""
            },
            "colorscale": [
             [
              0,
              "#0d0887"
             ],
             [
              0.1111111111111111,
              "#46039f"
             ],
             [
              0.2222222222222222,
              "#7201a8"
             ],
             [
              0.3333333333333333,
              "#9c179e"
             ],
             [
              0.4444444444444444,
              "#bd3786"
             ],
             [
              0.5555555555555556,
              "#d8576b"
             ],
             [
              0.6666666666666666,
              "#ed7953"
             ],
             [
              0.7777777777777778,
              "#fb9f3a"
             ],
             [
              0.8888888888888888,
              "#fdca26"
             ],
             [
              1,
              "#f0f921"
             ]
            ],
            "type": "histogram2d"
           }
          ],
          "histogram2dcontour": [
           {
            "colorbar": {
             "outlinewidth": 0,
             "ticks": ""
            },
            "colorscale": [
             [
              0,
              "#0d0887"
             ],
             [
              0.1111111111111111,
              "#46039f"
             ],
             [
              0.2222222222222222,
              "#7201a8"
             ],
             [
              0.3333333333333333,
              "#9c179e"
             ],
             [
              0.4444444444444444,
              "#bd3786"
             ],
             [
              0.5555555555555556,
              "#d8576b"
             ],
             [
              0.6666666666666666,
              "#ed7953"
             ],
             [
              0.7777777777777778,
              "#fb9f3a"
             ],
             [
              0.8888888888888888,
              "#fdca26"
             ],
             [
              1,
              "#f0f921"
             ]
            ],
            "type": "histogram2dcontour"
           }
          ],
          "mesh3d": [
           {
            "colorbar": {
             "outlinewidth": 0,
             "ticks": ""
            },
            "type": "mesh3d"
           }
          ],
          "parcoords": [
           {
            "line": {
             "colorbar": {
              "outlinewidth": 0,
              "ticks": ""
             }
            },
            "type": "parcoords"
           }
          ],
          "pie": [
           {
            "automargin": true,
            "type": "pie"
           }
          ],
          "scatter": [
           {
            "fillpattern": {
             "fillmode": "overlay",
             "size": 10,
             "solidity": 0.2
            },
            "type": "scatter"
           }
          ],
          "scatter3d": [
           {
            "line": {
             "colorbar": {
              "outlinewidth": 0,
              "ticks": ""
             }
            },
            "marker": {
             "colorbar": {
              "outlinewidth": 0,
              "ticks": ""
             }
            },
            "type": "scatter3d"
           }
          ],
          "scattercarpet": [
           {
            "marker": {
             "colorbar": {
              "outlinewidth": 0,
              "ticks": ""
             }
            },
            "type": "scattercarpet"
           }
          ],
          "scattergeo": [
           {
            "marker": {
             "colorbar": {
              "outlinewidth": 0,
              "ticks": ""
             }
            },
            "type": "scattergeo"
           }
          ],
          "scattergl": [
           {
            "marker": {
             "colorbar": {
              "outlinewidth": 0,
              "ticks": ""
             }
            },
            "type": "scattergl"
           }
          ],
          "scattermap": [
           {
            "marker": {
             "colorbar": {
              "outlinewidth": 0,
              "ticks": ""
             }
            },
            "type": "scattermap"
           }
          ],
          "scattermapbox": [
           {
            "marker": {
             "colorbar": {
              "outlinewidth": 0,
              "ticks": ""
             }
            },
            "type": "scattermapbox"
           }
          ],
          "scatterpolar": [
           {
            "marker": {
             "colorbar": {
              "outlinewidth": 0,
              "ticks": ""
             }
            },
            "type": "scatterpolar"
           }
          ],
          "scatterpolargl": [
           {
            "marker": {
             "colorbar": {
              "outlinewidth": 0,
              "ticks": ""
             }
            },
            "type": "scatterpolargl"
           }
          ],
          "scatterternary": [
           {
            "marker": {
             "colorbar": {
              "outlinewidth": 0,
              "ticks": ""
             }
            },
            "type": "scatterternary"
           }
          ],
          "surface": [
           {
            "colorbar": {
             "outlinewidth": 0,
             "ticks": ""
            },
            "colorscale": [
             [
              0,
              "#0d0887"
             ],
             [
              0.1111111111111111,
              "#46039f"
             ],
             [
              0.2222222222222222,
              "#7201a8"
             ],
             [
              0.3333333333333333,
              "#9c179e"
             ],
             [
              0.4444444444444444,
              "#bd3786"
             ],
             [
              0.5555555555555556,
              "#d8576b"
             ],
             [
              0.6666666666666666,
              "#ed7953"
             ],
             [
              0.7777777777777778,
              "#fb9f3a"
             ],
             [
              0.8888888888888888,
              "#fdca26"
             ],
             [
              1,
              "#f0f921"
             ]
            ],
            "type": "surface"
           }
          ],
          "table": [
           {
            "cells": {
             "fill": {
              "color": "#EBF0F8"
             },
             "line": {
              "color": "white"
             }
            },
            "header": {
             "fill": {
              "color": "#C8D4E3"
             },
             "line": {
              "color": "white"
             }
            },
            "type": "table"
           }
          ]
         },
         "layout": {
          "annotationdefaults": {
           "arrowcolor": "#2a3f5f",
           "arrowhead": 0,
           "arrowwidth": 1
          },
          "autotypenumbers": "strict",
          "coloraxis": {
           "colorbar": {
            "outlinewidth": 0,
            "ticks": ""
           }
          },
          "colorscale": {
           "diverging": [
            [
             0,
             "#8e0152"
            ],
            [
             0.1,
             "#c51b7d"
            ],
            [
             0.2,
             "#de77ae"
            ],
            [
             0.3,
             "#f1b6da"
            ],
            [
             0.4,
             "#fde0ef"
            ],
            [
             0.5,
             "#f7f7f7"
            ],
            [
             0.6,
             "#e6f5d0"
            ],
            [
             0.7,
             "#b8e186"
            ],
            [
             0.8,
             "#7fbc41"
            ],
            [
             0.9,
             "#4d9221"
            ],
            [
             1,
             "#276419"
            ]
           ],
           "sequential": [
            [
             0,
             "#0d0887"
            ],
            [
             0.1111111111111111,
             "#46039f"
            ],
            [
             0.2222222222222222,
             "#7201a8"
            ],
            [
             0.3333333333333333,
             "#9c179e"
            ],
            [
             0.4444444444444444,
             "#bd3786"
            ],
            [
             0.5555555555555556,
             "#d8576b"
            ],
            [
             0.6666666666666666,
             "#ed7953"
            ],
            [
             0.7777777777777778,
             "#fb9f3a"
            ],
            [
             0.8888888888888888,
             "#fdca26"
            ],
            [
             1,
             "#f0f921"
            ]
           ],
           "sequentialminus": [
            [
             0,
             "#0d0887"
            ],
            [
             0.1111111111111111,
             "#46039f"
            ],
            [
             0.2222222222222222,
             "#7201a8"
            ],
            [
             0.3333333333333333,
             "#9c179e"
            ],
            [
             0.4444444444444444,
             "#bd3786"
            ],
            [
             0.5555555555555556,
             "#d8576b"
            ],
            [
             0.6666666666666666,
             "#ed7953"
            ],
            [
             0.7777777777777778,
             "#fb9f3a"
            ],
            [
             0.8888888888888888,
             "#fdca26"
            ],
            [
             1,
             "#f0f921"
            ]
           ]
          },
          "colorway": [
           "#636efa",
           "#EF553B",
           "#00cc96",
           "#ab63fa",
           "#FFA15A",
           "#19d3f3",
           "#FF6692",
           "#B6E880",
           "#FF97FF",
           "#FECB52"
          ],
          "font": {
           "color": "#2a3f5f"
          },
          "geo": {
           "bgcolor": "white",
           "lakecolor": "white",
           "landcolor": "#E5ECF6",
           "showlakes": true,
           "showland": true,
           "subunitcolor": "white"
          },
          "hoverlabel": {
           "align": "left"
          },
          "hovermode": "closest",
          "mapbox": {
           "style": "light"
          },
          "paper_bgcolor": "white",
          "plot_bgcolor": "#E5ECF6",
          "polar": {
           "angularaxis": {
            "gridcolor": "white",
            "linecolor": "white",
            "ticks": ""
           },
           "bgcolor": "#E5ECF6",
           "radialaxis": {
            "gridcolor": "white",
            "linecolor": "white",
            "ticks": ""
           }
          },
          "scene": {
           "xaxis": {
            "backgroundcolor": "#E5ECF6",
            "gridcolor": "white",
            "gridwidth": 2,
            "linecolor": "white",
            "showbackground": true,
            "ticks": "",
            "zerolinecolor": "white"
           },
           "yaxis": {
            "backgroundcolor": "#E5ECF6",
            "gridcolor": "white",
            "gridwidth": 2,
            "linecolor": "white",
            "showbackground": true,
            "ticks": "",
            "zerolinecolor": "white"
           },
           "zaxis": {
            "backgroundcolor": "#E5ECF6",
            "gridcolor": "white",
            "gridwidth": 2,
            "linecolor": "white",
            "showbackground": true,
            "ticks": "",
            "zerolinecolor": "white"
           }
          },
          "shapedefaults": {
           "line": {
            "color": "#2a3f5f"
           }
          },
          "ternary": {
           "aaxis": {
            "gridcolor": "white",
            "linecolor": "white",
            "ticks": ""
           },
           "baxis": {
            "gridcolor": "white",
            "linecolor": "white",
            "ticks": ""
           },
           "bgcolor": "#E5ECF6",
           "caxis": {
            "gridcolor": "white",
            "linecolor": "white",
            "ticks": ""
           }
          },
          "title": {
           "x": 0.05
          },
          "xaxis": {
           "automargin": true,
           "gridcolor": "white",
           "linecolor": "white",
           "ticks": "",
           "title": {
            "standoff": 15
           },
           "zerolinecolor": "white",
           "zerolinewidth": 2
          },
          "yaxis": {
           "automargin": true,
           "gridcolor": "white",
           "linecolor": "white",
           "ticks": "",
           "title": {
            "standoff": 15
           },
           "zerolinecolor": "white",
           "zerolinewidth": 2
          }
         }
        },
        "title": {
         "text": "Target Finish vs points colored by Grid"
        },
        "xaxis": {
         "anchor": "y",
         "domain": [
          0,
          1
         ],
         "title": {
          "text": "laps"
         }
        },
        "yaxis": {
         "anchor": "x",
         "domain": [
          0,
          1
         ]
        }
       }
      }
     },
     "metadata": {},
     "output_type": "display_data"
    }
   ],
   "source": [
    "fig = px.box(df, x=\"laps\", color=\"target_finish\", title=\"Target Finish vs points colored by Grid\")\n",
    "fig.show()"
   ]
  },
  {
   "cell_type": "code",
   "execution_count": 18,
   "id": "93adef95",
   "metadata": {},
   "outputs": [
    {
     "data": {
      "application/vnd.plotly.v1+json": {
       "config": {
        "plotlyServerURL": "https://plot.ly"
       },
       "data": [
        {
         "bingroup": "x",
         "hovertemplate": "target_finish=1<br>circuitRef=%{x}<br>count=%{y}<extra></extra>",
         "legendgroup": "1",
         "marker": {
          "color": "#636efa",
          "pattern": {
           "shape": ""
          }
         },
         "name": "1",
         "orientation": "v",
         "showlegend": true,
         "type": "histogram",
         "x": [
          "hungaroring",
          "monza",
          "villeneuve",
          "adelaide",
          "catalunya",
          "brands_hatch",
          "charade",
          "monaco",
          "monaco",
          "monza",
          "interlagos",
          "suzuka",
          "interlagos",
          "marina_bay",
          "adelaide",
          "hockenheimring",
          "catalunya",
          "red_bull_ring",
          "yas_marina",
          "sepang",
          "miami",
          "donington",
          "villeneuve",
          "sepang",
          "nurburgring",
          "rodriguez",
          "interlagos",
          "monza",
          "yas_marina",
          "sepang",
          "bremgarten",
          "jeddah",
          "silverstone",
          "brands_hatch",
          "catalunya",
          "vegas",
          "interlagos",
          "silverstone",
          "montjuic",
          "interlagos",
          "interlagos",
          "shanghai",
          "baku",
          "red_bull_ring",
          "spa",
          "pescara",
          "monza",
          "phoenix",
          "monaco",
          "ricard",
          "hungaroring",
          "shanghai",
          "suzuka",
          "monaco",
          "albert_park",
          "spa",
          "istanbul",
          "villeneuve",
          "zandvoort",
          "magny_cours",
          "miami",
          "indianapolis",
          "phoenix",
          "bahrain",
          "galvez",
          "imola",
          "kyalami",
          "hockenheimring",
          "galvez",
          "nurburgring",
          "imola",
          "hockenheimring",
          "indianapolis",
          "buddh",
          "nurburgring",
          "shanghai",
          "nurburgring",
          "monaco",
          "shanghai",
          "long_beach",
          "hockenheimring",
          "yas_marina",
          "magny_cours",
          "hockenheimring",
          "fuji",
          "catalunya",
          "bahrain",
          "monaco",
          "albert_park",
          "long_beach",
          "imola",
          "silverstone",
          "hockenheimring",
          "catalunya",
          "yeongam",
          "marina_bay",
          "sochi",
          "villeneuve",
          "shanghai",
          "silverstone",
          "red_bull_ring",
          "vegas",
          "suzuka",
          "baku",
          "charade",
          "bahrain",
          "villeneuve",
          "monaco",
          "red_bull_ring",
          "jeddah",
          "interlagos",
          "silverstone",
          "spa",
          "hockenheimring",
          "hockenheimring",
          "imola",
          "indianapolis",
          "silverstone",
          "villeneuve",
          "marina_bay",
          "detroit",
          "marina_bay",
          "silverstone",
          "spa",
          "indianapolis",
          "monza",
          "losail",
          "interlagos",
          "bahrain",
          "imola",
          "monaco",
          "catalunya",
          "silverstone",
          "long_beach",
          "spa",
          "suzuka",
          "zandvoort",
          "monza",
          "anderstorp",
          "spa",
          "silverstone",
          "galvez",
          "yas_marina",
          "long_beach",
          "hungaroring",
          "brands_hatch",
          "ricard",
          "monza",
          "hockenheimring",
          "americas",
          "baku",
          "suzuka",
          "monza",
          "zolder",
          "hockenheimring",
          "villeneuve",
          "shanghai",
          "yas_marina",
          "silverstone",
          "kyalami",
          "monaco",
          "rodriguez",
          "spa",
          "silverstone",
          "suzuka",
          "bahrain",
          "spa",
          "hungaroring",
          "zandvoort",
          "jacarepagua",
          "hungaroring",
          "jarama",
          "hungaroring",
          "sepang",
          "bahrain",
          "catalunya",
          "bahrain",
          "monza",
          "jarama",
          "istanbul",
          "sochi",
          "anderstorp",
          "monaco",
          "albert_park",
          "magny_cours",
          "hungaroring",
          "suzuka",
          "jarama",
          "silverstone",
          "spa",
          "red_bull_ring",
          "dijon",
          "imola",
          "villeneuve",
          "sepang",
          "essarts",
          "buddh",
          "ricard",
          "albert_park",
          "hockenheimring",
          "suzuka",
          "monza",
          "spa",
          "nurburgring",
          "imola",
          "silverstone",
          "kyalami",
          "ain-diab",
          "baku",
          "sochi",
          "ricard",
          "suzuka",
          "nurburgring",
          "spa",
          "shanghai",
          "suzuka",
          "rodriguez",
          "monaco",
          "nurburgring",
          "sochi",
          "rodriguez",
          "hockenheimring",
          "yas_marina",
          "silverstone",
          "losail",
          "suzuka",
          "villeneuve",
          "jerez",
          "watkins_glen",
          "mosport",
          "george",
          "marina_bay",
          "galvez",
          "ricard",
          "kyalami",
          "istanbul",
          "monza",
          "monaco",
          "long_beach",
          "interlagos",
          "monza",
          "bahrain",
          "monaco",
          "brands_hatch",
          "bahrain",
          "marina_bay",
          "suzuka",
          "baku",
          "nurburgring",
          "miami",
          "yas_marina",
          "indianapolis",
          "watkins_glen",
          "kyalami",
          "mosport",
          "villeneuve",
          "kyalami",
          "hungaroring",
          "interlagos",
          "monza",
          "ricard",
          "suzuka",
          "monza",
          "suzuka",
          "bahrain",
          "hockenheimring",
          "marina_bay",
          "spa",
          "monaco",
          "nurburgring",
          "suzuka",
          "monza",
          "vegas",
          "watkins_glen",
          "silverstone",
          "americas",
          "imola",
          "albert_park",
          "interlagos",
          "villeneuve",
          "spa",
          "red_bull_ring",
          "ricard",
          "hockenheimring",
          "watkins_glen",
          "albert_park",
          "aintree",
          "hockenheimring",
          "albert_park",
          "monaco",
          "spa",
          "interlagos",
          "nurburgring",
          "monaco",
          "suzuka",
          "silverstone",
          "americas",
          "hungaroring",
          "yas_marina",
          "bahrain",
          "jeddah",
          "red_bull_ring",
          "marina_bay",
          "sochi",
          "nurburgring",
          "interlagos",
          "interlagos",
          "spa",
          "yas_marina",
          "zolder",
          "hockenheimring",
          "spa",
          "spa",
          "marina_bay",
          "rodriguez",
          "spa",
          "interlagos",
          "villeneuve",
          "hockenheimring",
          "bahrain",
          "silverstone",
          "spa",
          "monza",
          "nurburgring",
          "bahrain",
          "spa",
          "villeneuve",
          "silverstone",
          "monza",
          "spa",
          "jarama",
          "villeneuve",
          "indianapolis",
          "sepang",
          "red_bull_ring",
          "magny_cours",
          "suzuka",
          "fuji",
          "baku",
          "zandvoort",
          "silverstone",
          "hockenheimring",
          "silverstone",
          "mosport",
          "monaco",
          "yas_marina",
          "marina_bay",
          "adelaide",
          "catalunya",
          "catalunya",
          "losail",
          "yas_marina",
          "catalunya",
          "losail",
          "villeneuve",
          "albert_park",
          "imola",
          "buddh",
          "silverstone",
          "spa",
          "villeneuve",
          "villeneuve",
          "spa",
          "istanbul",
          "monaco",
          "estoril",
          "ricard",
          "imola",
          "hockenheimring",
          "silverstone",
          "americas",
          "spa",
          "interlagos",
          "marina_bay",
          "anderstorp",
          "villeneuve",
          "estoril",
          "imola",
          "villeneuve",
          "silverstone",
          "albert_park",
          "albert_park",
          "hockenheimring",
          "hungaroring",
          "spa",
          "nurburgring",
          "interlagos",
          "sochi",
          "red_bull_ring",
          "baku",
          "reims",
          "rodriguez",
          "dijon",
          "rodriguez",
          "nurburgring",
          "red_bull_ring",
          "monza",
          "adelaide",
          "albert_park",
          "nurburgring",
          "spa",
          "imola",
          "fuji",
          "galvez",
          "sepang",
          "spa",
          "hungaroring",
          "nurburgring",
          "bahrain",
          "ricard",
          "catalunya",
          "monaco",
          "spa",
          "imola",
          "reims",
          "zandvoort",
          "silverstone",
          "americas",
          "suzuka",
          "red_bull_ring",
          "dijon",
          "interlagos",
          "monza",
          "spa",
          "silverstone",
          "red_bull_ring",
          "monza",
          "catalunya",
          "spa",
          "magny_cours",
          "spa",
          "galvez",
          "okayama",
          "villeneuve",
          "galvez",
          "albert_park",
          "yas_marina",
          "interlagos",
          "spa",
          "hockenheimring",
          "valencia",
          "monaco",
          "estoril",
          "mosport",
          "hockenheimring",
          "shanghai",
          "jerez",
          "villeneuve",
          "watkins_glen",
          "albert_park",
          "monaco",
          "silverstone",
          "suzuka",
          "rodriguez",
          "silverstone",
          "suzuka",
          "monza",
          "suzuka",
          "yas_marina",
          "suzuka",
          "galvez",
          "imola",
          "hockenheimring",
          "villeneuve",
          "red_bull_ring",
          "yas_marina",
          "shanghai",
          "baku",
          "indianapolis",
          "hungaroring",
          "shanghai",
          "monaco",
          "nurburgring",
          "hungaroring",
          "nurburgring",
          "indianapolis",
          "sepang",
          "magny_cours",
          "vegas",
          "spa",
          "monza",
          "monza",
          "monaco",
          "spa",
          "red_bull_ring",
          "estoril",
          "silverstone",
          "monaco",
          "suzuka",
          "monza",
          "bahrain",
          "indianapolis",
          "hungaroring",
          "silverstone",
          "suzuka",
          "yas_marina",
          "sepang",
          "suzuka",
          "catalunya",
          "shanghai",
          "mosport",
          "villeneuve",
          "monza",
          "spa",
          "hungaroring",
          "hockenheimring",
          "ricard",
          "bahrain",
          "villeneuve",
          "suzuka",
          "spa",
          "red_bull_ring",
          "villeneuve",
          "catalunya",
          "red_bull_ring",
          "spa",
          "suzuka",
          "monaco",
          "silverstone",
          "kyalami",
          "albert_park",
          "rodriguez",
          "istanbul",
          "villeneuve",
          "spa",
          "adelaide",
          "nurburgring",
          "suzuka",
          "villeneuve",
          "fuji",
          "silverstone",
          "silverstone",
          "baku",
          "nurburgring",
          "spa",
          "monza",
          "spa",
          "hungaroring",
          "monza",
          "estoril",
          "sochi",
          "albert_park",
          "catalunya",
          "indianapolis",
          "nurburgring",
          "hockenheimring",
          "nurburgring",
          "hungaroring",
          "red_bull_ring",
          "silverstone",
          "monaco",
          "bahrain",
          "spa",
          "indianapolis",
          "sochi",
          "hockenheimring",
          "red_bull_ring",
          "monaco",
          "silverstone",
          "reims",
          "interlagos",
          "galvez",
          "hockenheimring",
          "bahrain",
          "interlagos",
          "losail",
          "spa",
          "albert_park",
          "shanghai",
          "buddh",
          "imola",
          "hockenheimring",
          "spa",
          "red_bull_ring",
          "hungaroring",
          "monza",
          "americas",
          "valencia",
          "hungaroring",
          "suzuka",
          "nurburgring",
          "monaco",
          "bahrain",
          "sochi",
          "hockenheimring",
          "yas_marina",
          "interlagos",
          "rodriguez",
          "sepang",
          "villeneuve",
          "silverstone",
          "spa",
          "silverstone",
          "silverstone",
          "watkins_glen",
          "monza",
          "shanghai",
          "istanbul",
          "yas_marina",
          "monza",
          "villeneuve",
          "spa",
          "marina_bay",
          "albert_park",
          "ricard",
          "monza",
          "hungaroring",
          "interlagos",
          "silverstone",
          "albert_park",
          "sepang",
          "sepang",
          "nurburgring",
          "magny_cours",
          "hockenheimring",
          "silverstone",
          "bahrain",
          "suzuka",
          "catalunya",
          "hungaroring",
          "nurburgring",
          "suzuka",
          "istanbul",
          "istanbul",
          "hockenheimring",
          "spa",
          "hockenheimring",
          "red_bull_ring",
          "interlagos",
          "hungaroring",
          "hungaroring",
          "ricard",
          "spa",
          "hungaroring",
          "spa",
          "suzuka",
          "sepang",
          "ain-diab",
          "spa",
          "red_bull_ring",
          "villeneuve",
          "baku",
          "bahrain",
          "watkins_glen",
          "monza",
          "ricard",
          "suzuka",
          "spa",
          "sochi",
          "magny_cours",
          "monza",
          "spa",
          "americas",
          "villeneuve",
          "shanghai",
          "silverstone",
          "monza",
          "yas_marina",
          "jacarepagua",
          "istanbul",
          "indianapolis",
          "hockenheimring",
          "monza",
          "zandvoort",
          "interlagos",
          "rodriguez",
          "silverstone",
          "pescara",
          "dallas",
          "spa",
          "catalunya",
          "bahrain",
          "americas",
          "rodriguez",
          "villeneuve",
          "hockenheimring",
          "yas_marina",
          "hungaroring",
          "hockenheimring",
          "suzuka",
          "villeneuve",
          "hockenheimring",
          "monaco",
          "monza",
          "rodriguez",
          "monaco",
          "monaco",
          "baku",
          "suzuka",
          "monza",
          "suzuka",
          "villeneuve",
          "indianapolis",
          "ricard",
          "magny_cours",
          "monza",
          "interlagos",
          "zandvoort",
          "suzuka",
          "spa",
          "dijon",
          "yas_marina",
          "nurburgring",
          "imola",
          "red_bull_ring",
          "nurburgring",
          "mosport",
          "villeneuve",
          "hungaroring",
          "marina_bay",
          "marina_bay",
          "imola",
          "suzuka",
          "buddh",
          "villeneuve",
          "magny_cours",
          "monza",
          "marina_bay",
          "hungaroring",
          "red_bull_ring",
          "yeongam",
          "reims",
          "villeneuve",
          "monaco",
          "sepang",
          "nurburgring",
          "magny_cours",
          "zandvoort",
          "monza",
          "nurburgring",
          "sepang",
          "nurburgring",
          "galvez",
          "charade",
          "spa",
          "mosport",
          "albert_park",
          "shanghai",
          "monaco",
          "avus",
          "sepang",
          "albert_park",
          "monza",
          "watkins_glen",
          "villeneuve",
          "hockenheimring",
          "americas",
          "bahrain",
          "zandvoort",
          "bahrain",
          "monaco",
          "indianapolis",
          "imola",
          "hockenheimring",
          "villeneuve",
          "yeongam",
          "silverstone",
          "hockenheimring",
          "zandvoort",
          "dijon",
          "hungaroring",
          "americas",
          "catalunya",
          "nurburgring",
          "bahrain",
          "shanghai",
          "shanghai",
          "americas",
          "monza",
          "magny_cours",
          "hockenheimring",
          "monza",
          "monza",
          "galvez",
          "bahrain",
          "valencia",
          "yeongam",
          "kyalami",
          "marina_bay",
          "indianapolis",
          "albert_park",
          "nurburgring",
          "red_bull_ring",
          "monaco",
          "imola",
          "villeneuve",
          "magny_cours",
          "albert_park",
          "marina_bay",
          "ricard",
          "monza",
          "imola",
          "kyalami",
          "sepang",
          "bahrain",
          "catalunya",
          "baku",
          "reims",
          "rodriguez",
          "suzuka",
          "monza",
          "zandvoort",
          "zandvoort",
          "spa",
          "bahrain",
          "americas",
          "valencia",
          "spa",
          "monza",
          "galvez",
          "villeneuve",
          "monza",
          "sepang",
          "sepang",
          "zandvoort",
          "spa",
          "catalunya",
          "americas",
          "baku",
          "nurburgring",
          "spa",
          "estoril",
          "sepang",
          "mosport",
          "nurburgring",
          "villeneuve",
          "monaco",
          "suzuka",
          "monza",
          "suzuka",
          "monaco",
          "bahrain",
          "adelaide",
          "istanbul",
          "spa",
          "monza",
          "valencia",
          "catalunya",
          "marina_bay",
          "monza",
          "red_bull_ring",
          "silverstone",
          "yas_marina",
          "hungaroring",
          "monza",
          "hungaroring",
          "silverstone",
          "istanbul",
          "americas",
          "shanghai",
          "monza",
          "zandvoort",
          "interlagos",
          "jerez",
          "bahrain",
          "spa",
          "indianapolis",
          "nurburgring",
          "adelaide",
          "suzuka",
          "silverstone",
          "shanghai",
          "estoril",
          "monza",
          "spa",
          "villeneuve",
          "marina_bay",
          "hockenheimring",
          "monza",
          "catalunya",
          "monaco",
          "spa",
          "villeneuve",
          "monza",
          "magny_cours",
          "watkins_glen",
          "villeneuve",
          "indianapolis",
          "rodriguez",
          "interlagos",
          "monza",
          "magny_cours",
          "hockenheimring",
          "marina_bay",
          "nurburgring",
          "red_bull_ring",
          "monaco",
          "galvez",
          "marina_bay",
          "monaco",
          "bahrain",
          "monza",
          "villeneuve",
          "spa",
          "monaco",
          "hungaroring",
          "silverstone",
          "hungaroring",
          "marina_bay",
          "red_bull_ring",
          "istanbul",
          "baku",
          "hungaroring",
          "shanghai",
          "phoenix",
          "suzuka",
          "spa",
          "bremgarten",
          "yeongam",
          "magny_cours",
          "hockenheimring",
          "baku",
          "hockenheimring",
          "bahrain",
          "catalunya",
          "istanbul",
          "indianapolis",
          "hungaroring",
          "shanghai",
          "rodriguez",
          "monza",
          "albert_park",
          "hockenheimring",
          "estoril",
          "shanghai",
          "zandvoort",
          "monaco",
          "miami",
          "adelaide",
          "marina_bay",
          "magny_cours",
          "spa",
          "silverstone",
          "miami",
          "detroit",
          "silverstone",
          "mugello",
          "monaco",
          "reims",
          "nurburgring",
          "hungaroring",
          "interlagos",
          "bahrain",
          "magny_cours",
          "spa",
          "americas",
          "imola",
          "baku",
          "miami",
          "zandvoort",
          "spa",
          "valencia",
          "villeneuve",
          "americas",
          "indianapolis",
          "spa",
          "rodriguez",
          "spa",
          "suzuka",
          "bahrain",
          "interlagos",
          "reims",
          "silverstone",
          "nurburgring",
          "rodriguez",
          "silverstone",
          "monaco",
          "spa",
          "americas",
          "monza",
          "silverstone",
          "estoril",
          "ricard",
          "bahrain",
          "indianapolis",
          "red_bull_ring",
          "silverstone",
          "albert_park",
          "galvez",
          "spa",
          "red_bull_ring",
          "adelaide",
          "hungaroring",
          "red_bull_ring",
          "americas",
          "monaco",
          "americas",
          "silverstone",
          "yeongam",
          "zandvoort",
          "sochi",
          "indianapolis",
          "hungaroring",
          "suzuka",
          "sepang",
          "villeneuve",
          "hockenheimring",
          "spa",
          "nurburgring",
          "miami",
          "rodriguez",
          "yas_marina",
          "catalunya",
          "anderstorp",
          "monza",
          "spa",
          "suzuka",
          "imola",
          "interlagos",
          "nurburgring",
          "red_bull_ring",
          "ricard",
          "hungaroring",
          "suzuka",
          "monaco",
          "baku",
          "aintree",
          "albert_park",
          "monza",
          "brands_hatch",
          "watkins_glen",
          "marina_bay",
          "hockenheimring",
          "americas",
          "galvez",
          "monza",
          "istanbul",
          "monaco",
          "bahrain",
          "silverstone",
          "red_bull_ring",
          "indianapolis",
          "monza",
          "hockenheimring",
          "red_bull_ring",
          "ricard",
          "villeneuve",
          "red_bull_ring",
          "catalunya",
          "detroit",
          "albert_park",
          "hungaroring",
          "watkins_glen",
          "imola",
          "monza",
          "red_bull_ring",
          "monaco",
          "watkins_glen",
          "charade",
          "indianapolis",
          "magny_cours",
          "nurburgring",
          "marina_bay",
          "kyalami",
          "spa",
          "interlagos",
          "jarama",
          "nurburgring",
          "sochi",
          "yas_marina",
          "hungaroring",
          "silverstone",
          "monza",
          "nurburgring",
          "monza",
          "bremgarten",
          "sepang",
          "nurburgring",
          "spa",
          "sochi",
          "aintree",
          "vegas",
          "hungaroring",
          "albert_park",
          "zandvoort",
          "valencia",
          "kyalami",
          "zandvoort",
          "villeneuve",
          "red_bull_ring",
          "catalunya",
          "hockenheimring",
          "spa",
          "miami",
          "marina_bay",
          "istanbul",
          "kyalami",
          "monaco",
          "ricard",
          "spa",
          "hungaroring",
          "indianapolis",
          "jeddah",
          "ricard",
          "monaco",
          "marina_bay",
          "silverstone",
          "catalunya",
          "monza",
          "monza",
          "hockenheimring",
          "americas",
          "suzuka",
          "monza",
          "indianapolis",
          "reims",
          "monza",
          "catalunya",
          "estoril",
          "monaco",
          "villeneuve",
          "anderstorp",
          "rodriguez",
          "sepang",
          "monza",
          "jacarepagua",
          "losail",
          "red_bull_ring",
          "imola",
          "albert_park",
          "nurburgring",
          "monaco",
          "interlagos",
          "istanbul",
          "silverstone",
          "bahrain",
          "spa",
          "istanbul",
          "suzuka",
          "monza",
          "silverstone",
          "catalunya",
          "monza",
          "indianapolis",
          "sochi",
          "yas_marina",
          "interlagos",
          "portimao",
          "villeneuve",
          "spa",
          "villeneuve",
          "silverstone",
          "brands_hatch",
          "adelaide",
          "zandvoort",
          "hungaroring",
          "red_bull_ring",
          "watkins_glen",
          "galvez",
          "zandvoort",
          "brands_hatch",
          "indianapolis",
          "rodriguez",
          "silverstone",
          "rodriguez",
          "sochi",
          "nurburgring",
          "interlagos",
          "hungaroring",
          "interlagos",
          "nurburgring",
          "magny_cours",
          "spa",
          "spa",
          "reims",
          "spa",
          "long_beach",
          "rodriguez",
          "suzuka",
          "silverstone",
          "hockenheimring",
          "villeneuve",
          "shanghai",
          "spa",
          "silverstone",
          "red_bull_ring",
          "miami",
          "imola",
          "fuji",
          "jeddah",
          "hungaroring",
          "ricard",
          "red_bull_ring",
          "rodriguez",
          "detroit",
          "monaco",
          "baku",
          "hungaroring",
          "villeneuve",
          "ricard",
          "hockenheimring",
          "monza",
          "interlagos",
          "monaco",
          "americas",
          "long_beach",
          "monaco",
          "zandvoort",
          "albert_park",
          "adelaide",
          "interlagos",
          "interlagos",
          "bremgarten",
          "valencia",
          "dijon",
          "hockenheimring",
          "brands_hatch",
          "catalunya",
          "spa",
          "sepang",
          "villeneuve",
          "imola",
          "monaco",
          "americas",
          "monaco",
          "baku",
          "suzuka",
          "indianapolis",
          "hockenheimring",
          "suzuka",
          "galvez",
          "sepang",
          "galvez",
          "marina_bay",
          "hungaroring",
          "monaco",
          "rodriguez",
          "hungaroring",
          "spa",
          "hungaroring",
          "rodriguez",
          "villeneuve",
          "yas_marina",
          "monaco",
          "monaco",
          "monza",
          "nurburgring",
          "aintree",
          "silverstone",
          "silverstone",
          "istanbul",
          "spa",
          "red_bull_ring",
          "albert_park",
          "yeongam",
          "watkins_glen",
          "spa",
          "monza",
          "sepang",
          "nurburgring",
          "albert_park",
          "istanbul",
          "watkins_glen",
          "jacarepagua",
          "sepang",
          "shanghai",
          "shanghai",
          "ricard",
          "ricard",
          "monza",
          "monza",
          "istanbul",
          "monaco",
          "catalunya",
          "monza",
          "suzuka",
          "silverstone",
          "bahrain",
          "red_bull_ring",
          "silverstone",
          "zandvoort",
          "monza",
          "ricard",
          "villeneuve",
          "hockenheimring",
          "monza",
          "hungaroring",
          "albert_park",
          "yas_marina",
          "silverstone",
          "ricard",
          "kyalami",
          "magny_cours",
          "marina_bay",
          "magny_cours",
          "catalunya",
          "albert_park",
          "ricard",
          "interlagos",
          "nurburgring",
          "magny_cours",
          "marina_bay",
          "mugello",
          "magny_cours",
          "suzuka",
          "hungaroring",
          "hockenheimring",
          "red_bull_ring",
          "albert_park",
          "yas_marina",
          "fuji",
          "bahrain",
          "galvez",
          "buddh",
          "ricard",
          "indianapolis",
          "suzuka",
          "charade",
          "monza",
          "boavista",
          "villeneuve",
          "suzuka",
          "shanghai",
          "indianapolis",
          "monza",
          "monza",
          "rodriguez",
          "long_beach",
          "magny_cours",
          "albert_park",
          "hungaroring",
          "spa",
          "indianapolis",
          "suzuka",
          "spa",
          "zolder",
          "yas_marina",
          "detroit",
          "jacarepagua",
          "shanghai",
          "kyalami",
          "suzuka",
          "bahrain",
          "monza",
          "zandvoort",
          "sochi",
          "americas",
          "detroit",
          "nurburgring",
          "red_bull_ring",
          "bahrain",
          "yas_marina",
          "spa",
          "istanbul",
          "monaco",
          "spa",
          "spa",
          "silverstone",
          "shanghai",
          "silverstone",
          "rodriguez",
          "interlagos",
          "galvez",
          "albert_park",
          "monza",
          "brands_hatch",
          "bahrain",
          "albert_park",
          "yas_marina",
          "catalunya",
          "nurburgring",
          "yas_marina",
          "albert_park",
          "buddh",
          "villeneuve",
          "yas_marina",
          "spa",
          "spa",
          "hungaroring",
          "yas_marina",
          "monza",
          "imola",
          "ricard",
          "silverstone",
          "spa",
          "sepang",
          "bremgarten",
          "red_bull_ring",
          "galvez",
          "albert_park",
          "hockenheimring",
          "catalunya",
          "sepang",
          "monaco",
          "zandvoort",
          "bahrain",
          "nurburgring",
          "brands_hatch",
          "hungaroring",
          "charade",
          "watkins_glen",
          "spa",
          "nurburgring",
          "americas",
          "hungaroring",
          "sochi",
          "silverstone",
          "ricard",
          "brands_hatch",
          "magny_cours",
          "yas_marina",
          "monza",
          "spa",
          "rodriguez",
          "anderstorp",
          "vegas",
          "aintree",
          "yas_marina",
          "albert_park",
          "adelaide",
          "monza",
          "rodriguez",
          "indianapolis",
          "baku",
          "yas_marina",
          "sochi",
          "suzuka",
          "silverstone",
          "monaco",
          "istanbul",
          "villeneuve",
          "zandvoort",
          "americas",
          "ricard",
          "monaco",
          "shanghai",
          "watkins_glen",
          "villeneuve",
          "interlagos",
          "hockenheimring",
          "hungaroring",
          "brands_hatch",
          "interlagos",
          "ricard",
          "suzuka",
          "catalunya",
          "bahrain",
          "silverstone",
          "marina_bay",
          "aintree",
          "miami",
          "monaco",
          "monaco",
          "monza",
          "zandvoort",
          "jeddah",
          "shanghai",
          "sochi",
          "hungaroring",
          "spa",
          "jacarepagua",
          "silverstone",
          "monza",
          "shanghai",
          "monaco",
          "jacarepagua",
          "silverstone",
          "interlagos",
          "rodriguez",
          "yas_marina",
          "sepang",
          "bahrain",
          "hungaroring",
          "adelaide",
          "interlagos",
          "monaco",
          "nurburgring",
          "zandvoort",
          "suzuka",
          "monza",
          "nurburgring",
          "indianapolis",
          "indianapolis",
          "silverstone",
          "hockenheimring",
          "villeneuve",
          "monaco",
          "yas_marina",
          "bahrain",
          "suzuka",
          "nurburgring",
          "marina_bay",
          "hockenheimring",
          "albert_park",
          "mugello",
          "silverstone",
          "hungaroring",
          "nurburgring",
          "zolder",
          "hungaroring",
          "nurburgring",
          "nurburgring",
          "albert_park",
          "spa",
          "monza",
          "red_bull_ring",
          "essarts",
          "portimao",
          "hockenheimring",
          "detroit",
          "silverstone",
          "catalunya",
          "suzuka",
          "monaco",
          "galvez",
          "buddh",
          "spa",
          "bahrain",
          "monza",
          "jeddah",
          "nurburgring",
          "indianapolis",
          "catalunya",
          "suzuka",
          "hungaroring",
          "estoril",
          "imola",
          "spa",
          "red_bull_ring",
          "suzuka",
          "dijon",
          "losail",
          "monaco",
          "villeneuve",
          "hockenheimring",
          "interlagos",
          "marina_bay",
          "silverstone",
          "red_bull_ring",
          "shanghai",
          "nurburgring",
          "hockenheimring",
          "valencia",
          "hockenheimring",
          "nurburgring",
          "monza",
          "jacarepagua",
          "spa",
          "zolder",
          "silverstone",
          "monaco",
          "indianapolis",
          "marina_bay",
          "zandvoort",
          "kyalami",
          "hockenheimring",
          "albert_park",
          "sepang",
          "catalunya",
          "dijon",
          "albert_park",
          "interlagos",
          "bahrain",
          "spa",
          "magny_cours",
          "red_bull_ring",
          "imola",
          "bahrain",
          "imola",
          "zandvoort",
          "imola",
          "monza",
          "hungaroring",
          "imola",
          "zandvoort",
          "bahrain",
          "magny_cours",
          "silverstone",
          "nurburgring",
          "indianapolis",
          "mugello",
          "red_bull_ring",
          "monza",
          "albert_park",
          "nurburgring",
          "villeneuve",
          "ricard",
          "interlagos",
          "istanbul",
          "catalunya",
          "monaco",
          "villeneuve",
          "shanghai",
          "interlagos",
          "avus",
          "valencia",
          "valencia",
          "watkins_glen",
          "nurburgring",
          "spa",
          "galvez",
          "americas",
          "spa",
          "monza",
          "indianapolis",
          "jeddah",
          "shanghai",
          "valencia",
          "monza",
          "kyalami",
          "indianapolis",
          "interlagos",
          "monza",
          "istanbul",
          "ricard",
          "interlagos",
          "silverstone",
          "indianapolis",
          "istanbul",
          "catalunya",
          "ricard",
          "nurburgring",
          "baku",
          "suzuka",
          "catalunya",
          "bahrain",
          "imola",
          "sepang",
          "buddh",
          "jarama",
          "monaco",
          "shanghai",
          "jacarepagua",
          "interlagos",
          "dijon",
          "silverstone",
          "silverstone",
          "catalunya",
          "spa",
          "catalunya",
          "buddh",
          "jarama",
          "red_bull_ring",
          "yas_marina",
          "spa",
          "monza",
          "zolder",
          "spa",
          "indianapolis",
          "zandvoort",
          "rodriguez",
          "catalunya",
          "albert_park",
          "interlagos",
          "zandvoort",
          "americas",
          "indianapolis",
          "estoril",
          "monza",
          "zandvoort",
          "kyalami",
          "jacarepagua",
          "bahrain",
          "imola",
          "hungaroring",
          "kyalami",
          "monza",
          "ricard",
          "losail",
          "silverstone",
          "red_bull_ring",
          "baku",
          "suzuka",
          "monza",
          "hockenheimring",
          "george",
          "spa",
          "catalunya",
          "red_bull_ring",
          "istanbul",
          "catalunya",
          "red_bull_ring",
          "silverstone",
          "jacarepagua",
          "jerez",
          "indianapolis",
          "hungaroring",
          "yeongam",
          "magny_cours",
          "silverstone",
          "long_beach",
          "spa",
          "jeddah",
          "hungaroring",
          "valencia",
          "nurburgring",
          "monaco",
          "monaco",
          "istanbul",
          "suzuka",
          "kyalami",
          "monza",
          "reims",
          "anderstorp",
          "americas",
          "kyalami",
          "buddh",
          "silverstone",
          "nurburgring",
          "sepang",
          "shanghai",
          "jerez",
          "baku",
          "sepang",
          "charade",
          "catalunya",
          "albert_park",
          "yas_marina",
          "bahrain",
          "villeneuve",
          "spa",
          "villeneuve",
          "shanghai",
          "albert_park",
          "brands_hatch",
          "boavista",
          "villeneuve",
          "imola",
          "silverstone",
          "jerez",
          "fuji",
          "rodriguez",
          "red_bull_ring",
          "yeongam",
          "villeneuve",
          "interlagos",
          "albert_park",
          "charade",
          "baku",
          "miami",
          "catalunya",
          "hungaroring",
          "monza",
          "red_bull_ring",
          "monza",
          "americas",
          "suzuka",
          "silverstone",
          "detroit",
          "yas_marina",
          "baku",
          "yas_marina",
          "jacarepagua",
          "hockenheimring",
          "hungaroring",
          "monaco",
          "nurburgring",
          "suzuka",
          "interlagos",
          "vegas",
          "rodriguez",
          "indianapolis",
          "spa",
          "ricard",
          "albert_park",
          "albert_park",
          "villeneuve",
          "spa",
          "nurburgring",
          "catalunya",
          "suzuka",
          "indianapolis",
          "hungaroring",
          "nurburgring",
          "sepang",
          "monaco",
          "galvez",
          "buddh",
          "yeongam",
          "silverstone",
          "monza",
          "hungaroring",
          "monza",
          "yas_marina",
          "nurburgring",
          "vegas",
          "hockenheimring",
          "albert_park",
          "suzuka",
          "jerez",
          "zandvoort",
          "ricard",
          "imola",
          "suzuka",
          "rodriguez",
          "spa",
          "suzuka",
          "detroit",
          "valencia",
          "monza",
          "sepang",
          "albert_park",
          "silverstone",
          "hungaroring",
          "hungaroring",
          "catalunya",
          "catalunya",
          "galvez",
          "monaco",
          "miami",
          "albert_park",
          "monaco",
          "baku",
          "monza",
          "silverstone",
          "hockenheimring",
          "nurburgring",
          "estoril",
          "spa",
          "monaco",
          "mosport",
          "magny_cours",
          "spa",
          "indianapolis",
          "yas_marina",
          "hockenheimring",
          "spa",
          "marina_bay",
          "spa",
          "spa",
          "hockenheimring",
          "albert_park",
          "mosport",
          "americas",
          "catalunya",
          "shanghai",
          "silverstone",
          "rodriguez",
          "monaco",
          "monaco",
          "indianapolis",
          "portimao",
          "kyalami",
          "shanghai",
          "monza",
          "spa",
          "monza",
          "monza",
          "sepang",
          "galvez",
          "hockenheimring",
          "silverstone",
          "shanghai",
          "zandvoort",
          "nurburgring",
          "hockenheimring",
          "istanbul",
          "shanghai",
          "monza",
          "americas",
          "yas_marina",
          "marina_bay",
          "bahrain",
          "monza",
          "monaco",
          "silverstone",
          "anderstorp",
          "dijon",
          "watkins_glen",
          "mugello",
          "villeneuve",
          "americas",
          "zandvoort",
          "interlagos",
          "silverstone",
          "jarama",
          "imola",
          "spa",
          "hockenheimring",
          "zandvoort",
          "suzuka",
          "villeneuve",
          "monza",
          "ricard",
          "bahrain",
          "hungaroring",
          "nurburgring",
          "villeneuve",
          "aintree",
          "hockenheimring",
          "silverstone",
          "yas_marina",
          "ricard",
          "rodriguez",
          "suzuka",
          "zandvoort",
          "monza",
          "monza",
          "suzuka",
          "hungaroring",
          "jerez",
          "galvez",
          "suzuka",
          "hungaroring",
          "hockenheimring",
          "yas_marina",
          "reims",
          "hockenheimring",
          "monaco",
          "americas",
          "monza",
          "spa",
          "nurburgring",
          "albert_park",
          "baku",
          "bahrain",
          "zandvoort",
          "interlagos",
          "montjuic",
          "suzuka",
          "yas_marina",
          "monaco",
          "albert_park",
          "monaco",
          "monza",
          "interlagos",
          "suzuka",
          "shanghai",
          "portimao",
          "detroit",
          "albert_park",
          "jerez",
          "suzuka",
          "red_bull_ring",
          "sepang",
          "monaco",
          "hungaroring",
          "silverstone",
          "hungaroring",
          "indianapolis",
          "yas_marina",
          "suzuka",
          "suzuka",
          "fuji",
          "villeneuve",
          "ricard",
          "vegas",
          "jeddah",
          "villeneuve",
          "sepang",
          "detroit",
          "hockenheimring",
          "sepang",
          "yas_marina",
          "monaco",
          "indianapolis",
          "red_bull_ring",
          "imola",
          "reims",
          "nurburgring",
          "monaco",
          "interlagos",
          "americas",
          "monza",
          "monza",
          "rodriguez",
          "marina_bay",
          "silverstone",
          "americas",
          "americas",
          "monaco",
          "americas",
          "imola",
          "zandvoort",
          "las_vegas",
          "yeongam",
          "silverstone",
          "indianapolis",
          "bahrain",
          "sepang",
          "spa",
          "monaco",
          "marina_bay",
          "villeneuve",
          "villeneuve",
          "magny_cours",
          "jacarepagua",
          "albert_park",
          "shanghai",
          "marina_bay",
          "galvez",
          "shanghai",
          "monza",
          "hungaroring",
          "villeneuve",
          "reims",
          "shanghai",
          "bahrain",
          "imola",
          "interlagos",
          "americas",
          "zandvoort",
          "villeneuve",
          "monza",
          "monza",
          "monaco",
          "galvez",
          "silverstone",
          "indianapolis",
          "bahrain",
          "nurburgring",
          "silverstone",
          "imola",
          "suzuka",
          "vegas",
          "albert_park",
          "galvez",
          "zandvoort",
          "nurburgring",
          "indianapolis",
          "silverstone",
          "monza",
          "spa",
          "monza",
          "sochi",
          "hungaroring",
          "jeddah",
          "interlagos",
          "miami",
          "marina_bay",
          "rodriguez",
          "red_bull_ring",
          "shanghai",
          "spa",
          "monza",
          "americas",
          "marina_bay",
          "shanghai",
          "nurburgring",
          "yas_marina",
          "catalunya",
          "indianapolis",
          "silverstone",
          "catalunya",
          "watkins_glen",
          "charade",
          "silverstone",
          "interlagos",
          "monza",
          "yas_marina",
          "charade",
          "americas",
          "hockenheimring",
          "watkins_glen",
          "spa",
          "zandvoort",
          "silverstone",
          "baku",
          "suzuka",
          "yeongam",
          "interlagos",
          "bahrain",
          "monaco",
          "villeneuve",
          "jeddah",
          "spa",
          "interlagos",
          "interlagos",
          "ricard",
          "galvez",
          "catalunya",
          "imola",
          "americas",
          "americas",
          "yas_marina",
          "jeddah",
          "buddh",
          "hockenheimring",
          "hockenheimring",
          "istanbul",
          "spa",
          "suzuka",
          "bahrain",
          "nurburgring",
          "watkins_glen",
          "interlagos",
          "suzuka",
          "nurburgring",
          "long_beach",
          "nurburgring",
          "baku",
          "albert_park",
          "suzuka",
          "villeneuve",
          "albert_park",
          "vegas",
          "interlagos",
          "bahrain",
          "zandvoort",
          "silverstone",
          "monza",
          "marina_bay",
          "monza",
          "interlagos",
          "nurburgring",
          "sepang",
          "silverstone",
          "red_bull_ring",
          "suzuka",
          "suzuka",
          "silverstone",
          "hungaroring",
          "albert_park",
          "monza",
          "jerez",
          "indianapolis",
          "imola",
          "rodriguez",
          "vegas",
          "albert_park",
          "rodriguez",
          "hungaroring",
          "monaco",
          "jarama",
          "albert_park",
          "indianapolis",
          "aintree",
          "indianapolis",
          "imola",
          "hungaroring",
          "spa",
          "long_beach",
          "spa",
          "villeneuve",
          "interlagos",
          "catalunya",
          "baku",
          "monaco",
          "yeongam",
          "shanghai",
          "spa",
          "monaco",
          "portimao",
          "villeneuve",
          "spa",
          "brands_hatch",
          "nurburgring",
          "jacarepagua",
          "albert_park",
          "monza",
          "hockenheimring",
          "watkins_glen",
          "spa",
          "villeneuve",
          "americas",
          "estoril",
          "interlagos",
          "watkins_glen",
          "shanghai",
          "kyalami",
          "sochi",
          "portimao",
          "monza",
          "shanghai",
          "catalunya",
          "nurburgring",
          "interlagos",
          "jeddah",
          "ricard",
          "monza",
          "nurburgring",
          "silverstone",
          "bahrain",
          "interlagos",
          "zandvoort",
          "imola",
          "suzuka",
          "bahrain",
          "spa",
          "red_bull_ring",
          "zandvoort",
          "yeongam",
          "interlagos",
          "bahrain",
          "jarama",
          "silverstone",
          "spa",
          "hungaroring",
          "hockenheimring",
          "interlagos",
          "dijon",
          "george",
          "rodriguez",
          "interlagos",
          "miami",
          "spa",
          "bahrain",
          "jarama",
          "nurburgring",
          "monaco",
          "adelaide",
          "ricard",
          "monaco",
          "kyalami",
          "monza",
          "silverstone",
          "baku",
          "americas",
          "ricard",
          "silverstone",
          "spa",
          "hungaroring",
          "red_bull_ring",
          "villeneuve",
          "yeongam",
          "silverstone",
          "spa",
          "sepang",
          "hungaroring",
          "red_bull_ring",
          "red_bull_ring",
          "suzuka",
          "magny_cours",
          "bahrain",
          "rodriguez",
          "spa",
          "americas",
          "nurburgring",
          "spa",
          "monaco",
          "albert_park",
          "magny_cours",
          "marina_bay",
          "sochi",
          "silverstone",
          "bahrain",
          "monza",
          "shanghai",
          "reims",
          "nurburgring",
          "interlagos",
          "monaco",
          "yas_marina",
          "fuji",
          "monaco",
          "marina_bay",
          "americas",
          "red_bull_ring",
          "shanghai",
          "hungaroring",
          "hockenheimring",
          "rodriguez",
          "monza",
          "interlagos",
          "baku",
          "interlagos",
          "shanghai",
          "rodriguez",
          "villeneuve",
          "nurburgring",
          "spa",
          "hungaroring",
          "sepang",
          "villeneuve",
          "marina_bay",
          "jerez",
          "monza",
          "monza",
          "red_bull_ring",
          "indianapolis",
          "spa",
          "sochi",
          "monza",
          "mosport",
          "silverstone",
          "silverstone",
          "bahrain",
          "imola",
          "suzuka",
          "suzuka",
          "kyalami",
          "spa",
          "istanbul",
          "valencia",
          "monza",
          "fuji",
          "monaco",
          "yas_marina",
          "magny_cours",
          "hockenheimring",
          "marina_bay",
          "galvez",
          "nurburgring",
          "nurburgring",
          "americas",
          "red_bull_ring",
          "interlagos",
          "pescara",
          "bahrain",
          "shanghai",
          "red_bull_ring",
          "catalunya",
          "monaco",
          "rodriguez",
          "nurburgring",
          "estoril",
          "jarama",
          "interlagos",
          "ricard",
          "marina_bay",
          "hockenheimring",
          "hungaroring",
          "reims",
          "reims",
          "imola",
          "jacarepagua",
          "albert_park",
          "bahrain",
          "fuji",
          "indianapolis",
          "magny_cours",
          "spa",
          "red_bull_ring",
          "yeongam",
          "sepang",
          "catalunya",
          "hockenheimring",
          "jarama",
          "zolder",
          "nurburgring",
          "jerez",
          "nurburgring",
          "interlagos",
          "zolder",
          "monza",
          "villeneuve",
          "interlagos",
          "monza",
          "suzuka",
          "villeneuve",
          "albert_park",
          "buddh",
          "interlagos",
          "suzuka",
          "albert_park",
          "galvez",
          "interlagos",
          "marina_bay",
          "silverstone",
          "monaco",
          "red_bull_ring",
          "villeneuve",
          "monza",
          "nurburgring",
          "suzuka",
          "villeneuve",
          "sepang",
          "villeneuve",
          "spa",
          "imola",
          "yas_marina",
          "zandvoort",
          "ain-diab",
          "interlagos",
          "suzuka",
          "buddh",
          "villeneuve",
          "baku",
          "spa",
          "indianapolis",
          "monza",
          "istanbul",
          "nurburgring",
          "spa",
          "silverstone",
          "indianapolis",
          "nurburgring",
          "suzuka",
          "bahrain",
          "villeneuve",
          "hungaroring",
          "monza",
          "villeneuve",
          "albert_park",
          "monza",
          "suzuka",
          "silverstone",
          "monza",
          "yas_marina",
          "monza",
          "jeddah",
          "monaco",
          "monaco",
          "catalunya",
          "hungaroring",
          "spa",
          "americas",
          "anderstorp",
          "albert_park",
          "indianapolis",
          "indianapolis",
          "indianapolis",
          "vegas",
          "galvez",
          "dallas",
          "spa",
          "interlagos",
          "rodriguez",
          "yas_marina",
          "americas",
          "galvez",
          "istanbul",
          "albert_park",
          "spa",
          "marina_bay",
          "sepang",
          "watkins_glen",
          "catalunya",
          "catalunya",
          "monza",
          "monaco",
          "buddh",
          "spa",
          "interlagos",
          "ricard",
          "sepang",
          "yas_marina",
          "rodriguez",
          "marina_bay",
          "albert_park",
          "jacarepagua",
          "reims",
          "marina_bay",
          "adelaide",
          "shanghai",
          "shanghai",
          "aintree",
          "hungaroring",
          "rodriguez",
          "suzuka",
          "reims",
          "red_bull_ring",
          "shanghai",
          "villeneuve",
          "zandvoort",
          "kyalami",
          "marina_bay",
          "magny_cours",
          "spa",
          "shanghai",
          "sepang",
          "zandvoort",
          "spa",
          "miami",
          "yeongam",
          "interlagos",
          "jerez",
          "hungaroring",
          "bahrain",
          "albert_park",
          "monza",
          "spa",
          "suzuka",
          "imola",
          "monaco",
          "indianapolis",
          "shanghai",
          "nurburgring",
          "catalunya",
          "spa",
          "nurburgring",
          "suzuka",
          "spa",
          "hungaroring",
          "yas_marina",
          "monaco",
          "spa",
          "monaco",
          "silverstone",
          "imola",
          "kyalami",
          "villeneuve",
          "imola",
          "hockenheimring",
          "avus",
          "red_bull_ring",
          "albert_park",
          "nurburgring",
          "suzuka",
          "spa",
          "imola",
          "spa",
          "zandvoort",
          "long_beach",
          "spa",
          "zandvoort",
          "monza",
          "hungaroring",
          "silverstone",
          "yas_marina",
          "valencia",
          "imola",
          "interlagos",
          "americas",
          "villeneuve",
          "miami",
          "albert_park",
          "spa",
          "hockenheimring",
          "spa",
          "shanghai",
          "suzuka",
          "red_bull_ring",
          "hockenheimring",
          "yas_marina",
          "yeongam",
          "hungaroring",
          "estoril",
          "silverstone",
          "albert_park",
          "red_bull_ring",
          "yas_marina",
          "villeneuve",
          "nurburgring",
          "monza",
          "spa",
          "suzuka",
          "valencia",
          "monza",
          "silverstone",
          "baku",
          "nurburgring",
          "shanghai",
          "sepang",
          "baku",
          "watkins_glen",
          "mugello",
          "bahrain",
          "villeneuve",
          "ricard",
          "monza",
          "interlagos",
          "monza",
          "americas",
          "yas_marina",
          "monza",
          "villeneuve",
          "suzuka",
          "indianapolis",
          "monza",
          "albert_park",
          "albert_park",
          "villeneuve",
          "interlagos",
          "monaco",
          "ricard",
          "indianapolis",
          "interlagos",
          "marina_bay",
          "nurburgring",
          "catalunya",
          "hockenheimring",
          "monza",
          "galvez",
          "hockenheimring",
          "watkins_glen",
          "sepang",
          "silverstone",
          "long_beach",
          "hungaroring",
          "spa",
          "monza",
          "zolder",
          "indianapolis",
          "sepang",
          "nurburgring",
          "silverstone",
          "galvez",
          "marina_bay",
          "catalunya",
          "marina_bay",
          "charade",
          "spa",
          "spa",
          "interlagos",
          "hockenheimring",
          "bahrain",
          "hockenheimring",
          "shanghai",
          "silverstone",
          "watkins_glen",
          "jacarepagua",
          "shanghai",
          "marina_bay",
          "monza",
          "silverstone",
          "hockenheimring",
          "interlagos",
          "bahrain",
          "zandvoort",
          "nurburgring",
          "monaco",
          "red_bull_ring",
          "portimao",
          "marina_bay",
          "catalunya",
          "reims",
          "americas",
          "imola",
          "brands_hatch",
          "rodriguez",
          "hockenheimring",
          "red_bull_ring",
          "hockenheimring",
          "nurburgring",
          "hockenheimring",
          "yas_marina",
          "istanbul",
          "albert_park",
          "red_bull_ring",
          "nurburgring",
          "hungaroring",
          "istanbul",
          "suzuka",
          "catalunya",
          "bahrain",
          "adelaide",
          "valencia",
          "sepang",
          "red_bull_ring",
          "villeneuve",
          "vegas",
          "interlagos",
          "imola",
          "red_bull_ring",
          "monaco",
          "brands_hatch",
          "zandvoort",
          "bahrain",
          "hungaroring",
          "sepang",
          "hungaroring",
          "red_bull_ring",
          "zandvoort",
          "spa",
          "watkins_glen",
          "nurburgring",
          "hungaroring",
          "galvez",
          "nurburgring",
          "spa",
          "nurburgring",
          "interlagos",
          "suzuka",
          "estoril",
          "monaco",
          "spa",
          "silverstone",
          "catalunya",
          "monaco",
          "red_bull_ring",
          "bahrain",
          "jarama",
          "marina_bay",
          "villeneuve",
          "catalunya",
          "monza",
          "sochi",
          "baku",
          "rodriguez",
          "villeneuve",
          "rodriguez",
          "indianapolis",
          "spa",
          "yas_marina",
          "okayama",
          "spa",
          "spa",
          "monaco",
          "marina_bay",
          "zolder",
          "silverstone",
          "catalunya",
          "villeneuve",
          "interlagos",
          "silverstone",
          "red_bull_ring",
          "rodriguez",
          "hungaroring",
          "jacarepagua",
          "red_bull_ring",
          "interlagos",
          "valencia",
          "yas_marina",
          "zandvoort",
          "fuji",
          "interlagos",
          "ricard",
          "interlagos",
          "suzuka",
          "charade",
          "shanghai",
          "spa",
          "losail",
          "nurburgring",
          "shanghai",
          "spa",
          "red_bull_ring",
          "silverstone",
          "monza",
          "detroit",
          "villeneuve",
          "baku",
          "suzuka",
          "brands_hatch",
          "indianapolis",
          "monza",
          "magny_cours",
          "bahrain",
          "shanghai",
          "monaco",
          "monza",
          "albert_park",
          "reims",
          "monza",
          "brands_hatch",
          "vegas",
          "catalunya",
          "monaco",
          "albert_park",
          "monaco",
          "spa",
          "george",
          "monaco",
          "albert_park",
          "villeneuve",
          "essarts",
          "monaco",
          "magny_cours",
          "zolder",
          "interlagos",
          "spa",
          "jeddah",
          "jacarepagua",
          "istanbul",
          "hungaroring",
          "anderstorp",
          "baku",
          "hockenheimring",
          "monza",
          "galvez",
          "suzuka",
          "watkins_glen",
          "silverstone",
          "monaco",
          "suzuka",
          "baku",
          "aintree",
          "yeongam",
          "long_beach",
          "monza",
          "monza",
          "villeneuve",
          "yas_marina",
          "losail",
          "rodriguez",
          "monaco",
          "hungaroring",
          "istanbul",
          "monza",
          "indianapolis",
          "nurburgring",
          "monaco",
          "suzuka",
          "losail",
          "kyalami",
          "zandvoort",
          "ricard",
          "magny_cours",
          "imola",
          "spa",
          "hockenheimring",
          "nurburgring",
          "spa",
          "hungaroring",
          "imola",
          "zandvoort",
          "silverstone",
          "hockenheimring",
          "hungaroring",
          "vegas",
          "watkins_glen",
          "monaco",
          "monza",
          "galvez",
          "catalunya",
          "shanghai",
          "nurburgring",
          "monaco",
          "bahrain",
          "hungaroring",
          "monza",
          "red_bull_ring",
          "magny_cours",
          "rodriguez",
          "indianapolis",
          "brands_hatch",
          "losail",
          "suzuka",
          "americas",
          "zandvoort",
          "red_bull_ring",
          "catalunya",
          "estoril",
          "fuji",
          "bahrain",
          "spa",
          "indianapolis",
          "villeneuve",
          "albert_park",
          "zandvoort",
          "albert_park",
          "indianapolis",
          "suzuka",
          "interlagos",
          "americas",
          "shanghai",
          "kyalami",
          "interlagos",
          "marina_bay",
          "istanbul",
          "nurburgring",
          "interlagos",
          "long_beach",
          "nurburgring",
          "marina_bay",
          "silverstone",
          "monza",
          "hockenheimring",
          "silverstone",
          "imola",
          "interlagos",
          "catalunya",
          "losail",
          "adelaide",
          "red_bull_ring",
          "estoril",
          "hungaroring",
          "monza",
          "jacarepagua",
          "spa",
          "valencia",
          "monza",
          "baku",
          "estoril",
          "albert_park",
          "monza",
          "spa",
          "rodriguez",
          "watkins_glen",
          "monza",
          "hockenheimring",
          "suzuka",
          "sepang",
          "red_bull_ring",
          "monza",
          "silverstone",
          "spa",
          "hockenheimring",
          "catalunya",
          "monza",
          "villeneuve",
          "nurburgring",
          "shanghai",
          "villeneuve",
          "hungaroring",
          "yas_marina",
          "long_beach",
          "imola",
          "americas",
          "miami",
          "hockenheimring",
          "miami",
          "detroit",
          "ricard",
          "catalunya",
          "istanbul",
          "bahrain",
          "monza",
          "sochi",
          "villeneuve",
          "jerez",
          "suzuka",
          "albert_park",
          "brands_hatch",
          "spa",
          "shanghai",
          "sepang",
          "silverstone",
          "sepang",
          "yeongam",
          "sochi",
          "villeneuve",
          "sepang",
          "albert_park"
         ],
         "xaxis": "x",
         "yaxis": "y"
        },
        {
         "bingroup": "x",
         "hovertemplate": "target_finish=0<br>circuitRef=%{x}<br>count=%{y}<extra></extra>",
         "legendgroup": "0",
         "marker": {
          "color": "#EF553B",
          "pattern": {
           "shape": ""
          }
         },
         "name": "0",
         "orientation": "v",
         "showlegend": true,
         "type": "histogram",
         "x": [
          "long_beach",
          "nurburgring",
          "red_bull_ring",
          "monza",
          "monaco",
          "watkins_glen",
          "galvez",
          "suzuka",
          "adelaide",
          "phoenix",
          "americas",
          "spa",
          "brands_hatch",
          "hungaroring",
          "silverstone",
          "jarama",
          "kyalami",
          "estoril",
          "hockenheimring",
          "spa",
          "silverstone",
          "imola",
          "estoril",
          "bremgarten",
          "villeneuve",
          "hungaroring",
          "adelaide",
          "long_beach",
          "rodriguez",
          "red_bull_ring",
          "estoril",
          "indianapolis",
          "zolder",
          "monaco",
          "galvez",
          "imola",
          "ricard",
          "jarama",
          "villeneuve",
          "catalunya",
          "phoenix",
          "zeltweg",
          "catalunya",
          "hungaroring",
          "monza",
          "nurburgring",
          "albert_park",
          "monza",
          "imola",
          "hungaroring",
          "monza",
          "ricard",
          "mosport",
          "monza",
          "villeneuve",
          "shanghai",
          "red_bull_ring",
          "nurburgring",
          "estoril",
          "monaco",
          "indianapolis",
          "istanbul",
          "adelaide",
          "galvez",
          "zolder",
          "zolder",
          "kyalami",
          "yas_marina",
          "estoril",
          "kyalami",
          "monaco",
          "red_bull_ring",
          "zandvoort",
          "catalunya",
          "villeneuve",
          "bahrain",
          "silverstone",
          "hungaroring",
          "anderstorp",
          "monaco",
          "fuji",
          "galvez",
          "zandvoort",
          "monza",
          "catalunya",
          "ricard",
          "brands_hatch",
          "watkins_glen",
          "villeneuve",
          "red_bull_ring",
          "silverstone",
          "zandvoort",
          "monaco",
          "kyalami",
          "spa",
          "watkins_glen",
          "portimao",
          "galvez",
          "red_bull_ring",
          "villeneuve",
          "jacarepagua",
          "hungaroring",
          "kyalami",
          "charade",
          "villeneuve",
          "albert_park",
          "estoril",
          "mosport",
          "ricard",
          "nurburgring",
          "interlagos",
          "imola",
          "sepang",
          "silverstone",
          "silverstone",
          "montjuic",
          "monaco",
          "essarts",
          "magny_cours",
          "detroit",
          "jarama",
          "galvez",
          "indianapolis",
          "kyalami",
          "spa",
          "spa",
          "silverstone",
          "albert_park",
          "albert_park",
          "villeneuve",
          "monza",
          "villeneuve",
          "red_bull_ring",
          "adelaide",
          "silverstone",
          "silverstone",
          "brands_hatch",
          "montjuic",
          "monaco",
          "donington",
          "galvez",
          "detroit",
          "zandvoort",
          "catalunya",
          "spa",
          "jacarepagua",
          "spa",
          "silverstone",
          "galvez",
          "red_bull_ring",
          "jerez",
          "marina_bay",
          "monza",
          "monza",
          "rodriguez",
          "monaco",
          "monaco",
          "jarama",
          "spa",
          "hungaroring",
          "catalunya",
          "galvez",
          "monza",
          "americas",
          "watkins_glen",
          "valencia",
          "jerez",
          "red_bull_ring",
          "kyalami",
          "monza",
          "monza",
          "spa",
          "hockenheimring",
          "shanghai",
          "interlagos",
          "villeneuve",
          "imola",
          "monaco",
          "magny_cours",
          "imola",
          "monza",
          "monza",
          "sochi",
          "jacarepagua",
          "catalunya",
          "hungaroring",
          "villeneuve",
          "monza",
          "spa",
          "galvez",
          "monza",
          "monza",
          "monza",
          "monza",
          "interlagos",
          "monaco",
          "monaco",
          "red_bull_ring",
          "adelaide",
          "sepang",
          "kyalami",
          "monaco",
          "galvez",
          "silverstone",
          "silverstone",
          "zandvoort",
          "monaco",
          "villeneuve",
          "imola",
          "spa",
          "suzuka",
          "imola",
          "buddh",
          "spa",
          "yas_marina",
          "indianapolis",
          "silverstone",
          "reims",
          "silverstone",
          "imola",
          "catalunya",
          "villeneuve",
          "catalunya",
          "monza",
          "zandvoort",
          "zolder",
          "silverstone",
          "valencia",
          "ricard",
          "albert_park",
          "essarts",
          "hockenheimring",
          "dijon",
          "hungaroring",
          "reims",
          "monza",
          "bahrain",
          "red_bull_ring",
          "spa",
          "watkins_glen",
          "adelaide",
          "monza",
          "sepang",
          "red_bull_ring",
          "hockenheimring",
          "monza",
          "rodriguez",
          "dijon",
          "red_bull_ring",
          "silverstone",
          "monaco",
          "jacarepagua",
          "suzuka",
          "red_bull_ring",
          "las_vegas",
          "red_bull_ring",
          "americas",
          "red_bull_ring",
          "monaco",
          "bahrain",
          "zandvoort",
          "silverstone",
          "long_beach",
          "indianapolis",
          "adelaide",
          "zolder",
          "hockenheimring",
          "monza",
          "silverstone",
          "monza",
          "americas",
          "essarts",
          "brands_hatch",
          "zandvoort",
          "albert_park",
          "monza",
          "estoril",
          "suzuka",
          "red_bull_ring",
          "mosport",
          "rodriguez",
          "monaco",
          "sepang",
          "zolder",
          "zolder",
          "monaco",
          "aintree",
          "monaco",
          "villeneuve",
          "hockenheimring",
          "indianapolis",
          "interlagos",
          "aintree",
          "galvez",
          "watkins_glen",
          "magny_cours",
          "silverstone",
          "monaco",
          "monza",
          "imola",
          "monza",
          "kyalami",
          "suzuka",
          "jacarepagua",
          "interlagos",
          "monaco",
          "valencia",
          "spa",
          "zandvoort",
          "villeneuve",
          "monza",
          "monza",
          "hungaroring",
          "marina_bay",
          "hockenheimring",
          "shanghai",
          "imola",
          "silverstone",
          "red_bull_ring",
          "spa",
          "monza",
          "bahrain",
          "zandvoort",
          "galvez",
          "suzuka",
          "hungaroring",
          "monza",
          "nurburgring",
          "mugello",
          "hockenheimring",
          "monaco",
          "ricard",
          "kyalami",
          "albert_park",
          "magny_cours",
          "phoenix",
          "brands_hatch",
          "villeneuve",
          "estoril",
          "monza",
          "monaco",
          "silverstone",
          "suzuka",
          "monza",
          "imola",
          "americas",
          "red_bull_ring",
          "red_bull_ring",
          "sepang",
          "monza",
          "kyalami",
          "galvez",
          "sochi",
          "george",
          "jacarepagua",
          "villeneuve",
          "catalunya",
          "riverside",
          "kyalami",
          "villeneuve",
          "hungaroring",
          "interlagos",
          "suzuka",
          "villeneuve",
          "indianapolis",
          "villeneuve",
          "catalunya",
          "zandvoort",
          "long_beach",
          "bremgarten",
          "silverstone",
          "sepang",
          "monza",
          "hockenheimring",
          "sepang",
          "kyalami",
          "zandvoort",
          "villeneuve",
          "kyalami",
          "istanbul",
          "silverstone",
          "hockenheimring",
          "adelaide",
          "silverstone",
          "red_bull_ring",
          "albert_park",
          "imola",
          "kyalami",
          "zandvoort",
          "imola",
          "albert_park",
          "villeneuve",
          "monaco",
          "ricard",
          "zandvoort",
          "interlagos",
          "ricard",
          "yeongam",
          "ricard",
          "hockenheimring",
          "nurburgring",
          "fuji",
          "aintree",
          "adelaide",
          "ricard",
          "spa",
          "mosport",
          "spa",
          "monaco",
          "zandvoort",
          "brands_hatch",
          "aintree",
          "baku",
          "imola",
          "zandvoort",
          "marina_bay",
          "charade",
          "suzuka",
          "catalunya",
          "estoril",
          "monza",
          "watkins_glen",
          "albert_park",
          "villeneuve",
          "sepang",
          "silverstone",
          "reims",
          "villeneuve",
          "monaco",
          "watkins_glen",
          "aintree",
          "brands_hatch",
          "indianapolis",
          "yas_marina",
          "watkins_glen",
          "pedralbes",
          "nurburgring",
          "bahrain",
          "spa",
          "red_bull_ring",
          "nurburgring",
          "ricard",
          "sepang",
          "indianapolis",
          "hockenheimring",
          "galvez",
          "albert_park",
          "silverstone",
          "hockenheimring",
          "spa",
          "brands_hatch",
          "interlagos",
          "hockenheimring",
          "hockenheimring",
          "catalunya",
          "monaco",
          "albert_park",
          "jeddah",
          "jerez",
          "hockenheimring",
          "pescara",
          "jarama",
          "spa",
          "zolder",
          "detroit",
          "monza",
          "marina_bay",
          "spa",
          "silverstone",
          "spa",
          "kyalami",
          "red_bull_ring",
          "galvez",
          "imola",
          "long_beach",
          "pedralbes",
          "zandvoort",
          "silverstone",
          "kyalami",
          "interlagos",
          "anderstorp",
          "zandvoort",
          "magny_cours",
          "ricard",
          "watkins_glen",
          "phoenix",
          "villeneuve",
          "hockenheimring",
          "villeneuve",
          "zandvoort",
          "red_bull_ring",
          "monza",
          "hungaroring",
          "imola",
          "long_beach",
          "interlagos",
          "sepang",
          "zandvoort",
          "catalunya",
          "nurburgring",
          "aintree",
          "yas_marina",
          "red_bull_ring",
          "catalunya",
          "monza",
          "long_beach",
          "silverstone",
          "sochi",
          "catalunya",
          "ricard",
          "adelaide",
          "jacarepagua",
          "monaco",
          "adelaide",
          "sepang",
          "george",
          "kyalami",
          "silverstone",
          "monaco",
          "hockenheimring",
          "indianapolis",
          "monaco",
          "spa",
          "nurburgring",
          "hungaroring",
          "watkins_glen",
          "brands_hatch",
          "imola",
          "jerez",
          "albert_park",
          "monaco",
          "rodriguez",
          "silverstone",
          "silverstone",
          "nurburgring",
          "hungaroring",
          "sepang",
          "kyalami",
          "estoril",
          "monaco",
          "bahrain",
          "monaco",
          "villeneuve",
          "detroit",
          "zandvoort",
          "nurburgring",
          "villeneuve",
          "interlagos",
          "villeneuve",
          "nurburgring",
          "spa",
          "albert_park",
          "reims",
          "ricard",
          "monaco",
          "indianapolis",
          "indianapolis",
          "spa",
          "monaco",
          "monza",
          "suzuka",
          "spa",
          "magny_cours",
          "zandvoort",
          "long_beach",
          "magny_cours",
          "lemans",
          "monaco",
          "ricard",
          "bahrain",
          "estoril",
          "albert_park",
          "monza",
          "detroit",
          "istanbul",
          "watkins_glen",
          "hockenheimring",
          "estoril",
          "brands_hatch",
          "monaco",
          "estoril",
          "jerez",
          "kyalami",
          "sepang",
          "monza",
          "suzuka",
          "zandvoort",
          "jacarepagua",
          "rodriguez",
          "nurburgring",
          "phoenix",
          "imola",
          "villeneuve",
          "spa",
          "villeneuve",
          "monza",
          "zandvoort",
          "red_bull_ring",
          "galvez",
          "imola",
          "monaco",
          "monaco",
          "monza",
          "jacarepagua",
          "charade",
          "nurburgring",
          "monza",
          "istanbul",
          "monaco",
          "bahrain",
          "kyalami",
          "monaco",
          "hungaroring",
          "hungaroring",
          "interlagos",
          "brands_hatch",
          "monaco",
          "monza",
          "bahrain",
          "hockenheimring",
          "baku",
          "villeneuve",
          "villeneuve",
          "istanbul",
          "monaco",
          "interlagos",
          "monza",
          "rodriguez",
          "watkins_glen",
          "villeneuve",
          "zandvoort",
          "kyalami",
          "zolder",
          "sepang",
          "monza",
          "monaco",
          "adelaide",
          "jacarepagua",
          "catalunya",
          "zolder",
          "monza",
          "hockenheimring",
          "monaco",
          "spa",
          "detroit",
          "villeneuve",
          "kyalami",
          "zandvoort",
          "interlagos",
          "silverstone",
          "sochi",
          "spa",
          "long_beach",
          "indianapolis",
          "zolder",
          "monza",
          "red_bull_ring",
          "red_bull_ring",
          "hungaroring",
          "ain-diab",
          "spa",
          "catalunya",
          "hungaroring",
          "sepang",
          "catalunya",
          "monza",
          "rodriguez",
          "brands_hatch",
          "interlagos",
          "kyalami",
          "jerez",
          "george",
          "yas_marina",
          "monaco",
          "watkins_glen",
          "catalunya",
          "monza",
          "jarama",
          "fuji",
          "monza",
          "essarts",
          "villeneuve",
          "interlagos",
          "monza",
          "adelaide",
          "villeneuve",
          "spa",
          "bahrain",
          "silverstone",
          "monaco",
          "interlagos",
          "imola",
          "rodriguez",
          "monaco",
          "monaco",
          "hockenheimring",
          "monza",
          "villeneuve",
          "monza",
          "nurburgring",
          "bahrain",
          "imola",
          "red_bull_ring",
          "suzuka",
          "monza",
          "americas",
          "riverside",
          "galvez",
          "monaco",
          "interlagos",
          "estoril",
          "red_bull_ring",
          "hockenheimring",
          "monaco",
          "interlagos",
          "watkins_glen",
          "kyalami",
          "monaco",
          "essarts",
          "galvez",
          "tremblant",
          "montjuic",
          "valencia",
          "jacarepagua",
          "monza",
          "george",
          "losail",
          "catalunya",
          "monaco",
          "monaco",
          "villeneuve",
          "watkins_glen",
          "sepang",
          "monza",
          "imola",
          "spa",
          "spa",
          "marina_bay",
          "rodriguez",
          "imola",
          "red_bull_ring",
          "spa",
          "villeneuve",
          "jacarepagua",
          "phoenix",
          "imola",
          "rodriguez",
          "adelaide",
          "monza",
          "suzuka",
          "nurburgring",
          "catalunya",
          "zandvoort",
          "brands_hatch",
          "bahrain",
          "reims",
          "catalunya",
          "jarama",
          "ricard",
          "imola",
          "catalunya",
          "mosport",
          "hockenheimring",
          "watkins_glen",
          "adelaide",
          "monaco",
          "monaco",
          "villeneuve",
          "watkins_glen",
          "suzuka",
          "zandvoort",
          "galvez",
          "bahrain",
          "silverstone",
          "essarts",
          "ricard",
          "magny_cours",
          "imola",
          "zandvoort",
          "hungaroring",
          "galvez",
          "hockenheimring",
          "brands_hatch",
          "zolder",
          "monza",
          "spa",
          "brands_hatch",
          "imola",
          "yas_marina",
          "monaco",
          "nurburgring",
          "hungaroring",
          "monaco",
          "watkins_glen",
          "galvez",
          "watkins_glen",
          "valencia",
          "indianapolis",
          "reims",
          "red_bull_ring",
          "silverstone",
          "catalunya",
          "albert_park",
          "yas_marina",
          "bahrain",
          "watkins_glen",
          "catalunya",
          "monza",
          "mugello",
          "aintree",
          "hockenheimring",
          "monaco",
          "red_bull_ring",
          "interlagos",
          "interlagos",
          "monza",
          "bremgarten",
          "jerez",
          "sepang",
          "yeongam",
          "silverstone",
          "silverstone",
          "spa",
          "albert_park",
          "monaco",
          "interlagos",
          "brands_hatch",
          "zeltweg",
          "monaco",
          "rodriguez",
          "imola",
          "anderstorp",
          "monza",
          "indianapolis",
          "hungaroring",
          "catalunya",
          "brands_hatch",
          "hockenheimring",
          "catalunya",
          "monaco",
          "fuji",
          "reims",
          "zolder",
          "spa",
          "monza",
          "shanghai",
          "monza",
          "nurburgring",
          "nurburgring",
          "catalunya",
          "silverstone",
          "monza",
          "monaco",
          "silverstone",
          "monza",
          "monaco",
          "zandvoort",
          "imola",
          "imola",
          "valencia",
          "interlagos",
          "watkins_glen",
          "galvez",
          "indianapolis",
          "ricard",
          "catalunya",
          "rodriguez",
          "red_bull_ring",
          "shanghai",
          "brands_hatch",
          "hockenheimring",
          "nurburgring",
          "adelaide",
          "galvez",
          "watkins_glen",
          "zandvoort",
          "zandvoort",
          "hockenheimring",
          "red_bull_ring",
          "catalunya",
          "silverstone",
          "zolder",
          "monza",
          "kyalami",
          "bremgarten",
          "monza",
          "monza",
          "monaco",
          "sepang",
          "jacarepagua",
          "hockenheimring",
          "shanghai",
          "zandvoort",
          "long_beach",
          "suzuka",
          "watkins_glen",
          "suzuka",
          "suzuka",
          "interlagos",
          "zolder",
          "catalunya",
          "monza",
          "monza",
          "monaco",
          "ain-diab",
          "nurburgring",
          "sepang",
          "imola",
          "suzuka",
          "monaco",
          "monaco",
          "spa",
          "red_bull_ring",
          "kyalami",
          "istanbul",
          "catalunya",
          "aintree",
          "spa",
          "estoril",
          "zandvoort",
          "monaco",
          "monza",
          "red_bull_ring",
          "monaco",
          "detroit",
          "aintree",
          "red_bull_ring",
          "detroit",
          "anderstorp",
          "monaco",
          "las_vegas",
          "zandvoort",
          "zolder",
          "villeneuve",
          "interlagos",
          "magny_cours",
          "dijon",
          "indianapolis",
          "galvez",
          "zolder",
          "americas",
          "mosport",
          "long_beach",
          "rodriguez",
          "interlagos",
          "indianapolis",
          "adelaide",
          "losail",
          "hockenheimring",
          "spa",
          "albert_park",
          "istanbul",
          "monza",
          "rodriguez",
          "red_bull_ring",
          "villeneuve",
          "hungaroring",
          "galvez",
          "sepang",
          "villeneuve",
          "hungaroring",
          "detroit",
          "silverstone",
          "americas",
          "monza",
          "dijon",
          "zandvoort",
          "nurburgring",
          "imola",
          "ricard",
          "villeneuve",
          "magny_cours",
          "red_bull_ring",
          "brands_hatch",
          "ricard",
          "nivelles",
          "shanghai",
          "jarama",
          "watkins_glen",
          "indianapolis",
          "sebring",
          "hungaroring",
          "rodriguez",
          "catalunya",
          "dijon",
          "interlagos",
          "red_bull_ring",
          "rodriguez",
          "jacarepagua",
          "silverstone",
          "magny_cours",
          "monaco",
          "ricard",
          "americas",
          "hockenheimring",
          "catalunya",
          "silverstone",
          "imola",
          "jacarepagua",
          "hungaroring",
          "interlagos",
          "hungaroring",
          "silverstone",
          "monaco",
          "valencia",
          "hockenheimring",
          "interlagos",
          "villeneuve",
          "silverstone",
          "hungaroring",
          "interlagos",
          "spa",
          "phoenix",
          "zandvoort",
          "indianapolis",
          "brands_hatch",
          "villeneuve",
          "spa",
          "adelaide",
          "marina_bay",
          "shanghai",
          "bahrain",
          "imola",
          "spa",
          "villeneuve",
          "rodriguez",
          "interlagos",
          "nurburgring",
          "bahrain",
          "zandvoort",
          "jacarepagua",
          "silverstone",
          "magny_cours",
          "silverstone",
          "nurburgring",
          "zolder",
          "spa",
          "brands_hatch",
          "hockenheimring",
          "watkins_glen",
          "catalunya",
          "spa",
          "ricard",
          "hockenheimring",
          "rodriguez",
          "brands_hatch",
          "galvez",
          "interlagos",
          "monza",
          "detroit",
          "albert_park",
          "red_bull_ring",
          "monza",
          "silverstone",
          "catalunya",
          "zandvoort",
          "hungaroring",
          "brands_hatch",
          "dijon",
          "red_bull_ring",
          "jarama",
          "villeneuve",
          "watkins_glen",
          "charade",
          "hungaroring",
          "silverstone",
          "monaco",
          "bahrain",
          "baku",
          "detroit",
          "zandvoort",
          "detroit",
          "monza",
          "dijon",
          "monaco",
          "hockenheimring",
          "yas_marina",
          "hockenheimring",
          "hockenheimring",
          "monaco",
          "okayama",
          "kyalami",
          "adelaide",
          "hungaroring",
          "spa",
          "magny_cours",
          "brands_hatch",
          "red_bull_ring",
          "detroit",
          "bahrain",
          "indianapolis",
          "magny_cours",
          "silverstone",
          "reims",
          "suzuka",
          "silverstone",
          "indianapolis",
          "hungaroring",
          "detroit",
          "boavista",
          "mosport",
          "indianapolis",
          "interlagos",
          "mosport",
          "nurburgring",
          "shanghai",
          "monza",
          "hockenheimring",
          "hockenheimring",
          "monza",
          "reims",
          "adelaide",
          "villeneuve",
          "monaco",
          "zandvoort",
          "monza",
          "baku",
          "watkins_glen",
          "monza",
          "adelaide",
          "monaco",
          "kyalami",
          "ain-diab",
          "villeneuve",
          "monaco",
          "aintree",
          "spa",
          "indianapolis",
          "interlagos",
          "imola",
          "silverstone",
          "estoril",
          "suzuka",
          "hungaroring",
          "jacarepagua",
          "watkins_glen",
          "monaco",
          "nurburgring",
          "catalunya",
          "imola",
          "jerez",
          "hungaroring",
          "silverstone",
          "shanghai",
          "jarama",
          "hockenheimring",
          "monaco",
          "spa",
          "indianapolis",
          "valencia",
          "galvez",
          "reims",
          "brands_hatch",
          "bahrain",
          "nurburgring",
          "silverstone",
          "villeneuve",
          "red_bull_ring",
          "long_beach",
          "brands_hatch",
          "monaco",
          "rodriguez",
          "silverstone",
          "mosport",
          "hungaroring",
          "nurburgring",
          "anderstorp",
          "zandvoort",
          "hockenheimring",
          "mosport",
          "estoril",
          "red_bull_ring",
          "istanbul",
          "bahrain",
          "silverstone",
          "suzuka",
          "phoenix",
          "zolder",
          "galvez",
          "magny_cours",
          "imola",
          "interlagos",
          "rodriguez",
          "hockenheimring",
          "spa",
          "suzuka",
          "dallas",
          "phoenix",
          "silverstone",
          "red_bull_ring",
          "mosport",
          "monaco",
          "silverstone",
          "silverstone",
          "monza",
          "rodriguez",
          "spa",
          "spa",
          "monza",
          "suzuka",
          "rodriguez",
          "monza",
          "kyalami",
          "spa",
          "spa",
          "monaco",
          "long_beach",
          "detroit",
          "rodriguez",
          "villeneuve",
          "zolder",
          "zandvoort",
          "rodriguez",
          "silverstone",
          "sepang",
          "pedralbes",
          "nurburgring",
          "hockenheimring",
          "silverstone",
          "kyalami",
          "villeneuve",
          "monza",
          "hungaroring",
          "interlagos",
          "monaco",
          "villeneuve",
          "zandvoort",
          "monaco",
          "monaco",
          "reims",
          "monaco",
          "monza",
          "indianapolis",
          "montjuic",
          "imola",
          "hockenheimring",
          "hungaroring",
          "suzuka",
          "monza",
          "istanbul",
          "silverstone",
          "red_bull_ring",
          "monza",
          "suzuka",
          "rodriguez",
          "monaco",
          "monza",
          "monza",
          "indianapolis",
          "silverstone",
          "red_bull_ring",
          "reims",
          "monaco",
          "silverstone",
          "monza",
          "brands_hatch",
          "bahrain",
          "kyalami",
          "adelaide",
          "hockenheimring",
          "spa",
          "sepang",
          "estoril",
          "catalunya",
          "yas_marina",
          "suzuka",
          "imola",
          "zandvoort",
          "monaco",
          "zolder",
          "suzuka",
          "zandvoort",
          "mosport",
          "zandvoort",
          "monaco",
          "hockenheimring",
          "interlagos",
          "zandvoort",
          "hungaroring",
          "rodriguez",
          "kyalami",
          "monza",
          "silverstone",
          "hockenheimring",
          "silverstone",
          "ricard",
          "americas",
          "silverstone",
          "hockenheimring",
          "imola",
          "hungaroring",
          "imola",
          "magny_cours",
          "ricard",
          "brands_hatch",
          "monaco",
          "valencia",
          "jerez",
          "indianapolis",
          "monza",
          "suzuka",
          "silverstone",
          "spa",
          "ricard",
          "nurburgring",
          "albert_park",
          "monaco",
          "hockenheimring",
          "red_bull_ring",
          "zolder",
          "silverstone",
          "albert_park",
          "monza",
          "suzuka",
          "suzuka",
          "shanghai",
          "monaco",
          "monza",
          "red_bull_ring",
          "albert_park",
          "silverstone",
          "interlagos",
          "jacarepagua",
          "baku",
          "sochi",
          "kyalami",
          "villeneuve",
          "adelaide",
          "hockenheimring",
          "reims",
          "hungaroring",
          "jeddah",
          "suzuka",
          "monza",
          "villeneuve",
          "silverstone",
          "watkins_glen",
          "dijon",
          "adelaide",
          "villeneuve",
          "galvez",
          "red_bull_ring",
          "jacarepagua",
          "hockenheimring",
          "monaco",
          "brands_hatch",
          "shanghai",
          "spa",
          "zandvoort",
          "suzuka",
          "suzuka",
          "kyalami",
          "shanghai",
          "long_beach",
          "suzuka",
          "galvez",
          "galvez",
          "shanghai",
          "hockenheimring",
          "shanghai",
          "mosport",
          "nurburgring",
          "imola",
          "dijon",
          "silverstone",
          "spa",
          "rodriguez",
          "nurburgring",
          "catalunya",
          "catalunya",
          "galvez",
          "hockenheimring",
          "estoril",
          "imola",
          "bahrain",
          "hungaroring",
          "monaco",
          "monza",
          "aintree",
          "bremgarten",
          "jacarepagua",
          "silverstone",
          "silverstone",
          "zandvoort",
          "hockenheimring",
          "long_beach",
          "zandvoort",
          "zandvoort",
          "monaco",
          "watkins_glen",
          "monaco",
          "brands_hatch",
          "mosport",
          "americas",
          "imola",
          "monaco",
          "yas_marina",
          "jerez",
          "buddh",
          "spa",
          "brands_hatch",
          "monaco",
          "estoril",
          "hungaroring",
          "las_vegas",
          "red_bull_ring",
          "mosport",
          "anderstorp",
          "adelaide",
          "rodriguez",
          "silverstone",
          "catalunya",
          "zandvoort",
          "kyalami",
          "zandvoort",
          "magny_cours",
          "spa",
          "monza",
          "george",
          "monza",
          "zandvoort",
          "anderstorp",
          "estoril",
          "interlagos",
          "hungaroring",
          "imola",
          "zandvoort",
          "interlagos",
          "americas",
          "adelaide",
          "shanghai",
          "monza",
          "spa",
          "jacarepagua",
          "zandvoort",
          "imola",
          "monza",
          "indianapolis",
          "indianapolis",
          "hockenheimring",
          "spa",
          "aintree",
          "ricard",
          "dijon",
          "brands_hatch",
          "nurburgring",
          "estoril",
          "interlagos",
          "hockenheimring",
          "estoril",
          "kyalami",
          "suzuka",
          "monza",
          "suzuka",
          "albert_park",
          "suzuka",
          "anderstorp",
          "sepang",
          "albert_park",
          "zandvoort",
          "silverstone",
          "kyalami",
          "monaco",
          "interlagos",
          "fuji",
          "bahrain",
          "anderstorp",
          "hockenheimring",
          "monaco",
          "suzuka",
          "hungaroring",
          "rodriguez",
          "magny_cours",
          "magny_cours",
          "monza",
          "monza",
          "zolder",
          "silverstone",
          "brands_hatch",
          "silverstone",
          "albert_park",
          "okayama",
          "monza",
          "imola",
          "monaco",
          "sepang",
          "interlagos",
          "monaco",
          "hockenheimring",
          "silverstone",
          "albert_park",
          "villeneuve",
          "adelaide",
          "brands_hatch",
          "magny_cours",
          "sepang",
          "americas",
          "sepang",
          "interlagos",
          "monaco",
          "brands_hatch",
          "silverstone",
          "americas",
          "detroit",
          "hungaroring",
          "brands_hatch",
          "silverstone",
          "monaco",
          "spa",
          "interlagos",
          "monaco",
          "magny_cours",
          "zandvoort",
          "albert_park",
          "rodriguez",
          "magny_cours",
          "monza",
          "villeneuve",
          "villeneuve",
          "spa",
          "estoril",
          "villeneuve",
          "hockenheimring",
          "ricard",
          "red_bull_ring",
          "silverstone",
          "dijon",
          "villeneuve",
          "nurburgring",
          "kyalami",
          "rodriguez",
          "essarts",
          "indianapolis",
          "interlagos",
          "bahrain",
          "silverstone",
          "imola",
          "ricard",
          "ricard",
          "interlagos",
          "long_beach",
          "kyalami",
          "monza",
          "monaco",
          "monaco",
          "interlagos",
          "anderstorp",
          "nurburgring",
          "villeneuve",
          "monaco",
          "spa",
          "watkins_glen",
          "hockenheimring",
          "jacarepagua",
          "brands_hatch",
          "dijon",
          "villeneuve",
          "sepang",
          "silverstone",
          "suzuka",
          "jarama",
          "silverstone",
          "marina_bay",
          "jarama",
          "mosport",
          "indianapolis",
          "monaco",
          "indianapolis",
          "ricard",
          "silverstone",
          "rodriguez",
          "silverstone",
          "buddh",
          "spa",
          "monaco",
          "rodriguez",
          "hockenheimring",
          "suzuka",
          "zandvoort",
          "spa",
          "rodriguez",
          "yas_marina",
          "reims",
          "hungaroring",
          "villeneuve",
          "estoril",
          "hockenheimring",
          "buddh",
          "hockenheimring",
          "brands_hatch",
          "bahrain",
          "monaco",
          "imola",
          "spa",
          "silverstone",
          "adelaide",
          "zolder",
          "ricard",
          "galvez",
          "silverstone",
          "ricard",
          "spa",
          "ricard",
          "charade",
          "kyalami",
          "monaco",
          "magny_cours",
          "catalunya",
          "magny_cours",
          "spa",
          "bremgarten",
          "red_bull_ring",
          "monza",
          "rodriguez",
          "monza",
          "nurburgring",
          "monza",
          "americas",
          "interlagos",
          "nurburgring",
          "suzuka",
          "jerez",
          "catalunya",
          "montjuic",
          "monaco",
          "estoril",
          "hockenheimring",
          "villeneuve",
          "rodriguez",
          "galvez",
          "hockenheimring",
          "zandvoort",
          "catalunya",
          "bahrain",
          "silverstone",
          "nivelles",
          "magny_cours",
          "watkins_glen",
          "estoril",
          "yas_marina",
          "albert_park",
          "suzuka",
          "zandvoort",
          "monza",
          "montjuic",
          "imola",
          "hungaroring",
          "rodriguez",
          "aintree",
          "red_bull_ring",
          "watkins_glen",
          "monza",
          "monaco",
          "catalunya",
          "galvez",
          "watkins_glen",
          "monza",
          "jerez",
          "silverstone",
          "zandvoort",
          "estoril",
          "estoril",
          "indianapolis",
          "bahrain",
          "indianapolis",
          "jacarepagua",
          "mosport",
          "silverstone",
          "brands_hatch",
          "silverstone",
          "silverstone",
          "spa",
          "villeneuve",
          "monza",
          "red_bull_ring",
          "jacarepagua",
          "catalunya",
          "villeneuve",
          "magny_cours",
          "reims",
          "kyalami",
          "silverstone",
          "hockenheimring",
          "jarama",
          "villeneuve",
          "sochi",
          "silverstone",
          "red_bull_ring",
          "monza",
          "monaco",
          "monza",
          "albert_park",
          "spa",
          "imola",
          "long_beach",
          "reims",
          "silverstone",
          "catalunya",
          "albert_park",
          "magny_cours",
          "hockenheimring",
          "galvez",
          "villeneuve",
          "long_beach",
          "essarts",
          "detroit",
          "hockenheimring",
          "monaco",
          "pedralbes",
          "magny_cours",
          "monaco",
          "zolder",
          "catalunya",
          "kyalami",
          "monza",
          "indianapolis",
          "catalunya",
          "catalunya",
          "interlagos",
          "hockenheimring",
          "monaco",
          "silverstone",
          "spa",
          "catalunya",
          "nurburgring",
          "hockenheimring",
          "interlagos",
          "magny_cours",
          "yas_marina",
          "anderstorp",
          "phoenix",
          "bremgarten",
          "reims",
          "kyalami",
          "villeneuve",
          "americas",
          "adelaide",
          "interlagos",
          "red_bull_ring",
          "indianapolis",
          "jacarepagua",
          "suzuka",
          "monza",
          "imola",
          "spa",
          "hockenheimring",
          "zandvoort",
          "zolder",
          "silverstone",
          "magny_cours",
          "monaco",
          "zandvoort",
          "monaco",
          "spa",
          "dijon",
          "magny_cours",
          "ricard",
          "mosport",
          "marina_bay",
          "jerez",
          "jarama",
          "hockenheimring",
          "monza",
          "albert_park",
          "magny_cours",
          "monaco",
          "villeneuve",
          "silverstone",
          "spa",
          "essarts",
          "indianapolis",
          "brands_hatch",
          "dallas",
          "anderstorp",
          "catalunya",
          "imola",
          "catalunya",
          "marina_bay",
          "mosport",
          "zandvoort",
          "imola",
          "istanbul",
          "spa",
          "las_vegas",
          "monza",
          "jacarepagua",
          "americas",
          "estoril",
          "hungaroring",
          "imola",
          "charade",
          "marina_bay",
          "indianapolis",
          "bahrain",
          "ricard",
          "zandvoort",
          "adelaide",
          "imola",
          "imola",
          "rodriguez",
          "indianapolis",
          "interlagos",
          "bremgarten",
          "monza",
          "jacarepagua",
          "hockenheimring",
          "monza",
          "hockenheimring",
          "monza",
          "silverstone",
          "ricard",
          "detroit",
          "magny_cours",
          "silverstone",
          "imola",
          "phoenix",
          "zandvoort",
          "imola",
          "interlagos",
          "hockenheimring",
          "adelaide",
          "yeongam",
          "hockenheimring",
          "baku",
          "monaco",
          "red_bull_ring",
          "interlagos",
          "zandvoort",
          "albert_park",
          "monza",
          "kyalami",
          "adelaide",
          "zolder",
          "indianapolis",
          "rodriguez",
          "kyalami",
          "monaco",
          "reims",
          "ricard",
          "hockenheimring",
          "okayama",
          "catalunya",
          "monaco",
          "rodriguez",
          "marina_bay",
          "monaco",
          "estoril",
          "silverstone",
          "kyalami",
          "nurburgring",
          "montjuic",
          "nurburgring",
          "jerez",
          "sepang",
          "riverside",
          "rodriguez",
          "silverstone",
          "zolder",
          "hockenheimring",
          "monaco",
          "red_bull_ring",
          "hockenheimring",
          "zolder",
          "sepang",
          "dijon",
          "monaco",
          "hockenheimring",
          "kyalami",
          "watkins_glen",
          "ricard",
          "galvez",
          "monaco",
          "jarama",
          "villeneuve",
          "villeneuve",
          "red_bull_ring",
          "indianapolis",
          "bremgarten",
          "george",
          "monaco",
          "kyalami",
          "yas_marina",
          "silverstone",
          "americas",
          "magny_cours",
          "monaco",
          "galvez",
          "dallas",
          "zolder",
          "silverstone",
          "nurburgring",
          "hockenheimring",
          "rodriguez",
          "george",
          "hungaroring",
          "monza",
          "long_beach",
          "portimao",
          "hockenheimring",
          "hockenheimring",
          "red_bull_ring",
          "aintree",
          "red_bull_ring",
          "monza",
          "estoril",
          "suzuka",
          "suzuka",
          "suzuka",
          "zandvoort",
          "monaco",
          "detroit",
          "red_bull_ring",
          "catalunya",
          "nurburgring",
          "rodriguez",
          "imola",
          "hockenheimring",
          "red_bull_ring",
          "catalunya",
          "imola",
          "silverstone",
          "monza",
          "imola",
          "monaco",
          "watkins_glen",
          "red_bull_ring",
          "kyalami",
          "villeneuve",
          "brands_hatch",
          "monza",
          "jacarepagua",
          "jacarepagua",
          "brands_hatch",
          "interlagos",
          "catalunya",
          "monaco",
          "galvez",
          "suzuka",
          "reims",
          "monza",
          "villeneuve",
          "jacarepagua",
          "red_bull_ring",
          "spa",
          "kyalami",
          "silverstone",
          "silverstone",
          "bremgarten",
          "zolder",
          "red_bull_ring",
          "nurburgring",
          "catalunya",
          "hungaroring",
          "charade",
          "kyalami",
          "marina_bay",
          "mosport",
          "zandvoort",
          "villeneuve",
          "monza",
          "jacarepagua",
          "zolder",
          "phoenix",
          "red_bull_ring",
          "shanghai",
          "phoenix",
          "suzuka",
          "adelaide",
          "catalunya",
          "red_bull_ring",
          "red_bull_ring",
          "hungaroring",
          "watkins_glen",
          "monza",
          "jarama",
          "suzuka",
          "zandvoort",
          "zandvoort",
          "hungaroring",
          "monaco",
          "kyalami",
          "watkins_glen",
          "nurburgring",
          "boavista",
          "silverstone",
          "zandvoort",
          "magny_cours",
          "kyalami",
          "silverstone",
          "kyalami",
          "monza",
          "jerez",
          "kyalami",
          "spa",
          "hockenheimring",
          "catalunya",
          "monaco",
          "suzuka",
          "villeneuve",
          "hungaroring",
          "zandvoort",
          "villeneuve",
          "bahrain",
          "interlagos",
          "tremblant",
          "sepang",
          "silverstone",
          "shanghai",
          "nurburgring",
          "imola",
          "red_bull_ring",
          "magny_cours",
          "phoenix",
          "monza",
          "mosport",
          "villeneuve",
          "rodriguez",
          "estoril",
          "ricard",
          "villeneuve",
          "estoril",
          "imola",
          "adelaide",
          "mosport",
          "monaco",
          "imola",
          "spa",
          "villeneuve",
          "interlagos",
          "albert_park",
          "george",
          "estoril",
          "aintree",
          "nurburgring",
          "long_beach",
          "hungaroring",
          "imola",
          "spa",
          "monaco",
          "adelaide",
          "catalunya",
          "monza",
          "indianapolis",
          "galvez",
          "silverstone",
          "indianapolis",
          "interlagos",
          "bahrain",
          "monaco",
          "imola",
          "jerez",
          "monza",
          "monaco",
          "donington",
          "long_beach",
          "nivelles",
          "reims",
          "villeneuve",
          "interlagos",
          "monza",
          "long_beach",
          "ricard",
          "zandvoort",
          "yas_marina",
          "aintree",
          "catalunya",
          "kyalami",
          "adelaide",
          "brands_hatch",
          "brands_hatch",
          "silverstone",
          "interlagos",
          "interlagos",
          "marina_bay",
          "shanghai",
          "nivelles",
          "nurburgring",
          "zandvoort",
          "hungaroring",
          "nurburgring",
          "catalunya",
          "suzuka",
          "shanghai",
          "indianapolis",
          "silverstone",
          "galvez",
          "interlagos",
          "aintree",
          "sochi",
          "spa",
          "monaco",
          "nivelles",
          "estoril",
          "reims",
          "jacarepagua",
          "imola",
          "galvez",
          "silverstone",
          "hockenheimring",
          "hungaroring",
          "suzuka",
          "hungaroring",
          "kyalami",
          "villeneuve",
          "spa",
          "spa",
          "hungaroring",
          "kyalami",
          "red_bull_ring",
          "spa",
          "imola",
          "hockenheimring",
          "yas_marina",
          "detroit",
          "indianapolis",
          "imola",
          "brands_hatch",
          "villeneuve",
          "monza",
          "adelaide",
          "estoril",
          "hungaroring",
          "suzuka",
          "villeneuve",
          "interlagos",
          "zolder",
          "adelaide",
          "marina_bay",
          "imola",
          "monza",
          "monza",
          "spa",
          "monza",
          "villeneuve",
          "kyalami",
          "hungaroring",
          "monaco",
          "indianapolis",
          "reims",
          "estoril",
          "shanghai",
          "villeneuve",
          "hungaroring",
          "spa",
          "brands_hatch",
          "anderstorp",
          "hungaroring",
          "sebring",
          "indianapolis",
          "charade",
          "suzuka",
          "catalunya",
          "silverstone",
          "silverstone",
          "monza",
          "villeneuve",
          "nurburgring",
          "zolder",
          "hungaroring",
          "jacarepagua",
          "silverstone",
          "magny_cours",
          "monza",
          "hungaroring",
          "detroit",
          "indianapolis",
          "ricard",
          "kyalami",
          "zandvoort",
          "catalunya",
          "monaco",
          "red_bull_ring",
          "jarama",
          "sepang",
          "hungaroring",
          "rodriguez",
          "sepang",
          "reims",
          "villeneuve",
          "phoenix",
          "bahrain",
          "magny_cours",
          "ricard",
          "rodriguez",
          "reims",
          "interlagos",
          "zandvoort",
          "zandvoort",
          "zandvoort",
          "interlagos",
          "bahrain",
          "kyalami",
          "indianapolis",
          "monaco",
          "monaco",
          "estoril",
          "detroit",
          "hungaroring",
          "silverstone",
          "nurburgring",
          "nurburgring",
          "jerez",
          "silverstone",
          "montjuic",
          "villeneuve",
          "silverstone",
          "monaco",
          "nurburgring",
          "jarama",
          "monaco",
          "rodriguez",
          "silverstone",
          "silverstone",
          "villeneuve",
          "bremgarten",
          "monza",
          "imola",
          "ricard",
          "zandvoort",
          "imola",
          "rodriguez",
          "monaco",
          "villeneuve",
          "zandvoort",
          "monza",
          "nurburgring",
          "nurburgring",
          "spa",
          "imola",
          "interlagos",
          "interlagos",
          "jacarepagua",
          "suzuka",
          "monza",
          "kyalami",
          "suzuka",
          "catalunya",
          "villeneuve",
          "silverstone",
          "red_bull_ring",
          "adelaide",
          "catalunya",
          "catalunya",
          "imola",
          "detroit",
          "imola",
          "suzuka",
          "watkins_glen",
          "monza",
          "catalunya",
          "silverstone",
          "indianapolis",
          "monza",
          "monza",
          "monaco",
          "interlagos",
          "spa",
          "monza",
          "anderstorp",
          "hungaroring",
          "ricard",
          "monza",
          "interlagos",
          "imola",
          "silverstone",
          "watkins_glen",
          "baku",
          "magny_cours",
          "spa",
          "monza",
          "jarama",
          "zolder",
          "suzuka",
          "spa",
          "nurburgring",
          "aintree",
          "indianapolis",
          "sepang",
          "phoenix",
          "detroit",
          "monaco",
          "nurburgring",
          "istanbul",
          "americas",
          "estoril",
          "hungaroring",
          "hockenheimring",
          "interlagos",
          "ricard",
          "monza",
          "silverstone",
          "catalunya",
          "hockenheimring",
          "interlagos",
          "george",
          "ricard",
          "catalunya",
          "magny_cours",
          "ricard",
          "ricard",
          "hungaroring",
          "monza",
          "monza",
          "zandvoort",
          "rodriguez",
          "albert_park",
          "kyalami",
          "albert_park",
          "rodriguez",
          "zandvoort",
          "monza",
          "jacarepagua",
          "silverstone",
          "nurburgring",
          "dijon",
          "villeneuve",
          "imola",
          "brands_hatch",
          "hockenheimring",
          "monza",
          "silverstone",
          "imola",
          "dijon",
          "interlagos",
          "monza",
          "adelaide",
          "villeneuve",
          "shanghai",
          "monza",
          "imola",
          "monza",
          "interlagos",
          "villeneuve",
          "nurburgring",
          "monza",
          "kyalami",
          "spa",
          "hockenheimring",
          "nurburgring",
          "kyalami",
          "reims",
          "zandvoort",
          "interlagos",
          "long_beach",
          "brands_hatch",
          "silverstone",
          "villeneuve",
          "hockenheimring",
          "pedralbes",
          "spa",
          "monza",
          "kyalami",
          "suzuka",
          "interlagos",
          "monaco",
          "jerez",
          "albert_park",
          "zandvoort",
          "magny_cours",
          "nurburgring",
          "hockenheimring",
          "detroit",
          "hockenheimring",
          "nurburgring",
          "spa",
          "mosport",
          "catalunya",
          "monza",
          "monaco",
          "hockenheimring",
          "nurburgring",
          "magny_cours",
          "rodriguez",
          "catalunya",
          "rodriguez",
          "hungaroring",
          "sepang",
          "imola",
          "red_bull_ring",
          "monaco",
          "rodriguez",
          "galvez",
          "essarts",
          "hockenheimring",
          "nurburgring",
          "imola",
          "suzuka",
          "silverstone",
          "imola",
          "sepang",
          "sepang",
          "silverstone",
          "nurburgring",
          "suzuka",
          "hungaroring",
          "bahrain",
          "hungaroring",
          "villeneuve",
          "aintree",
          "suzuka",
          "spa",
          "monza",
          "george",
          "ricard",
          "hungaroring",
          "watkins_glen",
          "silverstone",
          "anderstorp",
          "suzuka",
          "essarts",
          "spa",
          "monza",
          "monaco",
          "galvez",
          "catalunya",
          "detroit",
          "sepang",
          "ricard",
          "monza",
          "hungaroring",
          "adelaide",
          "monza",
          "red_bull_ring",
          "hungaroring",
          "catalunya",
          "villeneuve",
          "monza",
          "monza",
          "spa",
          "reims",
          "hockenheimring",
          "villeneuve",
          "monza",
          "imola",
          "galvez",
          "sepang",
          "nurburgring",
          "zandvoort",
          "reims",
          "zandvoort",
          "charade",
          "albert_park",
          "imola",
          "jarama",
          "suzuka",
          "rodriguez",
          "interlagos",
          "baku",
          "watkins_glen",
          "interlagos",
          "red_bull_ring",
          "zandvoort",
          "adelaide",
          "red_bull_ring",
          "magny_cours",
          "sochi",
          "sepang",
          "reims",
          "imola",
          "silverstone",
          "spa",
          "rodriguez",
          "monaco",
          "villeneuve",
          "jarama",
          "sochi",
          "hungaroring",
          "monaco",
          "magny_cours",
          "monaco",
          "monaco",
          "baku",
          "silverstone",
          "rodriguez",
          "monaco",
          "ricard",
          "baku",
          "zandvoort",
          "sepang",
          "suzuka",
          "sepang",
          "monza",
          "mosport",
          "sepang",
          "nurburgring",
          "adelaide",
          "suzuka",
          "nurburgring",
          "catalunya",
          "hungaroring",
          "monza",
          "bahrain",
          "jarama",
          "zolder",
          "hockenheimring",
          "kyalami",
          "hungaroring",
          "ricard",
          "jeddah",
          "silverstone",
          "americas",
          "silverstone",
          "red_bull_ring",
          "silverstone",
          "nurburgring",
          "suzuka",
          "hockenheimring",
          "monza",
          "dallas",
          "hockenheimring",
          "jeddah",
          "monza",
          "silverstone",
          "hungaroring",
          "red_bull_ring",
          "magny_cours",
          "monaco",
          "kyalami",
          "zandvoort",
          "estoril",
          "yas_marina",
          "silverstone",
          "tremblant",
          "monaco",
          "zandvoort",
          "vegas",
          "jarama",
          "nurburgring",
          "monaco",
          "silverstone",
          "zandvoort",
          "magny_cours",
          "monza",
          "red_bull_ring",
          "albert_park",
          "suzuka",
          "yas_marina",
          "kyalami",
          "estoril",
          "essarts",
          "suzuka",
          "rodriguez",
          "detroit",
          "indianapolis",
          "suzuka",
          "zandvoort",
          "bahrain",
          "imola",
          "galvez",
          "mosport",
          "magny_cours",
          "las_vegas",
          "monza",
          "catalunya",
          "lemans",
          "monaco",
          "albert_park",
          "zandvoort",
          "reims",
          "hungaroring",
          "monaco",
          "nurburgring",
          "catalunya",
          "rodriguez",
          "monza",
          "interlagos",
          "albert_park",
          "essarts",
          "interlagos",
          "fuji",
          "interlagos",
          "monaco",
          "spa",
          "silverstone",
          "silverstone",
          "brands_hatch",
          "suzuka",
          "zolder",
          "monaco",
          "monza",
          "long_beach",
          "rodriguez",
          "monaco",
          "albert_park",
          "monaco",
          "zeltweg",
          "watkins_glen",
          "hungaroring",
          "interlagos",
          "essarts",
          "spa",
          "villeneuve",
          "reims",
          "monaco",
          "pedralbes",
          "hockenheimring",
          "miami",
          "magny_cours",
          "watkins_glen",
          "monza",
          "okayama",
          "estoril",
          "catalunya",
          "bremgarten",
          "monaco",
          "suzuka",
          "phoenix",
          "interlagos",
          "phoenix",
          "imola",
          "interlagos",
          "rodriguez",
          "kyalami",
          "silverstone",
          "silverstone",
          "spa",
          "istanbul",
          "zandvoort",
          "suzuka",
          "avus",
          "jerez",
          "sochi",
          "essarts",
          "monaco",
          "spa",
          "estoril",
          "brands_hatch",
          "detroit",
          "yas_marina",
          "anderstorp",
          "ricard",
          "kyalami",
          "valencia",
          "monza",
          "monaco",
          "albert_park",
          "watkins_glen",
          "silverstone",
          "silverstone",
          "catalunya",
          "kyalami",
          "interlagos",
          "zandvoort",
          "george",
          "kyalami",
          "baku",
          "kyalami",
          "monza",
          "buddh",
          "monaco",
          "bahrain",
          "estoril",
          "sepang",
          "sochi",
          "monza",
          "silverstone",
          "monza",
          "detroit",
          "sebring",
          "imola",
          "yas_marina",
          "jeddah",
          "americas",
          "rodriguez",
          "spa",
          "galvez",
          "spa",
          "villeneuve",
          "rodriguez",
          "aintree",
          "yeongam",
          "monza",
          "monza",
          "bahrain",
          "interlagos",
          "catalunya",
          "dallas",
          "villeneuve",
          "silverstone",
          "hockenheimring",
          "monza",
          "jarama",
          "nurburgring",
          "hockenheimring",
          "ricard",
          "reims",
          "interlagos",
          "losail",
          "indianapolis",
          "zandvoort",
          "hungaroring",
          "monaco",
          "red_bull_ring",
          "brands_hatch",
          "shanghai",
          "zolder",
          "detroit",
          "silverstone",
          "monaco",
          "imola",
          "rodriguez",
          "monaco",
          "monaco",
          "ricard",
          "nurburgring",
          "americas",
          "catalunya",
          "charade",
          "adelaide",
          "reims",
          "indianapolis",
          "estoril",
          "ricard",
          "monza",
          "hockenheimring",
          "albert_park",
          "imola",
          "zandvoort",
          "imola",
          "fuji",
          "ricard",
          "zolder",
          "monaco",
          "villeneuve",
          "long_beach",
          "imola",
          "rodriguez",
          "monza",
          "albert_park",
          "yas_marina",
          "fuji",
          "red_bull_ring",
          "interlagos",
          "brands_hatch",
          "imola",
          "detroit",
          "silverstone",
          "monza",
          "anderstorp",
          "rodriguez",
          "nurburgring",
          "monza",
          "americas",
          "albert_park",
          "silverstone",
          "zandvoort",
          "jarama",
          "jeddah",
          "watkins_glen",
          "zandvoort",
          "nurburgring",
          "jacarepagua",
          "jacarepagua",
          "zandvoort",
          "red_bull_ring",
          "hungaroring",
          "imola",
          "kyalami",
          "monza",
          "montjuic",
          "monaco",
          "nurburgring",
          "silverstone",
          "valencia",
          "silverstone",
          "dijon",
          "fuji",
          "hungaroring",
          "watkins_glen",
          "silverstone",
          "nurburgring",
          "silverstone",
          "imola",
          "monaco",
          "zolder",
          "albert_park",
          "hungaroring",
          "imola",
          "silverstone",
          "hungaroring",
          "aintree",
          "suzuka",
          "red_bull_ring",
          "nurburgring",
          "catalunya",
          "spa",
          "silverstone",
          "villeneuve",
          "reims",
          "villeneuve",
          "jarama",
          "silverstone",
          "monza",
          "jacarepagua",
          "red_bull_ring",
          "monaco",
          "jarama",
          "albert_park",
          "zandvoort",
          "monza",
          "brands_hatch",
          "anderstorp",
          "jarama",
          "monza",
          "yas_marina",
          "monaco",
          "americas",
          "essarts",
          "kyalami",
          "villeneuve",
          "monsanto",
          "villeneuve",
          "sepang",
          "monza",
          "reims",
          "ricard",
          "hungaroring",
          "zandvoort",
          "monza",
          "monza",
          "villeneuve",
          "red_bull_ring",
          "ricard",
          "hungaroring",
          "hungaroring",
          "magny_cours",
          "monaco",
          "galvez",
          "hockenheimring",
          "spa",
          "monza",
          "interlagos",
          "bahrain",
          "villeneuve",
          "spa",
          "nurburgring",
          "kyalami",
          "zandvoort",
          "albert_park",
          "adelaide",
          "reims",
          "nurburgring",
          "monaco",
          "spa",
          "okayama",
          "suzuka",
          "mosport",
          "zandvoort",
          "valencia",
          "zandvoort",
          "spa",
          "indianapolis",
          "monza",
          "hungaroring",
          "hockenheimring",
          "hockenheimring",
          "estoril",
          "red_bull_ring",
          "indianapolis",
          "monaco",
          "indianapolis",
          "interlagos",
          "adelaide",
          "indianapolis",
          "watkins_glen",
          "red_bull_ring",
          "ricard",
          "bahrain",
          "monaco",
          "ricard",
          "monaco",
          "hungaroring",
          "suzuka",
          "red_bull_ring",
          "reims",
          "charade",
          "nurburgring",
          "catalunya",
          "nurburgring",
          "monaco",
          "silverstone",
          "monza",
          "galvez",
          "spa",
          "kyalami",
          "monaco",
          "bahrain",
          "brands_hatch",
          "nurburgring",
          "monaco",
          "spa",
          "aintree",
          "vegas",
          "red_bull_ring",
          "jacarepagua",
          "silverstone",
          "spa",
          "sepang",
          "monaco",
          "adelaide",
          "spa",
          "monza",
          "monza",
          "phoenix",
          "monza",
          "spa",
          "magny_cours",
          "red_bull_ring",
          "nurburgring",
          "estoril",
          "shanghai",
          "red_bull_ring",
          "bahrain",
          "hockenheimring",
          "nurburgring",
          "suzuka",
          "villeneuve",
          "spa",
          "silverstone",
          "silverstone",
          "estoril",
          "magny_cours",
          "galvez",
          "nurburgring",
          "imola",
          "spa",
          "kyalami",
          "albert_park",
          "watkins_glen",
          "silverstone",
          "monza",
          "jarama",
          "zolder",
          "zandvoort",
          "monaco",
          "imola",
          "monaco",
          "monaco",
          "red_bull_ring",
          "monaco",
          "interlagos",
          "villeneuve",
          "zandvoort",
          "red_bull_ring",
          "monza",
          "monza",
          "jerez",
          "spa",
          "hungaroring",
          "monza",
          "interlagos",
          "ricard",
          "monaco",
          "red_bull_ring",
          "imola",
          "suzuka",
          "fuji",
          "watkins_glen",
          "mosport",
          "hungaroring",
          "albert_park",
          "estoril",
          "imola",
          "monaco",
          "red_bull_ring",
          "monaco",
          "ricard",
          "silverstone",
          "yas_marina",
          "spa",
          "sochi",
          "monaco",
          "adelaide",
          "zandvoort",
          "red_bull_ring",
          "adelaide",
          "kyalami",
          "indianapolis",
          "catalunya",
          "silverstone",
          "hockenheimring",
          "spa",
          "rodriguez",
          "kyalami",
          "indianapolis",
          "hungaroring",
          "monaco",
          "interlagos",
          "baku",
          "sepang",
          "montjuic",
          "sepang",
          "zandvoort",
          "hungaroring",
          "monza",
          "bremgarten",
          "spa",
          "jarama",
          "monaco",
          "suzuka",
          "villeneuve",
          "kyalami",
          "monza",
          "bremgarten",
          "monaco",
          "monaco",
          "monaco",
          "hungaroring",
          "interlagos",
          "monaco",
          "nurburgring",
          "valencia",
          "monza",
          "silverstone",
          "monza",
          "albert_park",
          "hockenheimring",
          "yas_marina",
          "spa",
          "silverstone",
          "zandvoort",
          "dijon",
          "charade",
          "hockenheimring",
          "detroit",
          "silverstone",
          "hungaroring",
          "long_beach",
          "monza",
          "estoril",
          "jacarepagua",
          "galvez",
          "zolder",
          "monaco",
          "spa",
          "monza",
          "galvez",
          "silverstone",
          "mosport",
          "kyalami",
          "baku",
          "hockenheimring",
          "spa",
          "detroit",
          "spa",
          "rodriguez",
          "jacarepagua",
          "monza",
          "imola",
          "interlagos",
          "shanghai",
          "nurburgring",
          "galvez",
          "baku",
          "monaco",
          "imola",
          "suzuka",
          "watkins_glen",
          "watkins_glen",
          "phoenix",
          "long_beach",
          "detroit",
          "jacarepagua",
          "jerez",
          "jerez",
          "donington",
          "galvez",
          "suzuka",
          "yas_marina",
          "americas",
          "monza",
          "suzuka",
          "silverstone",
          "buddh",
          "monza",
          "spa",
          "monaco",
          "silverstone",
          "red_bull_ring",
          "villeneuve",
          "monza",
          "phoenix",
          "yas_marina",
          "spa",
          "zandvoort",
          "indianapolis",
          "mosport",
          "rodriguez",
          "imola",
          "spa",
          "nurburgring",
          "monza",
          "istanbul",
          "phoenix",
          "monza",
          "jerez",
          "silverstone",
          "galvez",
          "hungaroring",
          "villeneuve",
          "hockenheimring",
          "hockenheimring",
          "catalunya",
          "hockenheimring",
          "indianapolis",
          "interlagos",
          "ricard",
          "catalunya",
          "monaco",
          "spa",
          "hungaroring",
          "spa",
          "albert_park",
          "brands_hatch",
          "catalunya",
          "nurburgring",
          "catalunya",
          "catalunya",
          "monza",
          "silverstone",
          "imola",
          "silverstone",
          "monaco",
          "nurburgring",
          "shanghai",
          "nurburgring",
          "jerez",
          "interlagos",
          "boavista",
          "red_bull_ring",
          "monza",
          "red_bull_ring",
          "hockenheimring",
          "villeneuve",
          "imola",
          "anderstorp",
          "mosport",
          "spa",
          "monza",
          "essarts",
          "zolder",
          "phoenix",
          "anderstorp",
          "adelaide",
          "imola",
          "kyalami",
          "marina_bay",
          "bahrain",
          "nurburgring",
          "suzuka",
          "indianapolis",
          "kyalami",
          "montjuic",
          "hockenheimring",
          "tremblant",
          "losail",
          "watkins_glen",
          "spa",
          "villeneuve",
          "catalunya",
          "istanbul",
          "bahrain",
          "hungaroring",
          "nurburgring",
          "galvez",
          "shanghai",
          "zandvoort",
          "detroit",
          "villeneuve",
          "monaco",
          "rodriguez",
          "hungaroring",
          "red_bull_ring",
          "monaco",
          "adelaide",
          "silverstone",
          "indianapolis",
          "red_bull_ring",
          "monza",
          "zolder",
          "spa",
          "nurburgring",
          "villeneuve",
          "zolder",
          "hockenheimring",
          "interlagos",
          "spa",
          "jarama",
          "spa",
          "sepang",
          "monaco",
          "hockenheimring",
          "hungaroring",
          "catalunya",
          "magny_cours",
          "monza",
          "silverstone",
          "silverstone",
          "monaco",
          "adelaide",
          "monaco",
          "long_beach",
          "galvez",
          "spa",
          "aintree",
          "spa",
          "imola",
          "zandvoort",
          "monaco",
          "indianapolis",
          "jarama",
          "adelaide",
          "kyalami",
          "zandvoort",
          "monaco",
          "monza",
          "hungaroring",
          "hungaroring",
          "reims",
          "zolder",
          "catalunya",
          "hockenheimring",
          "monaco",
          "hockenheimring",
          "hungaroring",
          "magny_cours",
          "zandvoort",
          "monza",
          "indianapolis",
          "red_bull_ring",
          "monza",
          "kyalami",
          "essarts",
          "silverstone",
          "brands_hatch",
          "monza",
          "silverstone",
          "villeneuve",
          "monaco",
          "kyalami",
          "anderstorp",
          "hungaroring",
          "catalunya",
          "aintree",
          "tremblant",
          "silverstone",
          "jacarepagua",
          "monaco",
          "kyalami",
          "brands_hatch",
          "red_bull_ring",
          "monza",
          "hungaroring",
          "silverstone",
          "ricard",
          "silverstone",
          "estoril",
          "monaco",
          "galvez",
          "bahrain",
          "kyalami",
          "fuji",
          "red_bull_ring",
          "istanbul",
          "zandvoort",
          "imola",
          "ricard",
          "marina_bay",
          "monaco",
          "interlagos",
          "detroit",
          "monza",
          "hungaroring",
          "monaco",
          "nurburgring",
          "red_bull_ring",
          "detroit",
          "albert_park",
          "red_bull_ring",
          "suzuka",
          "monaco",
          "monza",
          "monsanto",
          "interlagos",
          "silverstone",
          "hockenheimring",
          "rodriguez",
          "monza",
          "kyalami",
          "hungaroring",
          "spa",
          "villeneuve",
          "bremgarten",
          "ricard",
          "albert_park",
          "kyalami",
          "villeneuve",
          "suzuka",
          "george",
          "magny_cours",
          "zolder",
          "bremgarten",
          "indianapolis",
          "interlagos",
          "monza",
          "catalunya",
          "indianapolis",
          "zandvoort",
          "interlagos",
          "villeneuve",
          "estoril",
          "imola",
          "imola",
          "jerez",
          "monaco",
          "suzuka",
          "miami",
          "interlagos",
          "monaco",
          "kyalami",
          "jarama",
          "jerez",
          "mosport",
          "ricard",
          "monaco",
          "indianapolis",
          "albert_park",
          "bahrain",
          "nurburgring",
          "kyalami",
          "fuji",
          "rodriguez",
          "red_bull_ring",
          "red_bull_ring",
          "spa",
          "villeneuve",
          "nurburgring",
          "villeneuve",
          "valencia",
          "galvez",
          "villeneuve",
          "riverside",
          "spa",
          "jacarepagua",
          "kyalami",
          "spa",
          "monza",
          "buddh",
          "monaco",
          "bremgarten",
          "watkins_glen",
          "jerez",
          "monaco",
          "marina_bay",
          "red_bull_ring",
          "nurburgring",
          "brands_hatch",
          "aintree",
          "estoril",
          "brands_hatch",
          "shanghai",
          "hockenheimring",
          "monaco",
          "magny_cours",
          "monaco",
          "watkins_glen",
          "hungaroring",
          "spa",
          "villeneuve",
          "red_bull_ring",
          "magny_cours",
          "monza",
          "adelaide",
          "red_bull_ring",
          "imola",
          "spa",
          "hockenheimring",
          "monza",
          "interlagos",
          "monaco",
          "spa",
          "kyalami",
          "red_bull_ring",
          "monaco",
          "monaco",
          "galvez",
          "essarts",
          "sochi",
          "interlagos",
          "silverstone",
          "monaco",
          "hockenheimring",
          "rodriguez",
          "watkins_glen",
          "indianapolis",
          "interlagos",
          "zandvoort",
          "interlagos",
          "nurburgring",
          "indianapolis",
          "estoril",
          "zandvoort",
          "jacarepagua",
          "catalunya",
          "villeneuve",
          "yas_marina",
          "jarama",
          "baku",
          "silverstone",
          "monaco",
          "hungaroring",
          "monaco",
          "long_beach",
          "shanghai",
          "mosport",
          "magny_cours",
          "phoenix",
          "hungaroring",
          "catalunya",
          "shanghai",
          "ricard",
          "spa",
          "interlagos",
          "suzuka",
          "rodriguez",
          "indianapolis",
          "red_bull_ring",
          "red_bull_ring",
          "hockenheimring",
          "indianapolis",
          "monaco",
          "jacarepagua",
          "zandvoort",
          "suzuka",
          "rodriguez",
          "reims",
          "brands_hatch",
          "suzuka",
          "red_bull_ring",
          "spa",
          "spa",
          "mosport",
          "magny_cours",
          "monaco",
          "nurburgring",
          "monaco",
          "bahrain",
          "ricard",
          "villeneuve",
          "nurburgring",
          "hungaroring",
          "essarts",
          "spa",
          "galvez",
          "rodriguez",
          "suzuka",
          "monsanto",
          "jacarepagua",
          "villeneuve",
          "hungaroring",
          "monaco",
          "nurburgring",
          "yas_marina",
          "galvez",
          "adelaide",
          "villeneuve",
          "galvez",
          "hungaroring",
          "monza",
          "tremblant",
          "istanbul",
          "anderstorp",
          "villeneuve",
          "brands_hatch",
          "sepang",
          "yas_marina",
          "interlagos",
          "hockenheimring",
          "silverstone",
          "hungaroring",
          "yas_marina",
          "villeneuve",
          "zandvoort",
          "jarama",
          "okayama",
          "monza",
          "silverstone",
          "jarama",
          "catalunya",
          "suzuka",
          "aintree",
          "silverstone",
          "hungaroring",
          "sochi",
          "jacarepagua",
          "silverstone",
          "dijon",
          "suzuka",
          "monza",
          "monza",
          "adelaide",
          "monza",
          "yas_marina",
          "monaco",
          "kyalami",
          "monza",
          "adelaide",
          "interlagos",
          "interlagos",
          "zolder",
          "red_bull_ring",
          "villeneuve",
          "jerez",
          "kyalami",
          "hungaroring",
          "hungaroring",
          "estoril",
          "monaco",
          "catalunya",
          "villeneuve",
          "zolder",
          "monaco",
          "albert_park",
          "villeneuve",
          "spa",
          "galvez",
          "interlagos",
          "villeneuve",
          "yeongam",
          "riverside",
          "yas_marina",
          "imola",
          "nurburgring",
          "jarama",
          "hockenheimring",
          "americas",
          "nurburgring",
          "catalunya",
          "monaco",
          "monaco",
          "george",
          "adelaide",
          "villeneuve",
          "hungaroring",
          "catalunya",
          "monaco",
          "ricard",
          "villeneuve",
          "spa",
          "sepang",
          "fuji",
          "mosport",
          "albert_park",
          "suzuka",
          "hungaroring",
          "monaco",
          "watkins_glen",
          "silverstone",
          "imola",
          "rodriguez",
          "imola",
          "portimao",
          "boavista",
          "imola",
          "spa",
          "montjuic",
          "zolder",
          "fuji",
          "catalunya",
          "hockenheimring",
          "brands_hatch",
          "monza",
          "kyalami",
          "nurburgring",
          "monaco",
          "fuji",
          "hungaroring",
          "monza",
          "zolder",
          "sepang",
          "ricard",
          "nurburgring",
          "villeneuve",
          "monza",
          "shanghai",
          "aintree",
          "villeneuve",
          "aintree",
          "long_beach",
          "estoril",
          "monaco",
          "brands_hatch",
          "phoenix",
          "kyalami",
          "zolder",
          "sepang",
          "red_bull_ring",
          "monaco",
          "galvez",
          "monza",
          "silverstone",
          "kyalami",
          "silverstone",
          "monaco",
          "monza",
          "rodriguez",
          "monza",
          "long_beach",
          "reims",
          "watkins_glen",
          "fuji",
          "red_bull_ring",
          "hungaroring",
          "jarama",
          "watkins_glen",
          "monza",
          "hungaroring",
          "silverstone",
          "magny_cours",
          "silverstone",
          "americas",
          "hockenheimring",
          "hockenheimring",
          "suzuka",
          "zolder",
          "interlagos",
          "long_beach",
          "ricard",
          "silverstone",
          "jarama",
          "long_beach",
          "kyalami",
          "estoril",
          "silverstone",
          "dijon",
          "silverstone",
          "mosport",
          "adelaide",
          "spa",
          "istanbul",
          "hockenheimring",
          "monaco",
          "imola",
          "reims",
          "jacarepagua",
          "nurburgring",
          "monaco",
          "jacarepagua",
          "adelaide",
          "magny_cours",
          "spa",
          "red_bull_ring",
          "ricard",
          "nurburgring",
          "catalunya",
          "albert_park",
          "suzuka",
          "nurburgring",
          "nurburgring",
          "las_vegas",
          "silverstone",
          "zeltweg",
          "villeneuve",
          "hockenheimring",
          "rodriguez",
          "essarts",
          "monza",
          "zandvoort",
          "dallas",
          "phoenix",
          "adelaide",
          "silverstone",
          "monaco",
          "red_bull_ring",
          "shanghai",
          "monaco",
          "silverstone",
          "spa",
          "nivelles",
          "monaco",
          "shanghai",
          "jarama",
          "zandvoort",
          "monaco",
          "indianapolis",
          "sochi",
          "fuji",
          "villeneuve",
          "silverstone",
          "hungaroring",
          "hockenheimring",
          "magny_cours",
          "monaco",
          "zandvoort",
          "rodriguez",
          "long_beach",
          "kyalami",
          "kyalami",
          "monaco",
          "albert_park",
          "spa",
          "hockenheimring",
          "kyalami",
          "catalunya",
          "nurburgring",
          "estoril",
          "spa",
          "yas_marina",
          "monza",
          "suzuka",
          "zandvoort",
          "monza",
          "villeneuve",
          "suzuka",
          "portimao",
          "detroit",
          "silverstone",
          "monza",
          "spa",
          "zandvoort",
          "marina_bay",
          "suzuka",
          "silverstone",
          "dijon",
          "silverstone",
          "monza",
          "villeneuve",
          "zolder",
          "hungaroring",
          "indianapolis",
          "spa",
          "bahrain",
          "interlagos",
          "villeneuve",
          "suzuka",
          "spa",
          "monza",
          "sochi",
          "monaco",
          "brands_hatch",
          "silverstone",
          "reims",
          "mosport",
          "monaco",
          "ricard",
          "monaco",
          "red_bull_ring",
          "indianapolis",
          "nurburgring",
          "ricard",
          "interlagos",
          "imola",
          "suzuka",
          "interlagos",
          "spa",
          "yas_marina",
          "silverstone",
          "nurburgring",
          "interlagos",
          "nurburgring",
          "magny_cours",
          "monza",
          "imola",
          "yas_marina",
          "hungaroring",
          "hungaroring",
          "monza",
          "hungaroring",
          "suzuka",
          "detroit",
          "rodriguez",
          "monza",
          "monza",
          "zolder",
          "watkins_glen",
          "monaco",
          "watkins_glen",
          "yeongam",
          "phoenix",
          "monaco",
          "rodriguez",
          "mosport",
          "spa",
          "hockenheimring",
          "essarts",
          "bahrain",
          "estoril",
          "brands_hatch",
          "hockenheimring",
          "imola",
          "essarts",
          "kyalami",
          "monaco",
          "suzuka",
          "hungaroring",
          "ricard",
          "hungaroring",
          "monaco",
          "fuji",
          "las_vegas",
          "monza",
          "hungaroring",
          "catalunya",
          "magny_cours",
          "monza",
          "ricard",
          "monaco",
          "watkins_glen",
          "silverstone",
          "imola",
          "nurburgring",
          "interlagos",
          "nurburgring",
          "spa",
          "monza",
          "spa",
          "spa",
          "istanbul",
          "watkins_glen",
          "catalunya",
          "anderstorp",
          "imola",
          "villeneuve",
          "watkins_glen",
          "hungaroring",
          "hungaroring",
          "suzuka",
          "mosport",
          "monaco",
          "jarama",
          "monza",
          "spa",
          "imola",
          "imola",
          "hockenheimring",
          "silverstone",
          "watkins_glen",
          "catalunya",
          "silverstone",
          "galvez",
          "imola",
          "monza",
          "vegas",
          "watkins_glen",
          "brands_hatch",
          "villeneuve",
          "ricard",
          "imola",
          "bahrain",
          "zandvoort",
          "aintree",
          "monaco",
          "monza",
          "imola",
          "silverstone",
          "silverstone",
          "watkins_glen",
          "villeneuve",
          "hungaroring",
          "monza",
          "rodriguez",
          "silverstone",
          "rodriguez",
          "albert_park",
          "interlagos",
          "rodriguez",
          "kyalami",
          "magny_cours",
          "monaco",
          "nurburgring",
          "zolder",
          "hungaroring",
          "interlagos",
          "villeneuve",
          "nurburgring",
          "monza",
          "jerez",
          "hungaroring",
          "monaco",
          "imola",
          "interlagos",
          "rodriguez",
          "ricard",
          "silverstone",
          "yeongam",
          "valencia",
          "reims",
          "essarts",
          "essarts",
          "red_bull_ring",
          "kyalami",
          "monza",
          "villeneuve",
          "galvez",
          "red_bull_ring",
          "yas_marina",
          "monza",
          "villeneuve",
          "long_beach",
          "galvez",
          "interlagos",
          "dijon",
          "valencia",
          "galvez",
          "silverstone",
          "hockenheimring",
          "hungaroring",
          "estoril",
          "imola",
          "spa",
          "nurburgring",
          "nurburgring",
          "catalunya",
          "red_bull_ring",
          "brands_hatch",
          "silverstone",
          "monaco",
          "yas_marina",
          "monza",
          "monaco",
          "catalunya",
          "monaco",
          "marina_bay",
          "silverstone",
          "interlagos",
          "catalunya",
          "monaco",
          "charade",
          "monaco",
          "marina_bay",
          "villeneuve",
          "hungaroring",
          "yas_marina",
          "jacarepagua",
          "albert_park",
          "imola",
          "spa",
          "monza",
          "rodriguez",
          "detroit",
          "monaco",
          "magny_cours",
          "adelaide",
          "interlagos",
          "red_bull_ring",
          "villeneuve",
          "sepang",
          "spa",
          "hockenheimring",
          "phoenix",
          "silverstone",
          "interlagos",
          "monaco",
          "montjuic",
          "galvez",
          "silverstone",
          "kyalami",
          "hungaroring",
          "pedralbes",
          "hungaroring",
          "villeneuve",
          "kyalami",
          "interlagos",
          "monza",
          "monza",
          "villeneuve",
          "magny_cours",
          "monza",
          "monza",
          "silverstone",
          "jeddah",
          "reims",
          "catalunya",
          "monaco",
          "albert_park",
          "jarama",
          "detroit",
          "marina_bay",
          "yeongam",
          "albert_park",
          "monaco",
          "portimao",
          "estoril",
          "silverstone",
          "red_bull_ring",
          "silverstone",
          "charade",
          "ricard",
          "hockenheimring",
          "interlagos",
          "silverstone",
          "jarama",
          "jarama",
          "hockenheimring",
          "montjuic",
          "villeneuve",
          "monza",
          "imola",
          "catalunya",
          "hungaroring",
          "rodriguez",
          "imola",
          "indianapolis",
          "mosport",
          "zandvoort",
          "donington",
          "nurburgring",
          "kyalami",
          "bahrain",
          "silverstone",
          "hungaroring",
          "rodriguez",
          "jerez",
          "imola",
          "albert_park",
          "yas_marina",
          "bremgarten",
          "suzuka",
          "essarts",
          "hockenheimring",
          "zandvoort",
          "hungaroring",
          "nurburgring",
          "villeneuve",
          "magny_cours",
          "monza",
          "silverstone",
          "valencia",
          "kyalami",
          "albert_park",
          "spa",
          "zandvoort",
          "interlagos",
          "sepang",
          "rodriguez",
          "monza",
          "adelaide",
          "indianapolis",
          "losail",
          "monza",
          "marina_bay",
          "rodriguez",
          "ricard",
          "watkins_glen",
          "monaco",
          "riverside",
          "spa",
          "zolder",
          "bremgarten",
          "zandvoort",
          "galvez",
          "las_vegas",
          "monza",
          "kyalami",
          "bahrain",
          "zandvoort",
          "monaco",
          "galvez",
          "zandvoort",
          "suzuka",
          "silverstone",
          "silverstone",
          "ricard",
          "rodriguez",
          "monaco",
          "baku",
          "silverstone",
          "zolder",
          "hungaroring",
          "silverstone",
          "monza",
          "imola",
          "brands_hatch",
          "watkins_glen",
          "baku",
          "suzuka",
          "zandvoort",
          "mosport",
          "kyalami",
          "watkins_glen",
          "sochi",
          "mosport",
          "long_beach",
          "red_bull_ring",
          "silverstone",
          "hungaroring",
          "rodriguez",
          "kyalami",
          "magny_cours",
          "detroit",
          "villeneuve",
          "monza",
          "rodriguez",
          "baku",
          "estoril",
          "monza",
          "long_beach",
          "spa",
          "kyalami",
          "zolder",
          "zandvoort",
          "interlagos",
          "bahrain",
          "spa",
          "hockenheimring",
          "brands_hatch",
          "detroit",
          "zandvoort",
          "interlagos",
          "interlagos",
          "donington",
          "indianapolis",
          "albert_park",
          "red_bull_ring",
          "monaco",
          "silverstone",
          "silverstone",
          "villeneuve",
          "silverstone",
          "imola",
          "bremgarten",
          "dijon",
          "kyalami",
          "albert_park",
          "hockenheimring",
          "nurburgring",
          "suzuka",
          "monaco",
          "monaco",
          "silverstone",
          "suzuka",
          "hockenheimring",
          "ricard",
          "losail",
          "villeneuve",
          "detroit",
          "monaco",
          "catalunya",
          "zolder",
          "spa",
          "monza",
          "spa",
          "monza",
          "zandvoort",
          "monza",
          "monaco",
          "aintree",
          "aintree",
          "nurburgring",
          "hockenheimring",
          "losail",
          "monza",
          "monaco",
          "villeneuve",
          "montjuic",
          "monaco",
          "imola",
          "nurburgring",
          "adelaide",
          "zolder",
          "boavista",
          "villeneuve",
          "monaco",
          "hungaroring",
          "yas_marina",
          "hungaroring",
          "americas",
          "monza",
          "americas",
          "albert_park",
          "spa",
          "monaco",
          "monza",
          "detroit",
          "magny_cours",
          "ricard",
          "monza",
          "hockenheimring",
          "interlagos",
          "dijon",
          "interlagos",
          "marina_bay",
          "bahrain",
          "monza",
          "suzuka",
          "monza",
          "nurburgring",
          "monza",
          "hungaroring",
          "albert_park",
          "interlagos",
          "imola",
          "monaco",
          "jacarepagua",
          "zandvoort",
          "zandvoort",
          "interlagos",
          "silverstone",
          "suzuka",
          "silverstone",
          "americas",
          "spa",
          "silverstone",
          "monaco",
          "imola",
          "sebring",
          "hockenheimring",
          "galvez",
          "ricard",
          "red_bull_ring",
          "bahrain",
          "villeneuve",
          "suzuka",
          "adelaide",
          "suzuka",
          "long_beach",
          "estoril",
          "monza",
          "zandvoort",
          "monaco",
          "red_bull_ring",
          "zandvoort",
          "red_bull_ring",
          "villeneuve",
          "estoril",
          "silverstone",
          "estoril",
          "nurburgring",
          "zandvoort",
          "monza",
          "brands_hatch",
          "okayama",
          "spa",
          "albert_park",
          "monaco",
          "spa",
          "imola",
          "ain-diab",
          "spa",
          "monaco",
          "magny_cours",
          "red_bull_ring",
          "monaco",
          "monza",
          "galvez",
          "nurburgring",
          "brands_hatch",
          "phoenix",
          "imola",
          "monza",
          "ricard",
          "brands_hatch",
          "reims",
          "imola",
          "red_bull_ring",
          "bremgarten",
          "suzuka",
          "galvez",
          "catalunya",
          "brands_hatch",
          "americas",
          "magny_cours",
          "adelaide",
          "red_bull_ring",
          "suzuka",
          "adelaide",
          "villeneuve",
          "brands_hatch",
          "adelaide",
          "nurburgring",
          "interlagos",
          "marina_bay",
          "istanbul",
          "zolder",
          "mosport",
          "monza",
          "suzuka",
          "anderstorp",
          "hungaroring",
          "silverstone",
          "galvez",
          "sepang",
          "hungaroring",
          "spa",
          "spa",
          "spa",
          "magny_cours",
          "monza",
          "indianapolis",
          "monza",
          "kyalami",
          "hungaroring",
          "interlagos",
          "nurburgring",
          "spa",
          "spa",
          "indianapolis",
          "red_bull_ring",
          "ricard",
          "monza",
          "monaco",
          "watkins_glen",
          "imola",
          "red_bull_ring",
          "catalunya",
          "brands_hatch",
          "ricard",
          "dijon",
          "red_bull_ring",
          "dijon",
          "adelaide",
          "albert_park",
          "galvez",
          "silverstone",
          "rodriguez",
          "monza",
          "watkins_glen",
          "brands_hatch",
          "hockenheimring",
          "long_beach",
          "brands_hatch",
          "baku",
          "villeneuve",
          "shanghai",
          "riverside",
          "watkins_glen",
          "monaco",
          "spa",
          "monza",
          "bahrain",
          "villeneuve",
          "reims",
          "silverstone",
          "silverstone",
          "galvez",
          "kyalami",
          "hungaroring",
          "indianapolis",
          "rodriguez",
          "rodriguez",
          "red_bull_ring",
          "detroit",
          "watkins_glen",
          "kyalami",
          "watkins_glen",
          "imola",
          "monaco",
          "zolder",
          "albert_park",
          "fuji",
          "monaco",
          "watkins_glen",
          "villeneuve",
          "silverstone",
          "dijon",
          "bahrain",
          "magny_cours",
          "monaco",
          "monza",
          "hungaroring",
          "istanbul",
          "catalunya",
          "villeneuve",
          "monaco",
          "red_bull_ring",
          "albert_park",
          "monaco",
          "monaco",
          "spa",
          "silverstone",
          "monaco",
          "sebring",
          "rodriguez",
          "indianapolis",
          "jerez",
          "galvez",
          "monaco",
          "suzuka",
          "monza",
          "monza",
          "spa",
          "hockenheimring",
          "essarts",
          "sebring",
          "silverstone",
          "monaco",
          "silverstone",
          "monaco",
          "interlagos",
          "watkins_glen",
          "estoril",
          "nurburgring",
          "phoenix",
          "monza",
          "phoenix",
          "spa",
          "monza",
          "silverstone",
          "galvez",
          "hockenheimring",
          "silverstone",
          "jarama",
          "baku",
          "zandvoort",
          "monaco",
          "magny_cours",
          "watkins_glen",
          "spa",
          "indianapolis",
          "adelaide",
          "silverstone",
          "interlagos",
          "zandvoort",
          "monza",
          "silverstone",
          "villeneuve",
          "silverstone",
          "magny_cours",
          "sebring",
          "silverstone",
          "nurburgring",
          "monza",
          "reims",
          "imola",
          "spa",
          "jarama",
          "nurburgring",
          "monza",
          "long_beach",
          "interlagos",
          "hungaroring",
          "monaco",
          "monaco",
          "ricard",
          "nurburgring",
          "hockenheimring",
          "rodriguez",
          "monaco",
          "reims",
          "istanbul",
          "albert_park",
          "nurburgring",
          "magny_cours",
          "monza",
          "silverstone",
          "catalunya",
          "hungaroring",
          "estoril",
          "spa",
          "galvez",
          "sepang",
          "watkins_glen",
          "red_bull_ring",
          "jerez",
          "suzuka",
          "pescara",
          "magny_cours",
          "zolder",
          "albert_park",
          "bremgarten",
          "galvez",
          "monaco",
          "galvez",
          "suzuka",
          "watkins_glen",
          "nurburgring",
          "red_bull_ring",
          "adelaide",
          "villeneuve",
          "hockenheimring",
          "monza",
          "jerez",
          "jeddah",
          "sochi",
          "marina_bay",
          "catalunya",
          "indianapolis",
          "sepang",
          "monaco",
          "phoenix",
          "imola",
          "sochi",
          "villeneuve",
          "monaco",
          "silverstone",
          "watkins_glen",
          "dallas",
          "catalunya",
          "monaco",
          "catalunya",
          "monza",
          "americas",
          "valencia",
          "silverstone",
          "silverstone",
          "interlagos",
          "hockenheimring",
          "catalunya",
          "nurburgring",
          "nurburgring",
          "monaco",
          "monza",
          "imola",
          "ricard",
          "silverstone",
          "spa",
          "monza",
          "rodriguez",
          "nurburgring",
          "jacarepagua",
          "catalunya",
          "galvez",
          "spa",
          "detroit",
          "monza",
          "zandvoort",
          "pedralbes",
          "monaco",
          "kyalami",
          "brands_hatch",
          "monaco",
          "brands_hatch",
          "shanghai",
          "monza",
          "nurburgring",
          "hockenheimring",
          "jerez",
          "monza",
          "villeneuve",
          "spa",
          "monza",
          "villeneuve",
          "sepang",
          "monaco",
          "indianapolis",
          "jerez",
          "hockenheimring",
          "hungaroring",
          "rodriguez",
          "bahrain",
          "albert_park",
          "bremgarten",
          "brands_hatch",
          "albert_park",
          "jacarepagua",
          "monsanto",
          "hungaroring",
          "albert_park",
          "reims",
          "zolder",
          "monaco",
          "imola",
          "hungaroring",
          "monaco",
          "zandvoort",
          "nurburgring",
          "jarama",
          "kyalami",
          "bremgarten",
          "indianapolis",
          "spa",
          "nurburgring",
          "zolder",
          "villeneuve",
          "watkins_glen",
          "bremgarten",
          "watkins_glen",
          "catalunya",
          "monaco",
          "rodriguez",
          "hockenheimring",
          "silverstone",
          "monaco",
          "spa",
          "villeneuve",
          "monza",
          "magny_cours",
          "watkins_glen",
          "hockenheimring",
          "silverstone",
          "nivelles",
          "monza",
          "watkins_glen",
          "monza",
          "hockenheimring",
          "hungaroring",
          "villeneuve",
          "riverside",
          "zandvoort",
          "zandvoort",
          "imola",
          "nurburgring",
          "silverstone",
          "jacarepagua",
          "interlagos",
          "galvez",
          "catalunya",
          "zolder",
          "zandvoort",
          "estoril",
          "red_bull_ring",
          "estoril",
          "monza",
          "monza",
          "indianapolis",
          "long_beach",
          "suzuka",
          "americas",
          "dallas",
          "monaco",
          "monaco",
          "ricard",
          "shanghai",
          "monaco",
          "catalunya",
          "imola",
          "silverstone",
          "americas",
          "sochi",
          "monaco",
          "monaco",
          "tremblant",
          "aintree",
          "brands_hatch",
          "hungaroring",
          "hungaroring",
          "detroit",
          "monza",
          "reims",
          "ricard",
          "monaco",
          "monza",
          "monaco",
          "anderstorp",
          "shanghai",
          "red_bull_ring",
          "monza",
          "monaco",
          "villeneuve",
          "spa",
          "zandvoort",
          "imola",
          "villeneuve",
          "catalunya",
          "monza",
          "donington",
          "hockenheimring",
          "nurburgring",
          "red_bull_ring",
          "hockenheimring",
          "monaco",
          "hockenheimring",
          "zandvoort",
          "galvez",
          "galvez",
          "sochi",
          "monza",
          "red_bull_ring",
          "anderstorp",
          "hungaroring",
          "zolder",
          "zolder",
          "nurburgring",
          "catalunya",
          "rodriguez",
          "villeneuve",
          "spa",
          "silverstone",
          "villeneuve",
          "brands_hatch",
          "hockenheimring",
          "brands_hatch",
          "red_bull_ring",
          "zandvoort",
          "indianapolis",
          "reims",
          "jacarepagua",
          "zandvoort",
          "imola",
          "galvez",
          "imola",
          "marina_bay",
          "portimao",
          "nurburgring",
          "adelaide",
          "catalunya",
          "brands_hatch",
          "red_bull_ring",
          "red_bull_ring",
          "yas_marina",
          "shanghai",
          "monza",
          "hungaroring",
          "monaco",
          "hungaroring",
          "detroit",
          "nurburgring",
          "suzuka",
          "villeneuve",
          "reims",
          "hockenheimring",
          "spa",
          "galvez",
          "hungaroring",
          "red_bull_ring",
          "magny_cours",
          "anderstorp",
          "monaco",
          "catalunya",
          "suzuka",
          "red_bull_ring",
          "monza",
          "indianapolis",
          "ricard",
          "kyalami",
          "marina_bay",
          "nurburgring",
          "monaco",
          "sepang",
          "indianapolis",
          "sepang",
          "watkins_glen",
          "galvez",
          "monza",
          "spa",
          "suzuka",
          "hungaroring",
          "jacarepagua",
          "monaco",
          "brands_hatch",
          "spa",
          "estoril",
          "spa",
          "villeneuve",
          "yas_marina",
          "spa",
          "monaco",
          "nurburgring",
          "jacarepagua",
          "ricard",
          "red_bull_ring",
          "kyalami",
          "monza",
          "monaco",
          "estoril",
          "reims",
          "silverstone",
          "adelaide",
          "kyalami",
          "pedralbes",
          "detroit",
          "monaco",
          "ricard",
          "zandvoort",
          "valencia",
          "suzuka",
          "monza",
          "rodriguez",
          "monaco",
          "kyalami",
          "mosport",
          "zandvoort",
          "indianapolis",
          "magny_cours",
          "tremblant",
          "interlagos",
          "hockenheimring",
          "las_vegas",
          "hungaroring",
          "hockenheimring",
          "interlagos",
          "silverstone",
          "monaco",
          "zandvoort",
          "red_bull_ring",
          "indianapolis",
          "brands_hatch",
          "spa",
          "bahrain",
          "adelaide",
          "monaco",
          "rodriguez",
          "imola",
          "galvez",
          "kyalami",
          "suzuka",
          "albert_park",
          "interlagos",
          "phoenix",
          "long_beach",
          "brands_hatch",
          "monaco",
          "bahrain",
          "spa",
          "catalunya",
          "spa",
          "adelaide",
          "silverstone",
          "galvez",
          "monaco",
          "red_bull_ring",
          "watkins_glen",
          "imola",
          "dijon",
          "shanghai",
          "hockenheimring",
          "charade",
          "tremblant",
          "marina_bay",
          "adelaide",
          "indianapolis",
          "imola",
          "long_beach",
          "monza",
          "brands_hatch",
          "nurburgring",
          "sepang",
          "albert_park",
          "jerez",
          "interlagos",
          "interlagos",
          "monza",
          "catalunya",
          "tremblant",
          "marina_bay",
          "suzuka",
          "aintree",
          "jacarepagua",
          "silverstone",
          "essarts",
          "zandvoort",
          "silverstone",
          "estoril",
          "albert_park",
          "long_beach",
          "albert_park",
          "red_bull_ring",
          "nurburgring",
          "shanghai",
          "jerez",
          "silverstone",
          "monaco",
          "zandvoort",
          "kyalami",
          "hockenheimring",
          "ain-diab",
          "hungaroring",
          "red_bull_ring",
          "villeneuve",
          "villeneuve",
          "rodriguez",
          "monza",
          "red_bull_ring",
          "watkins_glen",
          "hockenheimring",
          "monza",
          "villeneuve",
          "dijon",
          "sepang",
          "hockenheimring",
          "bahrain",
          "sepang",
          "detroit",
          "monaco",
          "rodriguez",
          "suzuka",
          "nurburgring",
          "monaco",
          "catalunya",
          "red_bull_ring",
          "rodriguez",
          "aintree",
          "monza",
          "spa",
          "jerez",
          "detroit",
          "yeongam",
          "monza",
          "mosport",
          "silverstone",
          "estoril",
          "silverstone",
          "hungaroring",
          "rodriguez",
          "interlagos",
          "albert_park",
          "monza",
          "suzuka",
          "yas_marina",
          "silverstone",
          "suzuka",
          "galvez",
          "shanghai",
          "nurburgring",
          "monza",
          "bahrain",
          "nurburgring",
          "nurburgring",
          "watkins_glen",
          "jerez",
          "interlagos",
          "villeneuve",
          "fuji",
          "charade",
          "monaco",
          "nurburgring",
          "zandvoort",
          "silverstone",
          "red_bull_ring",
          "galvez",
          "aintree",
          "zandvoort",
          "villeneuve",
          "bahrain",
          "brands_hatch",
          "red_bull_ring",
          "adelaide",
          "imola",
          "monaco",
          "red_bull_ring",
          "imola",
          "imola",
          "rodriguez",
          "silverstone",
          "monza",
          "monza",
          "catalunya",
          "suzuka",
          "brands_hatch",
          "jacarepagua",
          "hungaroring",
          "monaco",
          "reims",
          "catalunya",
          "hockenheimring",
          "silverstone",
          "watkins_glen",
          "nurburgring",
          "hockenheimring",
          "interlagos",
          "suzuka",
          "villeneuve",
          "hockenheimring",
          "las_vegas",
          "villeneuve",
          "red_bull_ring",
          "monza",
          "yas_marina",
          "monaco",
          "nurburgring",
          "monaco",
          "spa",
          "spa",
          "hungaroring",
          "albert_park",
          "red_bull_ring",
          "catalunya",
          "las_vegas",
          "spa",
          "hungaroring",
          "silverstone",
          "red_bull_ring",
          "estoril",
          "marina_bay",
          "villeneuve",
          "ricard",
          "estoril",
          "catalunya",
          "ricard",
          "imola",
          "brands_hatch",
          "rodriguez",
          "watkins_glen",
          "silverstone",
          "monza",
          "charade",
          "red_bull_ring",
          "ricard",
          "monza",
          "red_bull_ring",
          "albert_park",
          "villeneuve",
          "nurburgring",
          "nurburgring",
          "adelaide",
          "nurburgring",
          "jarama",
          "monaco",
          "monaco",
          "anderstorp",
          "zandvoort",
          "estoril",
          "monaco",
          "suzuka",
          "interlagos",
          "pescara",
          "ricard",
          "watkins_glen",
          "sochi",
          "watkins_glen",
          "albert_park",
          "jarama",
          "monza",
          "red_bull_ring",
          "spa",
          "interlagos",
          "yas_marina",
          "kyalami",
          "red_bull_ring",
          "hockenheimring",
          "sebring",
          "silverstone",
          "nurburgring",
          "hungaroring",
          "bremgarten",
          "ricard",
          "jacarepagua",
          "villeneuve",
          "monaco",
          "long_beach",
          "spa",
          "spa",
          "zolder",
          "rodriguez",
          "albert_park",
          "spa",
          "zandvoort",
          "silverstone",
          "watkins_glen",
          "spa",
          "villeneuve",
          "monza",
          "monza",
          "monza",
          "nivelles",
          "charade",
          "silverstone",
          "suzuka",
          "monaco",
          "istanbul",
          "spa",
          "monza",
          "bremgarten",
          "long_beach",
          "rodriguez",
          "jerez",
          "bremgarten",
          "americas",
          "watkins_glen",
          "catalunya",
          "sepang",
          "detroit",
          "pedralbes",
          "watkins_glen",
          "kyalami",
          "catalunya",
          "silverstone",
          "mosport",
          "rodriguez",
          "indianapolis",
          "shanghai",
          "silverstone",
          "suzuka",
          "monza",
          "interlagos",
          "mosport",
          "spa",
          "villeneuve",
          "phoenix",
          "zandvoort",
          "monza",
          "monaco",
          "fuji",
          "losail",
          "jacarepagua",
          "nurburgring",
          "kyalami",
          "silverstone",
          "pescara",
          "kyalami",
          "jarama",
          "imola",
          "hockenheimring",
          "long_beach",
          "jerez",
          "interlagos",
          "zandvoort",
          "zandvoort",
          "ricard",
          "kyalami",
          "interlagos",
          "hockenheimring",
          "hungaroring",
          "watkins_glen",
          "long_beach",
          "aintree",
          "sochi",
          "nurburgring",
          "mosport",
          "montjuic",
          "kyalami",
          "galvez",
          "las_vegas",
          "reims",
          "sepang",
          "zolder",
          "imola",
          "nurburgring",
          "silverstone",
          "interlagos",
          "reims",
          "jarama",
          "kyalami",
          "magny_cours",
          "george",
          "catalunya",
          "jarama",
          "hungaroring",
          "monaco",
          "adelaide",
          "monza",
          "suzuka",
          "long_beach",
          "monza",
          "interlagos",
          "imola",
          "hungaroring",
          "brands_hatch",
          "hungaroring",
          "aintree",
          "nurburgring",
          "villeneuve",
          "monza",
          "jarama",
          "monza",
          "monaco",
          "kyalami",
          "bahrain",
          "adelaide",
          "ricard",
          "villeneuve",
          "hockenheimring",
          "pescara",
          "hockenheimring",
          "imola",
          "jacarepagua",
          "monaco",
          "nurburgring",
          "long_beach",
          "magny_cours",
          "charade",
          "monza",
          "zandvoort",
          "interlagos",
          "imola",
          "silverstone",
          "watkins_glen",
          "riverside",
          "brands_hatch",
          "monza",
          "monaco",
          "estoril",
          "suzuka",
          "monza",
          "suzuka",
          "long_beach",
          "albert_park",
          "hungaroring",
          "monza",
          "watkins_glen",
          "hungaroring",
          "monaco",
          "spa",
          "americas",
          "reims",
          "red_bull_ring",
          "zolder",
          "ricard",
          "spa",
          "catalunya",
          "hockenheimring",
          "nurburgring",
          "monaco",
          "hockenheimring",
          "silverstone",
          "suzuka",
          "catalunya",
          "spa",
          "mugello",
          "watkins_glen",
          "albert_park",
          "spa",
          "suzuka",
          "charade",
          "silverstone",
          "galvez",
          "hockenheimring",
          "suzuka",
          "jerez",
          "ricard",
          "catalunya",
          "magny_cours",
          "hockenheimring",
          "nurburgring",
          "monaco",
          "watkins_glen",
          "rodriguez",
          "interlagos",
          "hockenheimring",
          "imola",
          "hockenheimring",
          "monaco",
          "spa",
          "villeneuve",
          "monaco",
          "reims",
          "interlagos",
          "watkins_glen",
          "spa",
          "silverstone",
          "brands_hatch",
          "kyalami",
          "albert_park",
          "fuji",
          "imola",
          "red_bull_ring",
          "zandvoort",
          "monza",
          "sochi",
          "catalunya",
          "hockenheimring",
          "suzuka",
          "istanbul",
          "indianapolis",
          "zolder",
          "galvez",
          "rodriguez",
          "silverstone",
          "monza",
          "watkins_glen",
          "ricard",
          "interlagos",
          "interlagos",
          "bahrain",
          "watkins_glen",
          "buddh",
          "monaco",
          "istanbul",
          "kyalami",
          "villeneuve",
          "monaco",
          "albert_park",
          "red_bull_ring",
          "sepang",
          "monza",
          "villeneuve",
          "americas",
          "reims",
          "interlagos",
          "jerez",
          "adelaide",
          "silverstone",
          "hockenheimring",
          "monza",
          "hockenheimring",
          "mosport",
          "hungaroring",
          "imola",
          "silverstone",
          "zolder",
          "zandvoort",
          "monaco",
          "interlagos",
          "silverstone",
          "monza",
          "rodriguez",
          "hungaroring",
          "anderstorp",
          "magny_cours",
          "hungaroring",
          "interlagos",
          "interlagos",
          "hungaroring",
          "villeneuve",
          "sepang",
          "nurburgring",
          "monaco",
          "catalunya",
          "albert_park",
          "zandvoort",
          "catalunya",
          "spa",
          "baku",
          "watkins_glen",
          "villeneuve",
          "detroit",
          "monaco",
          "watkins_glen",
          "spa",
          "brands_hatch",
          "monza",
          "indianapolis",
          "imola",
          "charade",
          "suzuka",
          "nivelles",
          "villeneuve",
          "sochi",
          "interlagos",
          "magny_cours",
          "monaco",
          "istanbul",
          "villeneuve",
          "spa",
          "magny_cours",
          "detroit",
          "spa",
          "silverstone",
          "sebring",
          "suzuka",
          "shanghai",
          "monza",
          "estoril",
          "monza",
          "imola",
          "albert_park",
          "spa",
          "magny_cours",
          "interlagos",
          "rodriguez",
          "indianapolis",
          "monza",
          "rodriguez",
          "kyalami",
          "reims",
          "silverstone",
          "villeneuve",
          "hockenheimring",
          "jacarepagua",
          "villeneuve",
          "zolder",
          "long_beach",
          "spa",
          "phoenix",
          "dijon",
          "villeneuve",
          "interlagos",
          "zandvoort",
          "watkins_glen",
          "villeneuve",
          "magny_cours",
          "monza",
          "yas_marina",
          "red_bull_ring",
          "spa",
          "red_bull_ring",
          "hockenheimring",
          "villeneuve",
          "silverstone",
          "sepang",
          "bahrain",
          "monza",
          "hungaroring",
          "imola",
          "monaco",
          "brands_hatch",
          "jacarepagua",
          "zandvoort",
          "hockenheimring",
          "hungaroring",
          "jacarepagua",
          "long_beach",
          "estoril",
          "galvez",
          "silverstone",
          "kyalami",
          "hockenheimring",
          "montjuic",
          "sepang",
          "galvez",
          "zandvoort",
          "long_beach",
          "silverstone",
          "sochi",
          "reims",
          "interlagos",
          "hungaroring",
          "shanghai",
          "spa",
          "red_bull_ring",
          "villeneuve",
          "spa",
          "watkins_glen",
          "zolder",
          "spa",
          "villeneuve",
          "brands_hatch",
          "kyalami",
          "jarama",
          "imola",
          "hungaroring",
          "hockenheimring",
          "ricard",
          "ricard",
          "tremblant",
          "silverstone",
          "hungaroring",
          "brands_hatch",
          "detroit",
          "interlagos",
          "villeneuve",
          "villeneuve",
          "monaco",
          "hockenheimring",
          "villeneuve",
          "zandvoort",
          "jarama",
          "rodriguez",
          "monza",
          "monaco",
          "sepang",
          "marina_bay",
          "phoenix",
          "detroit",
          "monaco",
          "zolder",
          "estoril",
          "spa",
          "bremgarten",
          "brands_hatch",
          "estoril",
          "hungaroring",
          "george",
          "suzuka",
          "hungaroring",
          "monaco",
          "suzuka",
          "hockenheimring",
          "spa",
          "las_vegas",
          "zandvoort",
          "galvez",
          "bahrain",
          "ricard",
          "villeneuve",
          "long_beach",
          "hockenheimring",
          "indianapolis",
          "galvez",
          "monza",
          "istanbul",
          "nurburgring",
          "boavista",
          "villeneuve",
          "silverstone",
          "red_bull_ring",
          "rodriguez",
          "brands_hatch",
          "silverstone",
          "magny_cours",
          "zandvoort",
          "monza",
          "nurburgring",
          "silverstone",
          "fuji",
          "nurburgring",
          "imola",
          "tremblant",
          "bahrain",
          "brands_hatch",
          "pedralbes",
          "jarama",
          "monza",
          "red_bull_ring",
          "imola",
          "monaco",
          "monza",
          "kyalami",
          "spa",
          "interlagos",
          "estoril",
          "rodriguez",
          "rodriguez",
          "zolder",
          "phoenix",
          "watkins_glen",
          "jacarepagua",
          "monaco",
          "americas",
          "zandvoort",
          "albert_park",
          "bremgarten",
          "spa",
          "villeneuve",
          "hockenheimring",
          "catalunya",
          "monza",
          "rodriguez",
          "watkins_glen",
          "monza",
          "indianapolis",
          "red_bull_ring",
          "monza",
          "hungaroring",
          "spa",
          "yas_marina",
          "sepang",
          "hockenheimring",
          "sepang",
          "monza",
          "imola",
          "hungaroring",
          "hungaroring",
          "villeneuve",
          "silverstone",
          "pescara",
          "sochi",
          "nurburgring",
          "albert_park",
          "interlagos",
          "spa",
          "adelaide",
          "monza",
          "monza",
          "imola",
          "suzuka",
          "monaco",
          "hockenheimring",
          "imola",
          "monza",
          "long_beach",
          "hungaroring",
          "pescara",
          "monaco",
          "albert_park",
          "bremgarten",
          "indianapolis",
          "estoril",
          "imola",
          "long_beach",
          "hungaroring",
          "adelaide",
          "rodriguez",
          "galvez",
          "yas_marina",
          "monza",
          "detroit",
          "villeneuve",
          "kyalami",
          "monza",
          "spa",
          "silverstone",
          "yas_marina",
          "silverstone",
          "villeneuve",
          "reims",
          "marina_bay",
          "villeneuve",
          "imola",
          "baku",
          "spa",
          "tremblant",
          "villeneuve",
          "red_bull_ring",
          "monaco",
          "ricard",
          "reims",
          "suzuka",
          "rodriguez",
          "monaco",
          "indianapolis",
          "monza",
          "catalunya",
          "monza",
          "nurburgring",
          "interlagos",
          "hungaroring",
          "sepang",
          "sochi",
          "hungaroring",
          "adelaide",
          "magny_cours",
          "brands_hatch",
          "albert_park",
          "imola",
          "albert_park",
          "okayama",
          "estoril",
          "monza",
          "detroit",
          "villeneuve",
          "jarama",
          "suzuka",
          "hungaroring",
          "monza",
          "red_bull_ring",
          "nurburgring",
          "detroit",
          "hockenheimring",
          "catalunya",
          "villeneuve",
          "bahrain",
          "monaco",
          "catalunya",
          "nurburgring",
          "brands_hatch",
          "catalunya",
          "spa",
          "sepang",
          "rodriguez",
          "villeneuve",
          "reims",
          "brands_hatch",
          "shanghai",
          "bremgarten",
          "silverstone",
          "silverstone",
          "nurburgring",
          "interlagos",
          "interlagos",
          "silverstone",
          "monaco",
          "silverstone",
          "ricard",
          "catalunya",
          "silverstone",
          "spa",
          "hockenheimring",
          "silverstone",
          "spa",
          "nurburgring",
          "silverstone",
          "ricard",
          "reims",
          "hungaroring",
          "villeneuve",
          "interlagos",
          "villeneuve",
          "silverstone",
          "monaco",
          "indianapolis",
          "monza",
          "essarts",
          "indianapolis",
          "watkins_glen",
          "villeneuve",
          "villeneuve",
          "interlagos",
          "montjuic",
          "kyalami",
          "aintree",
          "monaco",
          "hungaroring",
          "interlagos",
          "interlagos",
          "detroit",
          "interlagos",
          "estoril",
          "adelaide",
          "monza",
          "silverstone",
          "suzuka",
          "phoenix",
          "shanghai",
          "nurburgring",
          "albert_park",
          "adelaide",
          "spa",
          "jarama",
          "spa",
          "hungaroring",
          "spa",
          "red_bull_ring",
          "suzuka",
          "interlagos",
          "catalunya",
          "jacarepagua",
          "brands_hatch",
          "jarama",
          "nurburgring",
          "interlagos",
          "villeneuve",
          "monza",
          "phoenix",
          "monza",
          "interlagos",
          "catalunya",
          "indianapolis",
          "watkins_glen",
          "monza",
          "galvez",
          "albert_park",
          "galvez",
          "estoril",
          "kyalami",
          "monza",
          "yas_marina",
          "zolder",
          "nurburgring",
          "rodriguez",
          "imola",
          "monaco",
          "kyalami",
          "hockenheimring",
          "dijon",
          "catalunya",
          "villeneuve",
          "albert_park",
          "interlagos",
          "jacarepagua",
          "nurburgring",
          "albert_park",
          "silverstone",
          "imola",
          "catalunya",
          "magny_cours",
          "galvez",
          "monaco",
          "buddh",
          "red_bull_ring",
          "spa",
          "red_bull_ring",
          "silverstone",
          "indianapolis",
          "nurburgring",
          "mosport",
          "hungaroring",
          "estoril",
          "watkins_glen",
          "marina_bay",
          "monsanto",
          "catalunya",
          "villeneuve",
          "silverstone",
          "catalunya",
          "monaco",
          "nurburgring",
          "essarts",
          "bremgarten",
          "monza",
          "marina_bay",
          "suzuka",
          "catalunya",
          "ricard",
          "monza",
          "brands_hatch",
          "suzuka",
          "monaco",
          "montjuic",
          "monza",
          "monaco",
          "catalunya",
          "nurburgring",
          "hockenheimring",
          "spa",
          "long_beach",
          "catalunya",
          "spa",
          "hungaroring",
          "montjuic",
          "suzuka",
          "catalunya",
          "villeneuve",
          "red_bull_ring",
          "red_bull_ring",
          "zandvoort",
          "imola",
          "detroit",
          "reims",
          "hockenheimring",
          "brands_hatch",
          "monza",
          "reims",
          "catalunya",
          "villeneuve",
          "monza",
          "bahrain",
          "ricard",
          "ricard",
          "magny_cours",
          "spa",
          "nurburgring",
          "phoenix",
          "sepang",
          "imola",
          "red_bull_ring",
          "bremgarten",
          "villeneuve",
          "imola",
          "catalunya",
          "silverstone",
          "indianapolis",
          "jacarepagua",
          "jarama",
          "anderstorp",
          "monaco",
          "estoril",
          "catalunya",
          "catalunya",
          "sepang",
          "monaco",
          "silverstone",
          "watkins_glen",
          "istanbul",
          "hungaroring",
          "sochi",
          "bremgarten",
          "sepang",
          "estoril",
          "kyalami",
          "hungaroring",
          "monaco",
          "watkins_glen",
          "nurburgring",
          "hockenheimring",
          "monza",
          "indianapolis",
          "americas",
          "monaco",
          "spa",
          "brands_hatch",
          "kyalami",
          "hockenheimring",
          "albert_park",
          "ricard",
          "silverstone",
          "catalunya",
          "dijon",
          "monza",
          "indianapolis",
          "sepang",
          "nurburgring",
          "yas_marina",
          "long_beach",
          "villeneuve",
          "yas_marina",
          "magny_cours",
          "red_bull_ring",
          "imola",
          "monaco",
          "silverstone",
          "rodriguez",
          "red_bull_ring",
          "nurburgring",
          "george",
          "interlagos",
          "hockenheimring",
          "catalunya",
          "imola",
          "monza",
          "hungaroring",
          "monza",
          "reims",
          "interlagos",
          "catalunya",
          "magny_cours",
          "shanghai",
          "hockenheimring",
          "bremgarten",
          "nurburgring",
          "jacarepagua",
          "nivelles",
          "hockenheimring",
          "yeongam",
          "interlagos",
          "reims",
          "monaco",
          "nurburgring",
          "hungaroring",
          "suzuka",
          "bahrain",
          "hungaroring",
          "zeltweg",
          "imola",
          "interlagos",
          "sochi",
          "hockenheimring",
          "watkins_glen",
          "nurburgring",
          "kyalami",
          "interlagos",
          "estoril",
          "villeneuve",
          "red_bull_ring",
          "detroit",
          "bahrain",
          "kyalami",
          "catalunya",
          "spa",
          "catalunya",
          "zolder",
          "charade",
          "hungaroring",
          "shanghai",
          "suzuka",
          "watkins_glen",
          "zandvoort",
          "villeneuve",
          "americas",
          "suzuka",
          "villeneuve",
          "monza",
          "sepang",
          "indianapolis",
          "silverstone",
          "imola",
          "hockenheimring",
          "zandvoort",
          "ricard",
          "yas_marina",
          "watkins_glen",
          "spa",
          "monza",
          "americas",
          "hungaroring",
          "red_bull_ring",
          "rodriguez",
          "nurburgring",
          "long_beach",
          "monaco",
          "silverstone",
          "nurburgring",
          "monza",
          "spa",
          "dijon",
          "monaco",
          "kyalami",
          "monaco",
          "rodriguez",
          "watkins_glen",
          "monaco",
          "mosport",
          "monza",
          "long_beach",
          "adelaide",
          "nivelles",
          "watkins_glen",
          "spa",
          "monaco",
          "suzuka",
          "indianapolis",
          "adelaide",
          "villeneuve",
          "indianapolis",
          "suzuka",
          "baku",
          "hockenheimring",
          "monza",
          "imola",
          "interlagos",
          "detroit",
          "spa",
          "hockenheimring",
          "ricard",
          "catalunya",
          "monaco",
          "jacarepagua",
          "reims",
          "interlagos",
          "silverstone",
          "villeneuve",
          "albert_park",
          "suzuka",
          "monaco",
          "hockenheimring",
          "anderstorp",
          "dijon",
          "detroit",
          "valencia",
          "bahrain",
          "brands_hatch",
          "silverstone",
          "monza",
          "monza",
          "zandvoort",
          "reims",
          "charade",
          "red_bull_ring",
          "brands_hatch",
          "villeneuve",
          "hungaroring",
          "silverstone",
          "nurburgring",
          "monza",
          "hockenheimring",
          "nurburgring",
          "monaco",
          "adelaide",
          "hockenheimring",
          "americas",
          "monza",
          "monaco",
          "zandvoort",
          "nurburgring",
          "monaco",
          "spa",
          "monza",
          "zandvoort",
          "silverstone",
          "monza",
          "monza",
          "dijon",
          "brands_hatch",
          "reims",
          "baku",
          "red_bull_ring",
          "suzuka",
          "catalunya",
          "catalunya",
          "monza",
          "spa",
          "nurburgring",
          "americas",
          "bahrain",
          "indianapolis",
          "red_bull_ring",
          "hockenheimring",
          "spa",
          "catalunya",
          "yas_marina",
          "zolder",
          "villeneuve",
          "monaco",
          "indianapolis",
          "zolder",
          "nurburgring",
          "ricard",
          "anderstorp",
          "reims",
          "dijon",
          "monza",
          "red_bull_ring",
          "silverstone",
          "monaco",
          "zolder",
          "villeneuve",
          "brands_hatch",
          "mosport",
          "catalunya",
          "jerez",
          "monaco",
          "monza",
          "silverstone",
          "monaco",
          "zandvoort",
          "nurburgring",
          "red_bull_ring",
          "zandvoort",
          "watkins_glen",
          "indianapolis",
          "red_bull_ring",
          "george",
          "interlagos",
          "monza",
          "zandvoort",
          "marina_bay",
          "indianapolis",
          "villeneuve",
          "monaco",
          "monsanto",
          "watkins_glen",
          "bahrain",
          "zandvoort",
          "albert_park",
          "catalunya",
          "monza",
          "silverstone",
          "monza",
          "silverstone",
          "reims",
          "brands_hatch",
          "zolder",
          "jacarepagua",
          "villeneuve",
          "watkins_glen",
          "monza",
          "zolder",
          "galvez",
          "interlagos",
          "jerez",
          "silverstone",
          "interlagos",
          "catalunya",
          "spa",
          "monza",
          "mugello",
          "silverstone",
          "kyalami",
          "monaco",
          "silverstone",
          "imola",
          "ricard",
          "sochi",
          "jarama",
          "nurburgring",
          "hungaroring",
          "estoril",
          "reims",
          "interlagos",
          "hockenheimring",
          "monza",
          "baku",
          "hungaroring",
          "watkins_glen",
          "galvez",
          "red_bull_ring",
          "catalunya",
          "red_bull_ring",
          "long_beach",
          "donington",
          "silverstone",
          "zolder",
          "interlagos",
          "red_bull_ring",
          "mosport",
          "interlagos",
          "suzuka",
          "red_bull_ring",
          "suzuka",
          "hungaroring",
          "indianapolis",
          "albert_park",
          "villeneuve",
          "suzuka",
          "kyalami",
          "imola",
          "rodriguez",
          "monza",
          "estoril",
          "imola",
          "monza",
          "interlagos",
          "long_beach",
          "watkins_glen",
          "bahrain",
          "bremgarten",
          "silverstone",
          "suzuka",
          "interlagos",
          "red_bull_ring",
          "adelaide",
          "okayama",
          "reims",
          "red_bull_ring",
          "ricard",
          "suzuka",
          "villeneuve",
          "catalunya",
          "nurburgring",
          "adelaide",
          "indianapolis",
          "indianapolis",
          "long_beach",
          "estoril",
          "monza",
          "hockenheimring",
          "magny_cours",
          "rodriguez",
          "monaco",
          "adelaide",
          "aintree",
          "villeneuve",
          "kyalami",
          "brands_hatch",
          "kyalami",
          "kyalami",
          "nurburgring",
          "kyalami",
          "imola",
          "magny_cours",
          "shanghai",
          "tremblant",
          "spa",
          "hungaroring",
          "interlagos",
          "silverstone",
          "brands_hatch",
          "hungaroring",
          "monza",
          "villeneuve",
          "imola",
          "hungaroring",
          "imola",
          "spa",
          "silverstone",
          "pedralbes",
          "sepang",
          "villeneuve",
          "spa",
          "monza",
          "pedralbes",
          "monza",
          "brands_hatch",
          "indianapolis",
          "buddh",
          "zandvoort",
          "zandvoort",
          "shanghai",
          "rodriguez",
          "magny_cours",
          "kyalami",
          "imola",
          "monza",
          "albert_park",
          "jacarepagua",
          "watkins_glen",
          "indianapolis",
          "mosport",
          "interlagos",
          "bremgarten",
          "hockenheimring",
          "hungaroring",
          "nurburgring",
          "okayama",
          "hungaroring",
          "hockenheimring",
          "nurburgring",
          "brands_hatch",
          "montjuic",
          "marina_bay",
          "indianapolis",
          "interlagos",
          "imola",
          "monaco",
          "yas_marina",
          "monaco",
          "hungaroring",
          "monza",
          "zandvoort",
          "villeneuve",
          "monaco",
          "nurburgring",
          "galvez",
          "nurburgring",
          "jacarepagua",
          "nurburgring",
          "galvez",
          "estoril",
          "ricard",
          "monza",
          "red_bull_ring",
          "catalunya",
          "riverside",
          "villeneuve",
          "rodriguez",
          "zandvoort",
          "villeneuve",
          "catalunya",
          "dijon",
          "red_bull_ring",
          "rodriguez",
          "zandvoort",
          "jarama",
          "bahrain",
          "monza",
          "silverstone",
          "monza",
          "zandvoort",
          "shanghai",
          "spa",
          "spa",
          "monza",
          "monza",
          "monaco",
          "hockenheimring",
          "mosport",
          "red_bull_ring",
          "yeongam",
          "monaco",
          "imola",
          "watkins_glen",
          "zandvoort",
          "red_bull_ring",
          "interlagos",
          "magny_cours",
          "indianapolis",
          "spa",
          "interlagos",
          "magny_cours",
          "istanbul",
          "watkins_glen",
          "spa",
          "monza",
          "spa",
          "dijon",
          "zandvoort",
          "villeneuve",
          "red_bull_ring",
          "rodriguez",
          "sepang",
          "hungaroring",
          "monza",
          "sepang",
          "monaco",
          "donington",
          "hungaroring",
          "silverstone",
          "kyalami",
          "magny_cours",
          "indianapolis",
          "indianapolis",
          "imola",
          "catalunya",
          "nurburgring",
          "long_beach",
          "vegas",
          "catalunya",
          "silverstone",
          "shanghai",
          "estoril",
          "zandvoort",
          "catalunya",
          "spa",
          "zandvoort",
          "interlagos",
          "zandvoort",
          "interlagos",
          "indianapolis",
          "galvez",
          "silverstone",
          "bahrain",
          "hockenheimring",
          "monaco",
          "monza",
          "spa",
          "magny_cours",
          "villeneuve",
          "buddh",
          "zandvoort",
          "monaco",
          "jacarepagua",
          "red_bull_ring",
          "albert_park",
          "aintree",
          "estoril",
          "bremgarten",
          "rodriguez",
          "istanbul",
          "long_beach",
          "albert_park",
          "mosport",
          "dijon",
          "zandvoort",
          "watkins_glen",
          "zandvoort",
          "sepang",
          "silverstone",
          "monza",
          "hockenheimring",
          "jarama",
          "catalunya",
          "interlagos",
          "estoril",
          "nurburgring",
          "spa",
          "monza",
          "silverstone",
          "galvez",
          "jeddah",
          "galvez",
          "valencia",
          "nurburgring",
          "watkins_glen",
          "nurburgring",
          "albert_park",
          "monaco",
          "imola",
          "rodriguez",
          "red_bull_ring",
          "red_bull_ring",
          "nurburgring",
          "red_bull_ring",
          "interlagos",
          "silverstone",
          "monza",
          "silverstone",
          "villeneuve",
          "galvez",
          "hungaroring",
          "monsanto",
          "adelaide",
          "imola",
          "monaco",
          "baku",
          "adelaide",
          "indianapolis",
          "rodriguez",
          "shanghai",
          "phoenix",
          "jarama",
          "monaco",
          "villeneuve",
          "zolder",
          "silverstone",
          "brands_hatch",
          "monza",
          "monza",
          "sochi",
          "rodriguez",
          "suzuka",
          "marina_bay",
          "monaco",
          "catalunya",
          "magny_cours",
          "hungaroring",
          "monza",
          "suzuka",
          "monaco",
          "kyalami",
          "spa",
          "hockenheimring",
          "galvez",
          "hockenheimring",
          "hungaroring",
          "spa",
          "monaco",
          "spa",
          "monza",
          "hungaroring",
          "dijon",
          "indianapolis",
          "brands_hatch",
          "hungaroring",
          "jarama",
          "monaco",
          "magny_cours",
          "villeneuve",
          "indianapolis",
          "imola",
          "monza",
          "monaco",
          "jacarepagua",
          "monaco",
          "adelaide",
          "spa",
          "hungaroring",
          "monza",
          "monaco",
          "red_bull_ring",
          "hungaroring",
          "mosport",
          "jerez",
          "suzuka",
          "rodriguez",
          "watkins_glen",
          "nurburgring",
          "americas",
          "monza",
          "monaco",
          "george",
          "reims",
          "spa",
          "monza",
          "catalunya",
          "jerez",
          "sepang",
          "hockenheimring",
          "monza",
          "jacarepagua",
          "estoril",
          "hungaroring",
          "monaco",
          "interlagos",
          "catalunya",
          "spa",
          "mosport",
          "jacarepagua",
          "hockenheimring",
          "nurburgring",
          "silverstone",
          "indianapolis",
          "silverstone",
          "americas",
          "bahrain",
          "interlagos",
          "hockenheimring",
          "silverstone",
          "montjuic",
          "suzuka",
          "bahrain",
          "hockenheimring",
          "rodriguez",
          "hockenheimring",
          "brands_hatch",
          "hungaroring",
          "indianapolis",
          "suzuka",
          "jarama",
          "dijon",
          "zandvoort",
          "americas",
          "zandvoort",
          "suzuka",
          "monza",
          "monza",
          "adelaide",
          "bremgarten",
          "hungaroring",
          "nurburgring",
          "red_bull_ring",
          "indianapolis",
          "villeneuve",
          "rodriguez",
          "galvez",
          "red_bull_ring",
          "kyalami",
          "hockenheimring",
          "monaco",
          "imola",
          "red_bull_ring",
          "interlagos",
          "ricard",
          "bahrain",
          "watkins_glen",
          "interlagos",
          "red_bull_ring",
          "imola",
          "villeneuve",
          "tremblant",
          "zandvoort",
          "silverstone",
          "rodriguez",
          "monaco",
          "interlagos",
          "monza",
          "nurburgring",
          "zandvoort",
          "estoril",
          "silverstone",
          "albert_park",
          "rodriguez",
          "interlagos",
          "monza",
          "indianapolis",
          "hungaroring",
          "indianapolis",
          "sochi",
          "suzuka",
          "reims",
          "jacarepagua",
          "interlagos",
          "imola",
          "rodriguez",
          "albert_park",
          "phoenix",
          "jarama",
          "istanbul",
          "interlagos",
          "phoenix",
          "las_vegas",
          "hungaroring",
          "spa",
          "catalunya",
          "long_beach",
          "silverstone",
          "spa",
          "nurburgring",
          "pedralbes",
          "monaco",
          "villeneuve",
          "jarama",
          "nurburgring",
          "spa",
          "spa",
          "red_bull_ring",
          "hungaroring",
          "monza",
          "monaco",
          "kyalami",
          "monza",
          "zolder",
          "silverstone",
          "estoril",
          "reims",
          "fuji",
          "red_bull_ring",
          "sochi",
          "ricard",
          "monaco",
          "albert_park",
          "yas_marina",
          "hockenheimring",
          "ricard",
          "essarts",
          "silverstone",
          "george",
          "zandvoort",
          "spa",
          "red_bull_ring",
          "dijon",
          "marina_bay",
          "brands_hatch",
          "marina_bay",
          "hungaroring",
          "long_beach",
          "imola",
          "nurburgring",
          "silverstone",
          "brands_hatch",
          "hockenheimring",
          "suzuka",
          "catalunya",
          "nurburgring",
          "nurburgring",
          "marina_bay",
          "spa",
          "monaco",
          "hockenheimring",
          "zandvoort",
          "silverstone",
          "magny_cours",
          "sochi",
          "suzuka",
          "interlagos",
          "hungaroring",
          "magny_cours",
          "rodriguez",
          "monaco",
          "villeneuve",
          "albert_park",
          "valencia",
          "monaco",
          "sebring",
          "suzuka",
          "interlagos",
          "nurburgring",
          "essarts",
          "red_bull_ring",
          "spa",
          "silverstone",
          "monza",
          "catalunya",
          "zandvoort",
          "spa",
          "silverstone",
          "albert_park",
          "monaco",
          "silverstone",
          "losail",
          "sepang",
          "hockenheimring",
          "suzuka",
          "suzuka",
          "spa",
          "hockenheimring",
          "adelaide",
          "silverstone",
          "monza",
          "marina_bay",
          "monza",
          "sepang",
          "aintree",
          "spa",
          "hungaroring",
          "hungaroring",
          "imola",
          "watkins_glen",
          "estoril",
          "hockenheimring",
          "suzuka",
          "suzuka",
          "imola",
          "hungaroring",
          "zandvoort",
          "monza",
          "monaco",
          "albert_park",
          "boavista",
          "interlagos",
          "monza",
          "monza",
          "jarama",
          "monaco",
          "suzuka",
          "rodriguez",
          "monza",
          "lemans",
          "imola",
          "silverstone",
          "monza",
          "brands_hatch",
          "suzuka",
          "monza",
          "estoril",
          "monaco",
          "phoenix",
          "catalunya",
          "catalunya",
          "imola",
          "monaco",
          "indianapolis",
          "suzuka",
          "villeneuve",
          "jerez",
          "imola",
          "catalunya",
          "villeneuve",
          "anderstorp",
          "interlagos",
          "jacarepagua",
          "jarama",
          "monza",
          "monsanto",
          "magny_cours",
          "long_beach",
          "indianapolis",
          "hockenheimring",
          "albert_park",
          "reims",
          "red_bull_ring",
          "interlagos",
          "interlagos",
          "silverstone",
          "brands_hatch",
          "galvez",
          "adelaide",
          "villeneuve",
          "monaco",
          "watkins_glen",
          "kyalami",
          "bremgarten",
          "monaco",
          "red_bull_ring",
          "interlagos",
          "monza",
          "catalunya",
          "monza",
          "spa",
          "silverstone",
          "imola",
          "catalunya",
          "spa",
          "baku",
          "monaco",
          "monza",
          "red_bull_ring",
          "nurburgring",
          "monaco",
          "villeneuve",
          "hockenheimring",
          "rodriguez",
          "mosport",
          "monaco",
          "ricard",
          "indianapolis",
          "monza",
          "monza",
          "zolder",
          "dijon",
          "interlagos",
          "rodriguez",
          "spa",
          "ricard",
          "estoril",
          "hungaroring",
          "monaco",
          "hungaroring",
          "montjuic",
          "shanghai",
          "rodriguez",
          "hockenheimring",
          "jarama",
          "adelaide",
          "villeneuve",
          "silverstone",
          "marina_bay",
          "dijon",
          "brands_hatch",
          "villeneuve",
          "imola",
          "nurburgring",
          "red_bull_ring",
          "ricard",
          "buddh",
          "villeneuve",
          "estoril",
          "red_bull_ring",
          "albert_park",
          "dijon",
          "monza",
          "hungaroring",
          "villeneuve",
          "silverstone",
          "zandvoort",
          "zandvoort",
          "watkins_glen",
          "nurburgring",
          "interlagos",
          "galvez",
          "rodriguez",
          "charade",
          "albert_park",
          "albert_park",
          "silverstone",
          "dijon",
          "indianapolis",
          "red_bull_ring",
          "aintree",
          "sepang",
          "villeneuve",
          "watkins_glen",
          "monza",
          "buddh",
          "phoenix",
          "monza",
          "reims",
          "monza",
          "mosport",
          "silverstone",
          "magny_cours",
          "watkins_glen",
          "silverstone",
          "monza",
          "zandvoort",
          "zandvoort",
          "jacarepagua",
          "suzuka",
          "hungaroring",
          "interlagos",
          "suzuka",
          "rodriguez",
          "suzuka",
          "nurburgring",
          "essarts",
          "catalunya",
          "interlagos",
          "monza",
          "red_bull_ring",
          "imola",
          "galvez",
          "red_bull_ring",
          "jacarepagua",
          "silverstone",
          "bahrain",
          "silverstone",
          "ain-diab",
          "long_beach",
          "anderstorp",
          "watkins_glen",
          "albert_park",
          "estoril",
          "galvez",
          "rodriguez",
          "interlagos",
          "silverstone",
          "jerez",
          "zolder",
          "silverstone",
          "interlagos",
          "silverstone",
          "dallas",
          "red_bull_ring",
          "yeongam",
          "watkins_glen",
          "monaco",
          "yas_marina",
          "spa",
          "yas_marina",
          "anderstorp",
          "monaco",
          "galvez",
          "catalunya",
          "hungaroring",
          "kyalami",
          "sepang",
          "monaco",
          "kyalami",
          "kyalami",
          "interlagos",
          "interlagos",
          "reims",
          "silverstone",
          "watkins_glen",
          "imola",
          "red_bull_ring",
          "mugello",
          "silverstone",
          "monza",
          "hungaroring",
          "magny_cours",
          "shanghai",
          "rodriguez",
          "monaco",
          "indianapolis",
          "reims",
          "zandvoort",
          "imola",
          "spa",
          "watkins_glen",
          "silverstone",
          "villeneuve",
          "catalunya",
          "catalunya",
          "red_bull_ring",
          "george",
          "monza",
          "zandvoort",
          "spa",
          "anderstorp",
          "interlagos",
          "villeneuve",
          "hockenheimring",
          "hungaroring",
          "suzuka",
          "okayama",
          "monaco",
          "hockenheimring",
          "interlagos",
          "catalunya",
          "long_beach",
          "spa",
          "kyalami",
          "zolder",
          "red_bull_ring",
          "interlagos",
          "brands_hatch",
          "zolder",
          "interlagos",
          "jerez",
          "sepang",
          "jacarepagua",
          "reims",
          "galvez",
          "suzuka",
          "indianapolis",
          "interlagos",
          "zolder",
          "catalunya",
          "hungaroring",
          "brands_hatch",
          "villeneuve",
          "zandvoort",
          "interlagos",
          "jarama",
          "kyalami",
          "hungaroring",
          "magny_cours",
          "las_vegas",
          "boavista",
          "monaco",
          "kyalami",
          "detroit",
          "zolder",
          "albert_park",
          "sepang",
          "mosport",
          "bremgarten",
          "villeneuve",
          "magny_cours",
          "monaco",
          "interlagos",
          "monaco",
          "sepang",
          "pedralbes",
          "americas",
          "monza",
          "zandvoort",
          "pedralbes",
          "anderstorp",
          "hockenheimring",
          "nurburgring",
          "aintree",
          "watkins_glen",
          "silverstone",
          "jerez",
          "rodriguez",
          "interlagos",
          "monaco",
          "monza",
          "suzuka",
          "jacarepagua",
          "red_bull_ring",
          "suzuka",
          "hungaroring",
          "spa",
          "yas_marina",
          "monaco",
          "zandvoort",
          "hockenheimring",
          "spa",
          "watkins_glen",
          "zandvoort",
          "hockenheimring",
          "albert_park",
          "magny_cours",
          "zandvoort",
          "monaco",
          "red_bull_ring",
          "adelaide",
          "ricard",
          "magny_cours",
          "red_bull_ring",
          "nurburgring",
          "rodriguez",
          "yas_marina",
          "watkins_glen",
          "monaco",
          "hungaroring",
          "indianapolis",
          "monaco",
          "hungaroring",
          "long_beach",
          "silverstone",
          "rodriguez",
          "villeneuve",
          "zandvoort",
          "red_bull_ring",
          "ricard",
          "catalunya",
          "zandvoort",
          "indianapolis",
          "villeneuve",
          "ricard",
          "anderstorp",
          "silverstone",
          "silverstone",
          "detroit",
          "rodriguez",
          "imola",
          "zolder",
          "silverstone",
          "jarama",
          "monza",
          "zandvoort",
          "monaco",
          "shanghai",
          "kyalami",
          "hockenheimring",
          "watkins_glen",
          "monaco",
          "albert_park",
          "spa",
          "essarts",
          "monaco",
          "nurburgring",
          "silverstone",
          "monza",
          "hungaroring",
          "spa",
          "watkins_glen",
          "kyalami",
          "monza",
          "mosport",
          "spa",
          "zandvoort",
          "monza",
          "jacarepagua",
          "tremblant",
          "monza",
          "silverstone",
          "monaco",
          "zandvoort",
          "red_bull_ring",
          "istanbul",
          "monaco",
          "long_beach",
          "hockenheimring",
          "portimao",
          "hockenheimring",
          "adelaide",
          "nurburgring",
          "hockenheimring",
          "nurburgring",
          "spa",
          "las_vegas",
          "spa",
          "silverstone",
          "magny_cours",
          "jarama",
          "indianapolis",
          "zandvoort",
          "rodriguez",
          "silverstone",
          "jarama",
          "nurburgring",
          "interlagos",
          "jacarepagua",
          "spa",
          "las_vegas",
          "indianapolis",
          "istanbul",
          "kyalami",
          "silverstone",
          "spa",
          "spa",
          "silverstone",
          "suzuka",
          "sepang",
          "villeneuve",
          "jarama",
          "red_bull_ring",
          "nurburgring",
          "red_bull_ring",
          "silverstone",
          "istanbul",
          "hungaroring",
          "imola",
          "monza",
          "monaco",
          "istanbul",
          "red_bull_ring",
          "interlagos",
          "silverstone",
          "long_beach",
          "mosport"
         ],
         "xaxis": "x",
         "yaxis": "y"
        }
       ],
       "layout": {
        "barmode": "relative",
        "legend": {
         "title": {
          "text": "target_finish"
         },
         "tracegroupgap": 0
        },
        "template": {
         "data": {
          "bar": [
           {
            "error_x": {
             "color": "#2a3f5f"
            },
            "error_y": {
             "color": "#2a3f5f"
            },
            "marker": {
             "line": {
              "color": "#E5ECF6",
              "width": 0.5
             },
             "pattern": {
              "fillmode": "overlay",
              "size": 10,
              "solidity": 0.2
             }
            },
            "type": "bar"
           }
          ],
          "barpolar": [
           {
            "marker": {
             "line": {
              "color": "#E5ECF6",
              "width": 0.5
             },
             "pattern": {
              "fillmode": "overlay",
              "size": 10,
              "solidity": 0.2
             }
            },
            "type": "barpolar"
           }
          ],
          "carpet": [
           {
            "aaxis": {
             "endlinecolor": "#2a3f5f",
             "gridcolor": "white",
             "linecolor": "white",
             "minorgridcolor": "white",
             "startlinecolor": "#2a3f5f"
            },
            "baxis": {
             "endlinecolor": "#2a3f5f",
             "gridcolor": "white",
             "linecolor": "white",
             "minorgridcolor": "white",
             "startlinecolor": "#2a3f5f"
            },
            "type": "carpet"
           }
          ],
          "choropleth": [
           {
            "colorbar": {
             "outlinewidth": 0,
             "ticks": ""
            },
            "type": "choropleth"
           }
          ],
          "contour": [
           {
            "colorbar": {
             "outlinewidth": 0,
             "ticks": ""
            },
            "colorscale": [
             [
              0,
              "#0d0887"
             ],
             [
              0.1111111111111111,
              "#46039f"
             ],
             [
              0.2222222222222222,
              "#7201a8"
             ],
             [
              0.3333333333333333,
              "#9c179e"
             ],
             [
              0.4444444444444444,
              "#bd3786"
             ],
             [
              0.5555555555555556,
              "#d8576b"
             ],
             [
              0.6666666666666666,
              "#ed7953"
             ],
             [
              0.7777777777777778,
              "#fb9f3a"
             ],
             [
              0.8888888888888888,
              "#fdca26"
             ],
             [
              1,
              "#f0f921"
             ]
            ],
            "type": "contour"
           }
          ],
          "contourcarpet": [
           {
            "colorbar": {
             "outlinewidth": 0,
             "ticks": ""
            },
            "type": "contourcarpet"
           }
          ],
          "heatmap": [
           {
            "colorbar": {
             "outlinewidth": 0,
             "ticks": ""
            },
            "colorscale": [
             [
              0,
              "#0d0887"
             ],
             [
              0.1111111111111111,
              "#46039f"
             ],
             [
              0.2222222222222222,
              "#7201a8"
             ],
             [
              0.3333333333333333,
              "#9c179e"
             ],
             [
              0.4444444444444444,
              "#bd3786"
             ],
             [
              0.5555555555555556,
              "#d8576b"
             ],
             [
              0.6666666666666666,
              "#ed7953"
             ],
             [
              0.7777777777777778,
              "#fb9f3a"
             ],
             [
              0.8888888888888888,
              "#fdca26"
             ],
             [
              1,
              "#f0f921"
             ]
            ],
            "type": "heatmap"
           }
          ],
          "histogram": [
           {
            "marker": {
             "pattern": {
              "fillmode": "overlay",
              "size": 10,
              "solidity": 0.2
             }
            },
            "type": "histogram"
           }
          ],
          "histogram2d": [
           {
            "colorbar": {
             "outlinewidth": 0,
             "ticks": ""
            },
            "colorscale": [
             [
              0,
              "#0d0887"
             ],
             [
              0.1111111111111111,
              "#46039f"
             ],
             [
              0.2222222222222222,
              "#7201a8"
             ],
             [
              0.3333333333333333,
              "#9c179e"
             ],
             [
              0.4444444444444444,
              "#bd3786"
             ],
             [
              0.5555555555555556,
              "#d8576b"
             ],
             [
              0.6666666666666666,
              "#ed7953"
             ],
             [
              0.7777777777777778,
              "#fb9f3a"
             ],
             [
              0.8888888888888888,
              "#fdca26"
             ],
             [
              1,
              "#f0f921"
             ]
            ],
            "type": "histogram2d"
           }
          ],
          "histogram2dcontour": [
           {
            "colorbar": {
             "outlinewidth": 0,
             "ticks": ""
            },
            "colorscale": [
             [
              0,
              "#0d0887"
             ],
             [
              0.1111111111111111,
              "#46039f"
             ],
             [
              0.2222222222222222,
              "#7201a8"
             ],
             [
              0.3333333333333333,
              "#9c179e"
             ],
             [
              0.4444444444444444,
              "#bd3786"
             ],
             [
              0.5555555555555556,
              "#d8576b"
             ],
             [
              0.6666666666666666,
              "#ed7953"
             ],
             [
              0.7777777777777778,
              "#fb9f3a"
             ],
             [
              0.8888888888888888,
              "#fdca26"
             ],
             [
              1,
              "#f0f921"
             ]
            ],
            "type": "histogram2dcontour"
           }
          ],
          "mesh3d": [
           {
            "colorbar": {
             "outlinewidth": 0,
             "ticks": ""
            },
            "type": "mesh3d"
           }
          ],
          "parcoords": [
           {
            "line": {
             "colorbar": {
              "outlinewidth": 0,
              "ticks": ""
             }
            },
            "type": "parcoords"
           }
          ],
          "pie": [
           {
            "automargin": true,
            "type": "pie"
           }
          ],
          "scatter": [
           {
            "fillpattern": {
             "fillmode": "overlay",
             "size": 10,
             "solidity": 0.2
            },
            "type": "scatter"
           }
          ],
          "scatter3d": [
           {
            "line": {
             "colorbar": {
              "outlinewidth": 0,
              "ticks": ""
             }
            },
            "marker": {
             "colorbar": {
              "outlinewidth": 0,
              "ticks": ""
             }
            },
            "type": "scatter3d"
           }
          ],
          "scattercarpet": [
           {
            "marker": {
             "colorbar": {
              "outlinewidth": 0,
              "ticks": ""
             }
            },
            "type": "scattercarpet"
           }
          ],
          "scattergeo": [
           {
            "marker": {
             "colorbar": {
              "outlinewidth": 0,
              "ticks": ""
             }
            },
            "type": "scattergeo"
           }
          ],
          "scattergl": [
           {
            "marker": {
             "colorbar": {
              "outlinewidth": 0,
              "ticks": ""
             }
            },
            "type": "scattergl"
           }
          ],
          "scattermap": [
           {
            "marker": {
             "colorbar": {
              "outlinewidth": 0,
              "ticks": ""
             }
            },
            "type": "scattermap"
           }
          ],
          "scattermapbox": [
           {
            "marker": {
             "colorbar": {
              "outlinewidth": 0,
              "ticks": ""
             }
            },
            "type": "scattermapbox"
           }
          ],
          "scatterpolar": [
           {
            "marker": {
             "colorbar": {
              "outlinewidth": 0,
              "ticks": ""
             }
            },
            "type": "scatterpolar"
           }
          ],
          "scatterpolargl": [
           {
            "marker": {
             "colorbar": {
              "outlinewidth": 0,
              "ticks": ""
             }
            },
            "type": "scatterpolargl"
           }
          ],
          "scatterternary": [
           {
            "marker": {
             "colorbar": {
              "outlinewidth": 0,
              "ticks": ""
             }
            },
            "type": "scatterternary"
           }
          ],
          "surface": [
           {
            "colorbar": {
             "outlinewidth": 0,
             "ticks": ""
            },
            "colorscale": [
             [
              0,
              "#0d0887"
             ],
             [
              0.1111111111111111,
              "#46039f"
             ],
             [
              0.2222222222222222,
              "#7201a8"
             ],
             [
              0.3333333333333333,
              "#9c179e"
             ],
             [
              0.4444444444444444,
              "#bd3786"
             ],
             [
              0.5555555555555556,
              "#d8576b"
             ],
             [
              0.6666666666666666,
              "#ed7953"
             ],
             [
              0.7777777777777778,
              "#fb9f3a"
             ],
             [
              0.8888888888888888,
              "#fdca26"
             ],
             [
              1,
              "#f0f921"
             ]
            ],
            "type": "surface"
           }
          ],
          "table": [
           {
            "cells": {
             "fill": {
              "color": "#EBF0F8"
             },
             "line": {
              "color": "white"
             }
            },
            "header": {
             "fill": {
              "color": "#C8D4E3"
             },
             "line": {
              "color": "white"
             }
            },
            "type": "table"
           }
          ]
         },
         "layout": {
          "annotationdefaults": {
           "arrowcolor": "#2a3f5f",
           "arrowhead": 0,
           "arrowwidth": 1
          },
          "autotypenumbers": "strict",
          "coloraxis": {
           "colorbar": {
            "outlinewidth": 0,
            "ticks": ""
           }
          },
          "colorscale": {
           "diverging": [
            [
             0,
             "#8e0152"
            ],
            [
             0.1,
             "#c51b7d"
            ],
            [
             0.2,
             "#de77ae"
            ],
            [
             0.3,
             "#f1b6da"
            ],
            [
             0.4,
             "#fde0ef"
            ],
            [
             0.5,
             "#f7f7f7"
            ],
            [
             0.6,
             "#e6f5d0"
            ],
            [
             0.7,
             "#b8e186"
            ],
            [
             0.8,
             "#7fbc41"
            ],
            [
             0.9,
             "#4d9221"
            ],
            [
             1,
             "#276419"
            ]
           ],
           "sequential": [
            [
             0,
             "#0d0887"
            ],
            [
             0.1111111111111111,
             "#46039f"
            ],
            [
             0.2222222222222222,
             "#7201a8"
            ],
            [
             0.3333333333333333,
             "#9c179e"
            ],
            [
             0.4444444444444444,
             "#bd3786"
            ],
            [
             0.5555555555555556,
             "#d8576b"
            ],
            [
             0.6666666666666666,
             "#ed7953"
            ],
            [
             0.7777777777777778,
             "#fb9f3a"
            ],
            [
             0.8888888888888888,
             "#fdca26"
            ],
            [
             1,
             "#f0f921"
            ]
           ],
           "sequentialminus": [
            [
             0,
             "#0d0887"
            ],
            [
             0.1111111111111111,
             "#46039f"
            ],
            [
             0.2222222222222222,
             "#7201a8"
            ],
            [
             0.3333333333333333,
             "#9c179e"
            ],
            [
             0.4444444444444444,
             "#bd3786"
            ],
            [
             0.5555555555555556,
             "#d8576b"
            ],
            [
             0.6666666666666666,
             "#ed7953"
            ],
            [
             0.7777777777777778,
             "#fb9f3a"
            ],
            [
             0.8888888888888888,
             "#fdca26"
            ],
            [
             1,
             "#f0f921"
            ]
           ]
          },
          "colorway": [
           "#636efa",
           "#EF553B",
           "#00cc96",
           "#ab63fa",
           "#FFA15A",
           "#19d3f3",
           "#FF6692",
           "#B6E880",
           "#FF97FF",
           "#FECB52"
          ],
          "font": {
           "color": "#2a3f5f"
          },
          "geo": {
           "bgcolor": "white",
           "lakecolor": "white",
           "landcolor": "#E5ECF6",
           "showlakes": true,
           "showland": true,
           "subunitcolor": "white"
          },
          "hoverlabel": {
           "align": "left"
          },
          "hovermode": "closest",
          "mapbox": {
           "style": "light"
          },
          "paper_bgcolor": "white",
          "plot_bgcolor": "#E5ECF6",
          "polar": {
           "angularaxis": {
            "gridcolor": "white",
            "linecolor": "white",
            "ticks": ""
           },
           "bgcolor": "#E5ECF6",
           "radialaxis": {
            "gridcolor": "white",
            "linecolor": "white",
            "ticks": ""
           }
          },
          "scene": {
           "xaxis": {
            "backgroundcolor": "#E5ECF6",
            "gridcolor": "white",
            "gridwidth": 2,
            "linecolor": "white",
            "showbackground": true,
            "ticks": "",
            "zerolinecolor": "white"
           },
           "yaxis": {
            "backgroundcolor": "#E5ECF6",
            "gridcolor": "white",
            "gridwidth": 2,
            "linecolor": "white",
            "showbackground": true,
            "ticks": "",
            "zerolinecolor": "white"
           },
           "zaxis": {
            "backgroundcolor": "#E5ECF6",
            "gridcolor": "white",
            "gridwidth": 2,
            "linecolor": "white",
            "showbackground": true,
            "ticks": "",
            "zerolinecolor": "white"
           }
          },
          "shapedefaults": {
           "line": {
            "color": "#2a3f5f"
           }
          },
          "ternary": {
           "aaxis": {
            "gridcolor": "white",
            "linecolor": "white",
            "ticks": ""
           },
           "baxis": {
            "gridcolor": "white",
            "linecolor": "white",
            "ticks": ""
           },
           "bgcolor": "#E5ECF6",
           "caxis": {
            "gridcolor": "white",
            "linecolor": "white",
            "ticks": ""
           }
          },
          "title": {
           "x": 0.05
          },
          "xaxis": {
           "automargin": true,
           "gridcolor": "white",
           "linecolor": "white",
           "ticks": "",
           "title": {
            "standoff": 15
           },
           "zerolinecolor": "white",
           "zerolinewidth": 2
          },
          "yaxis": {
           "automargin": true,
           "gridcolor": "white",
           "linecolor": "white",
           "ticks": "",
           "title": {
            "standoff": 15
           },
           "zerolinecolor": "white",
           "zerolinewidth": 2
          }
         }
        },
        "title": {
         "text": "Circuit Reference vs Target Finish"
        },
        "xaxis": {
         "anchor": "y",
         "domain": [
          0,
          1
         ],
         "title": {
          "text": "circuitRef"
         }
        },
        "yaxis": {
         "anchor": "x",
         "domain": [
          0,
          1
         ],
         "title": {
          "text": "count"
         }
        }
       }
      }
     },
     "metadata": {},
     "output_type": "display_data"
    }
   ],
   "source": [
    "fig = px.histogram(df, x=\"circuitRef\",color=\"target_finish\", title=\"Circuit Reference vs Target Finish\")\n",
    "fig.show()"
   ]
  },
  {
   "cell_type": "code",
   "execution_count": 19,
   "id": "72763b24",
   "metadata": {},
   "outputs": [
    {
     "data": {
      "application/vnd.plotly.v1+json": {
       "config": {
        "plotlyServerURL": "https://plot.ly"
       },
       "data": [
        {
         "alignmentgroup": "True",
         "bingroup": "x",
         "hovertemplate": "target_finish=1<br>driverRef=%{x}<br>count=%{y}<extra></extra>",
         "legendgroup": "1",
         "marker": {
          "color": "#636efa",
          "pattern": {
           "shape": ""
          }
         },
         "name": "1",
         "offsetgroup": "1",
         "orientation": "v",
         "showlegend": true,
         "type": "histogram",
         "x": [
          "raikkonen",
          "hamilton",
          "michael_schumacher",
          "raikkonen",
          "perez",
          "vettel",
          "perez",
          "alonso",
          "button",
          "vettel",
          "massa",
          "hamilton",
          "michael_schumacher",
          "button",
          "raikkonen",
          "alonso",
          "hamilton",
          "vettel",
          "massa",
          "raikkonen",
          "michael_schumacher",
          "michael_schumacher",
          "perez",
          "perez",
          "hamilton",
          "raikkonen",
          "raikkonen",
          "michael_schumacher",
          "alonso",
          "button",
          "massa",
          "raikkonen",
          "perez",
          "vettel",
          "michael_schumacher",
          "perez",
          "perez",
          "vettel",
          "massa",
          "perez",
          "button",
          "alonso",
          "vettel",
          "vettel",
          "button",
          "massa",
          "button",
          "raikkonen",
          "vettel",
          "perez",
          "raikkonen",
          "vettel",
          "raikkonen",
          "button",
          "alonso",
          "barrichello",
          "barrichello",
          "button",
          "michael_schumacher",
          "raikkonen",
          "vettel",
          "hamilton",
          "alonso",
          "michael_schumacher",
          "raikkonen",
          "hamilton",
          "alonso",
          "hamilton",
          "barrichello",
          "raikkonen",
          "perez",
          "perez",
          "hamilton",
          "vettel",
          "vettel",
          "michael_schumacher",
          "vettel",
          "button",
          "button",
          "michael_schumacher",
          "button",
          "hamilton",
          "barrichello",
          "alonso",
          "michael_schumacher",
          "alonso",
          "barrichello",
          "michael_schumacher",
          "hamilton",
          "vettel",
          "alonso",
          "vettel",
          "vettel",
          "trulli",
          "raikkonen",
          "raikkonen",
          "raikkonen",
          "michael_schumacher",
          "barrichello",
          "vettel",
          "button",
          "hamilton",
          "raikkonen",
          "michael_schumacher",
          "raikkonen",
          "michael_schumacher",
          "vettel",
          "massa",
          "raikkonen",
          "perez",
          "raikkonen",
          "perez",
          "michael_schumacher",
          "michael_schumacher",
          "michael_schumacher",
          "alonso",
          "perez",
          "alonso",
          "massa",
          "hamilton",
          "button",
          "perez",
          "button",
          "michael_schumacher",
          "hamilton",
          "button",
          "hamilton",
          "alonso",
          "hamilton",
          "michael_schumacher",
          "massa",
          "perez",
          "barrichello",
          "raikkonen",
          "hamilton",
          "vettel",
          "perez",
          "alonso",
          "vettel",
          "button",
          "button",
          "alonso",
          "vettel",
          "massa",
          "trulli",
          "perez",
          "vettel",
          "hamilton",
          "massa",
          "hamilton",
          "vettel",
          "perez",
          "hamilton",
          "button",
          "alonso",
          "button",
          "barrichello",
          "hamilton",
          "vettel",
          "michael_schumacher",
          "hamilton",
          "massa",
          "raikkonen",
          "perez",
          "raikkonen",
          "vettel",
          "massa",
          "button",
          "vettel",
          "vettel",
          "perez",
          "alonso",
          "barrichello",
          "alonso",
          "barrichello",
          "hamilton",
          "vettel",
          "alonso",
          "michael_schumacher",
          "button",
          "michael_schumacher",
          "trulli",
          "hamilton",
          "alonso",
          "michael_schumacher",
          "barrichello",
          "alonso",
          "trulli",
          "massa",
          "vettel",
          "vettel",
          "vettel",
          "hamilton",
          "hamilton",
          "hamilton",
          "raikkonen",
          "massa",
          "trulli",
          "vettel",
          "trulli",
          "alonso",
          "hamilton",
          "michael_schumacher",
          "raikkonen",
          "perez",
          "raikkonen",
          "perez",
          "barrichello",
          "michael_schumacher",
          "hamilton",
          "alonso",
          "hamilton",
          "vettel",
          "michael_schumacher",
          "alonso",
          "vettel",
          "trulli",
          "button",
          "perez",
          "button",
          "alonso",
          "massa",
          "raikkonen",
          "hamilton",
          "perez",
          "barrichello",
          "trulli",
          "trulli",
          "hamilton",
          "michael_schumacher",
          "massa",
          "hamilton",
          "alonso",
          "perez",
          "vettel",
          "raikkonen",
          "massa",
          "perez",
          "hamilton",
          "massa",
          "button",
          "hamilton",
          "hamilton",
          "hamilton",
          "massa",
          "michael_schumacher",
          "perez",
          "vettel",
          "michael_schumacher",
          "barrichello",
          "barrichello",
          "alonso",
          "barrichello",
          "michael_schumacher",
          "perez",
          "trulli",
          "massa",
          "button",
          "vettel",
          "alonso",
          "michael_schumacher",
          "alonso",
          "button",
          "vettel",
          "michael_schumacher",
          "barrichello",
          "raikkonen",
          "raikkonen",
          "hamilton",
          "hamilton",
          "alonso",
          "alonso",
          "hamilton",
          "perez",
          "vettel",
          "alonso",
          "massa",
          "perez",
          "trulli",
          "hamilton",
          "barrichello",
          "perez",
          "vettel",
          "button",
          "michael_schumacher",
          "alonso",
          "alonso",
          "raikkonen",
          "raikkonen",
          "hamilton",
          "perez",
          "hamilton",
          "perez",
          "perez",
          "barrichello",
          "michael_schumacher",
          "vettel",
          "michael_schumacher",
          "massa",
          "button",
          "massa",
          "button",
          "button",
          "vettel",
          "raikkonen",
          "massa",
          "alonso",
          "hamilton",
          "button",
          "alonso",
          "alonso",
          "button",
          "hamilton",
          "perez",
          "alonso",
          "alonso",
          "michael_schumacher",
          "button",
          "hamilton",
          "button",
          "massa",
          "button",
          "barrichello",
          "alonso",
          "barrichello",
          "alonso",
          "alonso",
          "michael_schumacher",
          "hamilton",
          "barrichello",
          "perez",
          "trulli",
          "alonso",
          "vettel",
          "barrichello",
          "massa",
          "hamilton",
          "barrichello",
          "hamilton",
          "trulli",
          "michael_schumacher",
          "alonso",
          "barrichello",
          "alonso",
          "massa",
          "alonso",
          "raikkonen",
          "barrichello",
          "perez",
          "raikkonen",
          "alonso",
          "button",
          "hamilton",
          "hamilton",
          "trulli",
          "alonso",
          "raikkonen",
          "alonso",
          "perez",
          "hamilton",
          "massa",
          "raikkonen",
          "button",
          "button",
          "raikkonen",
          "raikkonen",
          "massa",
          "raikkonen",
          "massa",
          "hamilton",
          "perez",
          "vettel",
          "hamilton",
          "raikkonen",
          "button",
          "massa",
          "vettel",
          "hamilton",
          "barrichello",
          "raikkonen",
          "massa",
          "perez",
          "raikkonen",
          "alonso",
          "hamilton",
          "hamilton",
          "vettel",
          "raikkonen",
          "hamilton",
          "hamilton",
          "michael_schumacher",
          "michael_schumacher",
          "barrichello",
          "alonso",
          "trulli",
          "michael_schumacher",
          "barrichello",
          "vettel",
          "alonso",
          "barrichello",
          "raikkonen",
          "button",
          "vettel",
          "alonso",
          "vettel",
          "hamilton",
          "hamilton",
          "massa",
          "hamilton",
          "raikkonen",
          "trulli",
          "massa",
          "alonso",
          "vettel",
          "raikkonen",
          "michael_schumacher",
          "perez",
          "massa",
          "raikkonen",
          "hamilton",
          "massa",
          "perez",
          "alonso",
          "michael_schumacher",
          "hamilton",
          "raikkonen",
          "button",
          "vettel",
          "michael_schumacher",
          "trulli",
          "raikkonen",
          "michael_schumacher",
          "vettel",
          "raikkonen",
          "button",
          "massa",
          "alonso",
          "raikkonen",
          "raikkonen",
          "michael_schumacher",
          "barrichello",
          "alonso",
          "alonso",
          "button",
          "raikkonen",
          "michael_schumacher",
          "vettel",
          "button",
          "raikkonen",
          "raikkonen",
          "vettel",
          "trulli",
          "michael_schumacher",
          "perez",
          "michael_schumacher",
          "alonso",
          "raikkonen",
          "massa",
          "trulli",
          "vettel",
          "raikkonen",
          "barrichello",
          "raikkonen",
          "vettel",
          "alonso",
          "vettel",
          "michael_schumacher",
          "alonso",
          "button",
          "barrichello",
          "hamilton",
          "button",
          "michael_schumacher",
          "alonso",
          "perez",
          "trulli",
          "massa",
          "michael_schumacher",
          "barrichello",
          "raikkonen",
          "hamilton",
          "massa",
          "hamilton",
          "vettel",
          "raikkonen",
          "button",
          "vettel",
          "hamilton",
          "perez",
          "hamilton",
          "alonso",
          "alonso",
          "alonso",
          "perez",
          "perez",
          "massa",
          "hamilton",
          "raikkonen",
          "alonso",
          "barrichello",
          "raikkonen",
          "alonso",
          "perez",
          "vettel",
          "michael_schumacher",
          "button",
          "michael_schumacher",
          "massa",
          "raikkonen",
          "barrichello",
          "raikkonen",
          "button",
          "alonso",
          "barrichello",
          "alonso",
          "perez",
          "alonso",
          "vettel",
          "perez",
          "perez",
          "raikkonen",
          "button",
          "vettel",
          "michael_schumacher",
          "raikkonen",
          "hamilton",
          "raikkonen",
          "hamilton",
          "massa",
          "perez",
          "raikkonen",
          "button",
          "perez",
          "hamilton",
          "button",
          "alonso",
          "raikkonen",
          "michael_schumacher",
          "hamilton",
          "button",
          "barrichello",
          "raikkonen",
          "vettel",
          "alonso",
          "vettel",
          "button",
          "alonso",
          "raikkonen",
          "michael_schumacher",
          "perez",
          "hamilton",
          "massa",
          "trulli",
          "perez",
          "michael_schumacher",
          "button",
          "vettel",
          "michael_schumacher",
          "vettel",
          "vettel",
          "alonso",
          "hamilton",
          "alonso",
          "button",
          "barrichello",
          "michael_schumacher",
          "hamilton",
          "michael_schumacher",
          "perez",
          "massa",
          "vettel",
          "perez",
          "vettel",
          "raikkonen",
          "massa",
          "barrichello",
          "alonso",
          "hamilton",
          "perez",
          "hamilton",
          "hamilton",
          "alonso",
          "perez",
          "perez",
          "hamilton",
          "alonso",
          "michael_schumacher",
          "alonso",
          "button",
          "button",
          "vettel",
          "michael_schumacher",
          "alonso",
          "massa",
          "michael_schumacher",
          "raikkonen",
          "alonso",
          "alonso",
          "perez",
          "trulli",
          "perez",
          "raikkonen",
          "hamilton",
          "alonso",
          "vettel",
          "massa",
          "trulli",
          "massa",
          "massa",
          "trulli",
          "vettel",
          "barrichello",
          "hamilton",
          "alonso",
          "button",
          "alonso",
          "perez",
          "button",
          "perez",
          "button",
          "raikkonen",
          "raikkonen",
          "hamilton",
          "massa",
          "massa",
          "hamilton",
          "trulli",
          "hamilton",
          "perez",
          "alonso",
          "hamilton",
          "alonso",
          "perez",
          "trulli",
          "hamilton",
          "barrichello",
          "button",
          "raikkonen",
          "vettel",
          "button",
          "michael_schumacher",
          "perez",
          "vettel",
          "raikkonen",
          "trulli",
          "perez",
          "michael_schumacher",
          "hamilton",
          "hamilton",
          "alonso",
          "button",
          "vettel",
          "button",
          "michael_schumacher",
          "perez",
          "hamilton",
          "vettel",
          "michael_schumacher",
          "vettel",
          "vettel",
          "button",
          "perez",
          "alonso",
          "massa",
          "massa",
          "hamilton",
          "alonso",
          "raikkonen",
          "hamilton",
          "alonso",
          "hamilton",
          "button",
          "vettel",
          "michael_schumacher",
          "vettel",
          "vettel",
          "raikkonen",
          "michael_schumacher",
          "alonso",
          "hamilton",
          "vettel",
          "hamilton",
          "hamilton",
          "massa",
          "perez",
          "button",
          "perez",
          "vettel",
          "vettel",
          "perez",
          "perez",
          "alonso",
          "vettel",
          "vettel",
          "barrichello",
          "michael_schumacher",
          "raikkonen",
          "trulli",
          "michael_schumacher",
          "vettel",
          "raikkonen",
          "raikkonen",
          "alonso",
          "raikkonen",
          "vettel",
          "hamilton",
          "michael_schumacher",
          "vettel",
          "alonso",
          "raikkonen",
          "vettel",
          "alonso",
          "raikkonen",
          "raikkonen",
          "trulli",
          "michael_schumacher",
          "raikkonen",
          "massa",
          "raikkonen",
          "raikkonen",
          "vettel",
          "hamilton",
          "hamilton",
          "vettel",
          "hamilton",
          "michael_schumacher",
          "hamilton",
          "alonso",
          "alonso",
          "button",
          "button",
          "michael_schumacher",
          "barrichello"
         ],
         "xaxis": "x",
         "yaxis": "y"
        },
        {
         "alignmentgroup": "True",
         "bingroup": "x",
         "hovertemplate": "target_finish=0<br>driverRef=%{x}<br>count=%{y}<extra></extra>",
         "legendgroup": "0",
         "marker": {
          "color": "#EF553B",
          "pattern": {
           "shape": ""
          }
         },
         "name": "0",
         "offsetgroup": "0",
         "orientation": "v",
         "showlegend": true,
         "type": "histogram",
         "x": [
          "perez",
          "alonso",
          "trulli",
          "raikkonen",
          "trulli",
          "perez",
          "alonso",
          "trulli",
          "barrichello",
          "alonso",
          "vettel",
          "trulli",
          "button",
          "raikkonen",
          "trulli",
          "barrichello",
          "trulli",
          "vettel",
          "raikkonen",
          "barrichello",
          "massa",
          "massa",
          "button",
          "massa",
          "perez",
          "perez",
          "barrichello",
          "button",
          "alonso",
          "button",
          "hamilton",
          "vettel",
          "trulli",
          "vettel",
          "alonso",
          "button",
          "trulli",
          "perez",
          "perez",
          "button",
          "massa",
          "raikkonen",
          "barrichello",
          "trulli",
          "trulli",
          "perez",
          "barrichello",
          "perez",
          "barrichello",
          "button",
          "alonso",
          "barrichello",
          "barrichello",
          "button",
          "vettel",
          "raikkonen",
          "button",
          "hamilton",
          "massa",
          "michael_schumacher",
          "massa",
          "alonso",
          "perez",
          "barrichello",
          "alonso",
          "massa",
          "barrichello",
          "alonso",
          "trulli",
          "button",
          "button",
          "hamilton",
          "barrichello",
          "michael_schumacher",
          "barrichello",
          "michael_schumacher",
          "vettel",
          "alonso",
          "raikkonen",
          "massa",
          "michael_schumacher",
          "perez",
          "trulli",
          "perez",
          "raikkonen",
          "trulli",
          "perez",
          "raikkonen",
          "vettel",
          "perez",
          "barrichello",
          "vettel",
          "alonso",
          "button",
          "barrichello",
          "raikkonen",
          "button",
          "barrichello",
          "button",
          "alonso",
          "michael_schumacher",
          "hamilton",
          "perez",
          "button",
          "perez",
          "barrichello",
          "barrichello",
          "raikkonen",
          "raikkonen",
          "button",
          "trulli",
          "raikkonen",
          "barrichello",
          "button",
          "raikkonen",
          "barrichello",
          "alonso",
          "michael_schumacher",
          "button",
          "barrichello",
          "trulli",
          "michael_schumacher",
          "barrichello",
          "massa",
          "trulli",
          "barrichello",
          "perez",
          "barrichello",
          "michael_schumacher",
          "barrichello",
          "barrichello",
          "trulli",
          "barrichello",
          "trulli",
          "barrichello",
          "michael_schumacher",
          "perez",
          "michael_schumacher",
          "vettel",
          "trulli",
          "trulli",
          "vettel",
          "raikkonen",
          "button",
          "alonso",
          "raikkonen",
          "barrichello",
          "raikkonen",
          "trulli",
          "trulli",
          "trulli",
          "perez",
          "alonso",
          "button",
          "alonso",
          "alonso",
          "raikkonen",
          "button",
          "perez",
          "massa",
          "massa",
          "trulli",
          "trulli",
          "michael_schumacher",
          "button",
          "barrichello",
          "hamilton",
          "michael_schumacher",
          "trulli",
          "alonso",
          "trulli",
          "barrichello",
          "massa",
          "trulli",
          "vettel",
          "barrichello",
          "trulli",
          "barrichello",
          "perez",
          "perez",
          "michael_schumacher",
          "alonso",
          "barrichello",
          "raikkonen",
          "barrichello",
          "button",
          "michael_schumacher",
          "raikkonen",
          "button",
          "vettel",
          "trulli",
          "trulli",
          "trulli",
          "trulli",
          "massa",
          "raikkonen",
          "alonso",
          "perez",
          "massa",
          "barrichello",
          "raikkonen",
          "perez",
          "alonso",
          "raikkonen",
          "trulli",
          "michael_schumacher",
          "alonso",
          "vettel",
          "vettel",
          "trulli",
          "button",
          "michael_schumacher",
          "button",
          "barrichello",
          "button",
          "vettel",
          "alonso",
          "raikkonen",
          "raikkonen",
          "raikkonen",
          "button",
          "button",
          "perez",
          "button",
          "barrichello",
          "raikkonen",
          "massa",
          "hamilton",
          "vettel",
          "perez",
          "trulli",
          "perez",
          "michael_schumacher",
          "trulli",
          "barrichello",
          "barrichello",
          "alonso",
          "raikkonen",
          "button",
          "alonso",
          "massa",
          "barrichello",
          "barrichello",
          "barrichello",
          "trulli",
          "alonso",
          "trulli",
          "barrichello",
          "michael_schumacher",
          "alonso",
          "alonso",
          "raikkonen",
          "button",
          "alonso",
          "trulli",
          "barrichello",
          "perez",
          "vettel",
          "barrichello",
          "perez",
          "alonso",
          "barrichello",
          "trulli",
          "perez",
          "barrichello",
          "massa",
          "barrichello",
          "vettel",
          "barrichello",
          "michael_schumacher",
          "trulli",
          "barrichello",
          "button",
          "alonso",
          "vettel",
          "trulli",
          "michael_schumacher",
          "perez",
          "barrichello",
          "barrichello",
          "trulli",
          "alonso",
          "massa",
          "raikkonen",
          "michael_schumacher",
          "raikkonen",
          "massa",
          "trulli",
          "perez",
          "alonso",
          "barrichello",
          "barrichello",
          "barrichello",
          "alonso",
          "raikkonen",
          "alonso",
          "trulli",
          "button",
          "button",
          "massa",
          "vettel",
          "raikkonen",
          "raikkonen",
          "button",
          "trulli",
          "raikkonen",
          "massa",
          "vettel",
          "vettel",
          "michael_schumacher",
          "perez",
          "massa",
          "perez",
          "perez",
          "perez",
          "trulli",
          "vettel",
          "barrichello",
          "hamilton",
          "perez",
          "massa",
          "massa",
          "hamilton",
          "alonso",
          "trulli",
          "trulli",
          "massa",
          "alonso",
          "massa",
          "raikkonen",
          "alonso",
          "trulli",
          "raikkonen",
          "barrichello",
          "raikkonen",
          "alonso",
          "massa",
          "trulli",
          "trulli",
          "alonso",
          "massa",
          "hamilton",
          "barrichello",
          "perez",
          "alonso",
          "raikkonen",
          "button",
          "raikkonen",
          "barrichello",
          "button",
          "button",
          "alonso",
          "raikkonen",
          "alonso",
          "alonso",
          "trulli",
          "vettel",
          "vettel",
          "barrichello",
          "perez",
          "barrichello",
          "trulli",
          "michael_schumacher",
          "alonso",
          "perez",
          "alonso",
          "perez",
          "hamilton",
          "perez",
          "button",
          "barrichello",
          "trulli",
          "button",
          "perez",
          "raikkonen",
          "perez",
          "barrichello",
          "raikkonen",
          "vettel",
          "trulli",
          "perez",
          "massa",
          "raikkonen",
          "massa",
          "raikkonen",
          "barrichello",
          "trulli",
          "alonso",
          "alonso",
          "massa",
          "michael_schumacher",
          "massa",
          "trulli",
          "barrichello",
          "button",
          "massa",
          "barrichello",
          "raikkonen",
          "barrichello",
          "vettel",
          "raikkonen",
          "massa",
          "trulli",
          "raikkonen",
          "raikkonen",
          "perez",
          "vettel",
          "trulli",
          "trulli",
          "massa",
          "raikkonen",
          "perez",
          "perez",
          "perez",
          "alonso",
          "alonso",
          "barrichello",
          "alonso",
          "massa",
          "alonso",
          "barrichello",
          "barrichello",
          "hamilton",
          "perez",
          "perez",
          "vettel",
          "hamilton",
          "perez",
          "michael_schumacher",
          "trulli",
          "raikkonen",
          "trulli",
          "trulli",
          "alonso",
          "massa",
          "hamilton",
          "michael_schumacher",
          "massa",
          "barrichello",
          "trulli",
          "perez",
          "michael_schumacher",
          "massa",
          "raikkonen",
          "raikkonen",
          "button",
          "alonso",
          "barrichello",
          "raikkonen",
          "alonso",
          "alonso",
          "barrichello",
          "michael_schumacher",
          "button",
          "button",
          "trulli"
         ],
         "xaxis": "x",
         "yaxis": "y"
        }
       ],
       "layout": {
        "barmode": "group",
        "legend": {
         "title": {
          "text": "target_finish"
         },
         "tracegroupgap": 0
        },
        "template": {
         "data": {
          "bar": [
           {
            "error_x": {
             "color": "#2a3f5f"
            },
            "error_y": {
             "color": "#2a3f5f"
            },
            "marker": {
             "line": {
              "color": "#E5ECF6",
              "width": 0.5
             },
             "pattern": {
              "fillmode": "overlay",
              "size": 10,
              "solidity": 0.2
             }
            },
            "type": "bar"
           }
          ],
          "barpolar": [
           {
            "marker": {
             "line": {
              "color": "#E5ECF6",
              "width": 0.5
             },
             "pattern": {
              "fillmode": "overlay",
              "size": 10,
              "solidity": 0.2
             }
            },
            "type": "barpolar"
           }
          ],
          "carpet": [
           {
            "aaxis": {
             "endlinecolor": "#2a3f5f",
             "gridcolor": "white",
             "linecolor": "white",
             "minorgridcolor": "white",
             "startlinecolor": "#2a3f5f"
            },
            "baxis": {
             "endlinecolor": "#2a3f5f",
             "gridcolor": "white",
             "linecolor": "white",
             "minorgridcolor": "white",
             "startlinecolor": "#2a3f5f"
            },
            "type": "carpet"
           }
          ],
          "choropleth": [
           {
            "colorbar": {
             "outlinewidth": 0,
             "ticks": ""
            },
            "type": "choropleth"
           }
          ],
          "contour": [
           {
            "colorbar": {
             "outlinewidth": 0,
             "ticks": ""
            },
            "colorscale": [
             [
              0,
              "#0d0887"
             ],
             [
              0.1111111111111111,
              "#46039f"
             ],
             [
              0.2222222222222222,
              "#7201a8"
             ],
             [
              0.3333333333333333,
              "#9c179e"
             ],
             [
              0.4444444444444444,
              "#bd3786"
             ],
             [
              0.5555555555555556,
              "#d8576b"
             ],
             [
              0.6666666666666666,
              "#ed7953"
             ],
             [
              0.7777777777777778,
              "#fb9f3a"
             ],
             [
              0.8888888888888888,
              "#fdca26"
             ],
             [
              1,
              "#f0f921"
             ]
            ],
            "type": "contour"
           }
          ],
          "contourcarpet": [
           {
            "colorbar": {
             "outlinewidth": 0,
             "ticks": ""
            },
            "type": "contourcarpet"
           }
          ],
          "heatmap": [
           {
            "colorbar": {
             "outlinewidth": 0,
             "ticks": ""
            },
            "colorscale": [
             [
              0,
              "#0d0887"
             ],
             [
              0.1111111111111111,
              "#46039f"
             ],
             [
              0.2222222222222222,
              "#7201a8"
             ],
             [
              0.3333333333333333,
              "#9c179e"
             ],
             [
              0.4444444444444444,
              "#bd3786"
             ],
             [
              0.5555555555555556,
              "#d8576b"
             ],
             [
              0.6666666666666666,
              "#ed7953"
             ],
             [
              0.7777777777777778,
              "#fb9f3a"
             ],
             [
              0.8888888888888888,
              "#fdca26"
             ],
             [
              1,
              "#f0f921"
             ]
            ],
            "type": "heatmap"
           }
          ],
          "histogram": [
           {
            "marker": {
             "pattern": {
              "fillmode": "overlay",
              "size": 10,
              "solidity": 0.2
             }
            },
            "type": "histogram"
           }
          ],
          "histogram2d": [
           {
            "colorbar": {
             "outlinewidth": 0,
             "ticks": ""
            },
            "colorscale": [
             [
              0,
              "#0d0887"
             ],
             [
              0.1111111111111111,
              "#46039f"
             ],
             [
              0.2222222222222222,
              "#7201a8"
             ],
             [
              0.3333333333333333,
              "#9c179e"
             ],
             [
              0.4444444444444444,
              "#bd3786"
             ],
             [
              0.5555555555555556,
              "#d8576b"
             ],
             [
              0.6666666666666666,
              "#ed7953"
             ],
             [
              0.7777777777777778,
              "#fb9f3a"
             ],
             [
              0.8888888888888888,
              "#fdca26"
             ],
             [
              1,
              "#f0f921"
             ]
            ],
            "type": "histogram2d"
           }
          ],
          "histogram2dcontour": [
           {
            "colorbar": {
             "outlinewidth": 0,
             "ticks": ""
            },
            "colorscale": [
             [
              0,
              "#0d0887"
             ],
             [
              0.1111111111111111,
              "#46039f"
             ],
             [
              0.2222222222222222,
              "#7201a8"
             ],
             [
              0.3333333333333333,
              "#9c179e"
             ],
             [
              0.4444444444444444,
              "#bd3786"
             ],
             [
              0.5555555555555556,
              "#d8576b"
             ],
             [
              0.6666666666666666,
              "#ed7953"
             ],
             [
              0.7777777777777778,
              "#fb9f3a"
             ],
             [
              0.8888888888888888,
              "#fdca26"
             ],
             [
              1,
              "#f0f921"
             ]
            ],
            "type": "histogram2dcontour"
           }
          ],
          "mesh3d": [
           {
            "colorbar": {
             "outlinewidth": 0,
             "ticks": ""
            },
            "type": "mesh3d"
           }
          ],
          "parcoords": [
           {
            "line": {
             "colorbar": {
              "outlinewidth": 0,
              "ticks": ""
             }
            },
            "type": "parcoords"
           }
          ],
          "pie": [
           {
            "automargin": true,
            "type": "pie"
           }
          ],
          "scatter": [
           {
            "fillpattern": {
             "fillmode": "overlay",
             "size": 10,
             "solidity": 0.2
            },
            "type": "scatter"
           }
          ],
          "scatter3d": [
           {
            "line": {
             "colorbar": {
              "outlinewidth": 0,
              "ticks": ""
             }
            },
            "marker": {
             "colorbar": {
              "outlinewidth": 0,
              "ticks": ""
             }
            },
            "type": "scatter3d"
           }
          ],
          "scattercarpet": [
           {
            "marker": {
             "colorbar": {
              "outlinewidth": 0,
              "ticks": ""
             }
            },
            "type": "scattercarpet"
           }
          ],
          "scattergeo": [
           {
            "marker": {
             "colorbar": {
              "outlinewidth": 0,
              "ticks": ""
             }
            },
            "type": "scattergeo"
           }
          ],
          "scattergl": [
           {
            "marker": {
             "colorbar": {
              "outlinewidth": 0,
              "ticks": ""
             }
            },
            "type": "scattergl"
           }
          ],
          "scattermap": [
           {
            "marker": {
             "colorbar": {
              "outlinewidth": 0,
              "ticks": ""
             }
            },
            "type": "scattermap"
           }
          ],
          "scattermapbox": [
           {
            "marker": {
             "colorbar": {
              "outlinewidth": 0,
              "ticks": ""
             }
            },
            "type": "scattermapbox"
           }
          ],
          "scatterpolar": [
           {
            "marker": {
             "colorbar": {
              "outlinewidth": 0,
              "ticks": ""
             }
            },
            "type": "scatterpolar"
           }
          ],
          "scatterpolargl": [
           {
            "marker": {
             "colorbar": {
              "outlinewidth": 0,
              "ticks": ""
             }
            },
            "type": "scatterpolargl"
           }
          ],
          "scatterternary": [
           {
            "marker": {
             "colorbar": {
              "outlinewidth": 0,
              "ticks": ""
             }
            },
            "type": "scatterternary"
           }
          ],
          "surface": [
           {
            "colorbar": {
             "outlinewidth": 0,
             "ticks": ""
            },
            "colorscale": [
             [
              0,
              "#0d0887"
             ],
             [
              0.1111111111111111,
              "#46039f"
             ],
             [
              0.2222222222222222,
              "#7201a8"
             ],
             [
              0.3333333333333333,
              "#9c179e"
             ],
             [
              0.4444444444444444,
              "#bd3786"
             ],
             [
              0.5555555555555556,
              "#d8576b"
             ],
             [
              0.6666666666666666,
              "#ed7953"
             ],
             [
              0.7777777777777778,
              "#fb9f3a"
             ],
             [
              0.8888888888888888,
              "#fdca26"
             ],
             [
              1,
              "#f0f921"
             ]
            ],
            "type": "surface"
           }
          ],
          "table": [
           {
            "cells": {
             "fill": {
              "color": "#EBF0F8"
             },
             "line": {
              "color": "white"
             }
            },
            "header": {
             "fill": {
              "color": "#C8D4E3"
             },
             "line": {
              "color": "white"
             }
            },
            "type": "table"
           }
          ]
         },
         "layout": {
          "annotationdefaults": {
           "arrowcolor": "#2a3f5f",
           "arrowhead": 0,
           "arrowwidth": 1
          },
          "autotypenumbers": "strict",
          "coloraxis": {
           "colorbar": {
            "outlinewidth": 0,
            "ticks": ""
           }
          },
          "colorscale": {
           "diverging": [
            [
             0,
             "#8e0152"
            ],
            [
             0.1,
             "#c51b7d"
            ],
            [
             0.2,
             "#de77ae"
            ],
            [
             0.3,
             "#f1b6da"
            ],
            [
             0.4,
             "#fde0ef"
            ],
            [
             0.5,
             "#f7f7f7"
            ],
            [
             0.6,
             "#e6f5d0"
            ],
            [
             0.7,
             "#b8e186"
            ],
            [
             0.8,
             "#7fbc41"
            ],
            [
             0.9,
             "#4d9221"
            ],
            [
             1,
             "#276419"
            ]
           ],
           "sequential": [
            [
             0,
             "#0d0887"
            ],
            [
             0.1111111111111111,
             "#46039f"
            ],
            [
             0.2222222222222222,
             "#7201a8"
            ],
            [
             0.3333333333333333,
             "#9c179e"
            ],
            [
             0.4444444444444444,
             "#bd3786"
            ],
            [
             0.5555555555555556,
             "#d8576b"
            ],
            [
             0.6666666666666666,
             "#ed7953"
            ],
            [
             0.7777777777777778,
             "#fb9f3a"
            ],
            [
             0.8888888888888888,
             "#fdca26"
            ],
            [
             1,
             "#f0f921"
            ]
           ],
           "sequentialminus": [
            [
             0,
             "#0d0887"
            ],
            [
             0.1111111111111111,
             "#46039f"
            ],
            [
             0.2222222222222222,
             "#7201a8"
            ],
            [
             0.3333333333333333,
             "#9c179e"
            ],
            [
             0.4444444444444444,
             "#bd3786"
            ],
            [
             0.5555555555555556,
             "#d8576b"
            ],
            [
             0.6666666666666666,
             "#ed7953"
            ],
            [
             0.7777777777777778,
             "#fb9f3a"
            ],
            [
             0.8888888888888888,
             "#fdca26"
            ],
            [
             1,
             "#f0f921"
            ]
           ]
          },
          "colorway": [
           "#636efa",
           "#EF553B",
           "#00cc96",
           "#ab63fa",
           "#FFA15A",
           "#19d3f3",
           "#FF6692",
           "#B6E880",
           "#FF97FF",
           "#FECB52"
          ],
          "font": {
           "color": "#2a3f5f"
          },
          "geo": {
           "bgcolor": "white",
           "lakecolor": "white",
           "landcolor": "#E5ECF6",
           "showlakes": true,
           "showland": true,
           "subunitcolor": "white"
          },
          "hoverlabel": {
           "align": "left"
          },
          "hovermode": "closest",
          "mapbox": {
           "style": "light"
          },
          "paper_bgcolor": "white",
          "plot_bgcolor": "#E5ECF6",
          "polar": {
           "angularaxis": {
            "gridcolor": "white",
            "linecolor": "white",
            "ticks": ""
           },
           "bgcolor": "#E5ECF6",
           "radialaxis": {
            "gridcolor": "white",
            "linecolor": "white",
            "ticks": ""
           }
          },
          "scene": {
           "xaxis": {
            "backgroundcolor": "#E5ECF6",
            "gridcolor": "white",
            "gridwidth": 2,
            "linecolor": "white",
            "showbackground": true,
            "ticks": "",
            "zerolinecolor": "white"
           },
           "yaxis": {
            "backgroundcolor": "#E5ECF6",
            "gridcolor": "white",
            "gridwidth": 2,
            "linecolor": "white",
            "showbackground": true,
            "ticks": "",
            "zerolinecolor": "white"
           },
           "zaxis": {
            "backgroundcolor": "#E5ECF6",
            "gridcolor": "white",
            "gridwidth": 2,
            "linecolor": "white",
            "showbackground": true,
            "ticks": "",
            "zerolinecolor": "white"
           }
          },
          "shapedefaults": {
           "line": {
            "color": "#2a3f5f"
           }
          },
          "ternary": {
           "aaxis": {
            "gridcolor": "white",
            "linecolor": "white",
            "ticks": ""
           },
           "baxis": {
            "gridcolor": "white",
            "linecolor": "white",
            "ticks": ""
           },
           "bgcolor": "#E5ECF6",
           "caxis": {
            "gridcolor": "white",
            "linecolor": "white",
            "ticks": ""
           }
          },
          "title": {
           "x": 0.05
          },
          "xaxis": {
           "automargin": true,
           "gridcolor": "white",
           "linecolor": "white",
           "ticks": "",
           "title": {
            "standoff": 15
           },
           "zerolinecolor": "white",
           "zerolinewidth": 2
          },
          "yaxis": {
           "automargin": true,
           "gridcolor": "white",
           "linecolor": "white",
           "ticks": "",
           "title": {
            "standoff": 15
           },
           "zerolinecolor": "white",
           "zerolinewidth": 2
          }
         }
        },
        "title": {
         "text": "Top 5 Drivers by Number of Races vs Target Finish"
        },
        "xaxis": {
         "anchor": "y",
         "domain": [
          0,
          1
         ],
         "title": {
          "text": "driverRef"
         }
        },
        "yaxis": {
         "anchor": "x",
         "domain": [
          0,
          1
         ],
         "title": {
          "text": "count"
         }
        }
       }
      }
     },
     "metadata": {},
     "output_type": "display_data"
    }
   ],
   "source": [
    "driver_counts = df['driverRef'].value_counts()\n",
    "top5_drivers = driver_counts.head(10).index.tolist()\n",
    "df_top5 = df[df['driverRef'].isin(top5_drivers)]\n",
    "fig = px.histogram(df_top5, x='driverRef', color='target_finish',\n",
    "                   title='Top 5 Drivers by Number of Races vs Target Finish',\n",
    "                   barmode='group') \n",
    "fig.show()"
   ]
  },
  {
   "cell_type": "code",
   "execution_count": 20,
   "id": "d773c86d",
   "metadata": {},
   "outputs": [
    {
     "data": {
      "application/vnd.plotly.v1+json": {
       "config": {
        "plotlyServerURL": "https://plot.ly"
       },
       "data": [
        {
         "hovertemplate": "driverRef=%{x}<br>count=%{y}<br>target_finish=%{marker.color}<extra></extra>",
         "legendgroup": "",
         "marker": {
          "color": {
           "bdata": "AQEBAQEBAQEBAQ==",
           "dtype": "i1"
          },
          "coloraxis": "coloraxis",
          "pattern": {
           "shape": ""
          }
         },
         "name": "",
         "orientation": "v",
         "showlegend": false,
         "textposition": "auto",
         "type": "bar",
         "x": [
          "hamilton",
          "alonso",
          "vettel",
          "raikkonen",
          "michael_schumacher",
          "perez",
          "max_verstappen",
          "button",
          "bottas",
          "sainz"
         ],
         "xaxis": "x",
         "y": {
          "bdata": "ZWJcW01LS0Y+Ow==",
          "dtype": "i1"
         },
         "yaxis": "y"
        }
       ],
       "layout": {
        "barmode": "relative",
        "coloraxis": {
         "colorbar": {
          "title": {
           "text": "target_finish"
          }
         },
         "colorscale": [
          [
           0,
           "#0d0887"
          ],
          [
           0.1111111111111111,
           "#46039f"
          ],
          [
           0.2222222222222222,
           "#7201a8"
          ],
          [
           0.3333333333333333,
           "#9c179e"
          ],
          [
           0.4444444444444444,
           "#bd3786"
          ],
          [
           0.5555555555555556,
           "#d8576b"
          ],
          [
           0.6666666666666666,
           "#ed7953"
          ],
          [
           0.7777777777777778,
           "#fb9f3a"
          ],
          [
           0.8888888888888888,
           "#fdca26"
          ],
          [
           1,
           "#f0f921"
          ]
         ]
        },
        "legend": {
         "tracegroupgap": 0
        },
        "template": {
         "data": {
          "bar": [
           {
            "error_x": {
             "color": "#2a3f5f"
            },
            "error_y": {
             "color": "#2a3f5f"
            },
            "marker": {
             "line": {
              "color": "#E5ECF6",
              "width": 0.5
             },
             "pattern": {
              "fillmode": "overlay",
              "size": 10,
              "solidity": 0.2
             }
            },
            "type": "bar"
           }
          ],
          "barpolar": [
           {
            "marker": {
             "line": {
              "color": "#E5ECF6",
              "width": 0.5
             },
             "pattern": {
              "fillmode": "overlay",
              "size": 10,
              "solidity": 0.2
             }
            },
            "type": "barpolar"
           }
          ],
          "carpet": [
           {
            "aaxis": {
             "endlinecolor": "#2a3f5f",
             "gridcolor": "white",
             "linecolor": "white",
             "minorgridcolor": "white",
             "startlinecolor": "#2a3f5f"
            },
            "baxis": {
             "endlinecolor": "#2a3f5f",
             "gridcolor": "white",
             "linecolor": "white",
             "minorgridcolor": "white",
             "startlinecolor": "#2a3f5f"
            },
            "type": "carpet"
           }
          ],
          "choropleth": [
           {
            "colorbar": {
             "outlinewidth": 0,
             "ticks": ""
            },
            "type": "choropleth"
           }
          ],
          "contour": [
           {
            "colorbar": {
             "outlinewidth": 0,
             "ticks": ""
            },
            "colorscale": [
             [
              0,
              "#0d0887"
             ],
             [
              0.1111111111111111,
              "#46039f"
             ],
             [
              0.2222222222222222,
              "#7201a8"
             ],
             [
              0.3333333333333333,
              "#9c179e"
             ],
             [
              0.4444444444444444,
              "#bd3786"
             ],
             [
              0.5555555555555556,
              "#d8576b"
             ],
             [
              0.6666666666666666,
              "#ed7953"
             ],
             [
              0.7777777777777778,
              "#fb9f3a"
             ],
             [
              0.8888888888888888,
              "#fdca26"
             ],
             [
              1,
              "#f0f921"
             ]
            ],
            "type": "contour"
           }
          ],
          "contourcarpet": [
           {
            "colorbar": {
             "outlinewidth": 0,
             "ticks": ""
            },
            "type": "contourcarpet"
           }
          ],
          "heatmap": [
           {
            "colorbar": {
             "outlinewidth": 0,
             "ticks": ""
            },
            "colorscale": [
             [
              0,
              "#0d0887"
             ],
             [
              0.1111111111111111,
              "#46039f"
             ],
             [
              0.2222222222222222,
              "#7201a8"
             ],
             [
              0.3333333333333333,
              "#9c179e"
             ],
             [
              0.4444444444444444,
              "#bd3786"
             ],
             [
              0.5555555555555556,
              "#d8576b"
             ],
             [
              0.6666666666666666,
              "#ed7953"
             ],
             [
              0.7777777777777778,
              "#fb9f3a"
             ],
             [
              0.8888888888888888,
              "#fdca26"
             ],
             [
              1,
              "#f0f921"
             ]
            ],
            "type": "heatmap"
           }
          ],
          "histogram": [
           {
            "marker": {
             "pattern": {
              "fillmode": "overlay",
              "size": 10,
              "solidity": 0.2
             }
            },
            "type": "histogram"
           }
          ],
          "histogram2d": [
           {
            "colorbar": {
             "outlinewidth": 0,
             "ticks": ""
            },
            "colorscale": [
             [
              0,
              "#0d0887"
             ],
             [
              0.1111111111111111,
              "#46039f"
             ],
             [
              0.2222222222222222,
              "#7201a8"
             ],
             [
              0.3333333333333333,
              "#9c179e"
             ],
             [
              0.4444444444444444,
              "#bd3786"
             ],
             [
              0.5555555555555556,
              "#d8576b"
             ],
             [
              0.6666666666666666,
              "#ed7953"
             ],
             [
              0.7777777777777778,
              "#fb9f3a"
             ],
             [
              0.8888888888888888,
              "#fdca26"
             ],
             [
              1,
              "#f0f921"
             ]
            ],
            "type": "histogram2d"
           }
          ],
          "histogram2dcontour": [
           {
            "colorbar": {
             "outlinewidth": 0,
             "ticks": ""
            },
            "colorscale": [
             [
              0,
              "#0d0887"
             ],
             [
              0.1111111111111111,
              "#46039f"
             ],
             [
              0.2222222222222222,
              "#7201a8"
             ],
             [
              0.3333333333333333,
              "#9c179e"
             ],
             [
              0.4444444444444444,
              "#bd3786"
             ],
             [
              0.5555555555555556,
              "#d8576b"
             ],
             [
              0.6666666666666666,
              "#ed7953"
             ],
             [
              0.7777777777777778,
              "#fb9f3a"
             ],
             [
              0.8888888888888888,
              "#fdca26"
             ],
             [
              1,
              "#f0f921"
             ]
            ],
            "type": "histogram2dcontour"
           }
          ],
          "mesh3d": [
           {
            "colorbar": {
             "outlinewidth": 0,
             "ticks": ""
            },
            "type": "mesh3d"
           }
          ],
          "parcoords": [
           {
            "line": {
             "colorbar": {
              "outlinewidth": 0,
              "ticks": ""
             }
            },
            "type": "parcoords"
           }
          ],
          "pie": [
           {
            "automargin": true,
            "type": "pie"
           }
          ],
          "scatter": [
           {
            "fillpattern": {
             "fillmode": "overlay",
             "size": 10,
             "solidity": 0.2
            },
            "type": "scatter"
           }
          ],
          "scatter3d": [
           {
            "line": {
             "colorbar": {
              "outlinewidth": 0,
              "ticks": ""
             }
            },
            "marker": {
             "colorbar": {
              "outlinewidth": 0,
              "ticks": ""
             }
            },
            "type": "scatter3d"
           }
          ],
          "scattercarpet": [
           {
            "marker": {
             "colorbar": {
              "outlinewidth": 0,
              "ticks": ""
             }
            },
            "type": "scattercarpet"
           }
          ],
          "scattergeo": [
           {
            "marker": {
             "colorbar": {
              "outlinewidth": 0,
              "ticks": ""
             }
            },
            "type": "scattergeo"
           }
          ],
          "scattergl": [
           {
            "marker": {
             "colorbar": {
              "outlinewidth": 0,
              "ticks": ""
             }
            },
            "type": "scattergl"
           }
          ],
          "scattermap": [
           {
            "marker": {
             "colorbar": {
              "outlinewidth": 0,
              "ticks": ""
             }
            },
            "type": "scattermap"
           }
          ],
          "scattermapbox": [
           {
            "marker": {
             "colorbar": {
              "outlinewidth": 0,
              "ticks": ""
             }
            },
            "type": "scattermapbox"
           }
          ],
          "scatterpolar": [
           {
            "marker": {
             "colorbar": {
              "outlinewidth": 0,
              "ticks": ""
             }
            },
            "type": "scatterpolar"
           }
          ],
          "scatterpolargl": [
           {
            "marker": {
             "colorbar": {
              "outlinewidth": 0,
              "ticks": ""
             }
            },
            "type": "scatterpolargl"
           }
          ],
          "scatterternary": [
           {
            "marker": {
             "colorbar": {
              "outlinewidth": 0,
              "ticks": ""
             }
            },
            "type": "scatterternary"
           }
          ],
          "surface": [
           {
            "colorbar": {
             "outlinewidth": 0,
             "ticks": ""
            },
            "colorscale": [
             [
              0,
              "#0d0887"
             ],
             [
              0.1111111111111111,
              "#46039f"
             ],
             [
              0.2222222222222222,
              "#7201a8"
             ],
             [
              0.3333333333333333,
              "#9c179e"
             ],
             [
              0.4444444444444444,
              "#bd3786"
             ],
             [
              0.5555555555555556,
              "#d8576b"
             ],
             [
              0.6666666666666666,
              "#ed7953"
             ],
             [
              0.7777777777777778,
              "#fb9f3a"
             ],
             [
              0.8888888888888888,
              "#fdca26"
             ],
             [
              1,
              "#f0f921"
             ]
            ],
            "type": "surface"
           }
          ],
          "table": [
           {
            "cells": {
             "fill": {
              "color": "#EBF0F8"
             },
             "line": {
              "color": "white"
             }
            },
            "header": {
             "fill": {
              "color": "#C8D4E3"
             },
             "line": {
              "color": "white"
             }
            },
            "type": "table"
           }
          ]
         },
         "layout": {
          "annotationdefaults": {
           "arrowcolor": "#2a3f5f",
           "arrowhead": 0,
           "arrowwidth": 1
          },
          "autotypenumbers": "strict",
          "coloraxis": {
           "colorbar": {
            "outlinewidth": 0,
            "ticks": ""
           }
          },
          "colorscale": {
           "diverging": [
            [
             0,
             "#8e0152"
            ],
            [
             0.1,
             "#c51b7d"
            ],
            [
             0.2,
             "#de77ae"
            ],
            [
             0.3,
             "#f1b6da"
            ],
            [
             0.4,
             "#fde0ef"
            ],
            [
             0.5,
             "#f7f7f7"
            ],
            [
             0.6,
             "#e6f5d0"
            ],
            [
             0.7,
             "#b8e186"
            ],
            [
             0.8,
             "#7fbc41"
            ],
            [
             0.9,
             "#4d9221"
            ],
            [
             1,
             "#276419"
            ]
           ],
           "sequential": [
            [
             0,
             "#0d0887"
            ],
            [
             0.1111111111111111,
             "#46039f"
            ],
            [
             0.2222222222222222,
             "#7201a8"
            ],
            [
             0.3333333333333333,
             "#9c179e"
            ],
            [
             0.4444444444444444,
             "#bd3786"
            ],
            [
             0.5555555555555556,
             "#d8576b"
            ],
            [
             0.6666666666666666,
             "#ed7953"
            ],
            [
             0.7777777777777778,
             "#fb9f3a"
            ],
            [
             0.8888888888888888,
             "#fdca26"
            ],
            [
             1,
             "#f0f921"
            ]
           ],
           "sequentialminus": [
            [
             0,
             "#0d0887"
            ],
            [
             0.1111111111111111,
             "#46039f"
            ],
            [
             0.2222222222222222,
             "#7201a8"
            ],
            [
             0.3333333333333333,
             "#9c179e"
            ],
            [
             0.4444444444444444,
             "#bd3786"
            ],
            [
             0.5555555555555556,
             "#d8576b"
            ],
            [
             0.6666666666666666,
             "#ed7953"
            ],
            [
             0.7777777777777778,
             "#fb9f3a"
            ],
            [
             0.8888888888888888,
             "#fdca26"
            ],
            [
             1,
             "#f0f921"
            ]
           ]
          },
          "colorway": [
           "#636efa",
           "#EF553B",
           "#00cc96",
           "#ab63fa",
           "#FFA15A",
           "#19d3f3",
           "#FF6692",
           "#B6E880",
           "#FF97FF",
           "#FECB52"
          ],
          "font": {
           "color": "#2a3f5f"
          },
          "geo": {
           "bgcolor": "white",
           "lakecolor": "white",
           "landcolor": "#E5ECF6",
           "showlakes": true,
           "showland": true,
           "subunitcolor": "white"
          },
          "hoverlabel": {
           "align": "left"
          },
          "hovermode": "closest",
          "mapbox": {
           "style": "light"
          },
          "paper_bgcolor": "white",
          "plot_bgcolor": "#E5ECF6",
          "polar": {
           "angularaxis": {
            "gridcolor": "white",
            "linecolor": "white",
            "ticks": ""
           },
           "bgcolor": "#E5ECF6",
           "radialaxis": {
            "gridcolor": "white",
            "linecolor": "white",
            "ticks": ""
           }
          },
          "scene": {
           "xaxis": {
            "backgroundcolor": "#E5ECF6",
            "gridcolor": "white",
            "gridwidth": 2,
            "linecolor": "white",
            "showbackground": true,
            "ticks": "",
            "zerolinecolor": "white"
           },
           "yaxis": {
            "backgroundcolor": "#E5ECF6",
            "gridcolor": "white",
            "gridwidth": 2,
            "linecolor": "white",
            "showbackground": true,
            "ticks": "",
            "zerolinecolor": "white"
           },
           "zaxis": {
            "backgroundcolor": "#E5ECF6",
            "gridcolor": "white",
            "gridwidth": 2,
            "linecolor": "white",
            "showbackground": true,
            "ticks": "",
            "zerolinecolor": "white"
           }
          },
          "shapedefaults": {
           "line": {
            "color": "#2a3f5f"
           }
          },
          "ternary": {
           "aaxis": {
            "gridcolor": "white",
            "linecolor": "white",
            "ticks": ""
           },
           "baxis": {
            "gridcolor": "white",
            "linecolor": "white",
            "ticks": ""
           },
           "bgcolor": "#E5ECF6",
           "caxis": {
            "gridcolor": "white",
            "linecolor": "white",
            "ticks": ""
           }
          },
          "title": {
           "x": 0.05
          },
          "xaxis": {
           "automargin": true,
           "gridcolor": "white",
           "linecolor": "white",
           "ticks": "",
           "title": {
            "standoff": 15
           },
           "zerolinecolor": "white",
           "zerolinewidth": 2
          },
          "yaxis": {
           "automargin": true,
           "gridcolor": "white",
           "linecolor": "white",
           "ticks": "",
           "title": {
            "standoff": 15
           },
           "zerolinecolor": "white",
           "zerolinewidth": 2
          }
         }
        },
        "title": {
         "text": "Top 10 Drivers with Most Target Finish = 1"
        },
        "xaxis": {
         "anchor": "y",
         "domain": [
          0,
          1
         ],
         "title": {
          "text": "driverRef"
         }
        },
        "yaxis": {
         "anchor": "x",
         "domain": [
          0,
          1
         ],
         "title": {
          "text": "count"
         }
        }
       }
      }
     },
     "metadata": {},
     "output_type": "display_data"
    },
    {
     "data": {
      "application/vnd.plotly.v1+json": {
       "config": {
        "plotlyServerURL": "https://plot.ly"
       },
       "data": [
        {
         "hovertemplate": "driverRef=%{x}<br>count=%{y}<br>target_finish=%{marker.color}<extra></extra>",
         "legendgroup": "",
         "marker": {
          "color": {
           "bdata": "AAAAAAAAAAAAAA==",
           "dtype": "i1"
          },
          "coloraxis": "coloraxis",
          "pattern": {
           "shape": ""
          }
         },
         "name": "",
         "orientation": "v",
         "showlegend": false,
         "textposition": "auto",
         "type": "bar",
         "x": [
          "alboreto",
          "cesaris",
          "barrichello",
          "patrese",
          "trulli",
          "brundle",
          "arnoux",
          "alonso",
          "laffite",
          "herbert"
         ],
         "xaxis": "x",
         "y": {
          "bdata": "TEtKQ0M7Ozg4OA==",
          "dtype": "i1"
         },
         "yaxis": "y"
        }
       ],
       "layout": {
        "barmode": "relative",
        "coloraxis": {
         "colorbar": {
          "title": {
           "text": "target_finish"
          }
         },
         "colorscale": [
          [
           0,
           "#0d0887"
          ],
          [
           0.1111111111111111,
           "#46039f"
          ],
          [
           0.2222222222222222,
           "#7201a8"
          ],
          [
           0.3333333333333333,
           "#9c179e"
          ],
          [
           0.4444444444444444,
           "#bd3786"
          ],
          [
           0.5555555555555556,
           "#d8576b"
          ],
          [
           0.6666666666666666,
           "#ed7953"
          ],
          [
           0.7777777777777778,
           "#fb9f3a"
          ],
          [
           0.8888888888888888,
           "#fdca26"
          ],
          [
           1,
           "#f0f921"
          ]
         ]
        },
        "legend": {
         "tracegroupgap": 0
        },
        "template": {
         "data": {
          "bar": [
           {
            "error_x": {
             "color": "#2a3f5f"
            },
            "error_y": {
             "color": "#2a3f5f"
            },
            "marker": {
             "line": {
              "color": "#E5ECF6",
              "width": 0.5
             },
             "pattern": {
              "fillmode": "overlay",
              "size": 10,
              "solidity": 0.2
             }
            },
            "type": "bar"
           }
          ],
          "barpolar": [
           {
            "marker": {
             "line": {
              "color": "#E5ECF6",
              "width": 0.5
             },
             "pattern": {
              "fillmode": "overlay",
              "size": 10,
              "solidity": 0.2
             }
            },
            "type": "barpolar"
           }
          ],
          "carpet": [
           {
            "aaxis": {
             "endlinecolor": "#2a3f5f",
             "gridcolor": "white",
             "linecolor": "white",
             "minorgridcolor": "white",
             "startlinecolor": "#2a3f5f"
            },
            "baxis": {
             "endlinecolor": "#2a3f5f",
             "gridcolor": "white",
             "linecolor": "white",
             "minorgridcolor": "white",
             "startlinecolor": "#2a3f5f"
            },
            "type": "carpet"
           }
          ],
          "choropleth": [
           {
            "colorbar": {
             "outlinewidth": 0,
             "ticks": ""
            },
            "type": "choropleth"
           }
          ],
          "contour": [
           {
            "colorbar": {
             "outlinewidth": 0,
             "ticks": ""
            },
            "colorscale": [
             [
              0,
              "#0d0887"
             ],
             [
              0.1111111111111111,
              "#46039f"
             ],
             [
              0.2222222222222222,
              "#7201a8"
             ],
             [
              0.3333333333333333,
              "#9c179e"
             ],
             [
              0.4444444444444444,
              "#bd3786"
             ],
             [
              0.5555555555555556,
              "#d8576b"
             ],
             [
              0.6666666666666666,
              "#ed7953"
             ],
             [
              0.7777777777777778,
              "#fb9f3a"
             ],
             [
              0.8888888888888888,
              "#fdca26"
             ],
             [
              1,
              "#f0f921"
             ]
            ],
            "type": "contour"
           }
          ],
          "contourcarpet": [
           {
            "colorbar": {
             "outlinewidth": 0,
             "ticks": ""
            },
            "type": "contourcarpet"
           }
          ],
          "heatmap": [
           {
            "colorbar": {
             "outlinewidth": 0,
             "ticks": ""
            },
            "colorscale": [
             [
              0,
              "#0d0887"
             ],
             [
              0.1111111111111111,
              "#46039f"
             ],
             [
              0.2222222222222222,
              "#7201a8"
             ],
             [
              0.3333333333333333,
              "#9c179e"
             ],
             [
              0.4444444444444444,
              "#bd3786"
             ],
             [
              0.5555555555555556,
              "#d8576b"
             ],
             [
              0.6666666666666666,
              "#ed7953"
             ],
             [
              0.7777777777777778,
              "#fb9f3a"
             ],
             [
              0.8888888888888888,
              "#fdca26"
             ],
             [
              1,
              "#f0f921"
             ]
            ],
            "type": "heatmap"
           }
          ],
          "histogram": [
           {
            "marker": {
             "pattern": {
              "fillmode": "overlay",
              "size": 10,
              "solidity": 0.2
             }
            },
            "type": "histogram"
           }
          ],
          "histogram2d": [
           {
            "colorbar": {
             "outlinewidth": 0,
             "ticks": ""
            },
            "colorscale": [
             [
              0,
              "#0d0887"
             ],
             [
              0.1111111111111111,
              "#46039f"
             ],
             [
              0.2222222222222222,
              "#7201a8"
             ],
             [
              0.3333333333333333,
              "#9c179e"
             ],
             [
              0.4444444444444444,
              "#bd3786"
             ],
             [
              0.5555555555555556,
              "#d8576b"
             ],
             [
              0.6666666666666666,
              "#ed7953"
             ],
             [
              0.7777777777777778,
              "#fb9f3a"
             ],
             [
              0.8888888888888888,
              "#fdca26"
             ],
             [
              1,
              "#f0f921"
             ]
            ],
            "type": "histogram2d"
           }
          ],
          "histogram2dcontour": [
           {
            "colorbar": {
             "outlinewidth": 0,
             "ticks": ""
            },
            "colorscale": [
             [
              0,
              "#0d0887"
             ],
             [
              0.1111111111111111,
              "#46039f"
             ],
             [
              0.2222222222222222,
              "#7201a8"
             ],
             [
              0.3333333333333333,
              "#9c179e"
             ],
             [
              0.4444444444444444,
              "#bd3786"
             ],
             [
              0.5555555555555556,
              "#d8576b"
             ],
             [
              0.6666666666666666,
              "#ed7953"
             ],
             [
              0.7777777777777778,
              "#fb9f3a"
             ],
             [
              0.8888888888888888,
              "#fdca26"
             ],
             [
              1,
              "#f0f921"
             ]
            ],
            "type": "histogram2dcontour"
           }
          ],
          "mesh3d": [
           {
            "colorbar": {
             "outlinewidth": 0,
             "ticks": ""
            },
            "type": "mesh3d"
           }
          ],
          "parcoords": [
           {
            "line": {
             "colorbar": {
              "outlinewidth": 0,
              "ticks": ""
             }
            },
            "type": "parcoords"
           }
          ],
          "pie": [
           {
            "automargin": true,
            "type": "pie"
           }
          ],
          "scatter": [
           {
            "fillpattern": {
             "fillmode": "overlay",
             "size": 10,
             "solidity": 0.2
            },
            "type": "scatter"
           }
          ],
          "scatter3d": [
           {
            "line": {
             "colorbar": {
              "outlinewidth": 0,
              "ticks": ""
             }
            },
            "marker": {
             "colorbar": {
              "outlinewidth": 0,
              "ticks": ""
             }
            },
            "type": "scatter3d"
           }
          ],
          "scattercarpet": [
           {
            "marker": {
             "colorbar": {
              "outlinewidth": 0,
              "ticks": ""
             }
            },
            "type": "scattercarpet"
           }
          ],
          "scattergeo": [
           {
            "marker": {
             "colorbar": {
              "outlinewidth": 0,
              "ticks": ""
             }
            },
            "type": "scattergeo"
           }
          ],
          "scattergl": [
           {
            "marker": {
             "colorbar": {
              "outlinewidth": 0,
              "ticks": ""
             }
            },
            "type": "scattergl"
           }
          ],
          "scattermap": [
           {
            "marker": {
             "colorbar": {
              "outlinewidth": 0,
              "ticks": ""
             }
            },
            "type": "scattermap"
           }
          ],
          "scattermapbox": [
           {
            "marker": {
             "colorbar": {
              "outlinewidth": 0,
              "ticks": ""
             }
            },
            "type": "scattermapbox"
           }
          ],
          "scatterpolar": [
           {
            "marker": {
             "colorbar": {
              "outlinewidth": 0,
              "ticks": ""
             }
            },
            "type": "scatterpolar"
           }
          ],
          "scatterpolargl": [
           {
            "marker": {
             "colorbar": {
              "outlinewidth": 0,
              "ticks": ""
             }
            },
            "type": "scatterpolargl"
           }
          ],
          "scatterternary": [
           {
            "marker": {
             "colorbar": {
              "outlinewidth": 0,
              "ticks": ""
             }
            },
            "type": "scatterternary"
           }
          ],
          "surface": [
           {
            "colorbar": {
             "outlinewidth": 0,
             "ticks": ""
            },
            "colorscale": [
             [
              0,
              "#0d0887"
             ],
             [
              0.1111111111111111,
              "#46039f"
             ],
             [
              0.2222222222222222,
              "#7201a8"
             ],
             [
              0.3333333333333333,
              "#9c179e"
             ],
             [
              0.4444444444444444,
              "#bd3786"
             ],
             [
              0.5555555555555556,
              "#d8576b"
             ],
             [
              0.6666666666666666,
              "#ed7953"
             ],
             [
              0.7777777777777778,
              "#fb9f3a"
             ],
             [
              0.8888888888888888,
              "#fdca26"
             ],
             [
              1,
              "#f0f921"
             ]
            ],
            "type": "surface"
           }
          ],
          "table": [
           {
            "cells": {
             "fill": {
              "color": "#EBF0F8"
             },
             "line": {
              "color": "white"
             }
            },
            "header": {
             "fill": {
              "color": "#C8D4E3"
             },
             "line": {
              "color": "white"
             }
            },
            "type": "table"
           }
          ]
         },
         "layout": {
          "annotationdefaults": {
           "arrowcolor": "#2a3f5f",
           "arrowhead": 0,
           "arrowwidth": 1
          },
          "autotypenumbers": "strict",
          "coloraxis": {
           "colorbar": {
            "outlinewidth": 0,
            "ticks": ""
           }
          },
          "colorscale": {
           "diverging": [
            [
             0,
             "#8e0152"
            ],
            [
             0.1,
             "#c51b7d"
            ],
            [
             0.2,
             "#de77ae"
            ],
            [
             0.3,
             "#f1b6da"
            ],
            [
             0.4,
             "#fde0ef"
            ],
            [
             0.5,
             "#f7f7f7"
            ],
            [
             0.6,
             "#e6f5d0"
            ],
            [
             0.7,
             "#b8e186"
            ],
            [
             0.8,
             "#7fbc41"
            ],
            [
             0.9,
             "#4d9221"
            ],
            [
             1,
             "#276419"
            ]
           ],
           "sequential": [
            [
             0,
             "#0d0887"
            ],
            [
             0.1111111111111111,
             "#46039f"
            ],
            [
             0.2222222222222222,
             "#7201a8"
            ],
            [
             0.3333333333333333,
             "#9c179e"
            ],
            [
             0.4444444444444444,
             "#bd3786"
            ],
            [
             0.5555555555555556,
             "#d8576b"
            ],
            [
             0.6666666666666666,
             "#ed7953"
            ],
            [
             0.7777777777777778,
             "#fb9f3a"
            ],
            [
             0.8888888888888888,
             "#fdca26"
            ],
            [
             1,
             "#f0f921"
            ]
           ],
           "sequentialminus": [
            [
             0,
             "#0d0887"
            ],
            [
             0.1111111111111111,
             "#46039f"
            ],
            [
             0.2222222222222222,
             "#7201a8"
            ],
            [
             0.3333333333333333,
             "#9c179e"
            ],
            [
             0.4444444444444444,
             "#bd3786"
            ],
            [
             0.5555555555555556,
             "#d8576b"
            ],
            [
             0.6666666666666666,
             "#ed7953"
            ],
            [
             0.7777777777777778,
             "#fb9f3a"
            ],
            [
             0.8888888888888888,
             "#fdca26"
            ],
            [
             1,
             "#f0f921"
            ]
           ]
          },
          "colorway": [
           "#636efa",
           "#EF553B",
           "#00cc96",
           "#ab63fa",
           "#FFA15A",
           "#19d3f3",
           "#FF6692",
           "#B6E880",
           "#FF97FF",
           "#FECB52"
          ],
          "font": {
           "color": "#2a3f5f"
          },
          "geo": {
           "bgcolor": "white",
           "lakecolor": "white",
           "landcolor": "#E5ECF6",
           "showlakes": true,
           "showland": true,
           "subunitcolor": "white"
          },
          "hoverlabel": {
           "align": "left"
          },
          "hovermode": "closest",
          "mapbox": {
           "style": "light"
          },
          "paper_bgcolor": "white",
          "plot_bgcolor": "#E5ECF6",
          "polar": {
           "angularaxis": {
            "gridcolor": "white",
            "linecolor": "white",
            "ticks": ""
           },
           "bgcolor": "#E5ECF6",
           "radialaxis": {
            "gridcolor": "white",
            "linecolor": "white",
            "ticks": ""
           }
          },
          "scene": {
           "xaxis": {
            "backgroundcolor": "#E5ECF6",
            "gridcolor": "white",
            "gridwidth": 2,
            "linecolor": "white",
            "showbackground": true,
            "ticks": "",
            "zerolinecolor": "white"
           },
           "yaxis": {
            "backgroundcolor": "#E5ECF6",
            "gridcolor": "white",
            "gridwidth": 2,
            "linecolor": "white",
            "showbackground": true,
            "ticks": "",
            "zerolinecolor": "white"
           },
           "zaxis": {
            "backgroundcolor": "#E5ECF6",
            "gridcolor": "white",
            "gridwidth": 2,
            "linecolor": "white",
            "showbackground": true,
            "ticks": "",
            "zerolinecolor": "white"
           }
          },
          "shapedefaults": {
           "line": {
            "color": "#2a3f5f"
           }
          },
          "ternary": {
           "aaxis": {
            "gridcolor": "white",
            "linecolor": "white",
            "ticks": ""
           },
           "baxis": {
            "gridcolor": "white",
            "linecolor": "white",
            "ticks": ""
           },
           "bgcolor": "#E5ECF6",
           "caxis": {
            "gridcolor": "white",
            "linecolor": "white",
            "ticks": ""
           }
          },
          "title": {
           "x": 0.05
          },
          "xaxis": {
           "automargin": true,
           "gridcolor": "white",
           "linecolor": "white",
           "ticks": "",
           "title": {
            "standoff": 15
           },
           "zerolinecolor": "white",
           "zerolinewidth": 2
          },
          "yaxis": {
           "automargin": true,
           "gridcolor": "white",
           "linecolor": "white",
           "ticks": "",
           "title": {
            "standoff": 15
           },
           "zerolinecolor": "white",
           "zerolinewidth": 2
          }
         }
        },
        "title": {
         "text": "Top 10 Drivers with Most Target Finish = 0"
        },
        "xaxis": {
         "anchor": "y",
         "domain": [
          0,
          1
         ],
         "title": {
          "text": "driverRef"
         }
        },
        "yaxis": {
         "anchor": "x",
         "domain": [
          0,
          1
         ],
         "title": {
          "text": "count"
         }
        }
       }
      }
     },
     "metadata": {},
     "output_type": "display_data"
    }
   ],
   "source": [
    "driver_target_counts = df.groupby(['driverRef', 'target_finish']).size().reset_index(name='count')\n",
    "\n",
    "top_1s = (driver_target_counts[driver_target_counts['target_finish'] == 1]\n",
    "          .sort_values(by='count', ascending=False)\n",
    "          .head(10))\n",
    "\n",
    "top_0s = (driver_target_counts[driver_target_counts['target_finish'] == 0]\n",
    "          .sort_values(by='count', ascending=False)\n",
    "          .head(10))\n",
    "\n",
    "fig1 = px.bar(top_1s, x='driverRef', y='count', color='target_finish',\n",
    "              title='Top 10 Drivers with Most Target Finish = 1')\n",
    "fig1.show()\n",
    "\n",
    "fig2 = px.bar(top_0s, x='driverRef', y='count', color='target_finish',\n",
    "              title='Top 10 Drivers with Most Target Finish = 0')\n",
    "fig2.show()\n"
   ]
  },
  {
   "cell_type": "code",
   "execution_count": 21,
   "id": "38851b80",
   "metadata": {},
   "outputs": [],
   "source": [
    "df['date'] = pd.to_datetime(df['date'])"
   ]
  },
  {
   "cell_type": "code",
   "execution_count": 22,
   "id": "60a30952",
   "metadata": {},
   "outputs": [
    {
     "data": {
      "application/vnd.plotly.v1+json": {
       "config": {
        "plotlyServerURL": "https://plot.ly"
       },
       "data": [
        {
         "hovertemplate": "target_finish=0<br>year=%{x}<br>count=%{y}<extra></extra>",
         "legendgroup": "0",
         "line": {
          "color": "#636efa",
          "dash": "solid"
         },
         "marker": {
          "symbol": "circle"
         },
         "mode": "lines",
         "name": "0",
         "orientation": "v",
         "showlegend": true,
         "type": "scatter",
         "x": {
          "bdata": "ngcAAJ8HAACgBwAAoQcAAKIHAACjBwAApAcAAKUHAACmBwAApwcAAKgHAACpBwAAqgcAAKsHAACsBwAArQcAAK4HAACvBwAAsAcAALEHAACyBwAAswcAALQHAAC1BwAAtgcAALcHAAC4BwAAuQcAALoHAAC7BwAAvAcAAL0HAAC+BwAAvwcAAMAHAADBBwAAwgcAAMMHAADEBwAAxQcAAMYHAADHBwAAyAcAAMkHAADKBwAAywcAAMwHAADNBwAAzgcAAM8HAADQBwAA0QcAANIHAADTBwAA1AcAANUHAADWBwAA1wcAANgHAADZBwAA2gcAANsHAADcBwAA3QcAAN4HAADfBwAA4AcAAOEHAADiBwAA4wcAAOQHAADlBwAA5gcAAOcHAADoBwAA",
          "dtype": "i4"
         },
         "xaxis": "x",
         "y": {
          "bdata": "OwA9AEQATQBIADYAPQAyAEYAPQBFADgATABFAEAAOAA2ADsATgA5AGoASgBjAFgAewBXAH8AfwCRAIAAbwCIAJMAkwCbAHcAeACOAJ4AzQCjAKUArwCPAIsAjQBSAE8AUQBXAGoAXQBvAEcATgBWAGYATAA7ADAAYwBzAFgAQwBQAFEAWABaAE8ATgA5AFcAPwA6AEsA",
          "dtype": "i2"
         },
         "yaxis": "y"
        },
        {
         "hovertemplate": "target_finish=1<br>year=%{x}<br>count=%{y}<extra></extra>",
         "legendgroup": "1",
         "line": {
          "color": "#EF553B",
          "dash": "solid"
         },
         "marker": {
          "symbol": "circle"
         },
         "mode": "lines",
         "name": "1",
         "orientation": "v",
         "showlegend": true,
         "type": "scatter",
         "x": {
          "bdata": "ngcAAJ8HAACgBwAAoQcAAKIHAACjBwAApAcAAKUHAACmBwAApwcAAKgHAACpBwAAqgcAAKsHAACsBwAArQcAAK4HAACvBwAAsAcAALEHAACyBwAAswcAALQHAAC1BwAAtgcAALcHAAC4BwAAuQcAALoHAAC7BwAAvAcAAL0HAAC+BwAAvwcAAMAHAADBBwAAwgcAAMMHAADEBwAAxQcAAMYHAADHBwAAyAcAAMkHAADKBwAAywcAAMwHAADNBwAAzgcAAM8HAADQBwAA0QcAANIHAADTBwAA1AcAANUHAADWBwAA1wcAANgHAADZBwAA2gcAANsHAADcBwAA3QcAAN4HAADfBwAA4AcAAOEHAADiBwAA4wcAAOQHAADlBwAA5gcAAOcHAADoBwAA",
          "dtype": "i4"
         },
         "xaxis": "x",
         "y": {
          "bdata": "BhEKDxAODA4YFwsNFwsJDQYIDwwaEhQlIRwnGTMdEB0WHBUTFBcYER8iHhQaGSU7JykjKCYfMzw2QkhISTlhWUhKTzxDUUVaanhn",
          "dtype": "i1"
         },
         "yaxis": "y"
        }
       ],
       "layout": {
        "legend": {
         "title": {
          "text": "target_finish"
         },
         "tracegroupgap": 0
        },
        "template": {
         "data": {
          "bar": [
           {
            "error_x": {
             "color": "#2a3f5f"
            },
            "error_y": {
             "color": "#2a3f5f"
            },
            "marker": {
             "line": {
              "color": "#E5ECF6",
              "width": 0.5
             },
             "pattern": {
              "fillmode": "overlay",
              "size": 10,
              "solidity": 0.2
             }
            },
            "type": "bar"
           }
          ],
          "barpolar": [
           {
            "marker": {
             "line": {
              "color": "#E5ECF6",
              "width": 0.5
             },
             "pattern": {
              "fillmode": "overlay",
              "size": 10,
              "solidity": 0.2
             }
            },
            "type": "barpolar"
           }
          ],
          "carpet": [
           {
            "aaxis": {
             "endlinecolor": "#2a3f5f",
             "gridcolor": "white",
             "linecolor": "white",
             "minorgridcolor": "white",
             "startlinecolor": "#2a3f5f"
            },
            "baxis": {
             "endlinecolor": "#2a3f5f",
             "gridcolor": "white",
             "linecolor": "white",
             "minorgridcolor": "white",
             "startlinecolor": "#2a3f5f"
            },
            "type": "carpet"
           }
          ],
          "choropleth": [
           {
            "colorbar": {
             "outlinewidth": 0,
             "ticks": ""
            },
            "type": "choropleth"
           }
          ],
          "contour": [
           {
            "colorbar": {
             "outlinewidth": 0,
             "ticks": ""
            },
            "colorscale": [
             [
              0,
              "#0d0887"
             ],
             [
              0.1111111111111111,
              "#46039f"
             ],
             [
              0.2222222222222222,
              "#7201a8"
             ],
             [
              0.3333333333333333,
              "#9c179e"
             ],
             [
              0.4444444444444444,
              "#bd3786"
             ],
             [
              0.5555555555555556,
              "#d8576b"
             ],
             [
              0.6666666666666666,
              "#ed7953"
             ],
             [
              0.7777777777777778,
              "#fb9f3a"
             ],
             [
              0.8888888888888888,
              "#fdca26"
             ],
             [
              1,
              "#f0f921"
             ]
            ],
            "type": "contour"
           }
          ],
          "contourcarpet": [
           {
            "colorbar": {
             "outlinewidth": 0,
             "ticks": ""
            },
            "type": "contourcarpet"
           }
          ],
          "heatmap": [
           {
            "colorbar": {
             "outlinewidth": 0,
             "ticks": ""
            },
            "colorscale": [
             [
              0,
              "#0d0887"
             ],
             [
              0.1111111111111111,
              "#46039f"
             ],
             [
              0.2222222222222222,
              "#7201a8"
             ],
             [
              0.3333333333333333,
              "#9c179e"
             ],
             [
              0.4444444444444444,
              "#bd3786"
             ],
             [
              0.5555555555555556,
              "#d8576b"
             ],
             [
              0.6666666666666666,
              "#ed7953"
             ],
             [
              0.7777777777777778,
              "#fb9f3a"
             ],
             [
              0.8888888888888888,
              "#fdca26"
             ],
             [
              1,
              "#f0f921"
             ]
            ],
            "type": "heatmap"
           }
          ],
          "histogram": [
           {
            "marker": {
             "pattern": {
              "fillmode": "overlay",
              "size": 10,
              "solidity": 0.2
             }
            },
            "type": "histogram"
           }
          ],
          "histogram2d": [
           {
            "colorbar": {
             "outlinewidth": 0,
             "ticks": ""
            },
            "colorscale": [
             [
              0,
              "#0d0887"
             ],
             [
              0.1111111111111111,
              "#46039f"
             ],
             [
              0.2222222222222222,
              "#7201a8"
             ],
             [
              0.3333333333333333,
              "#9c179e"
             ],
             [
              0.4444444444444444,
              "#bd3786"
             ],
             [
              0.5555555555555556,
              "#d8576b"
             ],
             [
              0.6666666666666666,
              "#ed7953"
             ],
             [
              0.7777777777777778,
              "#fb9f3a"
             ],
             [
              0.8888888888888888,
              "#fdca26"
             ],
             [
              1,
              "#f0f921"
             ]
            ],
            "type": "histogram2d"
           }
          ],
          "histogram2dcontour": [
           {
            "colorbar": {
             "outlinewidth": 0,
             "ticks": ""
            },
            "colorscale": [
             [
              0,
              "#0d0887"
             ],
             [
              0.1111111111111111,
              "#46039f"
             ],
             [
              0.2222222222222222,
              "#7201a8"
             ],
             [
              0.3333333333333333,
              "#9c179e"
             ],
             [
              0.4444444444444444,
              "#bd3786"
             ],
             [
              0.5555555555555556,
              "#d8576b"
             ],
             [
              0.6666666666666666,
              "#ed7953"
             ],
             [
              0.7777777777777778,
              "#fb9f3a"
             ],
             [
              0.8888888888888888,
              "#fdca26"
             ],
             [
              1,
              "#f0f921"
             ]
            ],
            "type": "histogram2dcontour"
           }
          ],
          "mesh3d": [
           {
            "colorbar": {
             "outlinewidth": 0,
             "ticks": ""
            },
            "type": "mesh3d"
           }
          ],
          "parcoords": [
           {
            "line": {
             "colorbar": {
              "outlinewidth": 0,
              "ticks": ""
             }
            },
            "type": "parcoords"
           }
          ],
          "pie": [
           {
            "automargin": true,
            "type": "pie"
           }
          ],
          "scatter": [
           {
            "fillpattern": {
             "fillmode": "overlay",
             "size": 10,
             "solidity": 0.2
            },
            "type": "scatter"
           }
          ],
          "scatter3d": [
           {
            "line": {
             "colorbar": {
              "outlinewidth": 0,
              "ticks": ""
             }
            },
            "marker": {
             "colorbar": {
              "outlinewidth": 0,
              "ticks": ""
             }
            },
            "type": "scatter3d"
           }
          ],
          "scattercarpet": [
           {
            "marker": {
             "colorbar": {
              "outlinewidth": 0,
              "ticks": ""
             }
            },
            "type": "scattercarpet"
           }
          ],
          "scattergeo": [
           {
            "marker": {
             "colorbar": {
              "outlinewidth": 0,
              "ticks": ""
             }
            },
            "type": "scattergeo"
           }
          ],
          "scattergl": [
           {
            "marker": {
             "colorbar": {
              "outlinewidth": 0,
              "ticks": ""
             }
            },
            "type": "scattergl"
           }
          ],
          "scattermap": [
           {
            "marker": {
             "colorbar": {
              "outlinewidth": 0,
              "ticks": ""
             }
            },
            "type": "scattermap"
           }
          ],
          "scattermapbox": [
           {
            "marker": {
             "colorbar": {
              "outlinewidth": 0,
              "ticks": ""
             }
            },
            "type": "scattermapbox"
           }
          ],
          "scatterpolar": [
           {
            "marker": {
             "colorbar": {
              "outlinewidth": 0,
              "ticks": ""
             }
            },
            "type": "scatterpolar"
           }
          ],
          "scatterpolargl": [
           {
            "marker": {
             "colorbar": {
              "outlinewidth": 0,
              "ticks": ""
             }
            },
            "type": "scatterpolargl"
           }
          ],
          "scatterternary": [
           {
            "marker": {
             "colorbar": {
              "outlinewidth": 0,
              "ticks": ""
             }
            },
            "type": "scatterternary"
           }
          ],
          "surface": [
           {
            "colorbar": {
             "outlinewidth": 0,
             "ticks": ""
            },
            "colorscale": [
             [
              0,
              "#0d0887"
             ],
             [
              0.1111111111111111,
              "#46039f"
             ],
             [
              0.2222222222222222,
              "#7201a8"
             ],
             [
              0.3333333333333333,
              "#9c179e"
             ],
             [
              0.4444444444444444,
              "#bd3786"
             ],
             [
              0.5555555555555556,
              "#d8576b"
             ],
             [
              0.6666666666666666,
              "#ed7953"
             ],
             [
              0.7777777777777778,
              "#fb9f3a"
             ],
             [
              0.8888888888888888,
              "#fdca26"
             ],
             [
              1,
              "#f0f921"
             ]
            ],
            "type": "surface"
           }
          ],
          "table": [
           {
            "cells": {
             "fill": {
              "color": "#EBF0F8"
             },
             "line": {
              "color": "white"
             }
            },
            "header": {
             "fill": {
              "color": "#C8D4E3"
             },
             "line": {
              "color": "white"
             }
            },
            "type": "table"
           }
          ]
         },
         "layout": {
          "annotationdefaults": {
           "arrowcolor": "#2a3f5f",
           "arrowhead": 0,
           "arrowwidth": 1
          },
          "autotypenumbers": "strict",
          "coloraxis": {
           "colorbar": {
            "outlinewidth": 0,
            "ticks": ""
           }
          },
          "colorscale": {
           "diverging": [
            [
             0,
             "#8e0152"
            ],
            [
             0.1,
             "#c51b7d"
            ],
            [
             0.2,
             "#de77ae"
            ],
            [
             0.3,
             "#f1b6da"
            ],
            [
             0.4,
             "#fde0ef"
            ],
            [
             0.5,
             "#f7f7f7"
            ],
            [
             0.6,
             "#e6f5d0"
            ],
            [
             0.7,
             "#b8e186"
            ],
            [
             0.8,
             "#7fbc41"
            ],
            [
             0.9,
             "#4d9221"
            ],
            [
             1,
             "#276419"
            ]
           ],
           "sequential": [
            [
             0,
             "#0d0887"
            ],
            [
             0.1111111111111111,
             "#46039f"
            ],
            [
             0.2222222222222222,
             "#7201a8"
            ],
            [
             0.3333333333333333,
             "#9c179e"
            ],
            [
             0.4444444444444444,
             "#bd3786"
            ],
            [
             0.5555555555555556,
             "#d8576b"
            ],
            [
             0.6666666666666666,
             "#ed7953"
            ],
            [
             0.7777777777777778,
             "#fb9f3a"
            ],
            [
             0.8888888888888888,
             "#fdca26"
            ],
            [
             1,
             "#f0f921"
            ]
           ],
           "sequentialminus": [
            [
             0,
             "#0d0887"
            ],
            [
             0.1111111111111111,
             "#46039f"
            ],
            [
             0.2222222222222222,
             "#7201a8"
            ],
            [
             0.3333333333333333,
             "#9c179e"
            ],
            [
             0.4444444444444444,
             "#bd3786"
            ],
            [
             0.5555555555555556,
             "#d8576b"
            ],
            [
             0.6666666666666666,
             "#ed7953"
            ],
            [
             0.7777777777777778,
             "#fb9f3a"
            ],
            [
             0.8888888888888888,
             "#fdca26"
            ],
            [
             1,
             "#f0f921"
            ]
           ]
          },
          "colorway": [
           "#636efa",
           "#EF553B",
           "#00cc96",
           "#ab63fa",
           "#FFA15A",
           "#19d3f3",
           "#FF6692",
           "#B6E880",
           "#FF97FF",
           "#FECB52"
          ],
          "font": {
           "color": "#2a3f5f"
          },
          "geo": {
           "bgcolor": "white",
           "lakecolor": "white",
           "landcolor": "#E5ECF6",
           "showlakes": true,
           "showland": true,
           "subunitcolor": "white"
          },
          "hoverlabel": {
           "align": "left"
          },
          "hovermode": "closest",
          "mapbox": {
           "style": "light"
          },
          "paper_bgcolor": "white",
          "plot_bgcolor": "#E5ECF6",
          "polar": {
           "angularaxis": {
            "gridcolor": "white",
            "linecolor": "white",
            "ticks": ""
           },
           "bgcolor": "#E5ECF6",
           "radialaxis": {
            "gridcolor": "white",
            "linecolor": "white",
            "ticks": ""
           }
          },
          "scene": {
           "xaxis": {
            "backgroundcolor": "#E5ECF6",
            "gridcolor": "white",
            "gridwidth": 2,
            "linecolor": "white",
            "showbackground": true,
            "ticks": "",
            "zerolinecolor": "white"
           },
           "yaxis": {
            "backgroundcolor": "#E5ECF6",
            "gridcolor": "white",
            "gridwidth": 2,
            "linecolor": "white",
            "showbackground": true,
            "ticks": "",
            "zerolinecolor": "white"
           },
           "zaxis": {
            "backgroundcolor": "#E5ECF6",
            "gridcolor": "white",
            "gridwidth": 2,
            "linecolor": "white",
            "showbackground": true,
            "ticks": "",
            "zerolinecolor": "white"
           }
          },
          "shapedefaults": {
           "line": {
            "color": "#2a3f5f"
           }
          },
          "ternary": {
           "aaxis": {
            "gridcolor": "white",
            "linecolor": "white",
            "ticks": ""
           },
           "baxis": {
            "gridcolor": "white",
            "linecolor": "white",
            "ticks": ""
           },
           "bgcolor": "#E5ECF6",
           "caxis": {
            "gridcolor": "white",
            "linecolor": "white",
            "ticks": ""
           }
          },
          "title": {
           "x": 0.05
          },
          "xaxis": {
           "automargin": true,
           "gridcolor": "white",
           "linecolor": "white",
           "ticks": "",
           "title": {
            "standoff": 15
           },
           "zerolinecolor": "white",
           "zerolinewidth": 2
          },
          "yaxis": {
           "automargin": true,
           "gridcolor": "white",
           "linecolor": "white",
           "ticks": "",
           "title": {
            "standoff": 15
           },
           "zerolinecolor": "white",
           "zerolinewidth": 2
          }
         }
        },
        "title": {
         "text": "Target Finish Counts Over Time"
        },
        "xaxis": {
         "anchor": "y",
         "domain": [
          0,
          1
         ],
         "title": {
          "text": "year"
         }
        },
        "yaxis": {
         "anchor": "x",
         "domain": [
          0,
          1
         ],
         "title": {
          "text": "count"
         }
        }
       }
      }
     },
     "metadata": {},
     "output_type": "display_data"
    }
   ],
   "source": [
    "df['year'] = df['date'].dt.year\n",
    "time_series_counts = df.groupby(['year','target_finish']).size().reset_index(name='count')\n",
    "\n",
    "fig = px.line(time_series_counts, x='year', y='count', color='target_finish',\n",
    "              title='Target Finish Counts Over Time')\n",
    "fig.show()"
   ]
  },
  {
   "cell_type": "code",
   "execution_count": 23,
   "id": "32404b0d",
   "metadata": {},
   "outputs": [
    {
     "data": {
      "application/vnd.plotly.v1+json": {
       "config": {
        "plotlyServerURL": "https://plot.ly"
       },
       "data": [
        {
         "hovertemplate": "year=%{x}<br>target_finish=%{y}<extra></extra>",
         "legendgroup": "",
         "line": {
          "color": "#636efa",
          "dash": "solid"
         },
         "marker": {
          "symbol": "circle"
         },
         "mode": "lines",
         "name": "",
         "orientation": "v",
         "showlegend": false,
         "type": "scatter",
         "x": {
          "bdata": "ngcAAJ8HAACgBwAAoQcAAKIHAACjBwAApAcAAKUHAACmBwAApwcAAKgHAACpBwAAqgcAAKsHAACsBwAArQcAAK4HAACvBwAAsAcAALEHAACyBwAAswcAALQHAAC1BwAAtgcAALcHAAC4BwAAuQcAALoHAAC7BwAAvAcAAL0HAAC+BwAAvwcAAMAHAADBBwAAwgcAAMMHAADEBwAAxQcAAMYHAADHBwAAyAcAAMkHAADKBwAAywcAAMwHAADNBwAAzgcAAM8HAADQBwAA0QcAANIHAADTBwAA1AcAANUHAADWBwAA1wcAANgHAADZBwAA2gcAANsHAADcBwAA3QcAAN4HAADfBwAA4AcAAOEHAADiBwAA4wcAAOQHAADlBwAA5gcAAOcHAADoBwAA",
          "dtype": "i4"
         },
         "xaxis": "x",
         "y": {
          "bdata": "GHqhF3qhtz9cvuVbvuXLP5AGaZAGacA/Tm9605vexD9GF1100UXHP1paWlpaWso/qFChQoUKxT8AAAAAAADMP0FMriAmV9A/YhiGYRiG0T+amZmZmZnBP4K5dmCuHcg/EvN2hsS8zT+amZmZmZnBP/z48ePHj78/grl2YK4dyD+amZmZmZm5P2e38Ksxkb4/pZRSSimlxD9kIQtZyELGPzbZZJNNNsk/kYUsZCELyT8WOoMVOoPFP4ts5/up8dI/O7ETO7ETyz/zYdyvSyrPP/eQy4qBEs4/2FBeQ3kNxT8qeDkFL6fQP/nTFhqwpMc/CAQCgUAgwD9/lvNnOX/GPzjjWiSoqcA/exSuR+F6xD+MLrrooou+PxolfkaJn8E/kiRJkiRJwj/YkXodqdfBPxEO4RAO4cA/qDkJxIWasz9U4IurH3TEP2397YGN3sU/uxK1K1G7wj+zGkUcOmm/PysUt0JxK8Q/XVYMlPBGwz9UL+ZTL+bTP7YDc+3AXNs/zczMzMzM1D8AAAAAAIDUP38i4ZTmxc8/+DPhz4Q/0z+bjrlEeFLQP3Nzc3Nzc9M/U9aUNWVN2T/SpEmTJk3aP3ZiJ3ZiJ9Y/47dLPRm/3T9gxQkpeZbhPzMzMzMzM+M/ypqypqwp2z9NWVPWlDXVP3QML85Dx+A/GqRBGqRB4j8N5TWU11DeP46e4OgJjt4/m+0T1YNG3j+amZmZmZnZP+vVq1evXt0/463sc0hN4D9iGIZhGIbhP5zUfXlsReA/DwaccS0S5D9ZyUpWspLlPyhCEYpQhOI/",
          "dtype": "f8"
         },
         "yaxis": "y"
        }
       ],
       "layout": {
        "legend": {
         "tracegroupgap": 0
        },
        "template": {
         "data": {
          "bar": [
           {
            "error_x": {
             "color": "#2a3f5f"
            },
            "error_y": {
             "color": "#2a3f5f"
            },
            "marker": {
             "line": {
              "color": "#E5ECF6",
              "width": 0.5
             },
             "pattern": {
              "fillmode": "overlay",
              "size": 10,
              "solidity": 0.2
             }
            },
            "type": "bar"
           }
          ],
          "barpolar": [
           {
            "marker": {
             "line": {
              "color": "#E5ECF6",
              "width": 0.5
             },
             "pattern": {
              "fillmode": "overlay",
              "size": 10,
              "solidity": 0.2
             }
            },
            "type": "barpolar"
           }
          ],
          "carpet": [
           {
            "aaxis": {
             "endlinecolor": "#2a3f5f",
             "gridcolor": "white",
             "linecolor": "white",
             "minorgridcolor": "white",
             "startlinecolor": "#2a3f5f"
            },
            "baxis": {
             "endlinecolor": "#2a3f5f",
             "gridcolor": "white",
             "linecolor": "white",
             "minorgridcolor": "white",
             "startlinecolor": "#2a3f5f"
            },
            "type": "carpet"
           }
          ],
          "choropleth": [
           {
            "colorbar": {
             "outlinewidth": 0,
             "ticks": ""
            },
            "type": "choropleth"
           }
          ],
          "contour": [
           {
            "colorbar": {
             "outlinewidth": 0,
             "ticks": ""
            },
            "colorscale": [
             [
              0,
              "#0d0887"
             ],
             [
              0.1111111111111111,
              "#46039f"
             ],
             [
              0.2222222222222222,
              "#7201a8"
             ],
             [
              0.3333333333333333,
              "#9c179e"
             ],
             [
              0.4444444444444444,
              "#bd3786"
             ],
             [
              0.5555555555555556,
              "#d8576b"
             ],
             [
              0.6666666666666666,
              "#ed7953"
             ],
             [
              0.7777777777777778,
              "#fb9f3a"
             ],
             [
              0.8888888888888888,
              "#fdca26"
             ],
             [
              1,
              "#f0f921"
             ]
            ],
            "type": "contour"
           }
          ],
          "contourcarpet": [
           {
            "colorbar": {
             "outlinewidth": 0,
             "ticks": ""
            },
            "type": "contourcarpet"
           }
          ],
          "heatmap": [
           {
            "colorbar": {
             "outlinewidth": 0,
             "ticks": ""
            },
            "colorscale": [
             [
              0,
              "#0d0887"
             ],
             [
              0.1111111111111111,
              "#46039f"
             ],
             [
              0.2222222222222222,
              "#7201a8"
             ],
             [
              0.3333333333333333,
              "#9c179e"
             ],
             [
              0.4444444444444444,
              "#bd3786"
             ],
             [
              0.5555555555555556,
              "#d8576b"
             ],
             [
              0.6666666666666666,
              "#ed7953"
             ],
             [
              0.7777777777777778,
              "#fb9f3a"
             ],
             [
              0.8888888888888888,
              "#fdca26"
             ],
             [
              1,
              "#f0f921"
             ]
            ],
            "type": "heatmap"
           }
          ],
          "histogram": [
           {
            "marker": {
             "pattern": {
              "fillmode": "overlay",
              "size": 10,
              "solidity": 0.2
             }
            },
            "type": "histogram"
           }
          ],
          "histogram2d": [
           {
            "colorbar": {
             "outlinewidth": 0,
             "ticks": ""
            },
            "colorscale": [
             [
              0,
              "#0d0887"
             ],
             [
              0.1111111111111111,
              "#46039f"
             ],
             [
              0.2222222222222222,
              "#7201a8"
             ],
             [
              0.3333333333333333,
              "#9c179e"
             ],
             [
              0.4444444444444444,
              "#bd3786"
             ],
             [
              0.5555555555555556,
              "#d8576b"
             ],
             [
              0.6666666666666666,
              "#ed7953"
             ],
             [
              0.7777777777777778,
              "#fb9f3a"
             ],
             [
              0.8888888888888888,
              "#fdca26"
             ],
             [
              1,
              "#f0f921"
             ]
            ],
            "type": "histogram2d"
           }
          ],
          "histogram2dcontour": [
           {
            "colorbar": {
             "outlinewidth": 0,
             "ticks": ""
            },
            "colorscale": [
             [
              0,
              "#0d0887"
             ],
             [
              0.1111111111111111,
              "#46039f"
             ],
             [
              0.2222222222222222,
              "#7201a8"
             ],
             [
              0.3333333333333333,
              "#9c179e"
             ],
             [
              0.4444444444444444,
              "#bd3786"
             ],
             [
              0.5555555555555556,
              "#d8576b"
             ],
             [
              0.6666666666666666,
              "#ed7953"
             ],
             [
              0.7777777777777778,
              "#fb9f3a"
             ],
             [
              0.8888888888888888,
              "#fdca26"
             ],
             [
              1,
              "#f0f921"
             ]
            ],
            "type": "histogram2dcontour"
           }
          ],
          "mesh3d": [
           {
            "colorbar": {
             "outlinewidth": 0,
             "ticks": ""
            },
            "type": "mesh3d"
           }
          ],
          "parcoords": [
           {
            "line": {
             "colorbar": {
              "outlinewidth": 0,
              "ticks": ""
             }
            },
            "type": "parcoords"
           }
          ],
          "pie": [
           {
            "automargin": true,
            "type": "pie"
           }
          ],
          "scatter": [
           {
            "fillpattern": {
             "fillmode": "overlay",
             "size": 10,
             "solidity": 0.2
            },
            "type": "scatter"
           }
          ],
          "scatter3d": [
           {
            "line": {
             "colorbar": {
              "outlinewidth": 0,
              "ticks": ""
             }
            },
            "marker": {
             "colorbar": {
              "outlinewidth": 0,
              "ticks": ""
             }
            },
            "type": "scatter3d"
           }
          ],
          "scattercarpet": [
           {
            "marker": {
             "colorbar": {
              "outlinewidth": 0,
              "ticks": ""
             }
            },
            "type": "scattercarpet"
           }
          ],
          "scattergeo": [
           {
            "marker": {
             "colorbar": {
              "outlinewidth": 0,
              "ticks": ""
             }
            },
            "type": "scattergeo"
           }
          ],
          "scattergl": [
           {
            "marker": {
             "colorbar": {
              "outlinewidth": 0,
              "ticks": ""
             }
            },
            "type": "scattergl"
           }
          ],
          "scattermap": [
           {
            "marker": {
             "colorbar": {
              "outlinewidth": 0,
              "ticks": ""
             }
            },
            "type": "scattermap"
           }
          ],
          "scattermapbox": [
           {
            "marker": {
             "colorbar": {
              "outlinewidth": 0,
              "ticks": ""
             }
            },
            "type": "scattermapbox"
           }
          ],
          "scatterpolar": [
           {
            "marker": {
             "colorbar": {
              "outlinewidth": 0,
              "ticks": ""
             }
            },
            "type": "scatterpolar"
           }
          ],
          "scatterpolargl": [
           {
            "marker": {
             "colorbar": {
              "outlinewidth": 0,
              "ticks": ""
             }
            },
            "type": "scatterpolargl"
           }
          ],
          "scatterternary": [
           {
            "marker": {
             "colorbar": {
              "outlinewidth": 0,
              "ticks": ""
             }
            },
            "type": "scatterternary"
           }
          ],
          "surface": [
           {
            "colorbar": {
             "outlinewidth": 0,
             "ticks": ""
            },
            "colorscale": [
             [
              0,
              "#0d0887"
             ],
             [
              0.1111111111111111,
              "#46039f"
             ],
             [
              0.2222222222222222,
              "#7201a8"
             ],
             [
              0.3333333333333333,
              "#9c179e"
             ],
             [
              0.4444444444444444,
              "#bd3786"
             ],
             [
              0.5555555555555556,
              "#d8576b"
             ],
             [
              0.6666666666666666,
              "#ed7953"
             ],
             [
              0.7777777777777778,
              "#fb9f3a"
             ],
             [
              0.8888888888888888,
              "#fdca26"
             ],
             [
              1,
              "#f0f921"
             ]
            ],
            "type": "surface"
           }
          ],
          "table": [
           {
            "cells": {
             "fill": {
              "color": "#EBF0F8"
             },
             "line": {
              "color": "white"
             }
            },
            "header": {
             "fill": {
              "color": "#C8D4E3"
             },
             "line": {
              "color": "white"
             }
            },
            "type": "table"
           }
          ]
         },
         "layout": {
          "annotationdefaults": {
           "arrowcolor": "#2a3f5f",
           "arrowhead": 0,
           "arrowwidth": 1
          },
          "autotypenumbers": "strict",
          "coloraxis": {
           "colorbar": {
            "outlinewidth": 0,
            "ticks": ""
           }
          },
          "colorscale": {
           "diverging": [
            [
             0,
             "#8e0152"
            ],
            [
             0.1,
             "#c51b7d"
            ],
            [
             0.2,
             "#de77ae"
            ],
            [
             0.3,
             "#f1b6da"
            ],
            [
             0.4,
             "#fde0ef"
            ],
            [
             0.5,
             "#f7f7f7"
            ],
            [
             0.6,
             "#e6f5d0"
            ],
            [
             0.7,
             "#b8e186"
            ],
            [
             0.8,
             "#7fbc41"
            ],
            [
             0.9,
             "#4d9221"
            ],
            [
             1,
             "#276419"
            ]
           ],
           "sequential": [
            [
             0,
             "#0d0887"
            ],
            [
             0.1111111111111111,
             "#46039f"
            ],
            [
             0.2222222222222222,
             "#7201a8"
            ],
            [
             0.3333333333333333,
             "#9c179e"
            ],
            [
             0.4444444444444444,
             "#bd3786"
            ],
            [
             0.5555555555555556,
             "#d8576b"
            ],
            [
             0.6666666666666666,
             "#ed7953"
            ],
            [
             0.7777777777777778,
             "#fb9f3a"
            ],
            [
             0.8888888888888888,
             "#fdca26"
            ],
            [
             1,
             "#f0f921"
            ]
           ],
           "sequentialminus": [
            [
             0,
             "#0d0887"
            ],
            [
             0.1111111111111111,
             "#46039f"
            ],
            [
             0.2222222222222222,
             "#7201a8"
            ],
            [
             0.3333333333333333,
             "#9c179e"
            ],
            [
             0.4444444444444444,
             "#bd3786"
            ],
            [
             0.5555555555555556,
             "#d8576b"
            ],
            [
             0.6666666666666666,
             "#ed7953"
            ],
            [
             0.7777777777777778,
             "#fb9f3a"
            ],
            [
             0.8888888888888888,
             "#fdca26"
            ],
            [
             1,
             "#f0f921"
            ]
           ]
          },
          "colorway": [
           "#636efa",
           "#EF553B",
           "#00cc96",
           "#ab63fa",
           "#FFA15A",
           "#19d3f3",
           "#FF6692",
           "#B6E880",
           "#FF97FF",
           "#FECB52"
          ],
          "font": {
           "color": "#2a3f5f"
          },
          "geo": {
           "bgcolor": "white",
           "lakecolor": "white",
           "landcolor": "#E5ECF6",
           "showlakes": true,
           "showland": true,
           "subunitcolor": "white"
          },
          "hoverlabel": {
           "align": "left"
          },
          "hovermode": "closest",
          "mapbox": {
           "style": "light"
          },
          "paper_bgcolor": "white",
          "plot_bgcolor": "#E5ECF6",
          "polar": {
           "angularaxis": {
            "gridcolor": "white",
            "linecolor": "white",
            "ticks": ""
           },
           "bgcolor": "#E5ECF6",
           "radialaxis": {
            "gridcolor": "white",
            "linecolor": "white",
            "ticks": ""
           }
          },
          "scene": {
           "xaxis": {
            "backgroundcolor": "#E5ECF6",
            "gridcolor": "white",
            "gridwidth": 2,
            "linecolor": "white",
            "showbackground": true,
            "ticks": "",
            "zerolinecolor": "white"
           },
           "yaxis": {
            "backgroundcolor": "#E5ECF6",
            "gridcolor": "white",
            "gridwidth": 2,
            "linecolor": "white",
            "showbackground": true,
            "ticks": "",
            "zerolinecolor": "white"
           },
           "zaxis": {
            "backgroundcolor": "#E5ECF6",
            "gridcolor": "white",
            "gridwidth": 2,
            "linecolor": "white",
            "showbackground": true,
            "ticks": "",
            "zerolinecolor": "white"
           }
          },
          "shapedefaults": {
           "line": {
            "color": "#2a3f5f"
           }
          },
          "ternary": {
           "aaxis": {
            "gridcolor": "white",
            "linecolor": "white",
            "ticks": ""
           },
           "baxis": {
            "gridcolor": "white",
            "linecolor": "white",
            "ticks": ""
           },
           "bgcolor": "#E5ECF6",
           "caxis": {
            "gridcolor": "white",
            "linecolor": "white",
            "ticks": ""
           }
          },
          "title": {
           "x": 0.05
          },
          "xaxis": {
           "automargin": true,
           "gridcolor": "white",
           "linecolor": "white",
           "ticks": "",
           "title": {
            "standoff": 15
           },
           "zerolinecolor": "white",
           "zerolinewidth": 2
          },
          "yaxis": {
           "automargin": true,
           "gridcolor": "white",
           "linecolor": "white",
           "ticks": "",
           "title": {
            "standoff": 15
           },
           "zerolinecolor": "white",
           "zerolinewidth": 2
          }
         }
        },
        "title": {
         "text": "Yearly Target Finish Trend"
        },
        "xaxis": {
         "anchor": "y",
         "domain": [
          0,
          1
         ],
         "title": {
          "text": "year"
         }
        },
        "yaxis": {
         "anchor": "x",
         "domain": [
          0,
          1
         ],
         "title": {
          "text": "target_finish"
         }
        }
       }
      }
     },
     "metadata": {},
     "output_type": "display_data"
    }
   ],
   "source": [
    "df['year'] = df['date'].dt.year\n",
    "yearly = df.groupby('year')['target_finish'].mean().reset_index()\n",
    "\n",
    "fig = px.line(yearly, x='year', y='target_finish',\n",
    "              title='Yearly Target Finish Trend')\n",
    "fig.show()"
   ]
  },
  {
   "cell_type": "code",
   "execution_count": 24,
   "id": "043330f3",
   "metadata": {},
   "outputs": [
    {
     "name": "stdout",
     "output_type": "stream",
     "text": [
      "<class 'pandas.core.frame.DataFrame'>\n",
      "RangeIndex: 10000 entries, 0 to 9999\n",
      "Data columns (total 29 columns):\n",
      " #   Column           Non-Null Count  Dtype         \n",
      "---  ------           --------------  -----         \n",
      " 0   year             10000 non-null  int32         \n",
      " 1   round            10000 non-null  int64         \n",
      " 2   grid             10000 non-null  int64         \n",
      " 3   positionOrder    10000 non-null  int64         \n",
      " 4   points           9029 non-null   float64       \n",
      " 5   laps             9022 non-null   float64       \n",
      " 6   milliseconds     2607 non-null   object        \n",
      " 7   fastestLap       3105 non-null   object        \n",
      " 8   rank             3202 non-null   object        \n",
      " 9   fastestLapTime   3105 non-null   object        \n",
      " 10  fastestLapSpeed  2809 non-null   object        \n",
      " 11  driverRef        10000 non-null  object        \n",
      " 12  surname          10000 non-null  object        \n",
      " 13  forename         10000 non-null  object        \n",
      " 14  dob              10000 non-null  object        \n",
      " 15  nationality_x    10000 non-null  object        \n",
      " 16  constructorRef   10000 non-null  object        \n",
      " 17  name             10000 non-null  object        \n",
      " 18  nationality_y    10000 non-null  object        \n",
      " 19  circuitRef       10000 non-null  object        \n",
      " 20  circuitId        10000 non-null  int64         \n",
      " 21  name_y           10000 non-null  object        \n",
      " 22  location         10000 non-null  object        \n",
      " 23  country          10000 non-null  object        \n",
      " 24  lat              10000 non-null  float64       \n",
      " 25  lng              10000 non-null  float64       \n",
      " 26  alt              10000 non-null  int64         \n",
      " 27  date             10000 non-null  datetime64[ns]\n",
      " 28  target_finish    10000 non-null  int64         \n",
      "dtypes: datetime64[ns](1), float64(4), int32(1), int64(6), object(17)\n",
      "memory usage: 2.2+ MB\n"
     ]
    }
   ],
   "source": [
    "df.info()"
   ]
  },
  {
   "cell_type": "code",
   "execution_count": null,
   "id": "2da46f55",
   "metadata": {},
   "outputs": [],
   "source": [
    "from sklearn.cluster import KMeans\n",
    "\n",
    "df['dob'] = pd.to_datetime(df['dob'], errors='coerce')\n",
    "df['age_at_race'] = (df['date'] - df['dob']).dt.days // 365 \n",
    "\n",
    "geo_features = df[['lat', 'lng', 'alt']].dropna()\n",
    "\n",
    "kmeans = KMeans(n_clusters=5, random_state=42, n_init=10)\n",
    "df.loc[geo_features.index, 'circuit_region'] = kmeans.fit_predict(geo_features)\n",
    "df['circuit_region'] = df['circuit_region'].astype('Int64')  \n"
   ]
  },
  {
   "cell_type": "code",
   "execution_count": 26,
   "id": "b754ec6d",
   "metadata": {},
   "outputs": [
    {
     "name": "stdout",
     "output_type": "stream",
     "text": [
      "<class 'pandas.core.frame.DataFrame'>\n",
      "RangeIndex: 10000 entries, 0 to 9999\n",
      "Data columns (total 31 columns):\n",
      " #   Column           Non-Null Count  Dtype         \n",
      "---  ------           --------------  -----         \n",
      " 0   year             10000 non-null  int32         \n",
      " 1   round            10000 non-null  int64         \n",
      " 2   grid             10000 non-null  int64         \n",
      " 3   positionOrder    10000 non-null  int64         \n",
      " 4   points           9029 non-null   float64       \n",
      " 5   laps             9022 non-null   float64       \n",
      " 6   milliseconds     2607 non-null   object        \n",
      " 7   fastestLap       3105 non-null   object        \n",
      " 8   rank             3202 non-null   object        \n",
      " 9   fastestLapTime   3105 non-null   object        \n",
      " 10  fastestLapSpeed  2809 non-null   object        \n",
      " 11  driverRef        10000 non-null  object        \n",
      " 12  surname          10000 non-null  object        \n",
      " 13  forename         10000 non-null  object        \n",
      " 14  dob              10000 non-null  datetime64[ns]\n",
      " 15  nationality_x    10000 non-null  object        \n",
      " 16  constructorRef   10000 non-null  object        \n",
      " 17  name             10000 non-null  object        \n",
      " 18  nationality_y    10000 non-null  object        \n",
      " 19  circuitRef       10000 non-null  object        \n",
      " 20  circuitId        10000 non-null  int64         \n",
      " 21  name_y           10000 non-null  object        \n",
      " 22  location         10000 non-null  object        \n",
      " 23  country          10000 non-null  object        \n",
      " 24  lat              10000 non-null  float64       \n",
      " 25  lng              10000 non-null  float64       \n",
      " 26  alt              10000 non-null  int64         \n",
      " 27  date             10000 non-null  datetime64[ns]\n",
      " 28  target_finish    10000 non-null  int64         \n",
      " 29  age_at_race      10000 non-null  int64         \n",
      " 30  circuit_region   10000 non-null  Int64         \n",
      "dtypes: Int64(1), datetime64[ns](2), float64(4), int32(1), int64(7), object(16)\n",
      "memory usage: 2.3+ MB\n"
     ]
    }
   ],
   "source": [
    "df.info()"
   ]
  },
  {
   "cell_type": "code",
   "execution_count": null,
   "id": "83ab177b",
   "metadata": {},
   "outputs": [],
   "source": [
    "cols_to_drop = [\n",
    "    'lat', 'lng', 'alt',  \n",
    "    'dob',                \n",
    "    'surname', 'forename',\n",
    "    'name', 'name_y',       \n",
    "    'milliseconds','fastestLap','rank','fastestLapSpeed', 'fastestLapTime'\n",
    "\n",
    "]\n",
    "\n",
    "df.drop(columns=cols_to_drop, inplace=True, errors='ignore')\n"
   ]
  },
  {
   "cell_type": "code",
   "execution_count": 28,
   "id": "6c54f478",
   "metadata": {},
   "outputs": [
    {
     "name": "stdout",
     "output_type": "stream",
     "text": [
      "<class 'pandas.core.frame.DataFrame'>\n",
      "RangeIndex: 10000 entries, 0 to 9999\n",
      "Data columns (total 18 columns):\n",
      " #   Column          Non-Null Count  Dtype         \n",
      "---  ------          --------------  -----         \n",
      " 0   year            10000 non-null  int32         \n",
      " 1   round           10000 non-null  int64         \n",
      " 2   grid            10000 non-null  int64         \n",
      " 3   positionOrder   10000 non-null  int64         \n",
      " 4   points          9029 non-null   float64       \n",
      " 5   laps            9022 non-null   float64       \n",
      " 6   driverRef       10000 non-null  object        \n",
      " 7   nationality_x   10000 non-null  object        \n",
      " 8   constructorRef  10000 non-null  object        \n",
      " 9   nationality_y   10000 non-null  object        \n",
      " 10  circuitRef      10000 non-null  object        \n",
      " 11  circuitId       10000 non-null  int64         \n",
      " 12  location        10000 non-null  object        \n",
      " 13  country         10000 non-null  object        \n",
      " 14  date            10000 non-null  datetime64[ns]\n",
      " 15  target_finish   10000 non-null  int64         \n",
      " 16  age_at_race     10000 non-null  int64         \n",
      " 17  circuit_region  10000 non-null  Int64         \n",
      "dtypes: Int64(1), datetime64[ns](1), float64(2), int32(1), int64(6), object(7)\n",
      "memory usage: 1.3+ MB\n"
     ]
    }
   ],
   "source": [
    "df.info()"
   ]
  },
  {
   "cell_type": "code",
   "execution_count": 29,
   "id": "4d97e243",
   "metadata": {},
   "outputs": [],
   "source": [
    "df.drop(columns=['nationality_x', 'nationality_y','country','location'], inplace=True, errors='ignore')"
   ]
  },
  {
   "cell_type": "code",
   "execution_count": 30,
   "id": "f8bd517a",
   "metadata": {},
   "outputs": [],
   "source": [
    "df.drop(columns=['circuitId'], inplace=True, errors='ignore')"
   ]
  },
  {
   "cell_type": "code",
   "execution_count": 31,
   "id": "52c191e4",
   "metadata": {},
   "outputs": [
    {
     "name": "stdout",
     "output_type": "stream",
     "text": [
      "<class 'pandas.core.frame.DataFrame'>\n",
      "RangeIndex: 10000 entries, 0 to 9999\n",
      "Data columns (total 13 columns):\n",
      " #   Column          Non-Null Count  Dtype         \n",
      "---  ------          --------------  -----         \n",
      " 0   year            10000 non-null  int32         \n",
      " 1   round           10000 non-null  int64         \n",
      " 2   grid            10000 non-null  int64         \n",
      " 3   positionOrder   10000 non-null  int64         \n",
      " 4   points          9029 non-null   float64       \n",
      " 5   laps            9022 non-null   float64       \n",
      " 6   driverRef       10000 non-null  object        \n",
      " 7   constructorRef  10000 non-null  object        \n",
      " 8   circuitRef      10000 non-null  object        \n",
      " 9   date            10000 non-null  datetime64[ns]\n",
      " 10  target_finish   10000 non-null  int64         \n",
      " 11  age_at_race     10000 non-null  int64         \n",
      " 12  circuit_region  10000 non-null  Int64         \n",
      "dtypes: Int64(1), datetime64[ns](1), float64(2), int32(1), int64(5), object(3)\n",
      "memory usage: 986.5+ KB\n"
     ]
    }
   ],
   "source": [
    "df.info()"
   ]
  },
  {
   "cell_type": "code",
   "execution_count": 32,
   "id": "03772e07",
   "metadata": {},
   "outputs": [
    {
     "data": {
      "application/vnd.microsoft.datawrangler.viewer.v0+json": {
       "columns": [
        {
         "name": "index",
         "rawType": "int64",
         "type": "integer"
        },
        {
         "name": "year",
         "rawType": "int32",
         "type": "integer"
        },
        {
         "name": "round",
         "rawType": "int64",
         "type": "integer"
        },
        {
         "name": "grid",
         "rawType": "int64",
         "type": "integer"
        },
        {
         "name": "positionOrder",
         "rawType": "int64",
         "type": "integer"
        },
        {
         "name": "points",
         "rawType": "float64",
         "type": "float"
        },
        {
         "name": "laps",
         "rawType": "float64",
         "type": "float"
        },
        {
         "name": "driverRef",
         "rawType": "object",
         "type": "string"
        },
        {
         "name": "constructorRef",
         "rawType": "object",
         "type": "string"
        },
        {
         "name": "circuitRef",
         "rawType": "object",
         "type": "string"
        },
        {
         "name": "date",
         "rawType": "datetime64[ns]",
         "type": "datetime"
        },
        {
         "name": "target_finish",
         "rawType": "int64",
         "type": "integer"
        },
        {
         "name": "age_at_race",
         "rawType": "int64",
         "type": "integer"
        },
        {
         "name": "circuit_region",
         "rawType": "Int64",
         "type": "integer"
        }
       ],
       "ref": "9de9da07-2c7c-4fa3-a621-c937d45af09f",
       "rows": [
        [
         "0",
         "2002",
         "13",
         "11",
         "4",
         "3.0",
         "77.0",
         "raikkonen",
         "mclaren",
         "hungaroring",
         "2002-08-18 00:00:00",
         "1",
         "22",
         "0"
        ],
        [
         "1",
         "1981",
         "1",
         "23",
         "21",
         "0.0",
         "16.0",
         "watson",
         "mclaren",
         "long_beach",
         "1981-03-15 00:00:00",
         "0",
         "34",
         "3"
        ],
        [
         "2",
         "1958",
         "8",
         "0",
         "26",
         "0.0",
         "0.0",
         "ruttman",
         "maserati",
         "nurburgring",
         "1958-08-03 00:00:00",
         "0",
         "28",
         "2"
        ],
        [
         "3",
         "2021",
         "8",
         "19",
         "16",
         "0.0",
         "69.0",
         "mick_schumacher",
         "haas",
         "red_bull_ring",
         "2021-06-27 00:00:00",
         "0",
         "22",
         "2"
        ],
        [
         "4",
         "1988",
         "12",
         "0",
         "30",
         "0.0",
         "0.0",
         "modena",
         "eurobrun",
         "monza",
         "1988-09-11 00:00:00",
         "0",
         "25",
         "0"
        ],
        [
         "5",
         "2019",
         "6",
         "5",
         "14",
         "0.0",
         "77.0",
         "kevin_magnussen",
         "haas",
         "monaco",
         "2019-05-26 00:00:00",
         "0",
         "26",
         "3"
        ],
        [
         "6",
         "1975",
         "14",
         "5",
         "18",
         null,
         "9.0",
         "mario_andretti",
         "parnelli",
         "watkins_glen",
         "1975-10-05 00:00:00",
         "0",
         "35",
         "2"
        ],
        [
         "7",
         "2013",
         "12",
         "16",
         "13",
         null,
         "53.0",
         "gutierrez",
         "sauber",
         "monza",
         "2013-09-08 00:00:00",
         "1",
         "22",
         "0"
        ],
        [
         "8",
         "2015",
         "7",
         "1",
         "1",
         "25.0",
         "70.0",
         "hamilton",
         "mercedes",
         "villeneuve",
         "2015-06-07 00:00:00",
         "1",
         "30",
         "3"
        ],
        [
         "9",
         "1960",
         "1",
         "2",
         "6",
         "1.0",
         "79.0",
         "ireland",
         "team_lotus",
         "galvez",
         "1960-02-07 00:00:00",
         "0",
         "29",
         "3"
        ],
        [
         "10",
         "1994",
         "16",
         "9",
         "3",
         "4.0",
         "81.0",
         "brundle",
         "mclaren",
         "adelaide",
         "1994-11-13 00:00:00",
         "1",
         "35",
         "3"
        ],
        [
         "11",
         "1995",
         "16",
         "15",
         "10",
         "0.0",
         "51.0",
         "wendlinger",
         "sauber",
         "suzuka",
         "1995-10-29 00:00:00",
         "0",
         "26",
         "3"
        ],
        [
         "12",
         "1989",
         "16",
         "0",
         "31",
         "0.0",
         "0.0",
         "johansson",
         "onyx",
         "adelaide",
         "1989-11-05 00:00:00",
         "0",
         "33",
         "3"
        ],
        [
         "13",
         "1991",
         "1",
         "14",
         "10",
         "0.0",
         "75.0",
         "gachot",
         "jordan",
         "phoenix",
         "1991-03-10 00:00:00",
         "0",
         "28",
         "0"
        ],
        [
         "14",
         "2012",
         "19",
         "16",
         "14",
         "0.0",
         "55.0",
         "kobayashi",
         "sauber",
         "americas",
         "2012-11-18 00:00:00",
         "0",
         "26",
         "0"
        ],
        [
         "15",
         "1989",
         "11",
         "18",
         "11",
         "0.0",
         null,
         "cesaris",
         "dallara",
         "spa",
         "1989-08-27 00:00:00",
         "0",
         "30",
         "2"
        ],
        [
         "16",
         "1983",
         "14",
         "22",
         "26",
         "0.0",
         "0.0",
         "jarier",
         "ligier",
         "brands_hatch",
         "1983-09-25 00:00:00",
         "0",
         "37",
         "0"
        ],
        [
         "17",
         "2024",
         "10",
         "2",
         "1",
         "25.0",
         "66.0",
         "max_verstappen",
         "red_bull",
         "catalunya",
         "2024-06-23 00:00:00",
         "1",
         "26",
         "0"
        ],
        [
         "18",
         "1974",
         "10",
         "12",
         "3",
         "4.0",
         "75.0",
         "ickx",
         "team_lotus",
         "brands_hatch",
         "1974-07-20 00:00:00",
         "1",
         "29",
         "0"
        ],
        [
         "19",
         "2010",
         "12",
         "17",
         "24",
         "0.0",
         null,
         "alguersuari",
         "toro_rosso",
         "hungaroring",
         "2010-08-01 00:00:00",
         "0",
         "20",
         "0"
        ],
        [
         "20",
         "1981",
         "9",
         "21",
         "6",
         "1.0",
         "67.0",
         "borgudd",
         "ats",
         "silverstone",
         "1981-07-18 00:00:00",
         "0",
         "34",
         "0"
        ],
        [
         "21",
         "1976",
         "4",
         "13",
         "17",
         "0.0",
         "51.0",
         "watson",
         "penske",
         "jarama",
         "1976-05-02 00:00:00",
         "0",
         "30",
         "2"
        ],
        [
         "22",
         "1984",
         "2",
         "19",
         "22",
         "0.0",
         "26.0",
         "cecotto",
         "toleman",
         "kyalami",
         "1984-04-07 00:00:00",
         "0",
         "28",
         "1"
        ],
        [
         "23",
         "1990",
         "13",
         "0",
         "31",
         "0.0",
         "0.0",
         "moreno",
         "eurobrun",
         "estoril",
         "1990-09-23 00:00:00",
         "0",
         "31",
         "0"
        ],
        [
         "24",
         "1981",
         "10",
         "11",
         "20",
         "0.0",
         "27.0",
         "tambay",
         "ligier",
         "hockenheimring",
         "1981-08-02 00:00:00",
         "0",
         "32",
         "0"
        ],
        [
         "25",
         "2000",
         "13",
         "17",
         "19",
         "0.0",
         "32.0",
         "alesi",
         "prost",
         "spa",
         "2000-08-27 00:00:00",
         "0",
         "36",
         "2"
        ],
        [
         "26",
         "1979",
         "9",
         "26",
         "9",
         "0.0",
         "66.0",
         "rebaque",
         "team_lotus",
         "silverstone",
         "1979-07-14 00:00:00",
         "0",
         "23",
         "0"
        ],
        [
         "27",
         "1982",
         "4",
         "1",
         "8",
         "0.0",
         "44.0",
         "arnoux",
         "renault",
         "imola",
         "1982-04-25 00:00:00",
         "0",
         "33",
         "3"
        ],
        [
         "28",
         "1994",
         "13",
         "23",
         "14",
         "0.0",
         "69.0",
         "dalmas",
         "larrousse",
         "estoril",
         "1994-09-25 00:00:00",
         "0",
         "33",
         "0"
        ],
        [
         "29",
         "1950",
         "4",
         "1",
         "12",
         "0.0",
         "32.0",
         "fangio",
         "alfa",
         "bremgarten",
         "1950-06-04 00:00:00",
         "0",
         "38",
         "2"
        ],
        [
         "30",
         "1972",
         "6",
         "13",
         "9",
         "0.0",
         "38.0",
         "redman",
         "mclaren",
         "charade",
         "1972-07-02 00:00:00",
         "1",
         "35",
         "2"
        ],
        [
         "31",
         "1991",
         "4",
         "1",
         "1",
         "10.0",
         "78.0",
         "senna",
         "mclaren",
         "monaco",
         "1991-05-12 00:00:00",
         "1",
         "31",
         "3"
        ],
        [
         "32",
         "2014",
         "7",
         "13",
         "11",
         "0.0",
         null,
         "perez",
         "force_india",
         "villeneuve",
         "2014-06-08 00:00:00",
         "0",
         "24",
         "3"
        ],
        [
         "33",
         "1994",
         "10",
         "18",
         "10",
         "0.0",
         "75.0",
         "bernard",
         "ligier",
         "hungaroring",
         "1994-08-14 00:00:00",
         "0",
         "29",
         "0"
        ],
        [
         "34",
         "1987",
         "16",
         "23",
         "12",
         "0.0",
         "58.0",
         "capelli",
         "march",
         "adelaide",
         "1987-11-15 00:00:00",
         "0",
         "24",
         "3"
        ],
        [
         "35",
         "1979",
         "4",
         "5",
         "21",
         "0.0",
         "8.0",
         "laffite",
         "ligier",
         "long_beach",
         "1979-04-08 00:00:00",
         "0",
         "35",
         "3"
        ],
        [
         "36",
         "2018",
         "19",
         "18",
         "16",
         "0.0",
         "68.0",
         "grosjean",
         "haas",
         "rodriguez",
         "2018-10-28 00:00:00",
         "0",
         "32",
         "4"
        ],
        [
         "37",
         "1970",
         "9",
         "24",
         "21",
         "0.0",
         "13.0",
         "moser",
         "bellasi",
         "red_bull_ring",
         "1970-08-16 00:00:00",
         "0",
         "29",
         "2"
        ],
        [
         "38",
         "1962",
         "2",
         "3",
         "1",
         "9.0",
         "100.0",
         "mclaren",
         "cooper-climax",
         "monaco",
         "1962-06-03 00:00:00",
         "1",
         "24",
         "3"
        ],
        [
         "39",
         "1986",
         "14",
         "7",
         "19",
         "0.0",
         null,
         "keke_rosberg",
         "mclaren",
         "estoril",
         "1986-09-21 00:00:00",
         "0",
         "37",
         "0"
        ],
        [
         "40",
         "1959",
         "2",
         "22",
         "32",
         "0.0",
         "34.0",
         "sutton",
         "lesovsky",
         "indianapolis",
         "1959-05-30 00:00:00",
         "0",
         "33",
         "0"
        ],
        [
         "41",
         "1982",
         "5",
         "4",
         "10",
         "0.0",
         "70.0",
         "lauda",
         "mclaren",
         "zolder",
         "1982-05-09 00:00:00",
         "0",
         "33",
         "3"
        ],
        [
         "42",
         "1984",
         "6",
         "6",
         "19",
         "0.0",
         "0.0",
         "tambay",
         "renault",
         "monaco",
         "1984-06-03 00:00:00",
         "0",
         "34",
         "3"
        ],
        [
         "43",
         "2000",
         "14",
         "1",
         "1",
         "10.0",
         null,
         "michael_schumacher",
         "ferrari",
         "monza",
         "2000-09-10 00:00:00",
         "1",
         "31",
         "0"
        ],
        [
         "44",
         "1960",
         "1",
         "4",
         "7",
         "0.0",
         "79.0",
         "bonnier",
         "brm",
         "galvez",
         "1960-02-07 00:00:00",
         "0",
         "30",
         "3"
        ],
        [
         "45",
         "1987",
         "2",
         "21",
         "10",
         "0.0",
         "56.0",
         "alliot",
         "larrousse",
         "imola",
         "1987-05-03 00:00:00",
         "0",
         "32",
         "3"
        ],
        [
         "46",
         "2005",
         "17",
         "5",
         "2",
         null,
         "71.0",
         "raikkonen",
         "mclaren",
         "interlagos",
         "2005-09-25 00:00:00",
         "1",
         "25",
         "2"
        ],
        [
         "47",
         "1989",
         "7",
         "26",
         "24",
         "0.0",
         "27.0",
         "caffi",
         "dallara",
         "ricard",
         "1989-07-09 00:00:00",
         "0",
         "25",
         "2"
        ],
        [
         "48",
         "1981",
         "7",
         "14",
         "24",
         "0.0",
         "9.0",
         "cesaris",
         "mclaren",
         "jarama",
         "1981-06-21 00:00:00",
         "0",
         "22",
         "2"
        ],
        [
         "49",
         "2001",
         "8",
         "22",
         "19",
         "0.0",
         "7.0",
         "alonso",
         "minardi",
         "villeneuve",
         "2001-06-10 00:00:00",
         "0",
         "19",
         "3"
        ]
       ],
       "shape": {
        "columns": 13,
        "rows": 10000
       }
      },
      "text/html": [
       "<div>\n",
       "<style scoped>\n",
       "    .dataframe tbody tr th:only-of-type {\n",
       "        vertical-align: middle;\n",
       "    }\n",
       "\n",
       "    .dataframe tbody tr th {\n",
       "        vertical-align: top;\n",
       "    }\n",
       "\n",
       "    .dataframe thead th {\n",
       "        text-align: right;\n",
       "    }\n",
       "</style>\n",
       "<table border=\"1\" class=\"dataframe\">\n",
       "  <thead>\n",
       "    <tr style=\"text-align: right;\">\n",
       "      <th></th>\n",
       "      <th>year</th>\n",
       "      <th>round</th>\n",
       "      <th>grid</th>\n",
       "      <th>positionOrder</th>\n",
       "      <th>points</th>\n",
       "      <th>laps</th>\n",
       "      <th>driverRef</th>\n",
       "      <th>constructorRef</th>\n",
       "      <th>circuitRef</th>\n",
       "      <th>date</th>\n",
       "      <th>target_finish</th>\n",
       "      <th>age_at_race</th>\n",
       "      <th>circuit_region</th>\n",
       "    </tr>\n",
       "  </thead>\n",
       "  <tbody>\n",
       "    <tr>\n",
       "      <th>0</th>\n",
       "      <td>2002</td>\n",
       "      <td>13</td>\n",
       "      <td>11</td>\n",
       "      <td>4</td>\n",
       "      <td>3.0</td>\n",
       "      <td>77.0</td>\n",
       "      <td>raikkonen</td>\n",
       "      <td>mclaren</td>\n",
       "      <td>hungaroring</td>\n",
       "      <td>2002-08-18</td>\n",
       "      <td>1</td>\n",
       "      <td>22</td>\n",
       "      <td>0</td>\n",
       "    </tr>\n",
       "    <tr>\n",
       "      <th>1</th>\n",
       "      <td>1981</td>\n",
       "      <td>1</td>\n",
       "      <td>23</td>\n",
       "      <td>21</td>\n",
       "      <td>0.0</td>\n",
       "      <td>16.0</td>\n",
       "      <td>watson</td>\n",
       "      <td>mclaren</td>\n",
       "      <td>long_beach</td>\n",
       "      <td>1981-03-15</td>\n",
       "      <td>0</td>\n",
       "      <td>34</td>\n",
       "      <td>3</td>\n",
       "    </tr>\n",
       "    <tr>\n",
       "      <th>2</th>\n",
       "      <td>1958</td>\n",
       "      <td>8</td>\n",
       "      <td>0</td>\n",
       "      <td>26</td>\n",
       "      <td>0.0</td>\n",
       "      <td>0.0</td>\n",
       "      <td>ruttman</td>\n",
       "      <td>maserati</td>\n",
       "      <td>nurburgring</td>\n",
       "      <td>1958-08-03</td>\n",
       "      <td>0</td>\n",
       "      <td>28</td>\n",
       "      <td>2</td>\n",
       "    </tr>\n",
       "    <tr>\n",
       "      <th>3</th>\n",
       "      <td>2021</td>\n",
       "      <td>8</td>\n",
       "      <td>19</td>\n",
       "      <td>16</td>\n",
       "      <td>0.0</td>\n",
       "      <td>69.0</td>\n",
       "      <td>mick_schumacher</td>\n",
       "      <td>haas</td>\n",
       "      <td>red_bull_ring</td>\n",
       "      <td>2021-06-27</td>\n",
       "      <td>0</td>\n",
       "      <td>22</td>\n",
       "      <td>2</td>\n",
       "    </tr>\n",
       "    <tr>\n",
       "      <th>4</th>\n",
       "      <td>1988</td>\n",
       "      <td>12</td>\n",
       "      <td>0</td>\n",
       "      <td>30</td>\n",
       "      <td>0.0</td>\n",
       "      <td>0.0</td>\n",
       "      <td>modena</td>\n",
       "      <td>eurobrun</td>\n",
       "      <td>monza</td>\n",
       "      <td>1988-09-11</td>\n",
       "      <td>0</td>\n",
       "      <td>25</td>\n",
       "      <td>0</td>\n",
       "    </tr>\n",
       "    <tr>\n",
       "      <th>...</th>\n",
       "      <td>...</td>\n",
       "      <td>...</td>\n",
       "      <td>...</td>\n",
       "      <td>...</td>\n",
       "      <td>...</td>\n",
       "      <td>...</td>\n",
       "      <td>...</td>\n",
       "      <td>...</td>\n",
       "      <td>...</td>\n",
       "      <td>...</td>\n",
       "      <td>...</td>\n",
       "      <td>...</td>\n",
       "      <td>...</td>\n",
       "    </tr>\n",
       "    <tr>\n",
       "      <th>9995</th>\n",
       "      <td>2006</td>\n",
       "      <td>18</td>\n",
       "      <td>22</td>\n",
       "      <td>12</td>\n",
       "      <td>0.0</td>\n",
       "      <td>70.0</td>\n",
       "      <td>doornbos</td>\n",
       "      <td>red_bull</td>\n",
       "      <td>interlagos</td>\n",
       "      <td>2006-10-22</td>\n",
       "      <td>0</td>\n",
       "      <td>25</td>\n",
       "      <td>2</td>\n",
       "    </tr>\n",
       "    <tr>\n",
       "      <th>9996</th>\n",
       "      <td>2006</td>\n",
       "      <td>3</td>\n",
       "      <td>16</td>\n",
       "      <td>7</td>\n",
       "      <td>2.0</td>\n",
       "      <td>57.0</td>\n",
       "      <td>barrichello</td>\n",
       "      <td>honda</td>\n",
       "      <td>albert_park</td>\n",
       "      <td>2006-04-02</td>\n",
       "      <td>1</td>\n",
       "      <td>33</td>\n",
       "      <td>3</td>\n",
       "    </tr>\n",
       "    <tr>\n",
       "      <th>9997</th>\n",
       "      <td>2016</td>\n",
       "      <td>10</td>\n",
       "      <td>16</td>\n",
       "      <td>17</td>\n",
       "      <td>0.0</td>\n",
       "      <td>49.0</td>\n",
       "      <td>kevin_magnussen</td>\n",
       "      <td>renault</td>\n",
       "      <td>silverstone</td>\n",
       "      <td>2016-07-10</td>\n",
       "      <td>0</td>\n",
       "      <td>23</td>\n",
       "      <td>0</td>\n",
       "    </tr>\n",
       "    <tr>\n",
       "      <th>9998</th>\n",
       "      <td>1980</td>\n",
       "      <td>4</td>\n",
       "      <td>0</td>\n",
       "      <td>25</td>\n",
       "      <td>0.0</td>\n",
       "      <td>0.0</td>\n",
       "      <td>kennedy</td>\n",
       "      <td>shadow</td>\n",
       "      <td>long_beach</td>\n",
       "      <td>1980-03-30</td>\n",
       "      <td>0</td>\n",
       "      <td>27</td>\n",
       "      <td>3</td>\n",
       "    </tr>\n",
       "    <tr>\n",
       "      <th>9999</th>\n",
       "      <td>1976</td>\n",
       "      <td>14</td>\n",
       "      <td>0</td>\n",
       "      <td>26</td>\n",
       "      <td>0.0</td>\n",
       "      <td>NaN</td>\n",
       "      <td>amon</td>\n",
       "      <td>wolf</td>\n",
       "      <td>mosport</td>\n",
       "      <td>1976-10-03</td>\n",
       "      <td>0</td>\n",
       "      <td>33</td>\n",
       "      <td>0</td>\n",
       "    </tr>\n",
       "  </tbody>\n",
       "</table>\n",
       "<p>10000 rows × 13 columns</p>\n",
       "</div>"
      ],
      "text/plain": [
       "      year  round  grid  positionOrder  points  laps        driverRef  \\\n",
       "0     2002     13    11              4     3.0  77.0        raikkonen   \n",
       "1     1981      1    23             21     0.0  16.0           watson   \n",
       "2     1958      8     0             26     0.0   0.0          ruttman   \n",
       "3     2021      8    19             16     0.0  69.0  mick_schumacher   \n",
       "4     1988     12     0             30     0.0   0.0           modena   \n",
       "...    ...    ...   ...            ...     ...   ...              ...   \n",
       "9995  2006     18    22             12     0.0  70.0         doornbos   \n",
       "9996  2006      3    16              7     2.0  57.0      barrichello   \n",
       "9997  2016     10    16             17     0.0  49.0  kevin_magnussen   \n",
       "9998  1980      4     0             25     0.0   0.0          kennedy   \n",
       "9999  1976     14     0             26     0.0   NaN             amon   \n",
       "\n",
       "     constructorRef     circuitRef       date  target_finish  age_at_race  \\\n",
       "0           mclaren    hungaroring 2002-08-18              1           22   \n",
       "1           mclaren     long_beach 1981-03-15              0           34   \n",
       "2          maserati    nurburgring 1958-08-03              0           28   \n",
       "3              haas  red_bull_ring 2021-06-27              0           22   \n",
       "4          eurobrun          monza 1988-09-11              0           25   \n",
       "...             ...            ...        ...            ...          ...   \n",
       "9995       red_bull     interlagos 2006-10-22              0           25   \n",
       "9996          honda    albert_park 2006-04-02              1           33   \n",
       "9997        renault    silverstone 2016-07-10              0           23   \n",
       "9998         shadow     long_beach 1980-03-30              0           27   \n",
       "9999           wolf        mosport 1976-10-03              0           33   \n",
       "\n",
       "      circuit_region  \n",
       "0                  0  \n",
       "1                  3  \n",
       "2                  2  \n",
       "3                  2  \n",
       "4                  0  \n",
       "...              ...  \n",
       "9995               2  \n",
       "9996               3  \n",
       "9997               0  \n",
       "9998               3  \n",
       "9999               0  \n",
       "\n",
       "[10000 rows x 13 columns]"
      ]
     },
     "execution_count": 32,
     "metadata": {},
     "output_type": "execute_result"
    }
   ],
   "source": [
    "df"
   ]
  },
  {
   "cell_type": "code",
   "execution_count": 33,
   "id": "42127d1e",
   "metadata": {},
   "outputs": [],
   "source": [
    "df = df.dropna(subset=['points','laps'], how='all')"
   ]
  },
  {
   "cell_type": "code",
   "execution_count": 34,
   "id": "71e6c282",
   "metadata": {},
   "outputs": [
    {
     "name": "stderr",
     "output_type": "stream",
     "text": [
      "/var/folders/dq/4plkbp5s7m79n5xlkblr0g2m0000gp/T/ipykernel_11392/3904496501.py:1: FutureWarning:\n",
      "\n",
      "A value is trying to be set on a copy of a DataFrame or Series through chained assignment using an inplace method.\n",
      "The behavior will change in pandas 3.0. This inplace method will never work because the intermediate object on which we are setting values always behaves as a copy.\n",
      "\n",
      "For example, when doing 'df[col].method(value, inplace=True)', try using 'df.method({col: value}, inplace=True)' or df[col] = df[col].method(value) instead, to perform the operation inplace on the original object.\n",
      "\n",
      "\n",
      "\n",
      "/var/folders/dq/4plkbp5s7m79n5xlkblr0g2m0000gp/T/ipykernel_11392/3904496501.py:1: SettingWithCopyWarning:\n",
      "\n",
      "\n",
      "A value is trying to be set on a copy of a slice from a DataFrame\n",
      "\n",
      "See the caveats in the documentation: https://pandas.pydata.org/pandas-docs/stable/user_guide/indexing.html#returning-a-view-versus-a-copy\n",
      "\n",
      "/var/folders/dq/4plkbp5s7m79n5xlkblr0g2m0000gp/T/ipykernel_11392/3904496501.py:3: FutureWarning:\n",
      "\n",
      "A value is trying to be set on a copy of a DataFrame or Series through chained assignment using an inplace method.\n",
      "The behavior will change in pandas 3.0. This inplace method will never work because the intermediate object on which we are setting values always behaves as a copy.\n",
      "\n",
      "For example, when doing 'df[col].method(value, inplace=True)', try using 'df.method({col: value}, inplace=True)' or df[col] = df[col].method(value) instead, to perform the operation inplace on the original object.\n",
      "\n",
      "\n",
      "\n",
      "/var/folders/dq/4plkbp5s7m79n5xlkblr0g2m0000gp/T/ipykernel_11392/3904496501.py:3: SettingWithCopyWarning:\n",
      "\n",
      "\n",
      "A value is trying to be set on a copy of a slice from a DataFrame\n",
      "\n",
      "See the caveats in the documentation: https://pandas.pydata.org/pandas-docs/stable/user_guide/indexing.html#returning-a-view-versus-a-copy\n",
      "\n"
     ]
    }
   ],
   "source": [
    "df['points'].fillna(0, inplace=True)\n",
    "df.loc[df['laps'].isna() & (df['target_finish']==0), 'laps'] = 0\n",
    "df['laps'].fillna(df['laps'].median(), inplace=True)\n",
    "\n",
    "\n"
   ]
  },
  {
   "cell_type": "code",
   "execution_count": 35,
   "id": "53fcbcf8",
   "metadata": {},
   "outputs": [
    {
     "name": "stderr",
     "output_type": "stream",
     "text": [
      "/var/folders/dq/4plkbp5s7m79n5xlkblr0g2m0000gp/T/ipykernel_11392/3938438464.py:1: SettingWithCopyWarning:\n",
      "\n",
      "\n",
      "A value is trying to be set on a copy of a slice from a DataFrame.\n",
      "Try using .loc[row_indexer,col_indexer] = value instead\n",
      "\n",
      "See the caveats in the documentation: https://pandas.pydata.org/pandas-docs/stable/user_guide/indexing.html#returning-a-view-versus-a-copy\n",
      "\n",
      "/var/folders/dq/4plkbp5s7m79n5xlkblr0g2m0000gp/T/ipykernel_11392/3938438464.py:2: SettingWithCopyWarning:\n",
      "\n",
      "\n",
      "A value is trying to be set on a copy of a slice from a DataFrame.\n",
      "Try using .loc[row_indexer,col_indexer] = value instead\n",
      "\n",
      "See the caveats in the documentation: https://pandas.pydata.org/pandas-docs/stable/user_guide/indexing.html#returning-a-view-versus-a-copy\n",
      "\n",
      "/var/folders/dq/4plkbp5s7m79n5xlkblr0g2m0000gp/T/ipykernel_11392/3938438464.py:3: SettingWithCopyWarning:\n",
      "\n",
      "\n",
      "A value is trying to be set on a copy of a slice from a DataFrame.\n",
      "Try using .loc[row_indexer,col_indexer] = value instead\n",
      "\n",
      "See the caveats in the documentation: https://pandas.pydata.org/pandas-docs/stable/user_guide/indexing.html#returning-a-view-versus-a-copy\n",
      "\n"
     ]
    }
   ],
   "source": [
    "df['race_year'] = df['date'].dt.year\n",
    "df['race_month'] = df['date'].dt.month\n",
    "df['race_dayofweek'] = df['date'].dt.dayofweek"
   ]
  },
  {
   "cell_type": "code",
   "execution_count": 36,
   "id": "ec51c56d",
   "metadata": {},
   "outputs": [
    {
     "name": "stdout",
     "output_type": "stream",
     "text": [
      "<class 'pandas.core.frame.DataFrame'>\n",
      "Index: 9896 entries, 0 to 9999\n",
      "Data columns (total 16 columns):\n",
      " #   Column          Non-Null Count  Dtype         \n",
      "---  ------          --------------  -----         \n",
      " 0   year            9896 non-null   int32         \n",
      " 1   round           9896 non-null   int64         \n",
      " 2   grid            9896 non-null   int64         \n",
      " 3   positionOrder   9896 non-null   int64         \n",
      " 4   points          9896 non-null   float64       \n",
      " 5   laps            9896 non-null   float64       \n",
      " 6   driverRef       9896 non-null   object        \n",
      " 7   constructorRef  9896 non-null   object        \n",
      " 8   circuitRef      9896 non-null   object        \n",
      " 9   date            9896 non-null   datetime64[ns]\n",
      " 10  target_finish   9896 non-null   int64         \n",
      " 11  age_at_race     9896 non-null   int64         \n",
      " 12  circuit_region  9896 non-null   Int64         \n",
      " 13  race_year       9896 non-null   int32         \n",
      " 14  race_month      9896 non-null   int32         \n",
      " 15  race_dayofweek  9896 non-null   int32         \n",
      "dtypes: Int64(1), datetime64[ns](1), float64(2), int32(4), int64(5), object(3)\n",
      "memory usage: 1.1+ MB\n"
     ]
    }
   ],
   "source": [
    "df.info()"
   ]
  },
  {
   "cell_type": "code",
   "execution_count": 37,
   "id": "aecd4c6d",
   "metadata": {},
   "outputs": [],
   "source": [
    "num_cols = ['year','round','grid','positionOrder','points','laps','age_at_race','circuit_region','race_year','race_month','race_dayofweek']\n",
    "cat_cols = ['driverRef','constructorRef','circuitRef']"
   ]
  },
  {
   "cell_type": "code",
   "execution_count": 38,
   "id": "29aea8f3",
   "metadata": {},
   "outputs": [],
   "source": [
    "x = df.drop(columns=['target_finish'])\n",
    "y = df['target_finish']"
   ]
  },
  {
   "cell_type": "code",
   "execution_count": 39,
   "id": "73a25c77",
   "metadata": {},
   "outputs": [],
   "source": [
    "from sklearn.model_selection import train_test_split\n",
    "x_train, x_test, y_train, y_test = train_test_split(x, y, test_size=0.2, random_state=42)\n"
   ]
  },
  {
   "cell_type": "code",
   "execution_count": null,
   "id": "9a63ba3b",
   "metadata": {},
   "outputs": [
    {
     "name": "stdout",
     "output_type": "stream",
     "text": [
      "Best Parameters: {'classifier__n_estimators': 500, 'classifier__min_samples_split': 2, 'classifier__min_samples_leaf': 1, 'classifier__max_features': 'log2', 'classifier__max_depth': None}\n",
      "Best CV Accuracy: 0.9284985036722244\n"
     ]
    }
   ],
   "source": [
    "# we will first implement tree based models using pipelines and random search cv\n",
    "\n",
    "from sklearn.pipeline import Pipeline\n",
    "from sklearn.compose import ColumnTransformer\n",
    "from sklearn.preprocessing import OrdinalEncoder\n",
    "from sklearn.ensemble import RandomForestClassifier\n",
    "from sklearn.model_selection import RandomizedSearchCV\n",
    "from sklearn.impute import SimpleImputer\n",
    "import warnings\n",
    "warnings.filterwarnings('ignore')\n",
    "\n",
    "num_transformer = SimpleImputer(strategy='median')\n",
    "\n",
    "\n",
    "cat_transformer = Pipeline(steps=[\n",
    "    ('imputer', SimpleImputer(strategy='most_frequent')),   \n",
    "    ('encoder', OrdinalEncoder(handle_unknown='use_encoded_value', unknown_value=-1))\n",
    "])\n",
    "\n",
    "preprocessor = ColumnTransformer(transformers=[\n",
    "    ('num', num_transformer, num_cols),\n",
    "    ('cat', cat_transformer, cat_cols)\n",
    "])\n",
    "\n",
    "pipeline = Pipeline(steps=[\n",
    "    ('preprocessor', preprocessor),\n",
    "    ('classifier', RandomForestClassifier(random_state=42))\n",
    "])\n",
    "\n",
    "param_dist = {\n",
    "    'classifier__n_estimators': [100, 200, 300, 500],\n",
    "    'classifier__max_depth': [None, 5, 10, 15],\n",
    "    'classifier__min_samples_split': [2, 5, 10],\n",
    "    'classifier__min_samples_leaf': [1, 2, 4],\n",
    "    'classifier__max_features': ['auto', 'sqrt', 'log2']\n",
    "}\n",
    "\n",
    "random_search = RandomizedSearchCV(\n",
    "    estimator=pipeline,\n",
    "    param_distributions=param_dist,\n",
    "    n_iter=20,           \n",
    "    cv=5,                \n",
    "    scoring='accuracy',\n",
    "    verbose=0,\n",
    "    n_jobs=-1,\n",
    "    random_state=42\n",
    ")\n",
    "\n",
    "random_search.fit(x_train, y_train)\n",
    "\n",
    "print(\"Best Parameters:\", random_search.best_params_)\n",
    "print(\"Best CV Accuracy:\", random_search.best_score_)"
   ]
  },
  {
   "cell_type": "code",
   "execution_count": 41,
   "id": "18aba191",
   "metadata": {},
   "outputs": [
    {
     "name": "stdout",
     "output_type": "stream",
     "text": [
      "Test Accuracy: 0.9318181818181818\n",
      "              precision    recall  f1-score   support\n",
      "\n",
      "           0       0.95      0.95      0.95      1396\n",
      "           1       0.89      0.88      0.88       584\n",
      "\n",
      "    accuracy                           0.93      1980\n",
      "   macro avg       0.92      0.92      0.92      1980\n",
      "weighted avg       0.93      0.93      0.93      1980\n",
      "\n"
     ]
    }
   ],
   "source": [
    "best_model = random_search.best_estimator_\n",
    "y_pred = best_model.predict(x_test)\n",
    "\n",
    "from sklearn.metrics import accuracy_score, classification_report\n",
    "print(\"Test Accuracy:\", accuracy_score(y_test, y_pred))\n",
    "print(classification_report(y_test, y_pred))\n",
    "\n",
    "\n"
   ]
  },
  {
   "cell_type": "code",
   "execution_count": 42,
   "id": "410b5c49",
   "metadata": {},
   "outputs": [
    {
     "name": "stdout",
     "output_type": "stream",
     "text": [
      "Gradient Boosting Best Parameters: {'classifier__n_estimators': 200, 'classifier__min_samples_split': 10, 'classifier__min_samples_leaf': 1, 'classifier__max_features': 'log2', 'classifier__max_depth': 10, 'classifier__learning_rate': 0.1}\n",
      "Gradient Boosting Best CV Accuracy: 0.9386046185161788\n",
      "Gradient Boosting Test Accuracy: 0.947979797979798\n",
      "              precision    recall  f1-score   support\n",
      "\n",
      "           0       0.96      0.97      0.96      1396\n",
      "           1       0.92      0.90      0.91       584\n",
      "\n",
      "    accuracy                           0.95      1980\n",
      "   macro avg       0.94      0.94      0.94      1980\n",
      "weighted avg       0.95      0.95      0.95      1980\n",
      "\n"
     ]
    }
   ],
   "source": [
    "from sklearn.ensemble import GradientBoostingClassifier\n",
    "\n",
    "pipeline_gb = Pipeline(steps=[\n",
    "    ('preprocessor', preprocessor),\n",
    "    ('classifier', GradientBoostingClassifier(random_state=42))\n",
    "])\n",
    "\n",
    "param_dist_gb = {\n",
    "    'classifier__n_estimators': [100, 200, 300],\n",
    "    'classifier__learning_rate': [0.01, 0.05, 0.1],\n",
    "    'classifier__max_depth': [3, 5, 10],\n",
    "    'classifier__min_samples_split': [2, 5, 10],\n",
    "    'classifier__min_samples_leaf': [1, 2, 4],\n",
    "    'classifier__max_features': ['auto', 'sqrt', 'log2']\n",
    "}\n",
    "\n",
    "random_search_gb = RandomizedSearchCV(\n",
    "    estimator=pipeline_gb,\n",
    "    param_distributions=param_dist_gb,\n",
    "    n_iter=20,\n",
    "    cv=5,\n",
    "    scoring='accuracy',\n",
    "    verbose=0,\n",
    "    n_jobs=-1,\n",
    "    random_state=42\n",
    ")\n",
    "\n",
    "random_search_gb.fit(x_train, y_train)\n",
    "\n",
    "print(\"Gradient Boosting Best Parameters:\", random_search_gb.best_params_)\n",
    "print(\"Gradient Boosting Best CV Accuracy:\", random_search_gb.best_score_)\n",
    "\n",
    "best_model_gb = random_search_gb.best_estimator_\n",
    "y_pred_gb = best_model_gb.predict(x_test)\n",
    "\n",
    "print(\"Gradient Boosting Test Accuracy:\", accuracy_score(y_test, y_pred_gb))\n",
    "print(classification_report(y_test, y_pred_gb))"
   ]
  },
  {
   "cell_type": "code",
   "execution_count": 43,
   "id": "c1e20406",
   "metadata": {},
   "outputs": [
    {
     "name": "stdout",
     "output_type": "stream",
     "text": [
      "Extra Trees Best Parameters: {'classifier__n_estimators': 500, 'classifier__min_samples_split': 2, 'classifier__min_samples_leaf': 1, 'classifier__max_features': 'log2', 'classifier__max_depth': None}\n",
      "Extra Trees Best CV Accuracy: 0.9274878443308638\n",
      "Extra Trees Test Accuracy: 0.9277777777777778\n",
      "              precision    recall  f1-score   support\n",
      "\n",
      "           0       0.94      0.96      0.95      1396\n",
      "           1       0.90      0.85      0.87       584\n",
      "\n",
      "    accuracy                           0.93      1980\n",
      "   macro avg       0.92      0.91      0.91      1980\n",
      "weighted avg       0.93      0.93      0.93      1980\n",
      "\n"
     ]
    }
   ],
   "source": [
    "from sklearn.ensemble import ExtraTreesClassifier\n",
    "\n",
    "pipeline_et = Pipeline(steps=[\n",
    "    ('preprocessor', preprocessor),\n",
    "    ('classifier', ExtraTreesClassifier(random_state=42))\n",
    "])\n",
    "\n",
    "param_dist_et = {\n",
    "    'classifier__n_estimators': [100, 200, 300, 500],\n",
    "    'classifier__max_depth': [None, 5, 10, 15],\n",
    "    'classifier__min_samples_split': [2, 5, 10],\n",
    "    'classifier__min_samples_leaf': [1, 2, 4],\n",
    "    'classifier__max_features': ['auto', 'sqrt', 'log2']\n",
    "}\n",
    "\n",
    "random_search_et = RandomizedSearchCV(\n",
    "    estimator=pipeline_et,\n",
    "    param_distributions=param_dist_et,\n",
    "    n_iter=20,\n",
    "    cv=5,\n",
    "    scoring='accuracy',\n",
    "    verbose=0,\n",
    "    n_jobs=-1,\n",
    "    random_state=42\n",
    ")\n",
    "\n",
    "random_search_et.fit(x_train, y_train)\n",
    "\n",
    "print(\"Extra Trees Best Parameters:\", random_search_et.best_params_)\n",
    "print(\"Extra Trees Best CV Accuracy:\", random_search_et.best_score_)\n",
    "\n",
    "best_model_et = random_search_et.best_estimator_\n",
    "y_pred_et = best_model_et.predict(x_test)\n",
    "\n",
    "print(\"Extra Trees Test Accuracy:\", accuracy_score(y_test, y_pred_et))\n",
    "print(classification_report(y_test, y_pred_et))"
   ]
  },
  {
   "cell_type": "code",
   "execution_count": null,
   "id": "7e270fa9",
   "metadata": {},
   "outputs": [
    {
     "name": "stdout",
     "output_type": "stream",
     "text": [
      "Best Parameters: {'classifier__n_estimators': 500, 'classifier__min_samples_split': 2, 'classifier__min_samples_leaf': 1, 'classifier__max_features': 'log2', 'classifier__max_depth': None}\n",
      "Best CV Accuracy: 0.9284985036722244\n",
      "XGBoost Test Accuracy: 0.9318181818181818\n",
      "              precision    recall  f1-score   support\n",
      "\n",
      "           0       0.95      0.95      0.95      1396\n",
      "           1       0.89      0.88      0.88       584\n",
      "\n",
      "    accuracy                           0.93      1980\n",
      "   macro avg       0.92      0.92      0.92      1980\n",
      "weighted avg       0.93      0.93      0.93      1980\n",
      "\n"
     ]
    }
   ],
   "source": [
    "from xgboost import XGBClassifier\n",
    "\n",
    "pipeline_xg = Pipeline(steps=[\n",
    "    ('preprocessor', preprocessor),\n",
    "    ('classifier', XGBClassifier(use_label_encoder=False, eval_metric='logloss', random_state=42))\n",
    "])\n",
    "\n",
    "param_dist_xg = {\n",
    "    'classifier__n_estimators': [100, 200, 300, 500],\n",
    "    'classifier__max_depth': [3, 5, 10, 15],\n",
    "    'classifier__learning_rate': [0.01, 0.05, 0.1, 0.2],\n",
    "    'classifier__subsample': [0.6, 0.8, 1.0],\n",
    "    'classifier__colsample_bytree': [0.6, 0.8, 1.0],\n",
    "    'classifier__gamma': [0, 1, 5]\n",
    "}\n",
    "\n",
    "random_search_xg = RandomizedSearchCV(\n",
    "    estimator=pipeline,\n",
    "    param_distributions=param_dist,\n",
    "    n_iter=20,\n",
    "    cv=5,\n",
    "    scoring='accuracy',\n",
    "    verbose=0,\n",
    "    n_jobs=-1,\n",
    "    random_state=42\n",
    ")\n",
    "\n",
    "\n",
    "random_search_xg.fit(x_train, y_train)\n",
    "\n",
    "print(\"Best Parameters:\", random_search_xg.best_params_)\n",
    "print(\"Best CV Accuracy:\", random_search_xg.best_score_)\n",
    "\n",
    "\n",
    "best_model_xg = random_search_xg.best_estimator_\n",
    "y_pred_xg = best_model_xg.predict(x_test)\n",
    "\n",
    "print(\"XGBoost Test Accuracy:\", accuracy_score(y_test, y_pred_xg))\n",
    "print(classification_report(y_test, y_pred_xg))\n",
    "\n",
    "\n"
   ]
  },
  {
   "cell_type": "code",
   "execution_count": null,
   "id": "4364ab64",
   "metadata": {},
   "outputs": [
    {
     "name": "stdout",
     "output_type": "stream",
     "text": [
      "Best Parameters: {'classifier__solver': 'saga', 'classifier__penalty': 'l1', 'classifier__l1_ratio': 0.25, 'classifier__C': 1}\n",
      "Best CV Accuracy: 0.9056336421702815\n",
      "Logistic Regression Test Accuracy: 0.9040404040404041\n",
      "              precision    recall  f1-score   support\n",
      "\n",
      "           0       0.92      0.94      0.93      1396\n",
      "           1       0.86      0.81      0.83       584\n",
      "\n",
      "    accuracy                           0.90      1980\n",
      "   macro avg       0.89      0.88      0.88      1980\n",
      "weighted avg       0.90      0.90      0.90      1980\n",
      "\n"
     ]
    }
   ],
   "source": [
    "from sklearn.preprocessing import StandardScaler\n",
    "from sklearn.linear_model import LogisticRegression\n",
    "from category_encoders import TargetEncoder\n",
    "num_transformer_linear = Pipeline(steps=[\n",
    "    ('imputer', SimpleImputer(strategy='median')),\n",
    "    ('scaler', StandardScaler())\n",
    "])\n",
    "\n",
    "\n",
    "cat_transformer_linear = Pipeline(steps=[\n",
    "    ('imputer', SimpleImputer(strategy='most_frequent')),   \n",
    "    ('encoder', TargetEncoder())\n",
    "])\n",
    "\n",
    "preprocessor_linear = ColumnTransformer(transformers=[\n",
    "    ('num', num_transformer_linear, num_cols),\n",
    "    ('cat', cat_transformer_linear, cat_cols)\n",
    "])\n",
    "\n",
    "pipeline_logistic = Pipeline(steps=[\n",
    "    ('preprocessor', preprocessor_linear),\n",
    "    ('classifier', LogisticRegression(random_state=42))\n",
    "])\n",
    "\n",
    "param_dist_logistic = {\n",
    "    'classifier__C': [0.001, 0.01, 0.1, 1, 10, 100],\n",
    "    'classifier__penalty': ['l1', 'l2', 'elasticnet', 'none'],\n",
    "    'classifier__solver': ['saga'],  \n",
    "    'classifier__l1_ratio': [0, 0.25, 0.5, 0.75, 1]  \n",
    "}\n",
    "\n",
    "\n",
    "random_search_logistic = RandomizedSearchCV(\n",
    "    estimator=pipeline_logistic,\n",
    "    param_distributions=param_dist_logistic,\n",
    "    n_iter=20,           \n",
    "    cv=5,                \n",
    "    scoring='accuracy',\n",
    "    verbose=0,\n",
    "    n_jobs=-1,\n",
    "    random_state=42\n",
    ")\n",
    "\n",
    "random_search_logistic.fit(x_train, y_train)\n",
    "\n",
    "print(\"Best Parameters:\", random_search_logistic.best_params_)\n",
    "print(\"Best CV Accuracy:\", random_search_logistic.best_score_)\n",
    "\n",
    "\n",
    "best_model_logistic = random_search_logistic.best_estimator_\n",
    "y_pred_logistic = best_model_logistic.predict(x_test)\n",
    "\n",
    "print(\"Logistic Regression Test Accuracy:\", accuracy_score(y_test, y_pred_logistic))\n",
    "print(classification_report(y_test, y_pred_logistic))"
   ]
  },
  {
   "cell_type": "code",
   "execution_count": null,
   "id": "f52e9e36",
   "metadata": {},
   "outputs": [],
   "source": [
    "import pickle\n",
    "\n",
    "pickle.dump(best_model_gb, open(\"model.pkl\", \"wb\"))\n",
    "pickle.dump(preprocessor, open(\"preprocessor.pkl\", \"wb\"))\n",
    "feature_list = num_cols + cat_cols\n",
    "pickle.dump(feature_list, open(\"feature_list.pkl\", \"wb\"))\n",
    "\n"
   ]
  },
  {
   "cell_type": "code",
   "execution_count": null,
   "id": "a3e81ef5",
   "metadata": {},
   "outputs": [],
   "source": []
  }
 ],
 "metadata": {
  "kernelspec": {
   "display_name": "base",
   "language": "python",
   "name": "python3"
  },
  "language_info": {
   "codemirror_mode": {
    "name": "ipython",
    "version": 3
   },
   "file_extension": ".py",
   "mimetype": "text/x-python",
   "name": "python",
   "nbconvert_exporter": "python",
   "pygments_lexer": "ipython3",
   "version": "3.13.5"
  }
 },
 "nbformat": 4,
 "nbformat_minor": 5
}
